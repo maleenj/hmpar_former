{
 "cells": [
  {
   "cell_type": "code",
   "execution_count": 1,
   "id": "4831155e-0dbe-4449-90ca-0ebbca05a098",
   "metadata": {},
   "outputs": [],
   "source": [
    "import rosbag\n",
    "import numpy as np\n",
    "import matplotlib.pyplot as plt\n",
    "import pandas as pd\n",
    "import cv2\n",
    "from cv_bridge import CvBridge\n",
    "import ipyvolume as ipv\n",
    "from decimal import Decimal\n",
    "\n",
    "\n",
    "#from zed_interfaces.msg import ObjectsStamped\n"
   ]
  },
  {
   "cell_type": "code",
   "execution_count": 2,
   "id": "f487b16e-e91e-4c0a-a2cd-e035a0c08918",
   "metadata": {},
   "outputs": [],
   "source": [
    "#READ BAG\n",
    "\n",
    "fileroot='24_06_24/'\n",
    "filename='2024-06-24-BT-Maleen-02'\n",
    "\n",
    "saverpath='/home/maleen/rosbags/research_data/Transformers/datasets/body_tracking_data/'\n",
    "\n",
    "bag  = rosbag.Bag('/home/maleen/research_data/Transformers/datasets/'+fileroot+ filename + '.bag')"
   ]
  },
  {
   "cell_type": "code",
   "execution_count": 15,
   "id": "37183381-a196-41c3-9fe5-300d8df90e38",
   "metadata": {},
   "outputs": [
    {
     "name": "stderr",
     "output_type": "stream",
     "text": [
      "IOPub data rate exceeded.\n",
      "The Jupyter server will temporarily stop sending output\n",
      "to the client in order to avoid crashing it.\n",
      "To change this limit, set the config variable\n",
      "`--ServerApp.iopub_data_rate_limit`.\n",
      "\n",
      "Current values:\n",
      "ServerApp.iopub_data_rate_limit=1000000.0 (bytes/sec)\n",
      "ServerApp.rate_limit_window=3.0 (secs)\n",
      "\n"
     ]
    }
   ],
   "source": [
    "# Initialize variables\n",
    "skeleton_size = 0\n",
    "image_size = 0\n",
    "\n",
    "skeleton_timestamps = []\n",
    "skeleton_3d_data = []\n",
    "\n",
    "image_timestamps = np.array([])\n",
    "image_data = np.array([])\n",
    "\n",
    "topiclist = ['/body_tracker/image', '/visualization_marker_array']\n",
    "\n",
    "\n",
    "for topic, msg, t in bag.read_messages(topics=topiclist):\n",
    "    if topic == '/visualization_marker_array':\n",
    "            # Extract the timestamp from the first marker\n",
    "        timestamp = (msg.markers[0].header.stamp.secs) + (Decimal(msg.markers[0].header.stamp.nsecs) / 1000000000)\n",
    "        skeleton_timestamps.append(timestamp)\n",
    "\n",
    "        print((msg.markers))\n",
    "\n",
    "        break\n",
    "    \n",
    "            \n",
    "            #skeleton_3d_data.append(current_markers)"
   ]
  },
  {
   "cell_type": "code",
   "execution_count": 13,
   "id": "69cef6f9-0a5d-4876-99d7-1131c5e327d8",
   "metadata": {},
   "outputs": [
    {
     "data": {
      "text/plain": [
       "(608,)"
      ]
     },
     "execution_count": 13,
     "metadata": {},
     "output_type": "execute_result"
    }
   ],
   "source": [
    "np.shape(skeleton_timestamps)"
   ]
  },
  {
   "cell_type": "code",
   "execution_count": 4,
   "id": "34cec940-b494-41d8-a4c8-cc42b42a52f2",
   "metadata": {
    "scrolled": true
   },
   "outputs": [
    {
     "name": "stdout",
     "output_type": "stream",
     "text": [
      "Skeleton Timestamps:  [Decimal('1719201762.308698654'), Decimal('1719201762.308698654'), Decimal('1719201762.308698654'), Decimal('1719201762.308698654'), Decimal('1719201762.308698654'), Decimal('1719201762.308698654'), Decimal('1719201762.308698654'), Decimal('1719201762.308698654'), Decimal('1719201762.308698654'), Decimal('1719201762.308698654'), Decimal('1719201762.308698654'), Decimal('1719201762.308698654'), Decimal('1719201762.308698654'), Decimal('1719201762.308698654'), Decimal('1719201762.308698654'), Decimal('1719201762.308698654'), Decimal('1719201762.308698654'), Decimal('1719201762.308698654'), Decimal('1719201762.308698654'), Decimal('1719201762.308698654'), Decimal('1719201762.308698654'), Decimal('1719201762.308698654'), Decimal('1719201762.308698654'), Decimal('1719201762.308698654'), Decimal('1719201762.308698654'), Decimal('1719201762.308698654'), Decimal('1719201762.308698654'), Decimal('1719201762.308698654'), Decimal('1719201762.308698654'), Decimal('1719201762.308698654'), Decimal('1719201762.308698654'), Decimal('1719201762.308698654'), Decimal('1719201762.308698654'), Decimal('1719201762.308698654'), Decimal('1719201762.308698654'), Decimal('1719201762.308698654'), Decimal('1719201762.308698654'), Decimal('1719201762.308698654'), Decimal('1719201762.308698654'), Decimal('1719201762.308698654'), Decimal('1719201762.308698654'), Decimal('1719201762.308698654'), Decimal('1719201762.308698654'), Decimal('1719201762.308698654'), Decimal('1719201762.308698654'), Decimal('1719201762.308698654'), Decimal('1719201762.308698654'), Decimal('1719201762.308698654'), Decimal('1719201762.308698654'), Decimal('1719201762.308698654'), Decimal('1719201762.308698654'), Decimal('1719201762.308698654'), Decimal('1719201762.308698654'), Decimal('1719201762.308698654'), Decimal('1719201762.308698654'), Decimal('1719201762.308698654'), Decimal('1719201762.308698654'), Decimal('1719201762.308698654'), Decimal('1719201762.308698654'), Decimal('1719201762.308698654'), Decimal('1719201762.308698654'), Decimal('1719201762.308698654'), Decimal('1719201762.308698654'), Decimal('1719201762.308698654'), Decimal('1719201762.308698654'), Decimal('1719201762.308698654'), Decimal('1719201762.308698654'), Decimal('1719201762.308698654'), Decimal('1719201762.308698654'), Decimal('1719201762.308698654'), Decimal('1719201762.308698654'), Decimal('1719201762.308698654'), Decimal('1719201762.308698654'), Decimal('1719201762.308698654'), Decimal('1719201762.308698654'), Decimal('1719201762.308698654'), Decimal('1719201762.308698654'), Decimal('1719201762.308698654'), Decimal('1719201762.308698654'), Decimal('1719201762.308698654'), Decimal('1719201762.308698654'), Decimal('1719201762.308698654'), Decimal('1719201762.308698654'), Decimal('1719201762.308698654'), Decimal('1719201762.308698654'), Decimal('1719201762.308698654'), Decimal('1719201762.308698654'), Decimal('1719201762.308698654'), Decimal('1719201762.308698654'), Decimal('1719201762.308698654'), Decimal('1719201762.308698654'), Decimal('1719201762.308698654'), Decimal('1719201762.308698654'), Decimal('1719201762.308698654'), Decimal('1719201762.308698654'), Decimal('1719201762.308698654'), Decimal('1719201762.308698654'), Decimal('1719201762.308698654'), Decimal('1719201762.308698654'), Decimal('1719201762.308698654'), Decimal('1719201762.308698654'), Decimal('1719201762.308698654'), Decimal('1719201762.308698654'), Decimal('1719201762.308698654'), Decimal('1719201762.308698654'), Decimal('1719201762.308698654'), Decimal('1719201762.308698654'), Decimal('1719201762.308698654'), Decimal('1719201762.308698654'), Decimal('1719201762.308698654'), Decimal('1719201762.308698654'), Decimal('1719201762.308698654'), Decimal('1719201762.308698654'), Decimal('1719201762.308698654'), Decimal('1719201762.308698654'), Decimal('1719201762.308698654'), Decimal('1719201762.308698654'), Decimal('1719201762.308698654'), Decimal('1719201762.308698654'), Decimal('1719201762.308698654'), Decimal('1719201762.308698654'), Decimal('1719201762.308698654'), Decimal('1719201762.308698654'), Decimal('1719201762.308698654'), Decimal('1719201762.308698654'), Decimal('1719201762.308698654'), Decimal('1719201762.308698654'), Decimal('1719201762.308698654'), Decimal('1719201762.308698654'), Decimal('1719201762.308698654'), Decimal('1719201762.308698654'), Decimal('1719201762.308698654'), Decimal('1719201762.308698654'), Decimal('1719201762.308698654'), Decimal('1719201762.308698654'), Decimal('1719201762.308698654'), Decimal('1719201762.308698654'), Decimal('1719201762.308698654'), Decimal('1719201762.308698654'), Decimal('1719201762.308698654'), Decimal('1719201762.308698654'), Decimal('1719201762.308698654'), Decimal('1719201762.308698654'), Decimal('1719201762.308698654'), Decimal('1719201762.308698654'), Decimal('1719201762.308698654'), Decimal('1719201762.308698654'), Decimal('1719201762.308698654'), Decimal('1719201762.308698654'), Decimal('1719201762.308698654'), Decimal('1719201762.308698654'), Decimal('1719201762.308698654'), Decimal('1719201762.308698654'), Decimal('1719201762.308698654'), Decimal('1719201762.308698654'), Decimal('1719201762.308698654'), Decimal('1719201762.308698654'), Decimal('1719201762.308698654'), Decimal('1719201762.308698654'), Decimal('1719201762.308698654'), Decimal('1719201762.308698654'), Decimal('1719201762.308698654'), Decimal('1719201762.308698654'), Decimal('1719201762.308698654'), Decimal('1719201762.308698654'), Decimal('1719201762.308698654'), Decimal('1719201762.308698654'), Decimal('1719201762.308698654'), Decimal('1719201762.308698654'), Decimal('1719201762.308698654'), Decimal('1719201762.308698654'), Decimal('1719201762.308698654'), Decimal('1719201762.308698654'), Decimal('1719201762.308698654'), Decimal('1719201762.308698654'), Decimal('1719201762.308698654'), Decimal('1719201762.308698654'), Decimal('1719201762.308698654'), Decimal('1719201762.308698654'), Decimal('1719201762.308698654'), Decimal('1719201762.308698654'), Decimal('1719201762.308698654'), Decimal('1719201762.308698654'), Decimal('1719201762.308698654'), Decimal('1719201762.308698654'), Decimal('1719201762.308698654'), Decimal('1719201762.308698654'), Decimal('1719201762.308698654'), Decimal('1719201762.308698654'), Decimal('1719201762.308698654'), Decimal('1719201762.308698654'), Decimal('1719201762.308698654'), Decimal('1719201762.308698654'), Decimal('1719201762.308698654'), Decimal('1719201762.308698654'), Decimal('1719201762.308698654'), Decimal('1719201762.308698654'), Decimal('1719201762.308698654'), Decimal('1719201762.308698654'), Decimal('1719201762.308698654'), Decimal('1719201762.308698654'), Decimal('1719201762.308698654'), Decimal('1719201762.308698654'), Decimal('1719201762.308698654'), Decimal('1719201762.308698654'), Decimal('1719201762.308698654'), Decimal('1719201762.308698654'), Decimal('1719201762.308698654'), Decimal('1719201762.308698654'), Decimal('1719201762.308698654'), Decimal('1719201762.308698654'), Decimal('1719201762.308698654'), Decimal('1719201762.308698654'), Decimal('1719201762.308698654'), Decimal('1719201762.308698654'), Decimal('1719201762.308698654'), Decimal('1719201762.308698654'), Decimal('1719201762.308698654'), Decimal('1719201762.308698654'), Decimal('1719201762.308698654'), Decimal('1719201762.308698654'), Decimal('1719201762.308698654'), Decimal('1719201762.308698654'), Decimal('1719201762.308698654'), Decimal('1719201762.308698654'), Decimal('1719201762.308698654'), Decimal('1719201762.308698654'), Decimal('1719201762.308698654'), Decimal('1719201762.308698654'), Decimal('1719201762.308698654'), Decimal('1719201762.308698654'), Decimal('1719201762.308698654'), Decimal('1719201762.308698654'), Decimal('1719201762.308698654'), Decimal('1719201762.308698654'), Decimal('1719201762.308698654'), Decimal('1719201762.308698654'), Decimal('1719201762.308698654'), Decimal('1719201762.308698654'), Decimal('1719201762.308698654'), Decimal('1719201762.308698654'), Decimal('1719201762.308698654'), Decimal('1719201762.308698654'), Decimal('1719201762.308698654'), Decimal('1719201762.308698654'), Decimal('1719201762.308698654'), Decimal('1719201762.308698654'), Decimal('1719201762.308698654'), Decimal('1719201762.308698654'), Decimal('1719201762.308698654'), Decimal('1719201762.308698654'), Decimal('1719201762.308698654'), Decimal('1719201762.308698654'), Decimal('1719201762.308698654'), Decimal('1719201762.308698654'), Decimal('1719201762.308698654'), Decimal('1719201762.308698654'), Decimal('1719201762.308698654'), Decimal('1719201762.308698654'), Decimal('1719201762.308698654'), Decimal('1719201762.308698654'), Decimal('1719201762.308698654'), Decimal('1719201762.308698654'), Decimal('1719201762.308698654'), Decimal('1719201762.308698654'), Decimal('1719201762.308698654'), Decimal('1719201762.308698654'), Decimal('1719201762.308698654'), Decimal('1719201762.308698654'), Decimal('1719201762.308698654'), Decimal('1719201762.308698654'), Decimal('1719201762.308698654'), Decimal('1719201762.308698654'), Decimal('1719201762.308698654'), Decimal('1719201762.308698654'), Decimal('1719201762.308698654'), Decimal('1719201762.308698654'), Decimal('1719201762.308698654'), Decimal('1719201762.308698654'), Decimal('1719201762.308698654'), Decimal('1719201762.308698654'), Decimal('1719201762.308698654'), Decimal('1719201762.308698654'), Decimal('1719201762.308698654'), Decimal('1719201762.308698654'), Decimal('1719201762.308698654'), Decimal('1719201762.308698654'), Decimal('1719201762.308698654'), Decimal('1719201762.308698654'), Decimal('1719201762.308698654'), Decimal('1719201762.308698654'), Decimal('1719201762.308698654'), Decimal('1719201762.308698654'), Decimal('1719201762.308698654'), Decimal('1719201762.308698654'), Decimal('1719201762.308698654'), Decimal('1719201762.308698654'), Decimal('1719201762.308698654'), Decimal('1719201762.308698654'), Decimal('1719201762.308698654'), Decimal('1719201762.308698654'), Decimal('1719201762.308698654'), Decimal('1719201762.308698654'), Decimal('1719201762.308698654'), Decimal('1719201762.308698654'), Decimal('1719201762.308698654'), Decimal('1719201762.308698654'), Decimal('1719201762.308698654'), Decimal('1719201762.308698654'), Decimal('1719201762.308698654'), Decimal('1719201762.308698654'), Decimal('1719201762.308698654'), Decimal('1719201762.308698654'), Decimal('1719201762.308698654'), Decimal('1719201762.308698654'), Decimal('1719201762.308698654'), Decimal('1719201762.308698654'), Decimal('1719201762.308698654'), Decimal('1719201762.308698654'), Decimal('1719201762.308698654'), Decimal('1719201762.308698654'), Decimal('1719201762.308698654'), Decimal('1719201762.308698654'), Decimal('1719201762.308698654'), Decimal('1719201762.308698654'), Decimal('1719201762.308698654'), Decimal('1719201762.308698654'), Decimal('1719201762.308698654'), Decimal('1719201762.308698654'), Decimal('1719201762.308698654'), Decimal('1719201762.308698654'), Decimal('1719201762.308698654'), Decimal('1719201762.308698654'), Decimal('1719201762.308698654'), Decimal('1719201762.308698654'), Decimal('1719201762.308698654'), Decimal('1719201762.308698654'), Decimal('1719201762.308698654'), Decimal('1719201762.308698654'), Decimal('1719201762.308698654'), Decimal('1719201762.308698654'), Decimal('1719201762.308698654'), Decimal('1719201762.308698654'), Decimal('1719201762.308698654'), Decimal('1719201762.308698654'), Decimal('1719201762.308698654'), Decimal('1719201762.308698654'), Decimal('1719201762.308698654'), Decimal('1719201762.308698654'), Decimal('1719201762.308698654'), Decimal('1719201762.308698654'), Decimal('1719201762.308698654'), Decimal('1719201762.308698654'), Decimal('1719201762.308698654'), Decimal('1719201762.308698654'), Decimal('1719201762.308698654'), Decimal('1719201762.308698654'), Decimal('1719201762.308698654'), Decimal('1719201762.308698654'), Decimal('1719201762.308698654'), Decimal('1719201762.308698654'), Decimal('1719201762.308698654'), Decimal('1719201762.308698654'), Decimal('1719201762.308698654'), Decimal('1719201762.308698654'), Decimal('1719201762.308698654'), Decimal('1719201762.308698654'), Decimal('1719201762.308698654'), Decimal('1719201762.308698654'), Decimal('1719201762.308698654'), Decimal('1719201762.308698654'), Decimal('1719201762.308698654'), Decimal('1719201762.308698654'), Decimal('1719201762.308698654'), Decimal('1719201762.308698654'), Decimal('1719201762.308698654'), Decimal('1719201762.308698654'), Decimal('1719201762.308698654'), Decimal('1719201762.308698654'), Decimal('1719201762.308698654'), Decimal('1719201762.308698654'), Decimal('1719201762.308698654'), Decimal('1719201762.308698654'), Decimal('1719201762.308698654'), Decimal('1719201762.308698654'), Decimal('1719201762.308698654'), Decimal('1719201762.308698654'), Decimal('1719201762.308698654'), Decimal('1719201762.308698654'), Decimal('1719201762.308698654'), Decimal('1719201762.308698654'), Decimal('1719201762.308698654'), Decimal('1719201762.308698654'), Decimal('1719201762.308698654'), Decimal('1719201762.308698654'), Decimal('1719201762.308698654'), Decimal('1719201762.308698654'), Decimal('1719201762.308698654'), Decimal('1719201762.308698654'), Decimal('1719201762.308698654'), Decimal('1719201762.308698654'), Decimal('1719201762.308698654'), Decimal('1719201762.308698654'), Decimal('1719201762.308698654'), Decimal('1719201762.308698654'), Decimal('1719201762.308698654'), Decimal('1719201762.308698654'), Decimal('1719201762.308698654'), Decimal('1719201762.308698654'), Decimal('1719201762.308698654'), Decimal('1719201762.308698654'), Decimal('1719201762.308698654'), Decimal('1719201762.308698654'), Decimal('1719201762.308698654'), Decimal('1719201762.308698654'), Decimal('1719201762.308698654'), Decimal('1719201762.308698654'), Decimal('1719201762.308698654'), Decimal('1719201762.308698654'), Decimal('1719201762.308698654'), Decimal('1719201762.308698654'), Decimal('1719201762.308698654'), Decimal('1719201762.308698654'), Decimal('1719201762.308698654'), Decimal('1719201762.308698654'), Decimal('1719201762.308698654'), Decimal('1719201762.308698654'), Decimal('1719201762.308698654'), Decimal('1719201762.308698654'), Decimal('1719201762.308698654'), Decimal('1719201762.308698654'), Decimal('1719201762.308698654'), Decimal('1719201762.308698654'), Decimal('1719201762.308698654'), Decimal('1719201762.308698654'), Decimal('1719201762.308698654'), Decimal('1719201762.308698654'), Decimal('1719201762.308698654'), Decimal('1719201762.308698654'), Decimal('1719201762.308698654'), Decimal('1719201762.308698654'), Decimal('1719201762.308698654'), Decimal('1719201762.308698654'), Decimal('1719201762.308698654'), Decimal('1719201762.308698654'), Decimal('1719201762.308698654'), Decimal('1719201762.308698654'), Decimal('1719201762.308698654'), Decimal('1719201762.308698654'), Decimal('1719201762.308698654'), Decimal('1719201762.308698654'), Decimal('1719201762.308698654'), Decimal('1719201762.308698654'), Decimal('1719201762.308698654'), Decimal('1719201762.308698654'), Decimal('1719201762.308698654'), Decimal('1719201762.308698654'), Decimal('1719201762.308698654'), Decimal('1719201762.308698654'), Decimal('1719201762.308698654'), Decimal('1719201762.308698654'), Decimal('1719201762.308698654'), Decimal('1719201762.308698654'), Decimal('1719201762.308698654'), Decimal('1719201762.308698654'), Decimal('1719201762.308698654'), Decimal('1719201762.308698654'), Decimal('1719201762.308698654'), Decimal('1719201762.308698654'), Decimal('1719201762.308698654'), Decimal('1719201762.308698654'), Decimal('1719201762.308698654'), Decimal('1719201762.308698654'), Decimal('1719201762.308698654'), Decimal('1719201762.308698654'), Decimal('1719201762.308698654'), Decimal('1719201762.308698654'), Decimal('1719201762.308698654'), Decimal('1719201762.308698654'), Decimal('1719201762.308698654'), Decimal('1719201762.308698654'), Decimal('1719201762.308698654'), Decimal('1719201762.308698654'), Decimal('1719201762.308698654'), Decimal('1719201762.308698654'), Decimal('1719201762.308698654'), Decimal('1719201762.308698654'), Decimal('1719201762.308698654'), Decimal('1719201762.308698654'), Decimal('1719201762.308698654'), Decimal('1719201762.308698654'), Decimal('1719201762.308698654'), Decimal('1719201762.308698654'), Decimal('1719201762.308698654'), Decimal('1719201762.308698654'), Decimal('1719201762.308698654'), Decimal('1719201762.308698654'), Decimal('1719201762.308698654'), Decimal('1719201762.308698654'), Decimal('1719201762.308698654'), Decimal('1719201762.308698654'), Decimal('1719201762.308698654'), Decimal('1719201762.308698654'), Decimal('1719201762.308698654'), Decimal('1719201762.308698654'), Decimal('1719201762.308698654'), Decimal('1719201762.308698654'), Decimal('1719201762.308698654'), Decimal('1719201762.308698654'), Decimal('1719201762.308698654'), Decimal('1719201762.308698654'), Decimal('1719201762.308698654'), Decimal('1719201762.308698654'), Decimal('1719201762.308698654'), Decimal('1719201762.308698654'), Decimal('1719201762.308698654'), Decimal('1719201762.308698654'), Decimal('1719201762.308698654'), Decimal('1719201762.308698654'), Decimal('1719201762.308698654'), Decimal('1719201762.308698654'), Decimal('1719201762.308698654'), Decimal('1719201762.308698654'), Decimal('1719201762.308698654'), Decimal('1719201762.308698654'), Decimal('1719201762.308698654'), Decimal('1719201762.308698654'), Decimal('1719201762.308698654'), Decimal('1719201762.308698654'), Decimal('1719201762.308698654'), Decimal('1719201762.308698654'), Decimal('1719201762.308698654'), Decimal('1719201762.308698654'), Decimal('1719201762.308698654'), Decimal('1719201762.308698654'), Decimal('1719201762.308698654'), Decimal('1719201762.308698654'), Decimal('1719201762.308698654'), Decimal('1719201762.308698654'), Decimal('1719201762.308698654'), Decimal('1719201762.308698654'), Decimal('1719201762.308698654'), Decimal('1719201762.308698654'), Decimal('1719201762.308698654'), Decimal('1719201762.308698654'), Decimal('1719201762.308698654'), Decimal('1719201762.308698654'), Decimal('1719201762.308698654'), Decimal('1719201762.308698654'), Decimal('1719201762.308698654'), Decimal('1719201762.308698654'), Decimal('1719201762.308698654'), Decimal('1719201762.308698654'), Decimal('1719201762.308698654'), Decimal('1719201762.308698654'), Decimal('1719201762.308698654'), Decimal('1719201762.308698654'), Decimal('1719201762.308698654'), Decimal('1719201762.308698654'), Decimal('1719201762.308698654'), Decimal('1719201762.308698654'), Decimal('1719201762.308698654'), Decimal('1719201762.308698654'), Decimal('1719201762.308698654'), Decimal('1719201762.308698654'), Decimal('1719201762.308698654'), Decimal('1719201762.308698654'), Decimal('1719201762.308698654'), Decimal('1719201762.308698654'), Decimal('1719201762.308698654'), Decimal('1719201762.308698654'), Decimal('1719201762.308698654'), Decimal('1719201762.308698654'), Decimal('1719201762.308698654'), Decimal('1719201762.308698654'), Decimal('1719201762.308698654'), Decimal('1719201762.308698654'), Decimal('1719201762.308698654'), Decimal('1719201762.308698654'), Decimal('1719201762.308698654'), Decimal('1719201762.308698654'), Decimal('1719201762.308698654'), Decimal('1719201762.308698654'), Decimal('1719201762.308698654'), Decimal('1719201762.308698654'), Decimal('1719201762.308698654'), Decimal('1719201762.308698654'), Decimal('1719201762.308698654'), Decimal('1719201762.308698654'), Decimal('1719201762.308698654'), Decimal('1719201762.308698654'), Decimal('1719201762.308698654'), Decimal('1719201762.308698654'), Decimal('1719201762.308698654'), Decimal('1719201762.308698654'), Decimal('1719201762.308698654'), Decimal('1719201762.308698654'), Decimal('1719201762.308698654'), Decimal('1719201762.308698654'), Decimal('1719201762.308698654'), Decimal('1719201762.308698654'), Decimal('1719201762.308698654'), Decimal('1719201762.308698654'), Decimal('1719201762.308698654'), Decimal('1719201762.308698654'), Decimal('1719201762.308698654'), Decimal('1719201762.308698654'), Decimal('1719201762.308698654')]\n",
      "Skeleton 3D Data:  [[[ 0.          0.          0.        ]\n",
      "  [ 0.          0.          0.        ]\n",
      "  [ 0.8942519  -0.12707821  1.235     ]\n",
      "  [ 0.76672447 -0.13166741  1.436     ]\n",
      "  [ 0.62376492  0.11292299  1.32      ]\n",
      "  [ 0.          0.          0.        ]]\n",
      "\n",
      " [[ 0.          0.          0.        ]\n",
      "  [ 0.          0.          0.        ]\n",
      "  [ 0.8942519  -0.12707821  1.235     ]\n",
      "  [ 0.76672447 -0.13166741  1.436     ]\n",
      "  [ 0.62376492  0.11292299  1.32      ]\n",
      "  [ 0.          0.          0.        ]]\n",
      "\n",
      " [[ 0.          0.          0.        ]\n",
      "  [ 0.          0.          0.        ]\n",
      "  [ 0.8942519  -0.12707821  1.235     ]\n",
      "  [ 0.76672447 -0.13166741  1.436     ]\n",
      "  [ 0.62376492  0.11292299  1.32      ]\n",
      "  [ 0.          0.          0.        ]]\n",
      "\n",
      " ...\n",
      "\n",
      " [[ 0.          0.          0.        ]\n",
      "  [ 0.          0.          0.        ]\n",
      "  [ 0.8942519  -0.12707821  1.235     ]\n",
      "  [ 0.76672447 -0.13166741  1.436     ]\n",
      "  [ 0.62376492  0.11292299  1.32      ]\n",
      "  [ 0.          0.          0.        ]]\n",
      "\n",
      " [[ 0.          0.          0.        ]\n",
      "  [ 0.          0.          0.        ]\n",
      "  [ 0.8942519  -0.12707821  1.235     ]\n",
      "  [ 0.76672447 -0.13166741  1.436     ]\n",
      "  [ 0.62376492  0.11292299  1.32      ]\n",
      "  [ 0.          0.          0.        ]]\n",
      "\n",
      " [[ 0.          0.          0.        ]\n",
      "  [ 0.          0.          0.        ]\n",
      "  [ 0.8942519  -0.12707821  1.235     ]\n",
      "  [ 0.76672447 -0.13166741  1.436     ]\n",
      "  [ 0.62376492  0.11292299  1.32      ]\n",
      "  [ 0.          0.          0.        ]]]\n"
     ]
    }
   ],
   "source": [
    "# Convert the list to a numpy array\n",
    "skeleton_3d_data = np.array(skeleton_3d_data)\n",
    "\n",
    "# Print to check\n",
    "print(\"Skeleton Timestamps: \", skeleton_timestamps)\n",
    "print(\"Skeleton 3D Data: \", skeleton_3d_data)"
   ]
  },
  {
   "cell_type": "code",
   "execution_count": 12,
   "id": "a2fd5a67-d64b-4463-a3c4-95b2f113cc08",
   "metadata": {},
   "outputs": [
    {
     "data": {
      "text/plain": [
       "array([[ 0.        ,  0.        ,  0.        ],\n",
       "       [ 0.        ,  0.        ,  0.        ],\n",
       "       [ 0.8942519 , -0.12707821,  1.235     ],\n",
       "       [ 0.76672447, -0.13166741,  1.436     ],\n",
       "       [ 0.62376492,  0.11292299,  1.32      ],\n",
       "       [ 0.        ,  0.        ,  0.        ]])"
      ]
     },
     "execution_count": 12,
     "metadata": {},
     "output_type": "execute_result"
    }
   ],
   "source": [
    "skeleton_3d_data[2]"
   ]
  },
  {
   "cell_type": "code",
   "execution_count": 6,
   "id": "125dc426-21b5-4474-9e5c-59d34c55c3ba",
   "metadata": {},
   "outputs": [
    {
     "ename": "IndexError",
     "evalue": "list index out of range",
     "output_type": "error",
     "traceback": [
      "\u001b[0;31m---------------------------------------------------------------------------\u001b[0m",
      "\u001b[0;31mIndexError\u001b[0m                                Traceback (most recent call last)",
      "Cell \u001b[0;32mIn[6], line 13\u001b[0m\n\u001b[1;32m      7\u001b[0m     detected_images\u001b[38;5;241m.\u001b[39mappend(cv_image)\n\u001b[1;32m      9\u001b[0m \u001b[38;5;66;03m#TEST DETECTED IMAGES\u001b[39;00m\n\u001b[0;32m---> 13\u001b[0m plt\u001b[38;5;241m.\u001b[39mimshow(cv2\u001b[38;5;241m.\u001b[39mcvtColor(\u001b[43mdetected_images\u001b[49m\u001b[43m[\u001b[49m\u001b[38;5;241;43m300\u001b[39;49m\u001b[43m]\u001b[49m, cv2\u001b[38;5;241m.\u001b[39mCOLOR_BGR2RGB))\n\u001b[1;32m     14\u001b[0m \u001b[38;5;66;03m#plt.imshow(detected_images[25])\u001b[39;00m\n\u001b[1;32m     15\u001b[0m plt\u001b[38;5;241m.\u001b[39mshow()\n",
      "\u001b[0;31mIndexError\u001b[0m: list index out of range"
     ]
    }
   ],
   "source": [
    "bridge = CvBridge()\n",
    "detected_images=[]\n",
    "\n",
    "for img in image_data:\n",
    "    \n",
    "    cv_image = bridge.imgmsg_to_cv2(img, desired_encoding=\"passthrough\")\n",
    "    detected_images.append(cv_image)\n",
    "\n",
    "#TEST DETECTED IMAGES\n",
    "\n",
    "\n",
    "\n",
    "plt.imshow(cv2.cvtColor(detected_images[300], cv2.COLOR_BGR2RGB))\n",
    "#plt.imshow(detected_images[25])\n",
    "plt.show()"
   ]
  },
  {
   "cell_type": "code",
   "execution_count": null,
   "id": "57e9f5b7-153f-44a5-a2cd-87aa87e10f82",
   "metadata": {},
   "outputs": [],
   "source": [
    "\n",
    "# Original resolution\n",
    "old_width, old_height = 1280, 720\n",
    "\n",
    "# New resolution\n",
    "new_width, new_height = 640, 360\n",
    "\n",
    "# Calculate scaling factors\n",
    "scale_x = new_width / old_width\n",
    "scale_y = new_height / old_height\n",
    "\n",
    "# Initialize a list to store scaled skeletal data\n",
    "scaled_skeletal_data = []\n",
    "\n",
    "# Iterate over each frame/observation\n",
    "for frame in skeleton_2d_data:\n",
    "    # Scale each point in the frame\n",
    "    scaled_frame = [[x * scale_x, y * scale_y] if x > 0 and y > 0 else [x, y] for x, y in frame]\n",
    "    scaled_skeletal_data.append(scaled_frame)\n",
    "\n",
    "# Convert the list back to a NumPy array if needed\n",
    "scaled_skeletal_data = np.array(scaled_skeletal_data, dtype=np.float32)\n",
    "\n",
    "# Now, scaled_skeletal_data contains the scaled skeletal points for each frame/observation\n"
   ]
  },
  {
   "cell_type": "code",
   "execution_count": null,
   "id": "8c72be1b-7c78-4387-87bb-dd7e102bc555",
   "metadata": {},
   "outputs": [],
   "source": [
    "test_img=detected_images[300]\n",
    "\n",
    "for point in scaled_skeletal_data[300]:\n",
    "    x, y = int(point[0]), int(point[1])\n",
    "    #print(x)\n",
    "    cv2.circle(test_img, (x, y), radius=3, color=(255, 255, 0), thickness=1)  # Draw a green circle at each point\n",
    "    \n",
    "plt.imshow(cv2.cvtColor(test_img, cv2.COLOR_BGR2RGB))\n",
    "#plt.imshow(detected_images[25])\n",
    "plt.show()"
   ]
  },
  {
   "cell_type": "code",
   "execution_count": null,
   "id": "8388f565-f27a-4bec-930e-bae4b275db15",
   "metadata": {
    "scrolled": true
   },
   "outputs": [],
   "source": [
    "# Assuming `skeleton_3d_data[500]` is your input data\n",
    "data = np.array(skeleton_3d_data[300])\n",
    "\n",
    "# Filter out the NaN values from the first 18 keypoints\n",
    "valid_keypoints = ~np.isnan(data[:18, :].any(axis=1))\n",
    "filtered_data = data[:18][valid_keypoints]\n",
    "\n",
    "\n",
    "# Define connections based on your body model (this is a basic example)\n",
    "original_connections = [\n",
    "    (16, 14),(14, 0),\n",
    "    (17, 15),(15, 0),\n",
    "    (0, 1),\n",
    "    (1, 2), (2, 3), (3, 4),          # Right arm\n",
    "    (1, 5), (5, 6), (6, 7),          # Left arm\n",
    "    (1, 8), (8, 9), (9, 10),        # Right leg\n",
    "    (1, 11), (11, 12), (12, 13),    # Left leg\n",
    "    (8, 11)                          # Between hips\n",
    "]\n",
    "\n",
    "# Create a mapping from old indices to new indices after NaN removal\n",
    "index_mapping = {old_index: new_index for new_index, old_index in enumerate(np.where(valid_keypoints)[0])}\n",
    "\n",
    "# Create a new list of connections that only includes the valid keypoints\n",
    "new_connections = [(index_mapping[start], index_mapping[end])\n",
    "                   for start, end in original_connections\n",
    "                   if start in index_mapping and end in index_mapping]\n",
    "\n",
    "# Create the 3D scatter plot\n",
    "ipv.figure()\n",
    "scatter = ipv.scatter(filtered_data[:, 0], filtered_data[:, 1], filtered_data[:, 2], marker='sphere', size=2)\n",
    "\n",
    "# Draw lines for the new skeletal links\n",
    "for start, end in new_connections:\n",
    "    ipv.plot(filtered_data[[start, end], 0], filtered_data[[start, end], 1], filtered_data[[start, end], 2], color='red')\n",
    "\n",
    "# Show the plot\n",
    "ipv.view(azimuth=0, elevation=-90)\n",
    "ipv.show()"
   ]
  },
  {
   "cell_type": "code",
   "execution_count": null,
   "id": "c3b02957-a80c-427d-ba62-20f34bdf4796",
   "metadata": {},
   "outputs": [],
   "source": [
    "n = 34# number of rows to remove from the front\n",
    "m = 30 # number of rows to remove from the end\n",
    "\n",
    "# Remove n rows from the front and m rows from the end\n",
    "df_trimmed = df.iloc[n:-m]\n",
    "\n",
    "# Reset index and remove old index column\n",
    "df_trimmed = df_trimmed.reset_index(drop=True)\n",
    "\n",
    "remainder = df.shape[0] % 60\n",
    "remainder\n",
    "\n",
    "df_trimmed.shape"
   ]
  },
  {
   "cell_type": "code",
   "execution_count": null,
   "id": "2d0cbd5e-8fad-4c1b-934d-cd8040883dd6",
   "metadata": {},
   "outputs": [],
   "source": [
    "df_trimmed.to_pickle(saverpath + filename + '.pkl')"
   ]
  },
  {
   "cell_type": "code",
   "execution_count": null,
   "id": "4e9d2a50-9520-459f-ab6e-d38e66687203",
   "metadata": {
    "scrolled": true
   },
   "outputs": [],
   "source": [
    "import datetime\n",
    "\n",
    "# Example timestamp in nanoseconds\n",
    "timestamp_nano = 1709874089634082714\n",
    "\n",
    "# Convert nanoseconds to seconds\n",
    "timestamp_sec = timestamp_nano / 1e9\n",
    "\n",
    "# Create datetime object\n",
    "timestamp = datetime.datetime.fromtimestamp(timestamp_sec)\n",
    "\n",
    "print(timestamp)"
   ]
  },
  {
   "cell_type": "code",
   "execution_count": null,
   "id": "0e298fdc-ff4a-440b-953a-efecc238b785",
   "metadata": {},
   "outputs": [],
   "source": [
    "df_trimmed"
   ]
  },
  {
   "cell_type": "code",
   "execution_count": null,
   "id": "4c804398-89e7-4d15-969e-6f40f6775516",
   "metadata": {},
   "outputs": [],
   "source": [
    "df_trimmed"
   ]
  },
  {
   "cell_type": "code",
   "execution_count": null,
   "id": "226d8fc9-875c-4bfd-92ff-18a2ef8bb522",
   "metadata": {},
   "outputs": [],
   "source": []
  }
 ],
 "metadata": {
  "kernelspec": {
   "display_name": "Python 3 (ipykernel)",
   "language": "python",
   "name": "python3"
  },
  "language_info": {
   "codemirror_mode": {
    "name": "ipython",
    "version": 3
   },
   "file_extension": ".py",
   "mimetype": "text/x-python",
   "name": "python",
   "nbconvert_exporter": "python",
   "pygments_lexer": "ipython3",
   "version": "3.8.10"
  }
 },
 "nbformat": 4,
 "nbformat_minor": 5
}
