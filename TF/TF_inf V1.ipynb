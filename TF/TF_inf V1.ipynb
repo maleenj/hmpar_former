{
 "cells": [
  {
   "cell_type": "code",
   "execution_count": 1,
   "id": "033b1eb5-8e73-46fa-97e8-30208fb91eb4",
   "metadata": {},
   "outputs": [],
   "source": [
    "import torch\n",
    "import torch.nn as nn\n",
    "import torch.optim as optim\n",
    "import torch.utils.data as data\n",
    "import torch.nn.functional as F\n",
    "import pandas as pd\n",
    "import numpy as np\n",
    "import matplotlib.pyplot as plt\n",
    "import math\n",
    "import copy\n",
    "import sys\n",
    "from torch.utils.data import DataLoader, TensorDataset, Subset\n",
    "from sklearn.model_selection import train_test_split\n",
    "from embedding_layers import SkeletalInputEmbedding\n",
    "from encoder_layers import TransformerEncoder\n",
    "from decoder_layers import TransformerDecoder\n",
    "import TF_helper_functions as hf\n",
    "import pickle\n",
    "import ipyvolume as ipv\n",
    "import numpy as np\n",
    "import ipywidgets as widgets\n",
    "from IPython.display import display\n"
   ]
  },
  {
   "cell_type": "code",
   "execution_count": 2,
   "id": "4bb28bfa-65b6-4023-a035-35036b5aa2c7",
   "metadata": {},
   "outputs": [],
   "source": [
    "datapath='/home/maleen/research_data/Transformers/datasets/khoa_datasets/'\n",
    "# Base path and file information\n",
    "base_name='24_08_29_training_norm'\n",
    "\n",
    "weights_path='/home/maleen/research_data/Transformers/models/TF_tokenised/24_08_29_v1_best_model.pth'\n",
    "\n",
    "filename=datapath+base_name+'.pkl'\n",
    "\n",
    "datasetnum=1\n",
    "\n",
    "\n",
    "def load_results_from_pickle(filename):\n",
    "    with open(filename, 'rb') as f:\n",
    "        return pickle.load(f)\n",
    "\n",
    "def process_all_datasets(results, input_length=60, predict_length=60):\n",
    "    all_X_pos, all_X_vel, all_X_acc = [], [], []\n",
    "    all_Y_pos, all_Y_vel, all_Y_acc = [], [], []\n",
    "    discarded_frames = {}\n",
    "\n",
    "    for i in range(1, datasetnum+1):  # Assuming you have 6 datasets\n",
    "        dataset_key = f'dataset{i}'\n",
    "        norm_pos = results[f'{dataset_key}_normpos']\n",
    "        norm_vel = results[f'{dataset_key}_normvel']\n",
    "        norm_acc = results[f'{dataset_key}_normacc']\n",
    "\n",
    "        # Generate sequences for this dataset\n",
    "        X_pos, X_vel, X_acc, Y_pos, Y_vel, Y_acc = hf.generate_sequences(norm_pos, norm_vel, norm_acc, input_length, predict_length)\n",
    "        \n",
    "        all_X_pos.append(X_pos)\n",
    "        all_X_vel.append(X_vel)\n",
    "        all_X_acc.append(X_acc)\n",
    "        all_Y_pos.append(Y_pos)\n",
    "        all_Y_vel.append(Y_vel)\n",
    "        all_Y_acc.append(Y_acc)\n",
    "\n",
    "        # Calculate discarded frames\n",
    "        total_frames = norm_pos.shape[0]\n",
    "        used_frames = X_pos.shape[0] + input_length + predict_length - 1\n",
    "        discarded = total_frames - used_frames\n",
    "        discarded_frames[dataset_key] = discarded\n",
    "\n",
    "    # Combine sequences from all datasets\n",
    "    combined_X_pos = np.concatenate(all_X_pos)\n",
    "    combined_X_vel = np.concatenate(all_X_vel)\n",
    "    combined_X_acc = np.concatenate(all_X_acc)\n",
    "    combined_Y_pos = np.concatenate(all_Y_pos)\n",
    "    combined_Y_vel = np.concatenate(all_Y_vel)\n",
    "    combined_Y_acc = np.concatenate(all_Y_acc)\n",
    "\n",
    "    return (combined_X_pos, combined_X_vel, combined_X_acc, \n",
    "            combined_Y_pos, combined_Y_vel, combined_Y_acc, \n",
    "            discarded_frames)\n",
    "\n",
    "\n"
   ]
  },
  {
   "cell_type": "code",
   "execution_count": 3,
   "id": "15b76f69",
   "metadata": {},
   "outputs": [
    {
     "name": "stdout",
     "output_type": "stream",
     "text": [
      "Combined sequences shapes:\n",
      "X_pos shape: (6700, 15, 6, 3)\n",
      "X_vel shape: (6700, 15, 6, 3)\n",
      "X_acc shape: (6700, 15, 6, 3)\n",
      "Y_pos shape: (6700, 30, 6, 3)\n",
      "Y_vel shape: (6700, 30, 6, 3)\n",
      "Y_acc shape: (6700, 30, 6, 3)\n",
      "\n",
      "Discarded frames per dataset:\n",
      "dataset1: 0 frames\n"
     ]
    }
   ],
   "source": [
    "input_length = 15\n",
    "predict_length = 30\n",
    "\n",
    "# Load the results\n",
    "results = load_results_from_pickle(filename)\n",
    "\n",
    "medians_pos = results['combined_medians_pos']\n",
    "iqrs_pos = results['combined_iqrs_pos']\n",
    "\n",
    "medians_vel = results['combined_medians_vel']\n",
    "iqrs_vel = results['combined_iqrs_vel']\n",
    "\n",
    "\n",
    "# Process all datasets and get combined sequences\n",
    "(combined_X_pos, combined_X_vel, combined_X_acc, \n",
    " combined_Y_pos, combined_Y_vel, combined_Y_acc, \n",
    " discarded_frames) = process_all_datasets(results, input_length, predict_length)\n",
    "\n",
    "print(\"Combined sequences shapes:\")\n",
    "print(f\"X_pos shape: {combined_X_pos.shape}\")\n",
    "print(f\"X_vel shape: {combined_X_vel.shape}\")\n",
    "print(f\"X_acc shape: {combined_X_acc.shape}\")\n",
    "print(f\"Y_pos shape: {combined_Y_pos.shape}\")\n",
    "print(f\"Y_vel shape: {combined_Y_vel.shape}\")\n",
    "print(f\"Y_acc shape: {combined_Y_acc.shape}\")\n",
    "\n",
    "print(\"\\nDiscarded frames per dataset:\")\n",
    "for dataset, frames in discarded_frames.items():\n",
    "    print(f\"{dataset}: {frames} frames\")\n"
   ]
  },
  {
   "cell_type": "code",
   "execution_count": 4,
   "id": "ddaae5bd-b5e7-49d4-bbd2-5e5e13c6e656",
   "metadata": {},
   "outputs": [],
   "source": [
    "def robust_normalize_data_with_clipping(data, medians_per_joint_axis, iqrs_per_joint_axis, normalized_data, clipping_percentiles=(1, 99)):\n",
    "    for joint in range(data.shape[1]):  # For each joint\n",
    "        for axis in range(data.shape[2]):  # For each axis (x, y, z)\n",
    "            joint_axis_data = data[:, joint, axis]\n",
    "            # Determine clipping thresholds based on percentiles\n",
    "            lower_threshold, upper_threshold = np.percentile(joint_axis_data, clipping_percentiles)\n",
    "            # Clip the data based on thresholds\n",
    "            clipped_values = np.clip(joint_axis_data, lower_threshold, upper_threshold)\n",
    "            # Normalize the clipped data, avoiding division by zero\n",
    "            if iqrs_per_joint_axis[joint, axis] > 0:\n",
    "                normalized_values = (clipped_values - medians_per_joint_axis[joint, axis]) / iqrs_per_joint_axis[joint, axis]\n",
    "            else:\n",
    "                normalized_values = clipped_values  # Keep original values if IQR is 0\n",
    "            # Store the normalized values\n",
    "            normalized_data[:, joint, axis] = normalized_values\n",
    "    return normalized_data\n",
    "\n",
    "def calculate_combined_statistics(data_list):\n",
    "    combined_data = np.concatenate(data_list, axis=0)\n",
    "    medians = np.median(combined_data, axis=0)\n",
    "    q75, q25 = np.percentile(combined_data, [75, 25], axis=0)\n",
    "    iqrs = q75 - q25\n",
    "    return medians, iqrs\n",
    "\n",
    "def process_datasets_with_combined_normalization(datasets, timestamps_list):\n",
    "    results = {}\n",
    "    pos_list, vel_list, acc_list = [], [], []\n",
    "\n",
    "    # First pass: calculate velocity and acceleration for each dataset\n",
    "    for i, (dataset, timestamps) in enumerate(zip(datasets, timestamps_list), 1):\n",
    "        pos, vel, acc = calculate_velocity_acceleration(dataset, timestamps)\n",
    "        pos_list.append(pos)\n",
    "        vel_list.append(vel)\n",
    "        acc_list.append(acc)\n",
    "\n",
    "    # Calculate combined statistics\n",
    "    medians_pos, iqrs_pos = calculate_combined_statistics(pos_list)\n",
    "    medians_vel, iqrs_vel = calculate_combined_statistics(vel_list)\n",
    "    medians_acc, iqrs_acc = calculate_combined_statistics(acc_list)\n",
    "\n",
    "    # Second pass: normalize each dataset using the combined statistics\n",
    "    for i, (pos, vel, acc) in enumerate(zip(pos_list, vel_list, acc_list), 1):\n",
    "        norm_pos = np.empty_like(pos)\n",
    "        norm_vel = np.empty_like(vel)\n",
    "        norm_acc = np.empty_like(acc)\n",
    "\n",
    "        norm_pos = pos #robust_normalize_data_with_clipping(pos, medians_pos, iqrs_pos, norm_pos)\n",
    "        norm_vel = robust_normalize_data_with_clipping(vel, medians_vel, iqrs_vel, norm_vel)\n",
    "        norm_acc = robust_normalize_data_with_clipping(acc, medians_acc, iqrs_acc, norm_acc)\n",
    "\n",
    "        results[f\"dataset{i}_normpos\"] = norm_pos\n",
    "        results[f\"dataset{i}_normvel\"] = norm_vel\n",
    "        results[f\"dataset{i}_normacc\"] = norm_acc\n",
    "\n",
    "        print(f\"Calculated and normalized for dataset{i}:\")\n",
    "        print(f\"  Position shape: {norm_pos.shape}\")\n",
    "        print(f\"  Velocity shape: {norm_vel.shape}\")\n",
    "        print(f\"  Acceleration shape: {norm_acc.shape}\")\n",
    "        print()\n",
    "\n",
    "    # Store the combined statistics\n",
    "    results[\"combined_medians_pos\"] = medians_pos\n",
    "    results[\"combined_iqrs_pos\"] = iqrs_pos\n",
    "    results[\"combined_medians_vel\"] = medians_vel\n",
    "    results[\"combined_iqrs_vel\"] = iqrs_vel\n",
    "    results[\"combined_medians_acc\"] = medians_acc\n",
    "    results[\"combined_iqrs_acc\"] = iqrs_acc\n",
    "\n",
    "    return results\n",
    "\n",
    "# Usage example\n",
    "\n",
    "#results = process_datasets_with_combined_normalization(datasets, timestamps_list)"
   ]
  },
  {
   "cell_type": "code",
   "execution_count": 5,
   "id": "ee8abd09",
   "metadata": {
    "notebookRunGroups": {
     "groupValue": "1"
    }
   },
   "outputs": [
    {
     "name": "stdout",
     "output_type": "stream",
     "text": [
      "broke  100\n",
      "tensor(0.1098, device='cuda:0', grad_fn=<MeanBackward0>)\n",
      "Predicted Positions: [[[ 0.58795035 -0.516806   -0.83223724]\n",
      "  [ 0.30071968 -0.7724182  -0.48497933]\n",
      "  [-0.375444   -0.32047167  0.4407764 ]\n",
      "  [-0.2147949  -0.3031393   0.28989607]\n",
      "  [ 0.20281403 -0.14610727 -0.7896216 ]\n",
      "  [ 0.0161591   0.16714361  0.3489081 ]]\n",
      "\n",
      " [[ 0.5135116  -0.513989   -0.7853988 ]\n",
      "  [ 0.22825594 -0.7937844  -0.5299702 ]\n",
      "  [-0.48075148 -0.39460254  0.3637709 ]\n",
      "  [-0.30096462 -0.2553684   0.34935677]\n",
      "  [ 0.16244961 -0.21099813 -0.71210915]\n",
      "  [-0.02498726 -0.01692115  0.32071662]]\n",
      "\n",
      " [[ 0.5064682  -0.50381505 -0.7456088 ]\n",
      "  [ 0.22587587 -0.80500436 -0.51756394]\n",
      "  [-0.451186   -0.34636226  0.37987232]\n",
      "  [-0.26885617 -0.20611691  0.34435332]\n",
      "  [ 0.14830913 -0.6003275  -0.5593839 ]\n",
      "  [-0.09514306 -0.2848032   0.38977516]]\n",
      "\n",
      " [[ 0.5174701  -0.46747276 -0.7074358 ]\n",
      "  [ 0.25999936 -0.80421513 -0.49387568]\n",
      "  [-0.3481319  -0.2582769   0.39859724]\n",
      "  [-0.19111603 -0.27814108  0.32031775]\n",
      "  [ 0.16070086 -1.0213714  -0.34808436]\n",
      "  [-0.05366085 -0.60620785  0.44337776]]\n",
      "\n",
      " [[ 0.5263786  -0.46709242 -0.6856242 ]\n",
      "  [ 0.29674995 -0.7703496  -0.47990608]\n",
      "  [-0.29007992 -0.14846894  0.36669493]\n",
      "  [-0.18470937 -0.285382    0.31008196]\n",
      "  [ 0.15510012 -1.0992649  -0.2948453 ]\n",
      "  [-0.11681536 -0.55892646  0.5118301 ]]\n",
      "\n",
      " [[ 0.5211468  -0.44449538 -0.65272874]\n",
      "  [ 0.30466554 -0.7460441  -0.45409635]\n",
      "  [-0.24700245 -0.0821863   0.35489708]\n",
      "  [-0.1302019  -0.20261613  0.29357043]\n",
      "  [ 0.14725052 -1.106954   -0.24953917]\n",
      "  [-0.1403871  -0.5968126   0.52552557]]\n",
      "\n",
      " [[ 0.53293276 -0.47640157 -0.62278754]\n",
      "  [ 0.30613932 -0.7433401  -0.41167897]\n",
      "  [-0.283591   -0.13948551  0.47193044]\n",
      "  [-0.21830074 -0.28083956  0.3439712 ]\n",
      "  [ 0.20825888 -1.1745132  -0.06398886]\n",
      "  [-0.05479959 -0.6627372   0.5801984 ]]\n",
      "\n",
      " [[ 0.5072952  -0.45503032 -0.6584201 ]\n",
      "  [ 0.29238364 -0.7461696  -0.4347577 ]\n",
      "  [-0.27661026 -0.27449444  0.47185755]\n",
      "  [-0.17114587 -0.42515433  0.4778475 ]\n",
      "  [ 0.16379929 -1.1068329  -0.068099  ]\n",
      "  [-0.12509595 -0.7585064   0.5198302 ]]\n",
      "\n",
      " [[ 0.4894814  -0.45872846 -0.6696113 ]\n",
      "  [ 0.28332373 -0.7654172  -0.45148283]\n",
      "  [-0.29607385 -0.31091404  0.42683673]\n",
      "  [-0.17727786 -0.408463    0.45420647]\n",
      "  [ 0.08189172 -1.1414322  -0.09914393]\n",
      "  [-0.23656693 -0.7332974   0.51934755]]\n",
      "\n",
      " [[ 0.47669077 -0.4735928  -0.63063407]\n",
      "  [ 0.27983826 -0.7595403  -0.4506659 ]\n",
      "  [-0.35448068 -0.22456639  0.37488258]\n",
      "  [-0.25123596 -0.17015892  0.38898808]\n",
      "  [ 0.00459201 -1.0715823  -0.12036089]\n",
      "  [-0.27126533 -0.75284815  0.47566706]]\n",
      "\n",
      " [[ 0.4622221  -0.4650319  -0.618504  ]\n",
      "  [ 0.25818425 -0.7783962  -0.44325712]\n",
      "  [-0.45951852 -0.35402998  0.36778516]\n",
      "  [-0.36286938 -0.28956136  0.4566161 ]\n",
      "  [-0.03711344 -0.91062915 -0.21577027]\n",
      "  [-0.20258895 -0.98506385  0.26376072]]\n",
      "\n",
      " [[ 0.46818864 -0.46430752 -0.62088424]\n",
      "  [ 0.25985605 -0.76112455 -0.45341828]\n",
      "  [-0.41821313 -0.2576952   0.39028424]\n",
      "  [-0.27631035 -0.15528224  0.5104334 ]\n",
      "  [ 0.07304038 -0.78962773 -0.1841054 ]\n",
      "  [-0.17710179 -0.806354    0.35366565]]\n",
      "\n",
      " [[ 0.45921874 -0.44301793 -0.6025404 ]\n",
      "  [ 0.26600572 -0.7110693  -0.45308086]\n",
      "  [-0.34210837 -0.12995054  0.3629529 ]\n",
      "  [-0.16207385  0.04783979  0.45044628]\n",
      "  [ 0.18774535 -0.75496125 -0.11380664]\n",
      "  [-0.0248958  -0.75191265  0.40567628]]\n",
      "\n",
      " [[ 0.47265482 -0.43843886 -0.5809247 ]\n",
      "  [ 0.29445106 -0.71508586 -0.41805884]\n",
      "  [-0.36685628 -0.1643643   0.36886793]\n",
      "  [-0.19716232 -0.02174703  0.43178964]\n",
      "  [ 0.10994421 -0.9035448  -0.05153725]\n",
      "  [-0.11033626 -0.8020086   0.42888108]]\n",
      "\n",
      " [[ 0.4630558  -0.44747296 -0.6716894 ]\n",
      "  [ 0.25777712 -0.75069964 -0.48267597]\n",
      "  [-0.35377577 -0.27786106  0.39069134]\n",
      "  [-0.18667172 -0.29312742  0.50601566]\n",
      "  [ 0.11385408 -0.98339725 -0.04814336]\n",
      "  [-0.23000562 -0.7464638   0.4848431 ]]\n",
      "\n",
      " [[ 0.46577066 -0.45732924 -0.655544  ]\n",
      "  [ 0.25199255 -0.754368   -0.48265907]\n",
      "  [-0.31397688 -0.2134385   0.3810053 ]\n",
      "  [-0.13578513 -0.31176317  0.4708946 ]\n",
      "  [ 0.16298607 -1.0133834  -0.10251427]\n",
      "  [-0.21762481 -0.6993604   0.513021  ]]\n",
      "\n",
      " [[ 0.46940243 -0.47250298 -0.6229208 ]\n",
      "  [ 0.2689256  -0.7610574  -0.46066123]\n",
      "  [-0.34157443 -0.23054619  0.44312835]\n",
      "  [-0.23059487 -0.44563714  0.49788383]\n",
      "  [ 0.14639    -1.0972817  -0.09105469]\n",
      "  [-0.18547961 -0.77121305  0.4952801 ]]\n",
      "\n",
      " [[ 0.44750005 -0.5370444  -0.68712157]\n",
      "  [ 0.21911855 -0.7968923  -0.5113286 ]\n",
      "  [-0.37374777 -0.23273636  0.4124058 ]\n",
      "  [-0.3433231  -0.49095634  0.5732148 ]\n",
      "  [ 0.06315896 -1.1049082  -0.07283569]\n",
      "  [-0.44235992 -0.37835807  0.6905249 ]]\n",
      "\n",
      " [[ 0.43279302 -0.5341512  -0.68387294]\n",
      "  [ 0.198548   -0.7973191  -0.50722885]\n",
      "  [-0.37765732 -0.21905743  0.40769267]\n",
      "  [-0.38118237 -0.40469557  0.55382305]\n",
      "  [ 0.00243771 -1.1470333  -0.04570667]\n",
      "  [-0.53673226 -0.3137412   0.75010103]]\n",
      "\n",
      " [[ 0.47000104 -0.49587134 -0.6990929 ]\n",
      "  [ 0.22511043 -0.7928746  -0.4800557 ]\n",
      "  [-0.40072298 -0.29948008  0.46589404]\n",
      "  [-0.3409869  -0.3340039   0.4527426 ]\n",
      "  [ 0.03710062 -1.1508684  -0.06081194]\n",
      "  [-0.4839405  -0.27160794  0.7599214 ]]\n",
      "\n",
      " [[ 0.46625233 -0.5199778  -0.65532476]\n",
      "  [ 0.2289923  -0.7992811  -0.46662772]\n",
      "  [-0.43205652 -0.3368643   0.45055485]\n",
      "  [-0.34094322 -0.36770338  0.4973888 ]\n",
      "  [ 0.09714766 -0.8999258  -0.20571771]\n",
      "  [-0.3378833  -0.30210084  0.62857074]]\n",
      "\n",
      " [[ 0.48237407 -0.5061165  -0.6694754 ]\n",
      "  [ 0.24810566 -0.79403466 -0.47914463]\n",
      "  [-0.4561925  -0.32050827  0.43097866]\n",
      "  [-0.32638782 -0.2919993   0.4156457 ]\n",
      "  [ 0.10471708 -0.9468504  -0.2268649 ]\n",
      "  [-0.27467978 -0.39600852  0.5691224 ]]\n",
      "\n",
      " [[ 0.48657107 -0.5109533  -0.6672948 ]\n",
      "  [ 0.25548744 -0.80355656 -0.4856369 ]\n",
      "  [-0.45245796 -0.3451422   0.41305792]\n",
      "  [-0.34965467 -0.44133198  0.46930984]\n",
      "  [ 0.11478257 -0.9079344  -0.2585983 ]\n",
      "  [-0.15928459 -0.7137387   0.3984059 ]]\n",
      "\n",
      " [[ 0.46497053 -0.50564873 -0.6550879 ]\n",
      "  [ 0.2532779  -0.7911534  -0.50067216]\n",
      "  [-0.3979448  -0.31561586  0.3699494 ]\n",
      "  [-0.27682948 -0.33462864  0.51208794]\n",
      "  [ 0.07373212 -0.79151565 -0.28471678]\n",
      "  [-0.20831665 -0.61430275  0.42186326]]\n",
      "\n",
      " [[ 0.42083436 -0.49495196 -0.6259739 ]\n",
      "  [ 0.24831553 -0.78508085 -0.5145573 ]\n",
      "  [-0.36386192 -0.23509209  0.32882345]\n",
      "  [-0.239264   -0.4081512   0.5333948 ]\n",
      "  [ 0.08554237 -1.0283247  -0.12033423]\n",
      "  [-0.18218753 -0.82118255  0.4432703 ]]\n",
      "\n",
      " [[ 0.45295072 -0.45986232 -0.63675386]\n",
      "  [ 0.26734263 -0.7493985  -0.47878855]\n",
      "  [-0.26242337 -0.19033445  0.36141342]\n",
      "  [-0.15559551 -0.38387516  0.44192764]\n",
      "  [ 0.08588547 -1.2799547   0.01275105]\n",
      "  [-0.26892427 -0.799956    0.57208306]]\n",
      "\n",
      " [[ 0.49357033 -0.4441803  -0.627253  ]\n",
      "  [ 0.29832062 -0.7399741  -0.43500987]\n",
      "  [-0.23249927 -0.16676705  0.41041428]\n",
      "  [-0.12492667 -0.38075078  0.39300692]\n",
      "  [ 0.13134496 -1.33722     0.01824015]\n",
      "  [-0.27167597 -0.6646043   0.6647373 ]]\n",
      "\n",
      " [[ 0.5101794  -0.44837442 -0.6284782 ]\n",
      "  [ 0.3048414  -0.74392945 -0.41871944]\n",
      "  [-0.23434445 -0.14056481  0.43832308]\n",
      "  [-0.15070482 -0.34613776  0.37750152]\n",
      "  [ 0.13040684 -1.3612162   0.02340928]\n",
      "  [-0.23051307 -0.6560207   0.69085974]]\n",
      "\n",
      " [[ 0.5234816  -0.43547684 -0.6114216 ]\n",
      "  [ 0.31810808 -0.7289196  -0.38404998]\n",
      "  [-0.21401018 -0.13874407  0.47136748]\n",
      "  [-0.1348913  -0.29027048  0.36461815]\n",
      "  [ 0.11713113 -1.3622985   0.03945308]\n",
      "  [-0.24030408 -0.6737276   0.7001858 ]]\n",
      "\n",
      " [[ 0.51316285 -0.39384553 -0.63354456]\n",
      "  [ 0.3116837  -0.70133954 -0.40507668]\n",
      "  [-0.23973802 -0.20558889  0.43435854]\n",
      "  [-0.11740598 -0.1530528   0.30647814]\n",
      "  [ 0.09730397 -1.1452423  -0.09957715]\n",
      "  [-0.22172582 -0.6846635   0.55845976]]]\n"
     ]
    }
   ],
   "source": [
    "# Set device\n",
    "device = torch.device(\"cuda\" if torch.cuda.is_available() else \"cpu\")\n",
    "\n",
    "# Load the saved model weights\n",
    "checkpoint = torch.load(weights_path, map_location=device)\n",
    "embed_dim = 128\n",
    "num_heads = 8\n",
    "num_layers = 6\n",
    "num_joints = 6\n",
    "dropout_rate = 0.1\n",
    "autoregressiveloops=30\n",
    "batch_size = 1\n",
    "dof=3\n",
    "input_dim = num_joints * dof\n",
    "\n",
    "# Initialize the models with the same configuration as during training\n",
    "embedding = SkeletalInputEmbedding(input_dim).to(device)\n",
    "#t_embedding = TargetEmbedding(num_joints=num_joints, dof=3, embed_dim=embed_dim,device=device).to(device)\n",
    "encoder = TransformerEncoder(embed_dim, num_heads, num_layers, dropout_rate).to(device)\n",
    "decoder = TransformerDecoder(embed_dim, num_heads, num_layers, num_joints, dropout_rate).to(device)\n",
    "\n",
    "# Load state dicts\n",
    "embedding.load_state_dict(checkpoint['embedding_state_dict'])\n",
    "#t_embedding.load_state_dict(checkpoint['t_embedding_state_dict'])\n",
    "encoder.load_state_dict(checkpoint['encoder_state_dict'])\n",
    "decoder.load_state_dict(checkpoint['decoder_state_dict'])\n",
    "\n",
    "embedding.eval()\n",
    "#t_embedding.eval()\n",
    "encoder.eval()\n",
    "decoder.eval()\n",
    "\n",
    "# X_pos, X_vel, X_acc, Y_pos, Y_vel, Y_acc = generate_sequences(norm_pos, norm_vel, norm_acc, input_length, predict_length)\n",
    "\n",
    "# Convert to PyTorch tensors\n",
    "X_pos_tensor = torch.tensor(combined_X_pos, dtype=torch.float32)\n",
    "X_vel_tensor = torch.tensor(combined_X_vel, dtype=torch.float32)\n",
    "X_acc_tensor = torch.tensor(combined_X_acc, dtype=torch.float32)\n",
    "\n",
    "\n",
    "Y_pos_tensor = torch.tensor(combined_Y_pos, dtype=torch.float32)\n",
    "Y_vel_tensor = torch.tensor(combined_Y_vel, dtype=torch.float32)\n",
    "Y_acc_tensor = torch.tensor(combined_Y_acc, dtype=torch.float32)\n",
    "\n",
    "# Create the DataLoader for inference data\n",
    "dataset = TensorDataset(X_pos_tensor, X_vel_tensor, X_acc_tensor, Y_pos_tensor, Y_vel_tensor)\n",
    "inference_loader = DataLoader(dataset, batch_size=batch_size, shuffle=False)\n",
    "\n",
    "# Prepare for autoregressive decoding\n",
    "#predicted_positions = []\n",
    "\n",
    "criterion = hf.MaskedMSELoss()\n",
    "batchnum=0\n",
    "# Perform inference across all batches\n",
    "for batch in inference_loader:\n",
    "    X_pos_batch, X_vel_batch, X_acc_batch, Y_pos_batch, Y_vel_tensor = [b.to(device) for b in batch]\n",
    "    \n",
    "    predicted_positions = []\n",
    "\n",
    "\n",
    "\n",
    "    # Encoder pass\n",
    "   \n",
    "    inputembeddings = embedding(X_pos_batch, X_vel_batch)\n",
    "    memory = encoder(inputembeddings, src_key_padding_mask=None)\n",
    "\n",
    "    \n",
    "    # Initialize the start token for decoding\n",
    "    current_pos = X_pos_batch[:, -1:, :, :]\n",
    "    current_vel= X_vel_batch[:, -1:, :, :]\n",
    "\n",
    "\n",
    "    for i in range(autoregressiveloops):\n",
    "        # Embed the current position\n",
    "        Y_expected= Y_pos_batch[:,i:i+1,:,:]\n",
    "    \n",
    "\n",
    "        # # #Running whole model\n",
    "        # if i > 0:\n",
    "        #     X_mask_batch_ar = torch.cat([X_mask_batch[:, 1:, :], current_mask], dim=1)\n",
    "        #     X_pos_batch_ar = torch.cat([X_pos_batch[:, 1:, :, :], current_pos], dim=1)\n",
    "    \n",
    "        #     src_key_padding_mask = ~X_mask_batch_ar.view(batch_size, input_length * num_joints)\n",
    "        #     input_embeddings = embedding(X_pos_batch_ar, X_mask_batch_ar)\n",
    "        #     memory = encoder(input_embeddings, src_key_padding_mask=src_key_padding_mask)\n",
    "        # ##\n",
    "        \n",
    "        current_embeddings = embedding(current_pos, current_vel)\n",
    "        \n",
    "        # Decoder pass\n",
    "        output = decoder(current_embeddings, memory, tgt_key_padding_mask=None, memory_key_padding_mask=None)\n",
    "    \n",
    "        # Update current_pos for the next prediction\n",
    "\n",
    "        old_pos= current_pos\n",
    "        current_pos = output[:, :, :, :].detach()  # only take the last timestep\n",
    "\n",
    "        #current_vel = (current_pos-old_pos)/0.2\n",
    "\n",
    "        # velocity_error=Y_vel_tensor[:, i, :, :]-current_vel\n",
    "        # vel = Y_vel_tensor[:, i, :, :].cpu() \n",
    "        # norm_vel = np.empty_like(vel)\n",
    "        # current_vel = robust_normalize_data_with_clipping(vel, medians_vel, iqrs_vel, norm_vel)\n",
    "        # current_vel.gpu()\n",
    "        \n",
    "        current_vel = Y_vel_tensor[:, i, :, :]\n",
    "\n",
    "        #\n",
    "        # print('velocity_error: ', velocity_error)\n",
    "    \n",
    "        predicted_positions.append(current_pos.squeeze().cpu().numpy())\n",
    "\n",
    "        \n",
    "        output = output.where(~torch.isnan(output), torch.zeros_like(output))\n",
    "        # masked_output = output * Xmask\n",
    "    \n",
    "        Y_expected = Y_expected.where(~torch.isnan(Y_expected), torch.zeros_like(Y_expected))\n",
    "        # masked_y_pos = Y_pos_batch * Ymask\n",
    "\n",
    "        #print(Y_expected)\n",
    "    \n",
    "        # Compute loss\n",
    "        \n",
    "        loss = criterion(output, Y_expected)\n",
    "\n",
    "        \n",
    "    \n",
    "    batchnum=batchnum+1\n",
    "    #print(batchnum)\n",
    "    #break\n",
    "\n",
    "    if batchnum == 100:\n",
    "        print('broke ', batchnum )\n",
    "        print(loss)\n",
    "        break\n",
    "# Convert the list of predicted positions to a more manageable form, e.g., a NumPy array\n",
    "predicted_positions = np.array(predicted_positions)\n",
    "\n",
    "print(\"Predicted Positions:\", predicted_positions)\n"
   ]
  },
  {
   "cell_type": "code",
   "execution_count": 8,
   "id": "fe4a82bd",
   "metadata": {
    "scrolled": true
   },
   "outputs": [
    {
     "name": "stdout",
     "output_type": "stream",
     "text": [
      "Warning: all_data has unexpected shape: (360, 3)\n"
     ]
    },
    {
     "data": {
      "application/vnd.plotly.v1+json": {
       "config": {
        "plotlyServerURL": "https://plot.ly"
       },
       "data": [
        {
         "marker": {
          "color": "blue",
          "size": 6
         },
         "mode": "markers",
         "name": "Prediction",
         "type": "scatter3d",
         "x": [
          -0.061226282,
          -0.22000113,
          -0.22025,
          0.09971082,
          0.1395107,
          0.12228382
         ],
         "y": [
          -0.027335573,
          -0.030400116,
          0.21609472,
          0.22839175,
          -0.0026477443,
          -0.21620412
         ],
         "z": [
          -1.0778908,
          -1.2431931,
          -1.2411177,
          -1.268489,
          -1.3496443,
          -1.2414639
         ]
        },
        {
         "marker": {
          "color": "green",
          "size": 6
         },
         "mode": "markers",
         "name": "Ground Truth",
         "type": "scatter3d",
         "x": [
          -0.14119611393920417,
          -0.2595639527549921,
          -0.22061322649590553,
          0.10001450032196332,
          0.14220310732656513,
          0.12393124401555344
         ],
         "y": [
          -0.07359794047896379,
          -0.031102656454256333,
          0.21258088951243592,
          0.22522927826572303,
          0.0033177286016448093,
          -0.20943100751362875
         ],
         "z": [
          -1.090594056277471,
          -1.2938007136628755,
          -1.2642871141159369,
          -1.259656310025619,
          -1.363315702104888,
          -1.256012916081894
         ]
        },
        {
         "line": {
          "color": "red",
          "width": 2
         },
         "mode": "lines",
         "name": "Prediction",
         "type": "scatter3d",
         "x": [
          -0.06122628226876259,
          -0.22000113129615784
         ],
         "y": [
          -0.027335572987794876,
          -0.030400115996599197
         ],
         "z": [
          -1.0778907537460327,
          -1.2431931495666504
         ]
        },
        {
         "line": {
          "color": "red",
          "width": 2
         },
         "mode": "lines",
         "name": "Ground Truth",
         "type": "scatter3d",
         "x": [
          -0.22000113129615784,
          -0.2202499955892563
         ],
         "y": [
          -0.030400115996599197,
          0.2160947173833847
         ],
         "z": [
          -1.2431931495666504,
          -1.2411177158355713
         ]
        },
        {
         "line": {
          "color": "red",
          "width": 2
         },
         "mode": "lines",
         "name": "Prediction",
         "type": "scatter3d",
         "x": [
          0.09971082210540771,
          0.13951070606708527
         ],
         "y": [
          0.22839175164699554,
          -0.002647744258865714
         ],
         "z": [
          -1.2684890031814575,
          -1.3496443033218384
         ]
        },
        {
         "line": {
          "color": "red",
          "width": 2
         },
         "mode": "lines",
         "name": "Ground Truth",
         "type": "scatter3d",
         "x": [
          0.13951070606708527,
          0.12228381633758545
         ],
         "y": [
          -0.002647744258865714,
          -0.21620412170886993
         ],
         "z": [
          -1.3496443033218384,
          -1.2414638996124268
         ]
        },
        {
         "line": {
          "color": "red",
          "width": 2
         },
         "mode": "lines",
         "name": "Prediction",
         "type": "scatter3d",
         "x": [
          -0.2202499955892563,
          0.09971082210540771
         ],
         "y": [
          0.2160947173833847,
          0.22839175164699554
         ],
         "z": [
          -1.2411177158355713,
          -1.2684890031814575
         ]
        },
        {
         "line": {
          "color": "lime",
          "width": 2
         },
         "mode": "lines",
         "name": "Ground Truth",
         "type": "scatter3d",
         "x": [
          -0.14119611393920417,
          -0.2595639527549921
         ],
         "y": [
          -0.07359794047896379,
          -0.031102656454256333
         ],
         "z": [
          -1.090594056277471,
          -1.2938007136628755
         ]
        },
        {
         "line": {
          "color": "lime",
          "width": 2
         },
         "mode": "lines",
         "name": "Prediction",
         "type": "scatter3d",
         "x": [
          -0.2595639527549921,
          -0.22061322649590553
         ],
         "y": [
          -0.031102656454256333,
          0.21258088951243592
         ],
         "z": [
          -1.2938007136628755,
          -1.2642871141159369
         ]
        },
        {
         "line": {
          "color": "lime",
          "width": 2
         },
         "mode": "lines",
         "name": "Ground Truth",
         "type": "scatter3d",
         "x": [
          0.10001450032196332,
          0.14220310732656513
         ],
         "y": [
          0.22522927826572303,
          0.0033177286016448093
         ],
         "z": [
          -1.259656310025619,
          -1.363315702104888
         ]
        },
        {
         "line": {
          "color": "lime",
          "width": 2
         },
         "mode": "lines",
         "name": "Prediction",
         "type": "scatter3d",
         "x": [
          0.14220310732656513,
          0.12393124401555344
         ],
         "y": [
          0.0033177286016448093,
          -0.20943100751362875
         ],
         "z": [
          -1.363315702104888,
          -1.256012916081894
         ]
        },
        {
         "line": {
          "color": "lime",
          "width": 2
         },
         "mode": "lines",
         "name": "Ground Truth",
         "type": "scatter3d",
         "x": [
          -0.22061322649590553,
          0.10001450032196332
         ],
         "y": [
          0.21258088951243592,
          0.22522927826572303
         ],
         "z": [
          -1.2642871141159369,
          -1.259656310025619
         ]
        }
       ],
       "frames": [
        {
         "data": [
          {
           "marker": {
            "color": "blue",
            "size": 6
           },
           "mode": "markers",
           "type": "scatter3d",
           "x": [
            -0.04029738,
            -0.22122058,
            -0.222664,
            0.09827448,
            0.14174895,
            0.12629499
           ],
           "y": [
            -0.046232965,
            -0.034000736,
            0.21458012,
            0.2275132,
            0.0047697993,
            -0.2030052
           ],
           "z": [
            -1.0981781,
            -1.2522073,
            -1.2407583,
            -1.2690982,
            -1.3716656,
            -1.2528784
           ]
          },
          {
           "marker": {
            "color": "green",
            "size": 6
           },
           "mode": "markers",
           "type": "scatter3d",
           "x": [
            -0.009749194647421078,
            -0.20696711490409125,
            -0.21831746405765778,
            0.10021840036474433,
            0.14154633894289856,
            0.1258316487146891
           ],
           "y": [
            -0.06681674988568065,
            -0.033235094683985056,
            0.21390739086528332,
            0.2285605520022731,
            0.004781321606190769,
            -0.20192904760296793
           ],
           "z": [
            -1.1218245066889576,
            -1.2548966431996273,
            -1.2357152707303456,
            -1.2728971242817346,
            -1.3756009346926934,
            -1.2545453305158905
           ]
          },
          {
           "line": {
            "color": "red",
            "width": 2
           },
           "mode": "lines",
           "type": "scatter3d",
           "x": [
            -0.040297381579875946,
            -0.22122058272361755
           ],
           "y": [
            -0.04623296484351158,
            -0.034000735729932785
           ],
           "z": [
            -1.0981781482696533,
            -1.2522072792053223
           ]
          },
          {
           "line": {
            "color": "red",
            "width": 2
           },
           "mode": "lines",
           "type": "scatter3d",
           "x": [
            -0.22122058272361755,
            -0.2226639986038208
           ],
           "y": [
            -0.034000735729932785,
            0.21458011865615845
           ],
           "z": [
            -1.2522072792053223,
            -1.2407582998275757
           ]
          },
          {
           "line": {
            "color": "red",
            "width": 2
           },
           "mode": "lines",
           "type": "scatter3d",
           "x": [
            0.09827447682619095,
            0.14174894988536835
           ],
           "y": [
            0.22751319408416748,
            0.0047697992995381355
           ],
           "z": [
            -1.269098162651062,
            -1.371665596961975
           ]
          },
          {
           "line": {
            "color": "red",
            "width": 2
           },
           "mode": "lines",
           "type": "scatter3d",
           "x": [
            0.14174894988536835,
            0.12629498541355133
           ],
           "y": [
            0.0047697992995381355,
            -0.20300519466400146
           ],
           "z": [
            -1.371665596961975,
            -1.2528784275054932
           ]
          },
          {
           "line": {
            "color": "red",
            "width": 2
           },
           "mode": "lines",
           "type": "scatter3d",
           "x": [
            -0.2226639986038208,
            0.09827447682619095
           ],
           "y": [
            0.21458011865615845,
            0.22751319408416748
           ],
           "z": [
            -1.2407582998275757,
            -1.269098162651062
           ]
          },
          {
           "line": {
            "color": "lime",
            "width": 2
           },
           "mode": "lines",
           "type": "scatter3d",
           "x": [
            -0.009749194647421078,
            -0.20696711490409125
           ],
           "y": [
            -0.06681674988568065,
            -0.033235094683985056
           ],
           "z": [
            -1.1218245066889576,
            -1.2548966431996273
           ]
          },
          {
           "line": {
            "color": "lime",
            "width": 2
           },
           "mode": "lines",
           "type": "scatter3d",
           "x": [
            -0.20696711490409125,
            -0.21831746405765778
           ],
           "y": [
            -0.033235094683985056,
            0.21390739086528332
           ],
           "z": [
            -1.2548966431996273,
            -1.2357152707303456
           ]
          },
          {
           "line": {
            "color": "lime",
            "width": 2
           },
           "mode": "lines",
           "type": "scatter3d",
           "x": [
            0.10021840036474433,
            0.14154633894289856
           ],
           "y": [
            0.2285605520022731,
            0.004781321606190769
           ],
           "z": [
            -1.2728971242817346,
            -1.3756009346926934
           ]
          },
          {
           "line": {
            "color": "lime",
            "width": 2
           },
           "mode": "lines",
           "type": "scatter3d",
           "x": [
            0.14154633894289856,
            0.1258316487146891
           ],
           "y": [
            0.004781321606190769,
            -0.20192904760296793
           ],
           "z": [
            -1.3756009346926934,
            -1.2545453305158905
           ]
          },
          {
           "line": {
            "color": "lime",
            "width": 2
           },
           "mode": "lines",
           "type": "scatter3d",
           "x": [
            -0.21831746405765778,
            0.10021840036474433
           ],
           "y": [
            0.21390739086528332,
            0.2285605520022731
           ],
           "z": [
            -1.2357152707303456,
            -1.2728971242817346
           ]
          }
         ],
         "name": "0"
        },
        {
         "data": [
          {
           "marker": {
            "color": "blue",
            "size": 6
           },
           "mode": "markers",
           "type": "scatter3d",
           "x": [
            -0.061128687,
            -0.22928022,
            -0.22453725,
            0.097003594,
            0.14089268,
            0.12560119
           ],
           "y": [
            -0.045800023,
            -0.035083078,
            0.2136028,
            0.22779283,
            0.0042880517,
            -0.20585732
           ],
           "z": [
            -1.0933958,
            -1.2572829,
            -1.2450714,
            -1.2669139,
            -1.3691919,
            -1.2544141
           ]
          },
          {
           "marker": {
            "color": "green",
            "size": 6
           },
           "mode": "markers",
           "type": "scatter3d",
           "x": [
            -0.012700463597695943,
            -0.20881341402396458,
            -0.21783633535083838,
            0.10064620522873166,
            0.14210371664505186,
            0.12617366015646586
           ],
           "y": [
            -0.06653282201292249,
            -0.033235094683985056,
            0.2142179609164685,
            0.2285442501725885,
            0.003321662451398255,
            -0.20391845701908412
           ],
           "z": [
            -1.1206507656579454,
            -1.2553830147690732,
            -1.2371562723072387,
            -1.274702191565753,
            -1.3741517059728192,
            -1.2540302284091647
           ]
          },
          {
           "line": {
            "color": "red",
            "width": 2
           },
           "mode": "lines",
           "type": "scatter3d",
           "x": [
            -0.06112868711352348,
            -0.22928021848201752
           ],
           "y": [
            -0.04580002278089523,
            -0.03508307784795761
           ],
           "z": [
            -1.0933958292007446,
            -1.2572828531265259
           ]
          },
          {
           "line": {
            "color": "red",
            "width": 2
           },
           "mode": "lines",
           "type": "scatter3d",
           "x": [
            -0.22928021848201752,
            -0.22453725337982178
           ],
           "y": [
            -0.03508307784795761,
            0.21360279619693756
           ],
           "z": [
            -1.2572828531265259,
            -1.2450714111328125
           ]
          },
          {
           "line": {
            "color": "red",
            "width": 2
           },
           "mode": "lines",
           "type": "scatter3d",
           "x": [
            0.09700359404087067,
            0.14089268445968628
           ],
           "y": [
            0.22779282927513123,
            0.00428805174306035
           ],
           "z": [
            -1.266913890838623,
            -1.3691918849945068
           ]
          },
          {
           "line": {
            "color": "red",
            "width": 2
           },
           "mode": "lines",
           "type": "scatter3d",
           "x": [
            0.14089268445968628,
            0.12560118734836578
           ],
           "y": [
            0.00428805174306035,
            -0.2058573216199875
           ],
           "z": [
            -1.3691918849945068,
            -1.2544140815734863
           ]
          },
          {
           "line": {
            "color": "red",
            "width": 2
           },
           "mode": "lines",
           "type": "scatter3d",
           "x": [
            -0.22453725337982178,
            0.09700359404087067
           ],
           "y": [
            0.21360279619693756,
            0.22779282927513123
           ],
           "z": [
            -1.2450714111328125,
            -1.266913890838623
           ]
          },
          {
           "line": {
            "color": "lime",
            "width": 2
           },
           "mode": "lines",
           "type": "scatter3d",
           "x": [
            -0.012700463597695943,
            -0.20881341402396458
           ],
           "y": [
            -0.06653282201292249,
            -0.033235094683985056
           ],
           "z": [
            -1.1206507656579454,
            -1.2553830147690732
           ]
          },
          {
           "line": {
            "color": "lime",
            "width": 2
           },
           "mode": "lines",
           "type": "scatter3d",
           "x": [
            -0.20881341402396458,
            -0.21783633535083838
           ],
           "y": [
            -0.033235094683985056,
            0.2142179609164685
           ],
           "z": [
            -1.2553830147690732,
            -1.2371562723072387
           ]
          },
          {
           "line": {
            "color": "lime",
            "width": 2
           },
           "mode": "lines",
           "type": "scatter3d",
           "x": [
            0.10064620522873166,
            0.14210371664505186
           ],
           "y": [
            0.2285442501725885,
            0.003321662451398255
           ],
           "z": [
            -1.274702191565753,
            -1.3741517059728192
           ]
          },
          {
           "line": {
            "color": "lime",
            "width": 2
           },
           "mode": "lines",
           "type": "scatter3d",
           "x": [
            0.14210371664505186,
            0.12617366015646586
           ],
           "y": [
            0.003321662451398255,
            -0.20391845701908412
           ],
           "z": [
            -1.3741517059728192,
            -1.2540302284091647
           ]
          },
          {
           "line": {
            "color": "lime",
            "width": 2
           },
           "mode": "lines",
           "type": "scatter3d",
           "x": [
            -0.21783633535083838,
            0.10064620522873166
           ],
           "y": [
            0.2142179609164685,
            0.2285442501725885
           ],
           "z": [
            -1.2371562723072387,
            -1.274702191565753
           ]
          }
         ],
         "name": "1"
        },
        {
         "data": [
          {
           "marker": {
            "color": "blue",
            "size": 6
           },
           "mode": "markers",
           "type": "scatter3d",
           "x": [
            -0.06309975,
            -0.22954494,
            -0.22401133,
            0.097477145,
            0.14059271,
            0.12441823
           ],
           "y": [
            -0.04423643,
            -0.035651445,
            0.2142388,
            0.22808114,
            0.0013976842,
            -0.2100082
           ],
           "z": [
            -1.089333,
            -1.2558833,
            -1.2441695,
            -1.2670977,
            -1.364318,
            -1.2506523
           ]
          },
          {
           "marker": {
            "color": "green",
            "size": 6
           },
           "mode": "markers",
           "type": "scatter3d",
           "x": [
            -0.013510880777085177,
            -0.20957104889708233,
            -0.21811267734424925,
            0.1005685776646382,
            0.14227741942226527,
            0.12635761500547216
           ],
           "y": [
            -0.06656857521464454,
            -0.033235094683985056,
            0.21540983039062156,
            0.22835066916159197,
            0.003533392289941914,
            -0.2030980289090205
           ],
           "z": [
            -1.1206662603881927,
            -1.2552293522577713,
            -1.2396872042607345,
            -1.2759335041922002,
            -1.376194000194122,
            -1.2550252670495334
           ]
          },
          {
           "line": {
            "color": "red",
            "width": 2
           },
           "mode": "lines",
           "type": "scatter3d",
           "x": [
            -0.06309974938631058,
            -0.22954493761062622
           ],
           "y": [
            -0.044236429035663605,
            -0.035651445388793945
           ],
           "z": [
            -1.0893330574035645,
            -1.2558833360671997
           ]
          },
          {
           "line": {
            "color": "red",
            "width": 2
           },
           "mode": "lines",
           "type": "scatter3d",
           "x": [
            -0.22954493761062622,
            -0.22401133179664612
           ],
           "y": [
            -0.035651445388793945,
            0.21423879265785217
           ],
           "z": [
            -1.2558833360671997,
            -1.2441694736480713
           ]
          },
          {
           "line": {
            "color": "red",
            "width": 2
           },
           "mode": "lines",
           "type": "scatter3d",
           "x": [
            0.09747714549303055,
            0.14059270918369293
           ],
           "y": [
            0.2280811369419098,
            0.0013976842164993286
           ],
           "z": [
            -1.2670977115631104,
            -1.3643180131912231
           ]
          },
          {
           "line": {
            "color": "red",
            "width": 2
           },
           "mode": "lines",
           "type": "scatter3d",
           "x": [
            0.14059270918369293,
            0.1244182288646698
           ],
           "y": [
            0.0013976842164993286,
            -0.21000820398330688
           ],
           "z": [
            -1.3643180131912231,
            -1.2506523132324219
           ]
          },
          {
           "line": {
            "color": "red",
            "width": 2
           },
           "mode": "lines",
           "type": "scatter3d",
           "x": [
            -0.22401133179664612,
            0.09747714549303055
           ],
           "y": [
            0.21423879265785217,
            0.2280811369419098
           ],
           "z": [
            -1.2441694736480713,
            -1.2670977115631104
           ]
          },
          {
           "line": {
            "color": "lime",
            "width": 2
           },
           "mode": "lines",
           "type": "scatter3d",
           "x": [
            -0.013510880777085177,
            -0.20957104889708233
           ],
           "y": [
            -0.06656857521464454,
            -0.033235094683985056
           ],
           "z": [
            -1.1206662603881927,
            -1.2552293522577713
           ]
          },
          {
           "line": {
            "color": "lime",
            "width": 2
           },
           "mode": "lines",
           "type": "scatter3d",
           "x": [
            -0.20957104889708233,
            -0.21811267734424925
           ],
           "y": [
            -0.033235094683985056,
            0.21540983039062156
           ],
           "z": [
            -1.2552293522577713,
            -1.2396872042607345
           ]
          },
          {
           "line": {
            "color": "lime",
            "width": 2
           },
           "mode": "lines",
           "type": "scatter3d",
           "x": [
            0.1005685776646382,
            0.14227741942226527
           ],
           "y": [
            0.22835066916159197,
            0.003533392289941914
           ],
           "z": [
            -1.2759335041922002,
            -1.376194000194122
           ]
          },
          {
           "line": {
            "color": "lime",
            "width": 2
           },
           "mode": "lines",
           "type": "scatter3d",
           "x": [
            0.14227741942226527,
            0.12635761500547216
           ],
           "y": [
            0.003533392289941914,
            -0.2030980289090205
           ],
           "z": [
            -1.376194000194122,
            -1.2550252670495334
           ]
          },
          {
           "line": {
            "color": "lime",
            "width": 2
           },
           "mode": "lines",
           "type": "scatter3d",
           "x": [
            -0.21811267734424925,
            0.1005685776646382
           ],
           "y": [
            0.21540983039062156,
            0.22835066916159197
           ],
           "z": [
            -1.2396872042607345,
            -1.2759335041922002
           ]
          }
         ],
         "name": "2"
        },
        {
         "data": [
          {
           "marker": {
            "color": "blue",
            "size": 6
           },
           "mode": "markers",
           "type": "scatter3d",
           "x": [
            -0.060020912,
            -0.22574963,
            -0.22217816,
            0.09862371,
            0.14085558,
            0.1251177
           ],
           "y": [
            -0.0386511,
            -0.035611466,
            0.21540008,
            0.22765952,
            -0.0017281306,
            -0.21498844
           ],
           "z": [
            -1.0854354,
            -1.2532109,
            -1.2431207,
            -1.2679807,
            -1.3575748,
            -1.2477325
           ]
          },
          {
           "marker": {
            "color": "green",
            "size": 6
           },
           "mode": "markers",
           "type": "scatter3d",
           "x": [
            -0.015360815698966412,
            -0.21133324407574072,
            -0.21819329255469352,
            0.10075286774785719,
            0.14232064786642307,
            0.12639898061239002
           ],
           "y": [
            -0.0660114646665712,
            -0.032321997466386865,
            0.21688047059198967,
            0.22885729373114994,
            0.004407734647923683,
            -0.20312188559968591
           ],
           "z": [
            -1.1220685273896631,
            -1.2565937021415081,
            -1.2427595851319335,
            -1.2769023179183892,
            -1.3780696394848402,
            -1.2584238049153287
           ]
          },
          {
           "line": {
            "color": "red",
            "width": 2
           },
           "mode": "lines",
           "type": "scatter3d",
           "x": [
            -0.06002091243863106,
            -0.22574962675571442
           ],
           "y": [
            -0.03865110129117966,
            -0.03561146557331085
           ],
           "z": [
            -1.085435390472412,
            -1.2532109022140503
           ]
          },
          {
           "line": {
            "color": "red",
            "width": 2
           },
           "mode": "lines",
           "type": "scatter3d",
           "x": [
            -0.22574962675571442,
            -0.2221781611442566
           ],
           "y": [
            -0.03561146557331085,
            0.2154000848531723
           ],
           "z": [
            -1.2532109022140503,
            -1.2431206703186035
           ]
          },
          {
           "line": {
            "color": "red",
            "width": 2
           },
           "mode": "lines",
           "type": "scatter3d",
           "x": [
            0.09862370789051056,
            0.1408555805683136
           ],
           "y": [
            0.22765952348709106,
            -0.0017281306209042668
           ],
           "z": [
            -1.267980694770813,
            -1.3575748205184937
           ]
          },
          {
           "line": {
            "color": "red",
            "width": 2
           },
           "mode": "lines",
           "type": "scatter3d",
           "x": [
            0.1408555805683136,
            0.1251177042722702
           ],
           "y": [
            -0.0017281306209042668,
            -0.21498844027519226
           ],
           "z": [
            -1.3575748205184937,
            -1.2477325201034546
           ]
          },
          {
           "line": {
            "color": "red",
            "width": 2
           },
           "mode": "lines",
           "type": "scatter3d",
           "x": [
            -0.2221781611442566,
            0.09862370789051056
           ],
           "y": [
            0.2154000848531723,
            0.22765952348709106
           ],
           "z": [
            -1.2431206703186035,
            -1.267980694770813
           ]
          },
          {
           "line": {
            "color": "lime",
            "width": 2
           },
           "mode": "lines",
           "type": "scatter3d",
           "x": [
            -0.015360815698966412,
            -0.21133324407574072
           ],
           "y": [
            -0.0660114646665712,
            -0.032321997466386865
           ],
           "z": [
            -1.1220685273896631,
            -1.2565937021415081
           ]
          },
          {
           "line": {
            "color": "lime",
            "width": 2
           },
           "mode": "lines",
           "type": "scatter3d",
           "x": [
            -0.21133324407574072,
            -0.21819329255469352
           ],
           "y": [
            -0.032321997466386865,
            0.21688047059198967
           ],
           "z": [
            -1.2565937021415081,
            -1.2427595851319335
           ]
          },
          {
           "line": {
            "color": "lime",
            "width": 2
           },
           "mode": "lines",
           "type": "scatter3d",
           "x": [
            0.10075286774785719,
            0.14232064786642307
           ],
           "y": [
            0.22885729373114994,
            0.004407734647923683
           ],
           "z": [
            -1.2769023179183892,
            -1.3780696394848402
           ]
          },
          {
           "line": {
            "color": "lime",
            "width": 2
           },
           "mode": "lines",
           "type": "scatter3d",
           "x": [
            0.14232064786642307,
            0.12639898061239002
           ],
           "y": [
            0.004407734647923683,
            -0.20312188559968591
           ],
           "z": [
            -1.3780696394848402,
            -1.2584238049153287
           ]
          },
          {
           "line": {
            "color": "lime",
            "width": 2
           },
           "mode": "lines",
           "type": "scatter3d",
           "x": [
            -0.21819329255469352,
            0.10075286774785719
           ],
           "y": [
            0.21688047059198967,
            0.22885729373114994
           ],
           "z": [
            -1.2427595851319335,
            -1.2769023179183892
           ]
          }
         ],
         "name": "3"
        },
        {
         "data": [
          {
           "marker": {
            "color": "blue",
            "size": 6
           },
           "mode": "markers",
           "type": "scatter3d",
           "x": [
            -0.05752793,
            -0.22166212,
            -0.2211455,
            0.098718196,
            0.14073677,
            0.1240528
           ],
           "y": [
            -0.038592648,
            -0.033895947,
            0.21684776,
            0.22761713,
            -0.0023064092,
            -0.2142558
           ],
           "z": [
            -1.0832083,
            -1.251635,
            -1.2449076,
            -1.2683567,
            -1.3558758,
            -1.2440038
           ]
          },
          {
           "marker": {
            "color": "green",
            "size": 6
           },
           "mode": "markers",
           "type": "scatter3d",
           "x": [
            -0.01918992261319996,
            -0.21416202095449588,
            -0.21863241496074998,
            0.09979865703603896,
            0.14380356687412765,
            0.12885712092938628
           ],
           "y": [
            -0.06846316513003287,
            -0.031851780117246556,
            0.21729157862208082,
            0.22840526701939612,
            0.0034436573715418695,
            -0.20456115899480698
           ],
           "z": [
            -1.1196358182253672,
            -1.2548118840557905,
            -1.2394152887935412,
            -1.275620699055914,
            -1.3745415210884904,
            -1.255639552565854
           ]
          },
          {
           "line": {
            "color": "red",
            "width": 2
           },
           "mode": "lines",
           "type": "scatter3d",
           "x": [
            -0.05752792954444885,
            -0.22166211903095245
           ],
           "y": [
            -0.03859264776110649,
            -0.03389594703912735
           ],
           "z": [
            -1.0832083225250244,
            -1.251634955406189
           ]
          },
          {
           "line": {
            "color": "red",
            "width": 2
           },
           "mode": "lines",
           "type": "scatter3d",
           "x": [
            -0.22166211903095245,
            -0.22114549577236176
           ],
           "y": [
            -0.03389594703912735,
            0.216847762465477
           ],
           "z": [
            -1.251634955406189,
            -1.2449076175689697
           ]
          },
          {
           "line": {
            "color": "red",
            "width": 2
           },
           "mode": "lines",
           "type": "scatter3d",
           "x": [
            0.09871819615364075,
            0.14073677361011505
           ],
           "y": [
            0.22761712968349457,
            -0.002306409180164337
           ],
           "z": [
            -1.2683566808700562,
            -1.355875849723816
           ]
          },
          {
           "line": {
            "color": "red",
            "width": 2
           },
           "mode": "lines",
           "type": "scatter3d",
           "x": [
            0.14073677361011505,
            0.12405280023813248
           ],
           "y": [
            -0.002306409180164337,
            -0.21425579488277435
           ],
           "z": [
            -1.355875849723816,
            -1.2440037727355957
           ]
          },
          {
           "line": {
            "color": "red",
            "width": 2
           },
           "mode": "lines",
           "type": "scatter3d",
           "x": [
            -0.22114549577236176,
            0.09871819615364075
           ],
           "y": [
            0.216847762465477,
            0.22761712968349457
           ],
           "z": [
            -1.2449076175689697,
            -1.2683566808700562
           ]
          },
          {
           "line": {
            "color": "lime",
            "width": 2
           },
           "mode": "lines",
           "type": "scatter3d",
           "x": [
            -0.01918992261319996,
            -0.21416202095449588
           ],
           "y": [
            -0.06846316513003287,
            -0.031851780117246556
           ],
           "z": [
            -1.1196358182253672,
            -1.2548118840557905
           ]
          },
          {
           "line": {
            "color": "lime",
            "width": 2
           },
           "mode": "lines",
           "type": "scatter3d",
           "x": [
            -0.21416202095449588,
            -0.21863241496074998
           ],
           "y": [
            -0.031851780117246556,
            0.21729157862208082
           ],
           "z": [
            -1.2548118840557905,
            -1.2394152887935412
           ]
          },
          {
           "line": {
            "color": "lime",
            "width": 2
           },
           "mode": "lines",
           "type": "scatter3d",
           "x": [
            0.09979865703603896,
            0.14380356687412765
           ],
           "y": [
            0.22840526701939612,
            0.0034436573715418695
           ],
           "z": [
            -1.275620699055914,
            -1.3745415210884904
           ]
          },
          {
           "line": {
            "color": "lime",
            "width": 2
           },
           "mode": "lines",
           "type": "scatter3d",
           "x": [
            0.14380356687412765,
            0.12885712092938628
           ],
           "y": [
            0.0034436573715418695,
            -0.20456115899480698
           ],
           "z": [
            -1.3745415210884904,
            -1.255639552565854
           ]
          },
          {
           "line": {
            "color": "lime",
            "width": 2
           },
           "mode": "lines",
           "type": "scatter3d",
           "x": [
            -0.21863241496074998,
            0.09979865703603896
           ],
           "y": [
            0.21729157862208082,
            0.22840526701939612
           ],
           "z": [
            -1.2394152887935412,
            -1.275620699055914
           ]
          }
         ],
         "name": "4"
        },
        {
         "data": [
          {
           "marker": {
            "color": "blue",
            "size": 6
           },
           "mode": "markers",
           "type": "scatter3d",
           "x": [
            -0.05899202,
            -0.22078171,
            -0.22037922,
            0.0995221,
            0.14057025,
            0.123655334
           ],
           "y": [
            -0.035119783,
            -0.032664705,
            0.21772163,
            0.22810163,
            -0.002363493,
            -0.21484286
           ],
           "z": [
            -1.0798496,
            -1.2487233,
            -1.2455684,
            -1.2689632,
            -1.3544301,
            -1.2432578
           ]
          },
          {
           "marker": {
            "color": "green",
            "size": 6
           },
           "mode": "markers",
           "type": "scatter3d",
           "x": [
            -0.023347059500056666,
            -0.21629503519308635,
            -0.21825779964644115,
            0.1003899202059986,
            0.14410714812458197,
            0.1290750055404422
           ],
           "y": [
            -0.06800519803628641,
            -0.033235094683985056,
            0.21589736645853397,
            0.22711239748191403,
            0.0033463240165792496,
            -0.20602120459165182
           ],
           "z": [
            -1.1149296742822044,
            -1.2534534918556268,
            -1.2375298733457747,
            -1.2714699505566296,
            -1.373185039278475,
            -1.2567145830635607
           ]
          },
          {
           "line": {
            "color": "red",
            "width": 2
           },
           "mode": "lines",
           "type": "scatter3d",
           "x": [
            -0.05899202078580856,
            -0.22078171372413635
           ],
           "y": [
            -0.035119783133268356,
            -0.032664705067873
           ],
           "z": [
            -1.0798496007919312,
            -1.2487232685089111
           ]
          },
          {
           "line": {
            "color": "red",
            "width": 2
           },
           "mode": "lines",
           "type": "scatter3d",
           "x": [
            -0.22078171372413635,
            -0.22037921845912933
           ],
           "y": [
            -0.032664705067873,
            0.217721626162529
           ],
           "z": [
            -1.2487232685089111,
            -1.2455683946609497
           ]
          },
          {
           "line": {
            "color": "red",
            "width": 2
           },
           "mode": "lines",
           "type": "scatter3d",
           "x": [
            0.09952209889888763,
            0.1405702531337738
           ],
           "y": [
            0.22810162603855133,
            -0.0023634929675608873
           ],
           "z": [
            -1.2689632177352905,
            -1.354430079460144
           ]
          },
          {
           "line": {
            "color": "red",
            "width": 2
           },
           "mode": "lines",
           "type": "scatter3d",
           "x": [
            0.1405702531337738,
            0.12365533411502838
           ],
           "y": [
            -0.0023634929675608873,
            -0.21484285593032837
           ],
           "z": [
            -1.354430079460144,
            -1.243257761001587
           ]
          },
          {
           "line": {
            "color": "red",
            "width": 2
           },
           "mode": "lines",
           "type": "scatter3d",
           "x": [
            -0.22037921845912933,
            0.09952209889888763
           ],
           "y": [
            0.217721626162529,
            0.22810162603855133
           ],
           "z": [
            -1.2455683946609497,
            -1.2689632177352905
           ]
          },
          {
           "line": {
            "color": "lime",
            "width": 2
           },
           "mode": "lines",
           "type": "scatter3d",
           "x": [
            -0.023347059500056666,
            -0.21629503519308635
           ],
           "y": [
            -0.06800519803628641,
            -0.033235094683985056
           ],
           "z": [
            -1.1149296742822044,
            -1.2534534918556268
           ]
          },
          {
           "line": {
            "color": "lime",
            "width": 2
           },
           "mode": "lines",
           "type": "scatter3d",
           "x": [
            -0.21629503519308635,
            -0.21825779964644115
           ],
           "y": [
            -0.033235094683985056,
            0.21589736645853397
           ],
           "z": [
            -1.2534534918556268,
            -1.2375298733457747
           ]
          },
          {
           "line": {
            "color": "lime",
            "width": 2
           },
           "mode": "lines",
           "type": "scatter3d",
           "x": [
            0.1003899202059986,
            0.14410714812458197
           ],
           "y": [
            0.22711239748191403,
            0.0033463240165792496
           ],
           "z": [
            -1.2714699505566296,
            -1.373185039278475
           ]
          },
          {
           "line": {
            "color": "lime",
            "width": 2
           },
           "mode": "lines",
           "type": "scatter3d",
           "x": [
            0.14410714812458197,
            0.1290750055404422
           ],
           "y": [
            0.0033463240165792496,
            -0.20602120459165182
           ],
           "z": [
            -1.373185039278475,
            -1.2567145830635607
           ]
          },
          {
           "line": {
            "color": "lime",
            "width": 2
           },
           "mode": "lines",
           "type": "scatter3d",
           "x": [
            -0.21825779964644115,
            0.1003899202059986
           ],
           "y": [
            0.21589736645853397,
            0.22711239748191403
           ],
           "z": [
            -1.2375298733457747,
            -1.2714699505566296
           ]
          }
         ],
         "name": "5"
        },
        {
         "data": [
          {
           "marker": {
            "color": "blue",
            "size": 6
           },
           "mode": "markers",
           "type": "scatter3d",
           "x": [
            -0.055693775,
            -0.2206178,
            -0.22103007,
            0.09822277,
            0.14186445,
            0.1250985
           ],
           "y": [
            -0.040023338,
            -0.03252773,
            0.21696621,
            0.22764373,
            -0.0028650505,
            -0.21586438
           ],
           "z": [
            -1.0767924,
            -1.243938,
            -1.2390133,
            -1.2671118,
            -1.3485086,
            -1.2402797
           ]
          },
          {
           "marker": {
            "color": "green",
            "size": 6
           },
           "mode": "markers",
           "type": "scatter3d",
           "x": [
            -0.028166077671549772,
            -0.21785981996213621,
            -0.21762883658259238,
            0.10118149222086112,
            0.14288362886357642,
            0.12785610551014787
           ],
           "y": [
            -0.06873217064419374,
            -0.033235094683985056,
            0.2144096346141211,
            0.226417571385654,
            0.0026072133857826807,
            -0.20649679007059324
           ],
           "z": [
            -1.1098179834657147,
            -1.2529667605389223,
            -1.2392327782412504,
            -1.2710804939942086,
            -1.3735227583222986,
            -1.2565943006347915
           ]
          },
          {
           "line": {
            "color": "red",
            "width": 2
           },
           "mode": "lines",
           "type": "scatter3d",
           "x": [
            -0.05569377541542053,
            -0.22061780095100403
           ],
           "y": [
            -0.04002333804965019,
            -0.032527729868888855
           ],
           "z": [
            -1.0767923593521118,
            -1.2439379692077637
           ]
          },
          {
           "line": {
            "color": "red",
            "width": 2
           },
           "mode": "lines",
           "type": "scatter3d",
           "x": [
            -0.22061780095100403,
            -0.2210300713777542
           ],
           "y": [
            -0.032527729868888855,
            0.21696621179580688
           ],
           "z": [
            -1.2439379692077637,
            -1.2390133142471313
           ]
          },
          {
           "line": {
            "color": "red",
            "width": 2
           },
           "mode": "lines",
           "type": "scatter3d",
           "x": [
            0.0982227697968483,
            0.14186444878578186
           ],
           "y": [
            0.22764372825622559,
            -0.0028650504536926746
           ],
           "z": [
            -1.2671117782592773,
            -1.348508596420288
           ]
          },
          {
           "line": {
            "color": "red",
            "width": 2
           },
           "mode": "lines",
           "type": "scatter3d",
           "x": [
            0.14186444878578186,
            0.12509849667549133
           ],
           "y": [
            -0.0028650504536926746,
            -0.2158643752336502
           ],
           "z": [
            -1.348508596420288,
            -1.2402796745300293
           ]
          },
          {
           "line": {
            "color": "red",
            "width": 2
           },
           "mode": "lines",
           "type": "scatter3d",
           "x": [
            -0.2210300713777542,
            0.0982227697968483
           ],
           "y": [
            0.21696621179580688,
            0.22764372825622559
           ],
           "z": [
            -1.2390133142471313,
            -1.2671117782592773
           ]
          },
          {
           "line": {
            "color": "lime",
            "width": 2
           },
           "mode": "lines",
           "type": "scatter3d",
           "x": [
            -0.028166077671549772,
            -0.21785981996213621
           ],
           "y": [
            -0.06873217064419374,
            -0.033235094683985056
           ],
           "z": [
            -1.1098179834657147,
            -1.2529667605389223
           ]
          },
          {
           "line": {
            "color": "lime",
            "width": 2
           },
           "mode": "lines",
           "type": "scatter3d",
           "x": [
            -0.21785981996213621,
            -0.21762883658259238
           ],
           "y": [
            -0.033235094683985056,
            0.2144096346141211
           ],
           "z": [
            -1.2529667605389223,
            -1.2392327782412504
           ]
          },
          {
           "line": {
            "color": "lime",
            "width": 2
           },
           "mode": "lines",
           "type": "scatter3d",
           "x": [
            0.10118149222086112,
            0.14288362886357642
           ],
           "y": [
            0.226417571385654,
            0.0026072133857826807
           ],
           "z": [
            -1.2710804939942086,
            -1.3735227583222986
           ]
          },
          {
           "line": {
            "color": "lime",
            "width": 2
           },
           "mode": "lines",
           "type": "scatter3d",
           "x": [
            0.14288362886357642,
            0.12785610551014787
           ],
           "y": [
            0.0026072133857826807,
            -0.20649679007059324
           ],
           "z": [
            -1.3735227583222986,
            -1.2565943006347915
           ]
          },
          {
           "line": {
            "color": "lime",
            "width": 2
           },
           "mode": "lines",
           "type": "scatter3d",
           "x": [
            -0.21762883658259238,
            0.10118149222086112
           ],
           "y": [
            0.2144096346141211,
            0.226417571385654
           ],
           "z": [
            -1.2392327782412504,
            -1.2710804939942086
           ]
          }
         ],
         "name": "6"
        },
        {
         "data": [
          {
           "marker": {
            "color": "blue",
            "size": 6
           },
           "mode": "markers",
           "type": "scatter3d",
           "x": [
            -0.06286832,
            -0.22214775,
            -0.2209059,
            0.09891824,
            0.14092131,
            0.12391317
           ],
           "y": [
            -0.03673886,
            -0.032671064,
            0.21518628,
            0.22679895,
            -0.0023625938,
            -0.21734834
           ],
           "z": [
            -1.0804306,
            -1.2465416,
            -1.2390174,
            -1.2621939,
            -1.3486397,
            -1.2435681
           ]
          },
          {
           "marker": {
            "color": "green",
            "size": 6
           },
           "mode": "markers",
           "type": "scatter3d",
           "x": [
            -0.032044490830015704,
            -0.21913726644843834,
            -0.2183121443852214,
            0.10076572743667822,
            0.14080254720895993,
            0.12613840401196874
           ],
           "y": [
            -0.06990640179016905,
            -0.033235094683985056,
            0.21461081508514668,
            0.22762984033464972,
            0.0024812826246230907,
            -0.2071043402440354
           ],
           "z": [
            -1.108764646104464,
            -1.2549518358257767,
            -1.2420206074390236,
            -1.2725321052656398,
            -1.3726397747952124,
            -1.2565627097358814
           ]
          },
          {
           "line": {
            "color": "red",
            "width": 2
           },
           "mode": "lines",
           "type": "scatter3d",
           "x": [
            -0.06286831945180893,
            -0.22214774787425995
           ],
           "y": [
            -0.036738861352205276,
            -0.032671064138412476
           ],
           "z": [
            -1.0804306268692017,
            -1.2465416193008423
           ]
          },
          {
           "line": {
            "color": "red",
            "width": 2
           },
           "mode": "lines",
           "type": "scatter3d",
           "x": [
            -0.22214774787425995,
            -0.22090590000152588
           ],
           "y": [
            -0.032671064138412476,
            0.21518628299236298
           ],
           "z": [
            -1.2465416193008423,
            -1.239017367362976
           ]
          },
          {
           "line": {
            "color": "red",
            "width": 2
           },
           "mode": "lines",
           "type": "scatter3d",
           "x": [
            0.09891823679208755,
            0.14092130959033966
           ],
           "y": [
            0.22679895162582397,
            -0.002362593775615096
           ],
           "z": [
            -1.2621939182281494,
            -1.348639726638794
           ]
          },
          {
           "line": {
            "color": "red",
            "width": 2
           },
           "mode": "lines",
           "type": "scatter3d",
           "x": [
            0.14092130959033966,
            0.12391316890716553
           ],
           "y": [
            -0.002362593775615096,
            -0.21734833717346191
           ],
           "z": [
            -1.348639726638794,
            -1.2435680627822876
           ]
          },
          {
           "line": {
            "color": "red",
            "width": 2
           },
           "mode": "lines",
           "type": "scatter3d",
           "x": [
            -0.22090590000152588,
            0.09891823679208755
           ],
           "y": [
            0.21518628299236298,
            0.22679895162582397
           ],
           "z": [
            -1.239017367362976,
            -1.2621939182281494
           ]
          },
          {
           "line": {
            "color": "lime",
            "width": 2
           },
           "mode": "lines",
           "type": "scatter3d",
           "x": [
            -0.032044490830015704,
            -0.21913726644843834
           ],
           "y": [
            -0.06990640179016905,
            -0.033235094683985056
           ],
           "z": [
            -1.108764646104464,
            -1.2549518358257767
           ]
          },
          {
           "line": {
            "color": "lime",
            "width": 2
           },
           "mode": "lines",
           "type": "scatter3d",
           "x": [
            -0.21913726644843834,
            -0.2183121443852214
           ],
           "y": [
            -0.033235094683985056,
            0.21461081508514668
           ],
           "z": [
            -1.2549518358257767,
            -1.2420206074390236
           ]
          },
          {
           "line": {
            "color": "lime",
            "width": 2
           },
           "mode": "lines",
           "type": "scatter3d",
           "x": [
            0.10076572743667822,
            0.14080254720895993
           ],
           "y": [
            0.22762984033464972,
            0.0024812826246230907
           ],
           "z": [
            -1.2725321052656398,
            -1.3726397747952124
           ]
          },
          {
           "line": {
            "color": "lime",
            "width": 2
           },
           "mode": "lines",
           "type": "scatter3d",
           "x": [
            0.14080254720895993,
            0.12613840401196874
           ],
           "y": [
            0.0024812826246230907,
            -0.2071043402440354
           ],
           "z": [
            -1.3726397747952124,
            -1.2565627097358814
           ]
          },
          {
           "line": {
            "color": "lime",
            "width": 2
           },
           "mode": "lines",
           "type": "scatter3d",
           "x": [
            -0.2183121443852214,
            0.10076572743667822
           ],
           "y": [
            0.21461081508514668,
            0.22762984033464972
           ],
           "z": [
            -1.2420206074390236,
            -1.2725321052656398
           ]
          }
         ],
         "name": "7"
        },
        {
         "data": [
          {
           "marker": {
            "color": "blue",
            "size": 6
           },
           "mode": "markers",
           "type": "scatter3d",
           "x": [
            -0.06785342,
            -0.22315542,
            -0.22125213,
            0.098827794,
            0.13918376,
            0.122033566
           ],
           "y": [
            -0.037307218,
            -0.033646088,
            0.21470614,
            0.22689666,
            -0.002619458,
            -0.21695772
           ],
           "z": [
            -1.0815734,
            -1.2484283,
            -1.241539,
            -1.2630624,
            -1.3496305,
            -1.2435943
           ]
          },
          {
           "marker": {
            "color": "green",
            "size": 6
           },
           "mode": "markers",
           "type": "scatter3d",
           "x": [
            -0.034912659743495666,
            -0.22062736766018265,
            -0.2193335294450819,
            0.10005942736808515,
            0.13906618958155118,
            0.12718521053465567
           ],
           "y": [
            -0.07143489467588227,
            -0.033235094683985056,
            0.21309180550056483,
            0.22748732569551322,
            0.0032045105029786664,
            -0.2113158703316218
           ],
           "z": [
            -1.107753277187748,
            -1.255486131109473,
            -1.24441742868167,
            -1.2721115352247407,
            -1.3742440933764133,
            -1.2674806116556907
           ]
          },
          {
           "line": {
            "color": "red",
            "width": 2
           },
           "mode": "lines",
           "type": "scatter3d",
           "x": [
            -0.0678534209728241,
            -0.2231554239988327
           ],
           "y": [
            -0.037307217717170715,
            -0.03364608809351921
           ],
           "z": [
            -1.0815733671188354,
            -1.2484283447265625
           ]
          },
          {
           "line": {
            "color": "red",
            "width": 2
           },
           "mode": "lines",
           "type": "scatter3d",
           "x": [
            -0.2231554239988327,
            -0.22125212848186493
           ],
           "y": [
            -0.03364608809351921,
            0.21470613777637482
           ],
           "z": [
            -1.2484283447265625,
            -1.2415390014648438
           ]
          },
          {
           "line": {
            "color": "red",
            "width": 2
           },
           "mode": "lines",
           "type": "scatter3d",
           "x": [
            0.0988277941942215,
            0.13918375968933105
           ],
           "y": [
            0.22689665853977203,
            -0.002619457896798849
           ],
           "z": [
            -1.2630623579025269,
            -1.3496304750442505
           ]
          },
          {
           "line": {
            "color": "red",
            "width": 2
           },
           "mode": "lines",
           "type": "scatter3d",
           "x": [
            0.13918375968933105,
            0.12203356623649597
           ],
           "y": [
            -0.002619457896798849,
            -0.2169577181339264
           ],
           "z": [
            -1.3496304750442505,
            -1.2435942888259888
           ]
          },
          {
           "line": {
            "color": "red",
            "width": 2
           },
           "mode": "lines",
           "type": "scatter3d",
           "x": [
            -0.22125212848186493,
            0.0988277941942215
           ],
           "y": [
            0.21470613777637482,
            0.22689665853977203
           ],
           "z": [
            -1.2415390014648438,
            -1.2630623579025269
           ]
          },
          {
           "line": {
            "color": "lime",
            "width": 2
           },
           "mode": "lines",
           "type": "scatter3d",
           "x": [
            -0.034912659743495666,
            -0.22062736766018265
           ],
           "y": [
            -0.07143489467588227,
            -0.033235094683985056
           ],
           "z": [
            -1.107753277187748,
            -1.255486131109473
           ]
          },
          {
           "line": {
            "color": "lime",
            "width": 2
           },
           "mode": "lines",
           "type": "scatter3d",
           "x": [
            -0.22062736766018265,
            -0.2193335294450819
           ],
           "y": [
            -0.033235094683985056,
            0.21309180550056483
           ],
           "z": [
            -1.255486131109473,
            -1.24441742868167
           ]
          },
          {
           "line": {
            "color": "lime",
            "width": 2
           },
           "mode": "lines",
           "type": "scatter3d",
           "x": [
            0.10005942736808515,
            0.13906618958155118
           ],
           "y": [
            0.22748732569551322,
            0.0032045105029786664
           ],
           "z": [
            -1.2721115352247407,
            -1.3742440933764133
           ]
          },
          {
           "line": {
            "color": "lime",
            "width": 2
           },
           "mode": "lines",
           "type": "scatter3d",
           "x": [
            0.13906618958155118,
            0.12718521053465567
           ],
           "y": [
            0.0032045105029786664,
            -0.2113158703316218
           ],
           "z": [
            -1.3742440933764133,
            -1.2674806116556907
           ]
          },
          {
           "line": {
            "color": "lime",
            "width": 2
           },
           "mode": "lines",
           "type": "scatter3d",
           "x": [
            -0.2193335294450819,
            0.10005942736808515
           ],
           "y": [
            0.21309180550056483,
            0.22748732569551322
           ],
           "z": [
            -1.24441742868167,
            -1.2721115352247407
           ]
          }
         ],
         "name": "8"
        },
        {
         "data": [
          {
           "marker": {
            "color": "blue",
            "size": 6
           },
           "mode": "markers",
           "type": "scatter3d",
           "x": [
            -0.07143281,
            -0.22354308,
            -0.2222911,
            0.09773702,
            0.13754396,
            0.12144849
           ],
           "y": [
            -0.039591666,
            -0.03334838,
            0.21584451,
            0.22829162,
            -0.002100895,
            -0.21726066
           ],
           "z": [
            -1.0775936,
            -1.2483362,
            -1.244449,
            -1.2654581,
            -1.3503076,
            -1.2459737
           ]
          },
          {
           "marker": {
            "color": "green",
            "size": 6
           },
           "mode": "markers",
           "type": "scatter3d",
           "x": [
            -0.03783048518237475,
            -0.22179546874732825,
            -0.2197455613881104,
            0.09981940683864829,
            0.1394209861684751,
            0.12751927966821877
           ],
           "y": [
            -0.07202174917629778,
            -0.033235094683985056,
            0.21314804264635945,
            0.22811196745567086,
            0.004014626126193667,
            -0.21193569912042376
           ],
           "z": [
            -1.1059931525141362,
            -1.2555813800799172,
            -1.2442219263733545,
            -1.2699639799219469,
            -1.3720540991447816,
            -1.2684165240975815
           ]
          },
          {
           "line": {
            "color": "red",
            "width": 2
           },
           "mode": "lines",
           "type": "scatter3d",
           "x": [
            -0.07143280655145645,
            -0.22354307770729065
           ],
           "y": [
            -0.03959166631102562,
            -0.03334838151931763
           ],
           "z": [
            -1.0775935649871826,
            -1.2483361959457397
           ]
          },
          {
           "line": {
            "color": "red",
            "width": 2
           },
           "mode": "lines",
           "type": "scatter3d",
           "x": [
            -0.22354307770729065,
            -0.22229109704494476
           ],
           "y": [
            -0.03334838151931763,
            0.2158445119857788
           ],
           "z": [
            -1.2483361959457397,
            -1.2444490194320679
           ]
          },
          {
           "line": {
            "color": "red",
            "width": 2
           },
           "mode": "lines",
           "type": "scatter3d",
           "x": [
            0.09773702174425125,
            0.1375439614057541
           ],
           "y": [
            0.2282916158437729,
            -0.0021008949261158705
           ],
           "z": [
            -1.265458106994629,
            -1.350307583808899
           ]
          },
          {
           "line": {
            "color": "red",
            "width": 2
           },
           "mode": "lines",
           "type": "scatter3d",
           "x": [
            0.1375439614057541,
            0.12144848704338074
           ],
           "y": [
            -0.0021008949261158705,
            -0.21726065874099731
           ],
           "z": [
            -1.350307583808899,
            -1.2459737062454224
           ]
          },
          {
           "line": {
            "color": "red",
            "width": 2
           },
           "mode": "lines",
           "type": "scatter3d",
           "x": [
            -0.22229109704494476,
            0.09773702174425125
           ],
           "y": [
            0.2158445119857788,
            0.2282916158437729
           ],
           "z": [
            -1.2444490194320679,
            -1.265458106994629
           ]
          },
          {
           "line": {
            "color": "lime",
            "width": 2
           },
           "mode": "lines",
           "type": "scatter3d",
           "x": [
            -0.03783048518237475,
            -0.22179546874732825
           ],
           "y": [
            -0.07202174917629778,
            -0.033235094683985056
           ],
           "z": [
            -1.1059931525141362,
            -1.2555813800799172
           ]
          },
          {
           "line": {
            "color": "lime",
            "width": 2
           },
           "mode": "lines",
           "type": "scatter3d",
           "x": [
            -0.22179546874732825,
            -0.2197455613881104
           ],
           "y": [
            -0.033235094683985056,
            0.21314804264635945
           ],
           "z": [
            -1.2555813800799172,
            -1.2442219263733545
           ]
          },
          {
           "line": {
            "color": "lime",
            "width": 2
           },
           "mode": "lines",
           "type": "scatter3d",
           "x": [
            0.09981940683864829,
            0.1394209861684751
           ],
           "y": [
            0.22811196745567086,
            0.004014626126193667
           ],
           "z": [
            -1.2699639799219469,
            -1.3720540991447816
           ]
          },
          {
           "line": {
            "color": "lime",
            "width": 2
           },
           "mode": "lines",
           "type": "scatter3d",
           "x": [
            0.1394209861684751,
            0.12751927966821877
           ],
           "y": [
            0.004014626126193667,
            -0.21193569912042376
           ],
           "z": [
            -1.3720540991447816,
            -1.2684165240975815
           ]
          },
          {
           "line": {
            "color": "lime",
            "width": 2
           },
           "mode": "lines",
           "type": "scatter3d",
           "x": [
            -0.2197455613881104,
            0.09981940683864829
           ],
           "y": [
            0.21314804264635945,
            0.22811196745567086
           ],
           "z": [
            -1.2442219263733545,
            -1.2699639799219469
           ]
          }
         ],
         "name": "9"
        },
        {
         "data": [
          {
           "marker": {
            "color": "blue",
            "size": 6
           },
           "mode": "markers",
           "type": "scatter3d",
           "x": [
            -0.07548179,
            -0.22595151,
            -0.22415955,
            0.096090585,
            0.13665925,
            0.1226065
           ],
           "y": [
            -0.038275972,
            -0.03430356,
            0.2141377,
            0.22759268,
            -0.0009059844,
            -0.22085889
           ],
           "z": [
            -1.076355,
            -1.2475004,
            -1.2448466,
            -1.2629738,
            -1.3533524,
            -1.2575165
           ]
          },
          {
           "marker": {
            "color": "green",
            "size": 6
           },
           "mode": "markers",
           "type": "scatter3d",
           "x": [
            -0.041763692323351975,
            -0.22259861116819124,
            -0.21950030325675535,
            0.10016512124588589,
            0.14073099187370747,
            0.12989994891717904
           ],
           "y": [
            -0.07409792651616376,
            -0.033235094683985056,
            0.21443991358515824,
            0.22946791351161275,
            0.0047966707002737585,
            -0.2133304923782413
           ],
           "z": [
            -1.1045902951792668,
            -1.256862046699469,
            -1.2442452908355257,
            -1.2687146664731959,
            -1.368819237046548,
            -1.270033836279294
           ]
          },
          {
           "line": {
            "color": "red",
            "width": 2
           },
           "mode": "lines",
           "type": "scatter3d",
           "x": [
            -0.07548178732395172,
            -0.22595150768756866
           ],
           "y": [
            -0.03827597200870514,
            -0.034303560853004456
           ],
           "z": [
            -1.07635498046875,
            -1.2475004196166992
           ]
          },
          {
           "line": {
            "color": "red",
            "width": 2
           },
           "mode": "lines",
           "type": "scatter3d",
           "x": [
            -0.22595150768756866,
            -0.22415955364704132
           ],
           "y": [
            -0.034303560853004456,
            0.2141377031803131
           ],
           "z": [
            -1.2475004196166992,
            -1.2448465824127197
           ]
          },
          {
           "line": {
            "color": "red",
            "width": 2
           },
           "mode": "lines",
           "type": "scatter3d",
           "x": [
            0.09609058499336243,
            0.13665924966335297
           ],
           "y": [
            0.22759267687797546,
            -0.0009059843723662198
           ],
           "z": [
            -1.2629737854003906,
            -1.353352427482605
           ]
          },
          {
           "line": {
            "color": "red",
            "width": 2
           },
           "mode": "lines",
           "type": "scatter3d",
           "x": [
            0.13665924966335297,
            0.12260650098323822
           ],
           "y": [
            -0.0009059843723662198,
            -0.2208588868379593
           ],
           "z": [
            -1.353352427482605,
            -1.2575165033340454
           ]
          },
          {
           "line": {
            "color": "red",
            "width": 2
           },
           "mode": "lines",
           "type": "scatter3d",
           "x": [
            -0.22415955364704132,
            0.09609058499336243
           ],
           "y": [
            0.2141377031803131,
            0.22759267687797546
           ],
           "z": [
            -1.2448465824127197,
            -1.2629737854003906
           ]
          },
          {
           "line": {
            "color": "lime",
            "width": 2
           },
           "mode": "lines",
           "type": "scatter3d",
           "x": [
            -0.041763692323351975,
            -0.22259861116819124
           ],
           "y": [
            -0.07409792651616376,
            -0.033235094683985056
           ],
           "z": [
            -1.1045902951792668,
            -1.256862046699469
           ]
          },
          {
           "line": {
            "color": "lime",
            "width": 2
           },
           "mode": "lines",
           "type": "scatter3d",
           "x": [
            -0.22259861116819124,
            -0.21950030325675535
           ],
           "y": [
            -0.033235094683985056,
            0.21443991358515824
           ],
           "z": [
            -1.256862046699469,
            -1.2442452908355257
           ]
          },
          {
           "line": {
            "color": "lime",
            "width": 2
           },
           "mode": "lines",
           "type": "scatter3d",
           "x": [
            0.10016512124588589,
            0.14073099187370747
           ],
           "y": [
            0.22946791351161275,
            0.0047966707002737585
           ],
           "z": [
            -1.2687146664731959,
            -1.368819237046548
           ]
          },
          {
           "line": {
            "color": "lime",
            "width": 2
           },
           "mode": "lines",
           "type": "scatter3d",
           "x": [
            0.14073099187370747,
            0.12989994891717904
           ],
           "y": [
            0.0047966707002737585,
            -0.2133304923782413
           ],
           "z": [
            -1.368819237046548,
            -1.270033836279294
           ]
          },
          {
           "line": {
            "color": "lime",
            "width": 2
           },
           "mode": "lines",
           "type": "scatter3d",
           "x": [
            -0.21950030325675535,
            0.10016512124588589
           ],
           "y": [
            0.21443991358515824,
            0.22946791351161275
           ],
           "z": [
            -1.2442452908355257,
            -1.2687146664731959
           ]
          }
         ],
         "name": "10"
        },
        {
         "data": [
          {
           "marker": {
            "color": "blue",
            "size": 6
           },
           "mode": "markers",
           "type": "scatter3d",
           "x": [
            -0.07381208,
            -0.22576557,
            -0.22342479,
            0.097367205,
            0.13899599,
            0.12303626
           ],
           "y": [
            -0.038164645,
            -0.033428635,
            0.21540776,
            0.2283787,
            -7.674071e-06,
            -0.21808974
           ],
           "z": [
            -1.076598,
            -1.2486467,
            -1.2435863,
            -1.2609968,
            -1.3523419,
            -1.2526193
           ]
          },
          {
           "marker": {
            "color": "green",
            "size": 6
           },
           "mode": "markers",
           "type": "scatter3d",
           "x": [
            -0.04508198921614692,
            -0.22386574893037015,
            -0.22022888075878205,
            0.09956066312622242,
            0.13966420286837689,
            0.12966036793211738
           ],
           "y": [
            -0.07531468042985462,
            -0.033235094683985056,
            0.2142965497453364,
            0.22965857385699218,
            0.003889353034797413,
            -0.21519212423514933
           ],
           "z": [
            -1.1028759487306825,
            -1.257085802770101,
            -1.244077920361244,
            -1.2675313952689624,
            -1.3650650976321899,
            -1.2685683966135728
           ]
          },
          {
           "line": {
            "color": "red",
            "width": 2
           },
           "mode": "lines",
           "type": "scatter3d",
           "x": [
            -0.0738120824098587,
            -0.22576557099819183
           ],
           "y": [
            -0.0381646454334259,
            -0.03342863544821739
           ],
           "z": [
            -1.076598048210144,
            -1.2486467361450195
           ]
          },
          {
           "line": {
            "color": "red",
            "width": 2
           },
           "mode": "lines",
           "type": "scatter3d",
           "x": [
            -0.22576557099819183,
            -0.2234247922897339
           ],
           "y": [
            -0.03342863544821739,
            0.21540775895118713
           ],
           "z": [
            -1.2486467361450195,
            -1.2435863018035889
           ]
          },
          {
           "line": {
            "color": "red",
            "width": 2
           },
           "mode": "lines",
           "type": "scatter3d",
           "x": [
            0.09736720472574234,
            0.13899599015712738
           ],
           "y": [
            0.22837869822978973,
            -7.67407072999049e-06
           ],
           "z": [
            -1.2609968185424805,
            -1.352341890335083
           ]
          },
          {
           "line": {
            "color": "red",
            "width": 2
           },
           "mode": "lines",
           "type": "scatter3d",
           "x": [
            0.13899599015712738,
            0.12303625792264938
           ],
           "y": [
            -7.67407072999049e-06,
            -0.2180897444486618
           ],
           "z": [
            -1.352341890335083,
            -1.2526192665100098
           ]
          },
          {
           "line": {
            "color": "red",
            "width": 2
           },
           "mode": "lines",
           "type": "scatter3d",
           "x": [
            -0.2234247922897339,
            0.09736720472574234
           ],
           "y": [
            0.21540775895118713,
            0.22837869822978973
           ],
           "z": [
            -1.2435863018035889,
            -1.2609968185424805
           ]
          },
          {
           "line": {
            "color": "lime",
            "width": 2
           },
           "mode": "lines",
           "type": "scatter3d",
           "x": [
            -0.04508198921614692,
            -0.22386574893037015
           ],
           "y": [
            -0.07531468042985462,
            -0.033235094683985056
           ],
           "z": [
            -1.1028759487306825,
            -1.257085802770101
           ]
          },
          {
           "line": {
            "color": "lime",
            "width": 2
           },
           "mode": "lines",
           "type": "scatter3d",
           "x": [
            -0.22386574893037015,
            -0.22022888075878205
           ],
           "y": [
            -0.033235094683985056,
            0.2142965497453364
           ],
           "z": [
            -1.257085802770101,
            -1.244077920361244
           ]
          },
          {
           "line": {
            "color": "lime",
            "width": 2
           },
           "mode": "lines",
           "type": "scatter3d",
           "x": [
            0.09956066312622242,
            0.13966420286837689
           ],
           "y": [
            0.22965857385699218,
            0.003889353034797413
           ],
           "z": [
            -1.2675313952689624,
            -1.3650650976321899
           ]
          },
          {
           "line": {
            "color": "lime",
            "width": 2
           },
           "mode": "lines",
           "type": "scatter3d",
           "x": [
            0.13966420286837689,
            0.12966036793211738
           ],
           "y": [
            0.003889353034797413,
            -0.21519212423514933
           ],
           "z": [
            -1.3650650976321899,
            -1.2685683966135728
           ]
          },
          {
           "line": {
            "color": "lime",
            "width": 2
           },
           "mode": "lines",
           "type": "scatter3d",
           "x": [
            -0.22022888075878205,
            0.09956066312622242
           ],
           "y": [
            0.2142965497453364,
            0.22965857385699218
           ],
           "z": [
            -1.244077920361244,
            -1.2675313952689624
           ]
          }
         ],
         "name": "11"
        },
        {
         "data": [
          {
           "marker": {
            "color": "blue",
            "size": 6
           },
           "mode": "markers",
           "type": "scatter3d",
           "x": [
            -0.076322265,
            -0.22508158,
            -0.222071,
            0.099052034,
            0.14142929,
            0.12560272
           ],
           "y": [
            -0.03489272,
            -0.030892994,
            0.21709192,
            0.22956772,
            0.00024968866,
            -0.21724616
           ],
           "z": [
            -1.074725,
            -1.2486087,
            -1.2451172,
            -1.2632004,
            -1.3500984,
            -1.2497861
           ]
          },
          {
           "marker": {
            "color": "green",
            "size": 6
           },
           "mode": "markers",
           "type": "scatter3d",
           "x": [
            -0.04945605022554833,
            -0.227901592879046,
            -0.22021096950730606,
            0.099758304636201,
            0.13940182334844545,
            0.1285002679648783
           ],
           "y": [
            -0.07519568629960366,
            -0.033235094683985056,
            0.212630510500319,
            0.22834761437304163,
            0.0032981494021942087,
            -0.21591463640257302
           ],
           "z": [
            -1.1023466570222737,
            -1.2573032380477773,
            -1.2437859772583337,
            -1.2642685175554593,
            -1.3635295626808297,
            -1.2675316335548323
           ]
          },
          {
           "line": {
            "color": "red",
            "width": 2
           },
           "mode": "lines",
           "type": "scatter3d",
           "x": [
            -0.07632226496934891,
            -0.22508157789707184
           ],
           "y": [
            -0.034892719238996506,
            -0.0308929942548275
           ],
           "z": [
            -1.0747250318527222,
            -1.2486087083816528
           ]
          },
          {
           "line": {
            "color": "red",
            "width": 2
           },
           "mode": "lines",
           "type": "scatter3d",
           "x": [
            -0.22508157789707184,
            -0.22207100689411163
           ],
           "y": [
            -0.0308929942548275,
            0.21709191799163818
           ],
           "z": [
            -1.2486087083816528,
            -1.2451171875
           ]
          },
          {
           "line": {
            "color": "red",
            "width": 2
           },
           "mode": "lines",
           "type": "scatter3d",
           "x": [
            0.09905203431844711,
            0.14142929017543793
           ],
           "y": [
            0.2295677214860916,
            0.0002496886590961367
           ],
           "z": [
            -1.2632004022598267,
            -1.3500983715057373
           ]
          },
          {
           "line": {
            "color": "red",
            "width": 2
           },
           "mode": "lines",
           "type": "scatter3d",
           "x": [
            0.14142929017543793,
            0.12560272216796875
           ],
           "y": [
            0.0002496886590961367,
            -0.2172461599111557
           ],
           "z": [
            -1.3500983715057373,
            -1.249786138534546
           ]
          },
          {
           "line": {
            "color": "red",
            "width": 2
           },
           "mode": "lines",
           "type": "scatter3d",
           "x": [
            -0.22207100689411163,
            0.09905203431844711
           ],
           "y": [
            0.21709191799163818,
            0.2295677214860916
           ],
           "z": [
            -1.2451171875,
            -1.2632004022598267
           ]
          },
          {
           "line": {
            "color": "lime",
            "width": 2
           },
           "mode": "lines",
           "type": "scatter3d",
           "x": [
            -0.04945605022554833,
            -0.227901592879046
           ],
           "y": [
            -0.07519568629960366,
            -0.033235094683985056
           ],
           "z": [
            -1.1023466570222737,
            -1.2573032380477773
           ]
          },
          {
           "line": {
            "color": "lime",
            "width": 2
           },
           "mode": "lines",
           "type": "scatter3d",
           "x": [
            -0.227901592879046,
            -0.22021096950730606
           ],
           "y": [
            -0.033235094683985056,
            0.212630510500319
           ],
           "z": [
            -1.2573032380477773,
            -1.2437859772583337
           ]
          },
          {
           "line": {
            "color": "lime",
            "width": 2
           },
           "mode": "lines",
           "type": "scatter3d",
           "x": [
            0.099758304636201,
            0.13940182334844545
           ],
           "y": [
            0.22834761437304163,
            0.0032981494021942087
           ],
           "z": [
            -1.2642685175554593,
            -1.3635295626808297
           ]
          },
          {
           "line": {
            "color": "lime",
            "width": 2
           },
           "mode": "lines",
           "type": "scatter3d",
           "x": [
            0.13940182334844545,
            0.1285002679648783
           ],
           "y": [
            0.0032981494021942087,
            -0.21591463640257302
           ],
           "z": [
            -1.3635295626808297,
            -1.2675316335548323
           ]
          },
          {
           "line": {
            "color": "lime",
            "width": 2
           },
           "mode": "lines",
           "type": "scatter3d",
           "x": [
            -0.22021096950730606,
            0.099758304636201
           ],
           "y": [
            0.212630510500319,
            0.22834761437304163
           ],
           "z": [
            -1.2437859772583337,
            -1.2642685175554593
           ]
          }
         ],
         "name": "12"
        },
        {
         "data": [
          {
           "marker": {
            "color": "blue",
            "size": 6
           },
           "mode": "markers",
           "type": "scatter3d",
           "x": [
            -0.07256225,
            -0.22191781,
            -0.22251123,
            0.09853453,
            0.13977885,
            0.12416205
           ],
           "y": [
            -0.034188975,
            -0.03109646,
            0.2166382,
            0.22916038,
            -0.00085339026,
            -0.2180224
           ],
           "z": [
            -1.072518,
            -1.2446578,
            -1.2447859,
            -1.2638857,
            -1.3481113,
            -1.2485222
           ]
          },
          {
           "marker": {
            "color": "green",
            "size": 6
           },
           "mode": "markers",
           "type": "scatter3d",
           "x": [
            -0.05490208836555954,
            -0.23165732625331836,
            -0.2198768405873498,
            0.10015618051613545,
            0.1402587146490131,
            0.128858506632949
           ],
           "y": [
            -0.07490204835924996,
            -0.033235094683985056,
            0.21281780289404195,
            0.2283128201735718,
            0.003530174409693651,
            -0.21653507660537086
           ],
           "z": [
            -1.1032227300442026,
            -1.260046247014623,
            -1.2455643421721643,
            -1.264543533554809,
            -1.3641780606244147,
            -1.270254731195931
           ]
          },
          {
           "line": {
            "color": "red",
            "width": 2
           },
           "mode": "lines",
           "type": "scatter3d",
           "x": [
            -0.07256224751472473,
            -0.22191780805587769
           ],
           "y": [
            -0.034188974648714066,
            -0.031096460297703743
           ],
           "z": [
            -1.072517991065979,
            -1.2446577548980713
           ]
          },
          {
           "line": {
            "color": "red",
            "width": 2
           },
           "mode": "lines",
           "type": "scatter3d",
           "x": [
            -0.22191780805587769,
            -0.22251123189926147
           ],
           "y": [
            -0.031096460297703743,
            0.2166382074356079
           ],
           "z": [
            -1.2446577548980713,
            -1.2447859048843384
           ]
          },
          {
           "line": {
            "color": "red",
            "width": 2
           },
           "mode": "lines",
           "type": "scatter3d",
           "x": [
            0.09853453189134598,
            0.13977885246276855
           ],
           "y": [
            0.2291603833436966,
            -0.0008533902582712471
           ],
           "z": [
            -1.263885736465454,
            -1.3481112718582153
           ]
          },
          {
           "line": {
            "color": "red",
            "width": 2
           },
           "mode": "lines",
           "type": "scatter3d",
           "x": [
            0.13977885246276855,
            0.12416204810142517
           ],
           "y": [
            -0.0008533902582712471,
            -0.2180224061012268
           ],
           "z": [
            -1.3481112718582153,
            -1.248522162437439
           ]
          },
          {
           "line": {
            "color": "red",
            "width": 2
           },
           "mode": "lines",
           "type": "scatter3d",
           "x": [
            -0.22251123189926147,
            0.09853453189134598
           ],
           "y": [
            0.2166382074356079,
            0.2291603833436966
           ],
           "z": [
            -1.2447859048843384,
            -1.263885736465454
           ]
          },
          {
           "line": {
            "color": "lime",
            "width": 2
           },
           "mode": "lines",
           "type": "scatter3d",
           "x": [
            -0.05490208836555954,
            -0.23165732625331836
           ],
           "y": [
            -0.07490204835924996,
            -0.033235094683985056
           ],
           "z": [
            -1.1032227300442026,
            -1.260046247014623
           ]
          },
          {
           "line": {
            "color": "lime",
            "width": 2
           },
           "mode": "lines",
           "type": "scatter3d",
           "x": [
            -0.23165732625331836,
            -0.2198768405873498
           ],
           "y": [
            -0.033235094683985056,
            0.21281780289404195
           ],
           "z": [
            -1.260046247014623,
            -1.2455643421721643
           ]
          },
          {
           "line": {
            "color": "lime",
            "width": 2
           },
           "mode": "lines",
           "type": "scatter3d",
           "x": [
            0.10015618051613545,
            0.1402587146490131
           ],
           "y": [
            0.2283128201735718,
            0.003530174409693651
           ],
           "z": [
            -1.264543533554809,
            -1.3641780606244147
           ]
          },
          {
           "line": {
            "color": "lime",
            "width": 2
           },
           "mode": "lines",
           "type": "scatter3d",
           "x": [
            0.1402587146490131,
            0.128858506632949
           ],
           "y": [
            0.003530174409693651,
            -0.21653507660537086
           ],
           "z": [
            -1.3641780606244147,
            -1.270254731195931
           ]
          },
          {
           "line": {
            "color": "lime",
            "width": 2
           },
           "mode": "lines",
           "type": "scatter3d",
           "x": [
            -0.2198768405873498,
            0.10015618051613545
           ],
           "y": [
            0.21281780289404195,
            0.2283128201735718
           ],
           "z": [
            -1.2455643421721643,
            -1.264543533554809
           ]
          }
         ],
         "name": "13"
        },
        {
         "data": [
          {
           "marker": {
            "color": "blue",
            "size": 6
           },
           "mode": "markers",
           "type": "scatter3d",
           "x": [
            -0.07524849,
            -0.22599679,
            -0.22227855,
            0.09868925,
            0.13986179,
            0.1221442
           ],
           "y": [
            -0.035577398,
            -0.032900542,
            0.21514189,
            0.2275718,
            -0.0014462122,
            -0.21716173
           ],
           "z": [
            -1.0817856,
            -1.2519474,
            -1.2435635,
            -1.2611592,
            -1.3480029,
            -1.2454739
           ]
          },
          {
           "marker": {
            "color": "green",
            "size": 6
           },
           "mode": "markers",
           "type": "scatter3d",
           "x": [
            -0.060742493059152025,
            -0.23361198630576796,
            -0.22034725559740453,
            0.09962461883722581,
            0.14086540046207,
            0.12989753480297583
           ],
           "y": [
            -0.0756874737419942,
            -0.033235094683985056,
            0.21266411228431759,
            0.2271986900902414,
            0.003111661471233304,
            -0.217723355088427
           ],
           "z": [
            -1.1008644089740987,
            -1.2617046818769957,
            -1.2441964152584468,
            -1.2639120821152972,
            -1.3645929099303,
            -1.2724920511425255
           ]
          },
          {
           "line": {
            "color": "red",
            "width": 2
           },
           "mode": "lines",
           "type": "scatter3d",
           "x": [
            -0.07524848729372025,
            -0.22599679231643677
           ],
           "y": [
            -0.03557739779353142,
            -0.03290054202079773
           ],
           "z": [
            -1.0817855596542358,
            -1.2519474029541016
           ]
          },
          {
           "line": {
            "color": "red",
            "width": 2
           },
           "mode": "lines",
           "type": "scatter3d",
           "x": [
            -0.22599679231643677,
            -0.22227855026721954
           ],
           "y": [
            -0.03290054202079773,
            0.2151418924331665
           ],
           "z": [
            -1.2519474029541016,
            -1.2435635328292847
           ]
          },
          {
           "line": {
            "color": "red",
            "width": 2
           },
           "mode": "lines",
           "type": "scatter3d",
           "x": [
            0.0986892506480217,
            0.1398617923259735
           ],
           "y": [
            0.22757180035114288,
            -0.00144621217623353
           ],
           "z": [
            -1.2611591815948486,
            -1.3480029106140137
           ]
          },
          {
           "line": {
            "color": "red",
            "width": 2
           },
           "mode": "lines",
           "type": "scatter3d",
           "x": [
            0.1398617923259735,
            0.1221441999077797
           ],
           "y": [
            -0.00144621217623353,
            -0.21716172993183136
           ],
           "z": [
            -1.3480029106140137,
            -1.245473861694336
           ]
          },
          {
           "line": {
            "color": "red",
            "width": 2
           },
           "mode": "lines",
           "type": "scatter3d",
           "x": [
            -0.22227855026721954,
            0.0986892506480217
           ],
           "y": [
            0.2151418924331665,
            0.22757180035114288
           ],
           "z": [
            -1.2435635328292847,
            -1.2611591815948486
           ]
          },
          {
           "line": {
            "color": "lime",
            "width": 2
           },
           "mode": "lines",
           "type": "scatter3d",
           "x": [
            -0.060742493059152025,
            -0.23361198630576796
           ],
           "y": [
            -0.0756874737419942,
            -0.033235094683985056
           ],
           "z": [
            -1.1008644089740987,
            -1.2617046818769957
           ]
          },
          {
           "line": {
            "color": "lime",
            "width": 2
           },
           "mode": "lines",
           "type": "scatter3d",
           "x": [
            -0.23361198630576796,
            -0.22034725559740453
           ],
           "y": [
            -0.033235094683985056,
            0.21266411228431759
           ],
           "z": [
            -1.2617046818769957,
            -1.2441964152584468
           ]
          },
          {
           "line": {
            "color": "lime",
            "width": 2
           },
           "mode": "lines",
           "type": "scatter3d",
           "x": [
            0.09962461883722581,
            0.14086540046207
           ],
           "y": [
            0.2271986900902414,
            0.003111661471233304
           ],
           "z": [
            -1.2639120821152972,
            -1.3645929099303
           ]
          },
          {
           "line": {
            "color": "lime",
            "width": 2
           },
           "mode": "lines",
           "type": "scatter3d",
           "x": [
            0.14086540046207,
            0.12989753480297583
           ],
           "y": [
            0.003111661471233304,
            -0.217723355088427
           ],
           "z": [
            -1.3645929099303,
            -1.2724920511425255
           ]
          },
          {
           "line": {
            "color": "lime",
            "width": 2
           },
           "mode": "lines",
           "type": "scatter3d",
           "x": [
            -0.22034725559740453,
            0.09962461883722581
           ],
           "y": [
            0.21266411228431759,
            0.2271986900902414
           ],
           "z": [
            -1.2441964152584468,
            -1.2639120821152972
           ]
          }
         ],
         "name": "14"
        },
        {
         "data": [
          {
           "marker": {
            "color": "blue",
            "size": 6
           },
           "mode": "markers",
           "type": "scatter3d",
           "x": [
            -0.074488744,
            -0.22664016,
            -0.2215706,
            0.099439755,
            0.14090405,
            0.122352965
           ],
           "y": [
            -0.037092175,
            -0.03308637,
            0.21599123,
            0.22746271,
            -0.0016688282,
            -0.21643186
           ],
           "z": [
            -1.080137,
            -1.2519455,
            -1.244106,
            -1.2624493,
            -1.349738,
            -1.2439389
           ]
          },
          {
           "marker": {
            "color": "green",
            "size": 6
           },
           "mode": "markers",
           "type": "scatter3d",
           "x": [
            -0.06485130782505433,
            -0.23521257980366128,
            -0.22168280165433996,
            0.09856808938297734,
            0.13992999491065816,
            0.12659452857399078
           ],
           "y": [
            -0.07594848219105044,
            -0.033235094683985056,
            0.21341331289884802,
            0.22684140500107963,
            0.003927335040046248,
            -0.2126298696630975
           ],
           "z": [
            -1.1018035442092335,
            -1.2649688738442784,
            -1.247137546509613,
            -1.2626518012201213,
            -1.3657566317093206,
            -1.26437950104794
           ]
          },
          {
           "line": {
            "color": "red",
            "width": 2
           },
           "mode": "lines",
           "type": "scatter3d",
           "x": [
            -0.07448874413967133,
            -0.22664016485214233
           ],
           "y": [
            -0.037092175334692,
            -0.033086370676755905
           ],
           "z": [
            -1.080137014389038,
            -1.2519454956054688
           ]
          },
          {
           "line": {
            "color": "red",
            "width": 2
           },
           "mode": "lines",
           "type": "scatter3d",
           "x": [
            -0.22664016485214233,
            -0.22157059609889984
           ],
           "y": [
            -0.033086370676755905,
            0.21599122881889343
           ],
           "z": [
            -1.2519454956054688,
            -1.2441060543060303
           ]
          },
          {
           "line": {
            "color": "red",
            "width": 2
           },
           "mode": "lines",
           "type": "scatter3d",
           "x": [
            0.09943975508213043,
            0.14090405404567719
           ],
           "y": [
            0.22746270895004272,
            -0.001668828190304339
           ],
           "z": [
            -1.2624492645263672,
            -1.3497380018234253
           ]
          },
          {
           "line": {
            "color": "red",
            "width": 2
           },
           "mode": "lines",
           "type": "scatter3d",
           "x": [
            0.14090405404567719,
            0.1223529651761055
           ],
           "y": [
            -0.001668828190304339,
            -0.2164318561553955
           ],
           "z": [
            -1.3497380018234253,
            -1.24393892288208
           ]
          },
          {
           "line": {
            "color": "red",
            "width": 2
           },
           "mode": "lines",
           "type": "scatter3d",
           "x": [
            -0.22157059609889984,
            0.09943975508213043
           ],
           "y": [
            0.21599122881889343,
            0.22746270895004272
           ],
           "z": [
            -1.2441060543060303,
            -1.2624492645263672
           ]
          },
          {
           "line": {
            "color": "lime",
            "width": 2
           },
           "mode": "lines",
           "type": "scatter3d",
           "x": [
            -0.06485130782505433,
            -0.23521257980366128
           ],
           "y": [
            -0.07594848219105044,
            -0.033235094683985056
           ],
           "z": [
            -1.1018035442092335,
            -1.2649688738442784
           ]
          },
          {
           "line": {
            "color": "lime",
            "width": 2
           },
           "mode": "lines",
           "type": "scatter3d",
           "x": [
            -0.23521257980366128,
            -0.22168280165433996
           ],
           "y": [
            -0.033235094683985056,
            0.21341331289884802
           ],
           "z": [
            -1.2649688738442784,
            -1.247137546509613
           ]
          },
          {
           "line": {
            "color": "lime",
            "width": 2
           },
           "mode": "lines",
           "type": "scatter3d",
           "x": [
            0.09856808938297734,
            0.13992999491065816
           ],
           "y": [
            0.22684140500107963,
            0.003927335040046248
           ],
           "z": [
            -1.2626518012201213,
            -1.3657566317093206
           ]
          },
          {
           "line": {
            "color": "lime",
            "width": 2
           },
           "mode": "lines",
           "type": "scatter3d",
           "x": [
            0.13992999491065816,
            0.12659452857399078
           ],
           "y": [
            0.003927335040046248,
            -0.2126298696630975
           ],
           "z": [
            -1.3657566317093206,
            -1.26437950104794
           ]
          },
          {
           "line": {
            "color": "lime",
            "width": 2
           },
           "mode": "lines",
           "type": "scatter3d",
           "x": [
            -0.22168280165433996,
            0.09856808938297734
           ],
           "y": [
            0.21341331289884802,
            0.22684140500107963
           ],
           "z": [
            -1.247137546509613,
            -1.2626518012201213
           ]
          }
         ],
         "name": "15"
        },
        {
         "data": [
          {
           "marker": {
            "color": "blue",
            "size": 6
           },
           "mode": "markers",
           "type": "scatter3d",
           "x": [
            -0.07347241,
            -0.22475682,
            -0.22206151,
            0.098041445,
            0.140552,
            0.122894995
           ],
           "y": [
            -0.039424177,
            -0.03342523,
            0.21576568,
            0.22667904,
            -0.0022916864,
            -0.21754523
           ],
           "z": [
            -1.0768061,
            -1.2494638,
            -1.2406265,
            -1.2614578,
            -1.3493724,
            -1.2449054
           ]
          },
          {
           "marker": {
            "color": "green",
            "size": 6
           },
           "mode": "markers",
           "type": "scatter3d",
           "x": [
            -0.07031862971595881,
            -0.237236097824141,
            -0.22240720696820837,
            0.09801866855133812,
            0.13881249728678002,
            0.12269873921552066
           ],
           "y": [
            -0.07481223939443238,
            -0.033235094683985056,
            0.2144401222186787,
            0.2275645733524132,
            0.005105987171311267,
            -0.2088994830224088
           ],
           "z": [
            -1.102782012689297,
            -1.2693961858548803,
            -1.2499986890730046,
            -1.2619875667717064,
            -1.3662194018687934,
            -1.260014176156048
           ]
          },
          {
           "line": {
            "color": "red",
            "width": 2
           },
           "mode": "lines",
           "type": "scatter3d",
           "x": [
            -0.07347241044044495,
            -0.22475682199001312
           ],
           "y": [
            -0.03942417725920677,
            -0.0334252305328846
           ],
           "z": [
            -1.0768060684204102,
            -1.2494637966156006
           ]
          },
          {
           "line": {
            "color": "red",
            "width": 2
           },
           "mode": "lines",
           "type": "scatter3d",
           "x": [
            -0.22475682199001312,
            -0.22206151485443115
           ],
           "y": [
            -0.0334252305328846,
            0.21576568484306335
           ],
           "z": [
            -1.2494637966156006,
            -1.2406264543533325
           ]
          },
          {
           "line": {
            "color": "red",
            "width": 2
           },
           "mode": "lines",
           "type": "scatter3d",
           "x": [
            0.09804144501686096,
            0.14055199921131134
           ],
           "y": [
            0.22667904198169708,
            -0.0022916863672435284
           ],
           "z": [
            -1.2614578008651733,
            -1.349372386932373
           ]
          },
          {
           "line": {
            "color": "red",
            "width": 2
           },
           "mode": "lines",
           "type": "scatter3d",
           "x": [
            0.14055199921131134,
            0.12289499491453171
           ],
           "y": [
            -0.0022916863672435284,
            -0.21754522621631622
           ],
           "z": [
            -1.349372386932373,
            -1.2449053525924683
           ]
          },
          {
           "line": {
            "color": "red",
            "width": 2
           },
           "mode": "lines",
           "type": "scatter3d",
           "x": [
            -0.22206151485443115,
            0.09804144501686096
           ],
           "y": [
            0.21576568484306335,
            0.22667904198169708
           ],
           "z": [
            -1.2406264543533325,
            -1.2614578008651733
           ]
          },
          {
           "line": {
            "color": "lime",
            "width": 2
           },
           "mode": "lines",
           "type": "scatter3d",
           "x": [
            -0.07031862971595881,
            -0.237236097824141
           ],
           "y": [
            -0.07481223939443238,
            -0.033235094683985056
           ],
           "z": [
            -1.102782012689297,
            -1.2693961858548803
           ]
          },
          {
           "line": {
            "color": "lime",
            "width": 2
           },
           "mode": "lines",
           "type": "scatter3d",
           "x": [
            -0.237236097824141,
            -0.22240720696820837
           ],
           "y": [
            -0.033235094683985056,
            0.2144401222186787
           ],
           "z": [
            -1.2693961858548803,
            -1.2499986890730046
           ]
          },
          {
           "line": {
            "color": "lime",
            "width": 2
           },
           "mode": "lines",
           "type": "scatter3d",
           "x": [
            0.09801866855133812,
            0.13881249728678002
           ],
           "y": [
            0.2275645733524132,
            0.005105987171311267
           ],
           "z": [
            -1.2619875667717064,
            -1.3662194018687934
           ]
          },
          {
           "line": {
            "color": "lime",
            "width": 2
           },
           "mode": "lines",
           "type": "scatter3d",
           "x": [
            0.13881249728678002,
            0.12269873921552066
           ],
           "y": [
            0.005105987171311267,
            -0.2088994830224088
           ],
           "z": [
            -1.3662194018687934,
            -1.260014176156048
           ]
          },
          {
           "line": {
            "color": "lime",
            "width": 2
           },
           "mode": "lines",
           "type": "scatter3d",
           "x": [
            -0.22240720696820837,
            0.09801866855133812
           ],
           "y": [
            0.2144401222186787,
            0.2275645733524132
           ],
           "z": [
            -1.2499986890730046,
            -1.2619875667717064
           ]
          }
         ],
         "name": "16"
        },
        {
         "data": [
          {
           "marker": {
            "color": "blue",
            "size": 6
           },
           "mode": "markers",
           "type": "scatter3d",
           "x": [
            -0.07960168,
            -0.23029651,
            -0.22263382,
            0.09637886,
            0.13878638,
            0.11856352
           ],
           "y": [
            -0.049343336,
            -0.035240512,
            0.2157368,
            0.22641376,
            -0.0023483054,
            -0.21145785
           ],
           "z": [
            -1.0833613,
            -1.2551799,
            -1.2423474,
            -1.2586906,
            -1.3487909,
            -1.2342701
           ]
          },
          {
           "marker": {
            "color": "green",
            "size": 6
           },
           "mode": "markers",
           "type": "scatter3d",
           "x": [
            -0.07641746685035455,
            -0.24192169303048816,
            -0.22242669750158062,
            0.0979113281481136,
            0.1385570317163614,
            0.12061704713103316
           ],
           "y": [
            -0.07437243745544247,
            -0.033235094683985056,
            0.21333454529737783,
            0.22784331441200045,
            0.004497006487159838,
            -0.2069027721964068
           ],
           "z": [
            -1.104101779076772,
            -1.2723469740795252,
            -1.2497651579601463,
            -1.2630432847566944,
            -1.365410566033276,
            -1.254395366278505
           ]
          },
          {
           "line": {
            "color": "red",
            "width": 2
           },
           "mode": "lines",
           "type": "scatter3d",
           "x": [
            -0.07960168272256851,
            -0.23029650747776031
           ],
           "y": [
            -0.04934333637356758,
            -0.03524051234126091
           ],
           "z": [
            -1.083361268043518,
            -1.2551798820495605
           ]
          },
          {
           "line": {
            "color": "red",
            "width": 2
           },
           "mode": "lines",
           "type": "scatter3d",
           "x": [
            -0.23029650747776031,
            -0.22263382375240326
           ],
           "y": [
            -0.03524051234126091,
            0.21573680639266968
           ],
           "z": [
            -1.2551798820495605,
            -1.2423473596572876
           ]
          },
          {
           "line": {
            "color": "red",
            "width": 2
           },
           "mode": "lines",
           "type": "scatter3d",
           "x": [
            0.0963788628578186,
            0.13878637552261353
           ],
           "y": [
            0.226413756608963,
            -0.0023483054246753454
           ],
           "z": [
            -1.258690595626831,
            -1.3487908840179443
           ]
          },
          {
           "line": {
            "color": "red",
            "width": 2
           },
           "mode": "lines",
           "type": "scatter3d",
           "x": [
            0.13878637552261353,
            0.11856351792812347
           ],
           "y": [
            -0.0023483054246753454,
            -0.21145784854888916
           ],
           "z": [
            -1.3487908840179443,
            -1.2342700958251953
           ]
          },
          {
           "line": {
            "color": "red",
            "width": 2
           },
           "mode": "lines",
           "type": "scatter3d",
           "x": [
            -0.22263382375240326,
            0.0963788628578186
           ],
           "y": [
            0.21573680639266968,
            0.226413756608963
           ],
           "z": [
            -1.2423473596572876,
            -1.258690595626831
           ]
          },
          {
           "line": {
            "color": "lime",
            "width": 2
           },
           "mode": "lines",
           "type": "scatter3d",
           "x": [
            -0.07641746685035455,
            -0.24192169303048816
           ],
           "y": [
            -0.07437243745544247,
            -0.033235094683985056
           ],
           "z": [
            -1.104101779076772,
            -1.2723469740795252
           ]
          },
          {
           "line": {
            "color": "lime",
            "width": 2
           },
           "mode": "lines",
           "type": "scatter3d",
           "x": [
            -0.24192169303048816,
            -0.22242669750158062
           ],
           "y": [
            -0.033235094683985056,
            0.21333454529737783
           ],
           "z": [
            -1.2723469740795252,
            -1.2497651579601463
           ]
          },
          {
           "line": {
            "color": "lime",
            "width": 2
           },
           "mode": "lines",
           "type": "scatter3d",
           "x": [
            0.0979113281481136,
            0.1385570317163614
           ],
           "y": [
            0.22784331441200045,
            0.004497006487159838
           ],
           "z": [
            -1.2630432847566944,
            -1.365410566033276
           ]
          },
          {
           "line": {
            "color": "lime",
            "width": 2
           },
           "mode": "lines",
           "type": "scatter3d",
           "x": [
            0.1385570317163614,
            0.12061704713103316
           ],
           "y": [
            0.004497006487159838,
            -0.2069027721964068
           ],
           "z": [
            -1.365410566033276,
            -1.254395366278505
           ]
          },
          {
           "line": {
            "color": "lime",
            "width": 2
           },
           "mode": "lines",
           "type": "scatter3d",
           "x": [
            -0.22242669750158062,
            0.0979113281481136
           ],
           "y": [
            0.21333454529737783,
            0.22784331441200045
           ],
           "z": [
            -1.2497651579601463,
            -1.2630432847566944
           ]
          }
         ],
         "name": "17"
        },
        {
         "data": [
          {
           "marker": {
            "color": "blue",
            "size": 6
           },
           "mode": "markers",
           "type": "scatter3d",
           "x": [
            -0.08371737,
            -0.23258443,
            -0.22270337,
            0.095820494,
            0.13749826,
            0.11697223
           ],
           "y": [
            -0.04889869,
            -0.035262134,
            0.21591714,
            0.22691871,
            -0.0026610408,
            -0.21045661
           ],
           "z": [
            -1.0830295,
            -1.2547174,
            -1.2426113,
            -1.259403,
            -1.3479252,
            -1.2310249
           ]
          },
          {
           "marker": {
            "color": "green",
            "size": 6
           },
           "mode": "markers",
           "type": "scatter3d",
           "x": [
            -0.0808872630386368,
            -0.24547807855166326,
            -0.22288116807312852,
            0.09743183124259669,
            0.13899868719940955,
            0.12128300947923765
           ],
           "y": [
            -0.07563305156125355,
            -0.033235094683985056,
            0.21235063668721188,
            0.2274868489108921,
            0.0055397283176251855,
            -0.20576336980299076
           ],
           "z": [
            -1.1020723589126993,
            -1.2710705975300858,
            -1.2485438577776655,
            -1.2614209653677726,
            -1.3664110890874426,
            -1.2551903725158056
           ]
          },
          {
           "line": {
            "color": "red",
            "width": 2
           },
           "mode": "lines",
           "type": "scatter3d",
           "x": [
            -0.08371736854314804,
            -0.23258443176746368
           ],
           "y": [
            -0.048898689448833466,
            -0.03526213392615318
           ],
           "z": [
            -1.0830295085906982,
            -1.2547173500061035
           ]
          },
          {
           "line": {
            "color": "red",
            "width": 2
           },
           "mode": "lines",
           "type": "scatter3d",
           "x": [
            -0.23258443176746368,
            -0.22270336747169495
           ],
           "y": [
            -0.03526213392615318,
            0.21591714024543762
           ],
           "z": [
            -1.2547173500061035,
            -1.242611289024353
           ]
          },
          {
           "line": {
            "color": "red",
            "width": 2
           },
           "mode": "lines",
           "type": "scatter3d",
           "x": [
            0.09582049399614334,
            0.13749825954437256
           ],
           "y": [
            0.22691871225833893,
            -0.0026610407512634993
           ],
           "z": [
            -1.2594029903411865,
            -1.3479251861572266
           ]
          },
          {
           "line": {
            "color": "red",
            "width": 2
           },
           "mode": "lines",
           "type": "scatter3d",
           "x": [
            0.13749825954437256,
            0.11697223037481308
           ],
           "y": [
            -0.0026610407512634993,
            -0.21045660972595215
           ],
           "z": [
            -1.3479251861572266,
            -1.2310248613357544
           ]
          },
          {
           "line": {
            "color": "red",
            "width": 2
           },
           "mode": "lines",
           "type": "scatter3d",
           "x": [
            -0.22270336747169495,
            0.09582049399614334
           ],
           "y": [
            0.21591714024543762,
            0.22691871225833893
           ],
           "z": [
            -1.242611289024353,
            -1.2594029903411865
           ]
          },
          {
           "line": {
            "color": "lime",
            "width": 2
           },
           "mode": "lines",
           "type": "scatter3d",
           "x": [
            -0.0808872630386368,
            -0.24547807855166326
           ],
           "y": [
            -0.07563305156125355,
            -0.033235094683985056
           ],
           "z": [
            -1.1020723589126993,
            -1.2710705975300858
           ]
          },
          {
           "line": {
            "color": "lime",
            "width": 2
           },
           "mode": "lines",
           "type": "scatter3d",
           "x": [
            -0.24547807855166326,
            -0.22288116807312852
           ],
           "y": [
            -0.033235094683985056,
            0.21235063668721188
           ],
           "z": [
            -1.2710705975300858,
            -1.2485438577776655
           ]
          },
          {
           "line": {
            "color": "lime",
            "width": 2
           },
           "mode": "lines",
           "type": "scatter3d",
           "x": [
            0.09743183124259669,
            0.13899868719940955
           ],
           "y": [
            0.2274868489108921,
            0.0055397283176251855
           ],
           "z": [
            -1.2614209653677726,
            -1.3664110890874426
           ]
          },
          {
           "line": {
            "color": "lime",
            "width": 2
           },
           "mode": "lines",
           "type": "scatter3d",
           "x": [
            0.13899868719940955,
            0.12128300947923765
           ],
           "y": [
            0.0055397283176251855,
            -0.20576336980299076
           ],
           "z": [
            -1.3664110890874426,
            -1.2551903725158056
           ]
          },
          {
           "line": {
            "color": "lime",
            "width": 2
           },
           "mode": "lines",
           "type": "scatter3d",
           "x": [
            -0.22288116807312852,
            0.09743183124259669
           ],
           "y": [
            0.21235063668721188,
            0.2274868489108921
           ],
           "z": [
            -1.2485438577776655,
            -1.2614209653677726
           ]
          }
         ],
         "name": "18"
        },
        {
         "data": [
          {
           "marker": {
            "color": "blue",
            "size": 6
           },
           "mode": "markers",
           "type": "scatter3d",
           "x": [
            -0.07330489,
            -0.22963007,
            -0.22311367,
            0.09641332,
            0.13823359,
            0.117862396
           ],
           "y": [
            -0.043015584,
            -0.03503699,
            0.21485688,
            0.22733252,
            -0.0026895122,
            -0.20980375
           ],
           "z": [
            -1.0845835,
            -1.2516519,
            -1.2393514,
            -1.2631161,
            -1.3484073,
            -1.23049
           ]
          },
          {
           "marker": {
            "color": "green",
            "size": 6
           },
           "mode": "markers",
           "type": "scatter3d",
           "x": [
            -0.08506890292710967,
            -0.2486899496616075,
            -0.2234227361207758,
            0.09682662765920691,
            0.1395940184848572,
            0.12195998433903793
           ],
           "y": [
            -0.07624505147256505,
            -0.033235094683985056,
            0.21180644620646394,
            0.22767215972366373,
            0.0049939761096153105,
            -0.2058229893491569
           ],
           "z": [
            -1.1049507880510143,
            -1.2747383116093598,
            -1.2500978707725707,
            -1.2635450361250502,
            -1.3664526948045275,
            -1.2543277737678205
           ]
          },
          {
           "line": {
            "color": "red",
            "width": 2
           },
           "mode": "lines",
           "type": "scatter3d",
           "x": [
            -0.07330489158630371,
            -0.22963006794452667
           ],
           "y": [
            -0.04301558434963226,
            -0.03503698855638504
           ],
           "z": [
            -1.0845835208892822,
            -1.2516518831253052
           ]
          },
          {
           "line": {
            "color": "red",
            "width": 2
           },
           "mode": "lines",
           "type": "scatter3d",
           "x": [
            -0.22963006794452667,
            -0.22311367094516754
           ],
           "y": [
            -0.03503698855638504,
            0.21485687792301178
           ],
           "z": [
            -1.2516518831253052,
            -1.2393513917922974
           ]
          },
          {
           "line": {
            "color": "red",
            "width": 2
           },
           "mode": "lines",
           "type": "scatter3d",
           "x": [
            0.09641332179307938,
            0.13823358714580536
           ],
           "y": [
            0.22733251750469208,
            -0.002689512213692069
           ],
           "z": [
            -1.2631161212921143,
            -1.34840726852417
           ]
          },
          {
           "line": {
            "color": "red",
            "width": 2
           },
           "mode": "lines",
           "type": "scatter3d",
           "x": [
            0.13823358714580536,
            0.11786239594221115
           ],
           "y": [
            -0.002689512213692069,
            -0.2098037451505661
           ],
           "z": [
            -1.34840726852417,
            -1.23048996925354
           ]
          },
          {
           "line": {
            "color": "red",
            "width": 2
           },
           "mode": "lines",
           "type": "scatter3d",
           "x": [
            -0.22311367094516754,
            0.09641332179307938
           ],
           "y": [
            0.21485687792301178,
            0.22733251750469208
           ],
           "z": [
            -1.2393513917922974,
            -1.2631161212921143
           ]
          },
          {
           "line": {
            "color": "lime",
            "width": 2
           },
           "mode": "lines",
           "type": "scatter3d",
           "x": [
            -0.08506890292710967,
            -0.2486899496616075
           ],
           "y": [
            -0.07624505147256505,
            -0.033235094683985056
           ],
           "z": [
            -1.1049507880510143,
            -1.2747383116093598
           ]
          },
          {
           "line": {
            "color": "lime",
            "width": 2
           },
           "mode": "lines",
           "type": "scatter3d",
           "x": [
            -0.2486899496616075,
            -0.2234227361207758
           ],
           "y": [
            -0.033235094683985056,
            0.21180644620646394
           ],
           "z": [
            -1.2747383116093598,
            -1.2500978707725707
           ]
          },
          {
           "line": {
            "color": "lime",
            "width": 2
           },
           "mode": "lines",
           "type": "scatter3d",
           "x": [
            0.09682662765920691,
            0.1395940184848572
           ],
           "y": [
            0.22767215972366373,
            0.0049939761096153105
           ],
           "z": [
            -1.2635450361250502,
            -1.3664526948045275
           ]
          },
          {
           "line": {
            "color": "lime",
            "width": 2
           },
           "mode": "lines",
           "type": "scatter3d",
           "x": [
            0.1395940184848572,
            0.12195998433903793
           ],
           "y": [
            0.0049939761096153105,
            -0.2058229893491569
           ],
           "z": [
            -1.3664526948045275,
            -1.2543277737678205
           ]
          },
          {
           "line": {
            "color": "lime",
            "width": 2
           },
           "mode": "lines",
           "type": "scatter3d",
           "x": [
            -0.2234227361207758,
            0.09682662765920691
           ],
           "y": [
            0.21180644620646394,
            0.22767215972366373
           ],
           "z": [
            -1.2500978707725707,
            -1.2635450361250502
           ]
          }
         ],
         "name": "19"
        },
        {
         "data": [
          {
           "marker": {
            "color": "blue",
            "size": 6
           },
           "mode": "markers",
           "type": "scatter3d",
           "x": [
            -0.074353956,
            -0.22919832,
            -0.22367105,
            0.09641396,
            0.1395074,
            0.120325185
           ],
           "y": [
            -0.046720427,
            -0.035361525,
            0.214364,
            0.22713526,
            -0.00082652323,
            -0.21027623
           ],
           "z": [
            -1.0801146,
            -1.250137,
            -1.2402105,
            -1.261476,
            -1.3530315,
            -1.2376448
           ]
          },
          {
           "marker": {
            "color": "green",
            "size": 6
           },
           "mode": "markers",
           "type": "scatter3d",
           "x": [
            -0.08819945745456037,
            -0.251321822451529,
            -0.2240698785535289,
            0.09621783345483825,
            0.14008918399687348,
            0.12487298247865192
           ],
           "y": [
            -0.07835866753532061,
            -0.033235094683985056,
            0.21129465128578273,
            0.22680406280388432,
            0.005678387353329585,
            -0.20937028519123235
           ],
           "z": [
            -1.108445287907399,
            -1.2779603021972914,
            -1.2510961293956893,
            -1.263407230346834,
            -1.3688095817354373,
            -1.264977336082549
           ]
          },
          {
           "line": {
            "color": "red",
            "width": 2
           },
           "mode": "lines",
           "type": "scatter3d",
           "x": [
            -0.07435395568609238,
            -0.22919832170009613
           ],
           "y": [
            -0.04672042652964592,
            -0.03536152467131615
           ],
           "z": [
            -1.0801146030426025,
            -1.2501369714736938
           ]
          },
          {
           "line": {
            "color": "red",
            "width": 2
           },
           "mode": "lines",
           "type": "scatter3d",
           "x": [
            -0.22919832170009613,
            -0.2236710488796234
           ],
           "y": [
            -0.03536152467131615,
            0.21436400711536407
           ],
           "z": [
            -1.2501369714736938,
            -1.2402105331420898
           ]
          },
          {
           "line": {
            "color": "red",
            "width": 2
           },
           "mode": "lines",
           "type": "scatter3d",
           "x": [
            0.09641396254301071,
            0.13950739800930023
           ],
           "y": [
            0.22713525593280792,
            -0.0008265232318080962
           ],
           "z": [
            -1.2614760398864746,
            -1.3530315160751343
           ]
          },
          {
           "line": {
            "color": "red",
            "width": 2
           },
           "mode": "lines",
           "type": "scatter3d",
           "x": [
            0.13950739800930023,
            0.12032518535852432
           ],
           "y": [
            -0.0008265232318080962,
            -0.21027623116970062
           ],
           "z": [
            -1.3530315160751343,
            -1.2376447916030884
           ]
          },
          {
           "line": {
            "color": "red",
            "width": 2
           },
           "mode": "lines",
           "type": "scatter3d",
           "x": [
            -0.2236710488796234,
            0.09641396254301071
           ],
           "y": [
            0.21436400711536407,
            0.22713525593280792
           ],
           "z": [
            -1.2402105331420898,
            -1.2614760398864746
           ]
          },
          {
           "line": {
            "color": "lime",
            "width": 2
           },
           "mode": "lines",
           "type": "scatter3d",
           "x": [
            -0.08819945745456037,
            -0.251321822451529
           ],
           "y": [
            -0.07835866753532061,
            -0.033235094683985056
           ],
           "z": [
            -1.108445287907399,
            -1.2779603021972914
           ]
          },
          {
           "line": {
            "color": "lime",
            "width": 2
           },
           "mode": "lines",
           "type": "scatter3d",
           "x": [
            -0.251321822451529,
            -0.2240698785535289
           ],
           "y": [
            -0.033235094683985056,
            0.21129465128578273
           ],
           "z": [
            -1.2779603021972914,
            -1.2510961293956893
           ]
          },
          {
           "line": {
            "color": "lime",
            "width": 2
           },
           "mode": "lines",
           "type": "scatter3d",
           "x": [
            0.09621783345483825,
            0.14008918399687348
           ],
           "y": [
            0.22680406280388432,
            0.005678387353329585
           ],
           "z": [
            -1.263407230346834,
            -1.3688095817354373
           ]
          },
          {
           "line": {
            "color": "lime",
            "width": 2
           },
           "mode": "lines",
           "type": "scatter3d",
           "x": [
            0.14008918399687348,
            0.12487298247865192
           ],
           "y": [
            0.005678387353329585,
            -0.20937028519123235
           ],
           "z": [
            -1.3688095817354373,
            -1.264977336082549
           ]
          },
          {
           "line": {
            "color": "lime",
            "width": 2
           },
           "mode": "lines",
           "type": "scatter3d",
           "x": [
            -0.2240698785535289,
            0.09621783345483825
           ],
           "y": [
            0.21129465128578273,
            0.22680406280388432
           ],
           "z": [
            -1.2510961293956893,
            -1.263407230346834
           ]
          }
         ],
         "name": "20"
        },
        {
         "data": [
          {
           "marker": {
            "color": "blue",
            "size": 6
           },
           "mode": "markers",
           "type": "scatter3d",
           "x": [
            -0.06984236,
            -0.22707248,
            -0.2241004,
            0.096628636,
            0.13966797,
            0.12139092
           ],
           "y": [
            -0.04459013,
            -0.035095755,
            0.21457964,
            0.2275784,
            -0.0011748897,
            -0.21173136
           ],
           "z": [
            -1.0815594,
            -1.251549,
            -1.241307,
            -1.2644788,
            -1.3537065,
            -1.240883
           ]
          },
          {
           "marker": {
            "color": "green",
            "size": 6
           },
           "mode": "markers",
           "type": "scatter3d",
           "x": [
            -0.09300590720418977,
            -0.2524338364970628,
            -0.22417241312581393,
            0.09621914460949366,
            0.13935326045744273,
            0.1250004470427401
           ],
           "y": [
            -0.07905669314926389,
            -0.033235094683985056,
            0.2112223210696218,
            0.22699019320470937,
            0.0069168806434060995,
            -0.2086755036963558
           ],
           "z": [
            -1.108477354574199,
            -1.2811491489676925,
            -1.2538203001574146,
            -1.262761712155564,
            -1.3704671852319539,
            -1.2678136825710795
           ]
          },
          {
           "line": {
            "color": "red",
            "width": 2
           },
           "mode": "lines",
           "type": "scatter3d",
           "x": [
            -0.06984236091375351,
            -0.22707247734069824
           ],
           "y": [
            -0.04459013044834137,
            -0.03509575501084328
           ],
           "z": [
            -1.081559419631958,
            -1.2515490055084229
           ]
          },
          {
           "line": {
            "color": "red",
            "width": 2
           },
           "mode": "lines",
           "type": "scatter3d",
           "x": [
            -0.22707247734069824,
            -0.22410039603710175
           ],
           "y": [
            -0.03509575501084328,
            0.21457964181900024
           ],
           "z": [
            -1.2515490055084229,
            -1.241307020187378
           ]
          },
          {
           "line": {
            "color": "red",
            "width": 2
           },
           "mode": "lines",
           "type": "scatter3d",
           "x": [
            0.09662863612174988,
            0.13966797292232513
           ],
           "y": [
            0.22757840156555176,
            -0.001174889737740159
           ],
           "z": [
            -1.2644788026809692,
            -1.3537064790725708
           ]
          },
          {
           "line": {
            "color": "red",
            "width": 2
           },
           "mode": "lines",
           "type": "scatter3d",
           "x": [
            0.13966797292232513,
            0.1213909164071083
           ],
           "y": [
            -0.001174889737740159,
            -0.21173135936260223
           ],
           "z": [
            -1.3537064790725708,
            -1.2408829927444458
           ]
          },
          {
           "line": {
            "color": "red",
            "width": 2
           },
           "mode": "lines",
           "type": "scatter3d",
           "x": [
            -0.22410039603710175,
            0.09662863612174988
           ],
           "y": [
            0.21457964181900024,
            0.22757840156555176
           ],
           "z": [
            -1.241307020187378,
            -1.2644788026809692
           ]
          },
          {
           "line": {
            "color": "lime",
            "width": 2
           },
           "mode": "lines",
           "type": "scatter3d",
           "x": [
            -0.09300590720418977,
            -0.2524338364970628
           ],
           "y": [
            -0.07905669314926389,
            -0.033235094683985056
           ],
           "z": [
            -1.108477354574199,
            -1.2811491489676925
           ]
          },
          {
           "line": {
            "color": "lime",
            "width": 2
           },
           "mode": "lines",
           "type": "scatter3d",
           "x": [
            -0.2524338364970628,
            -0.22417241312581393
           ],
           "y": [
            -0.033235094683985056,
            0.2112223210696218
           ],
           "z": [
            -1.2811491489676925,
            -1.2538203001574146
           ]
          },
          {
           "line": {
            "color": "lime",
            "width": 2
           },
           "mode": "lines",
           "type": "scatter3d",
           "x": [
            0.09621914460949366,
            0.13935326045744273
           ],
           "y": [
            0.22699019320470937,
            0.0069168806434060995
           ],
           "z": [
            -1.262761712155564,
            -1.3704671852319539
           ]
          },
          {
           "line": {
            "color": "lime",
            "width": 2
           },
           "mode": "lines",
           "type": "scatter3d",
           "x": [
            0.13935326045744273,
            0.1250004470427401
           ],
           "y": [
            0.0069168806434060995,
            -0.2086755036963558
           ],
           "z": [
            -1.3704671852319539,
            -1.2678136825710795
           ]
          },
          {
           "line": {
            "color": "lime",
            "width": 2
           },
           "mode": "lines",
           "type": "scatter3d",
           "x": [
            -0.22417241312581393,
            0.09621914460949366
           ],
           "y": [
            0.2112223210696218,
            0.22699019320470937
           ],
           "z": [
            -1.2538203001574146,
            -1.262761712155564
           ]
          }
         ],
         "name": "21"
        },
        {
         "data": [
          {
           "marker": {
            "color": "blue",
            "size": 6
           },
           "mode": "markers",
           "type": "scatter3d",
           "x": [
            -0.06866785,
            -0.22625145,
            -0.22403397,
            0.096285485,
            0.13988149,
            0.12333669
           ],
           "y": [
            -0.045333482,
            -0.035578106,
            0.21425487,
            0.22670424,
            -0.0008859788,
            -0.21665464
           ],
           "z": [
            -1.0813369,
            -1.2522814,
            -1.2423108,
            -1.2625074,
            -1.3547192,
            -1.2501823
           ]
          },
          {
           "marker": {
            "color": "green",
            "size": 6
           },
           "mode": "markers",
           "type": "scatter3d",
           "x": [
            -0.10122097634746607,
            -0.2535850704108502,
            -0.22444169208709863,
            0.0961077360225906,
            0.13975052541164146,
            0.12565216422012626
           ],
           "y": [
            -0.07983256419191176,
            -0.033235094683985056,
            0.21176882066374025,
            0.22660921507750764,
            0.00697559301909919,
            -0.20924371487450055
           ],
           "z": [
            -1.1090139128607364,
            -1.2874559151424343,
            -1.259513735673588,
            -1.2611993546360907,
            -1.369426011339776,
            -1.2682312725339058
           ]
          },
          {
           "line": {
            "color": "red",
            "width": 2
           },
           "mode": "lines",
           "type": "scatter3d",
           "x": [
            -0.06866785138845444,
            -0.22625145316123962
           ],
           "y": [
            -0.04533348232507706,
            -0.035578105598688126
           ],
           "z": [
            -1.0813368558883667,
            -1.2522814273834229
           ]
          },
          {
           "line": {
            "color": "red",
            "width": 2
           },
           "mode": "lines",
           "type": "scatter3d",
           "x": [
            -0.22625145316123962,
            -0.22403396666049957
           ],
           "y": [
            -0.035578105598688126,
            0.21425487101078033
           ],
           "z": [
            -1.2522814273834229,
            -1.2423107624053955
           ]
          },
          {
           "line": {
            "color": "red",
            "width": 2
           },
           "mode": "lines",
           "type": "scatter3d",
           "x": [
            0.09628548473119736,
            0.13988149166107178
           ],
           "y": [
            0.22670423984527588,
            -0.0008859788067638874
           ],
           "z": [
            -1.262507438659668,
            -1.3547191619873047
           ]
          },
          {
           "line": {
            "color": "red",
            "width": 2
           },
           "mode": "lines",
           "type": "scatter3d",
           "x": [
            0.13988149166107178,
            0.12333668768405914
           ],
           "y": [
            -0.0008859788067638874,
            -0.21665464341640472
           ],
           "z": [
            -1.3547191619873047,
            -1.2501822710037231
           ]
          },
          {
           "line": {
            "color": "red",
            "width": 2
           },
           "mode": "lines",
           "type": "scatter3d",
           "x": [
            -0.22403396666049957,
            0.09628548473119736
           ],
           "y": [
            0.21425487101078033,
            0.22670423984527588
           ],
           "z": [
            -1.2423107624053955,
            -1.262507438659668
           ]
          },
          {
           "line": {
            "color": "lime",
            "width": 2
           },
           "mode": "lines",
           "type": "scatter3d",
           "x": [
            -0.10122097634746607,
            -0.2535850704108502
           ],
           "y": [
            -0.07983256419191176,
            -0.033235094683985056
           ],
           "z": [
            -1.1090139128607364,
            -1.2874559151424343
           ]
          },
          {
           "line": {
            "color": "lime",
            "width": 2
           },
           "mode": "lines",
           "type": "scatter3d",
           "x": [
            -0.2535850704108502,
            -0.22444169208709863
           ],
           "y": [
            -0.033235094683985056,
            0.21176882066374025
           ],
           "z": [
            -1.2874559151424343,
            -1.259513735673588
           ]
          },
          {
           "line": {
            "color": "lime",
            "width": 2
           },
           "mode": "lines",
           "type": "scatter3d",
           "x": [
            0.0961077360225906,
            0.13975052541164146
           ],
           "y": [
            0.22660921507750764,
            0.00697559301909919
           ],
           "z": [
            -1.2611993546360907,
            -1.369426011339776
           ]
          },
          {
           "line": {
            "color": "lime",
            "width": 2
           },
           "mode": "lines",
           "type": "scatter3d",
           "x": [
            0.13975052541164146,
            0.12565216422012626
           ],
           "y": [
            0.00697559301909919,
            -0.20924371487450055
           ],
           "z": [
            -1.369426011339776,
            -1.2682312725339058
           ]
          },
          {
           "line": {
            "color": "lime",
            "width": 2
           },
           "mode": "lines",
           "type": "scatter3d",
           "x": [
            -0.22444169208709863,
            0.0961077360225906
           ],
           "y": [
            0.21176882066374025,
            0.22660921507750764
           ],
           "z": [
            -1.259513735673588,
            -1.2611993546360907
           ]
          }
         ],
         "name": "22"
        },
        {
         "data": [
          {
           "marker": {
            "color": "blue",
            "size": 6
           },
           "mode": "markers",
           "type": "scatter3d",
           "x": [
            -0.07471266,
            -0.2264972,
            -0.22306426,
            0.09735955,
            0.13901067,
            0.12250992
           ],
           "y": [
            -0.04451824,
            -0.034949798,
            0.21464415,
            0.22732885,
            -2.1689904e-05,
            -0.21511386
           ],
           "z": [
            -1.0800904,
            -1.2539777,
            -1.2447253,
            -1.260936,
            -1.3555527,
            -1.2489045
           ]
          },
          {
           "marker": {
            "color": "green",
            "size": 6
           },
           "mode": "markers",
           "type": "scatter3d",
           "x": [
            -0.10813283274991825,
            -0.25409218671426226,
            -0.22340548012019734,
            0.09718351797863256,
            0.14004114268077486,
            0.12467455123603427
           ],
           "y": [
            -0.08004568185475153,
            -0.03297411745786347,
            0.21201175416361462,
            0.22633299227112413,
            0.005943881349320678,
            -0.2091629802885654
           ],
           "z": [
            -1.1093027562983906,
            -1.2927140012475942,
            -1.2633184195415084,
            -1.2614426615998795,
            -1.368287085982276,
            -1.265076041407882
           ]
          },
          {
           "line": {
            "color": "red",
            "width": 2
           },
           "mode": "lines",
           "type": "scatter3d",
           "x": [
            -0.07471265643835068,
            -0.22649720311164856
           ],
           "y": [
            -0.04451823979616165,
            -0.03494979813694954
           ],
           "z": [
            -1.0800904035568237,
            -1.253977656364441
           ]
          },
          {
           "line": {
            "color": "red",
            "width": 2
           },
           "mode": "lines",
           "type": "scatter3d",
           "x": [
            -0.22649720311164856,
            -0.22306425869464874
           ],
           "y": [
            -0.03494979813694954,
            0.2146441489458084
           ],
           "z": [
            -1.253977656364441,
            -1.2447253465652466
           ]
          },
          {
           "line": {
            "color": "red",
            "width": 2
           },
           "mode": "lines",
           "type": "scatter3d",
           "x": [
            0.0973595529794693,
            0.13901066780090332
           ],
           "y": [
            0.2273288518190384,
            -2.1689904315280728e-05
           ],
           "z": [
            -1.2609360218048096,
            -1.3555526733398438
           ]
          },
          {
           "line": {
            "color": "red",
            "width": 2
           },
           "mode": "lines",
           "type": "scatter3d",
           "x": [
            0.13901066780090332,
            0.1225099191069603
           ],
           "y": [
            -2.1689904315280728e-05,
            -0.21511386334896088
           ],
           "z": [
            -1.3555526733398438,
            -1.2489044666290283
           ]
          },
          {
           "line": {
            "color": "red",
            "width": 2
           },
           "mode": "lines",
           "type": "scatter3d",
           "x": [
            -0.22306425869464874,
            0.0973595529794693
           ],
           "y": [
            0.2146441489458084,
            0.2273288518190384
           ],
           "z": [
            -1.2447253465652466,
            -1.2609360218048096
           ]
          },
          {
           "line": {
            "color": "lime",
            "width": 2
           },
           "mode": "lines",
           "type": "scatter3d",
           "x": [
            -0.10813283274991825,
            -0.25409218671426226
           ],
           "y": [
            -0.08004568185475153,
            -0.03297411745786347
           ],
           "z": [
            -1.1093027562983906,
            -1.2927140012475942
           ]
          },
          {
           "line": {
            "color": "lime",
            "width": 2
           },
           "mode": "lines",
           "type": "scatter3d",
           "x": [
            -0.25409218671426226,
            -0.22340548012019734
           ],
           "y": [
            -0.03297411745786347,
            0.21201175416361462
           ],
           "z": [
            -1.2927140012475942,
            -1.2633184195415084
           ]
          },
          {
           "line": {
            "color": "lime",
            "width": 2
           },
           "mode": "lines",
           "type": "scatter3d",
           "x": [
            0.09718351797863256,
            0.14004114268077486
           ],
           "y": [
            0.22633299227112413,
            0.005943881349320678
           ],
           "z": [
            -1.2614426615998795,
            -1.368287085982276
           ]
          },
          {
           "line": {
            "color": "lime",
            "width": 2
           },
           "mode": "lines",
           "type": "scatter3d",
           "x": [
            0.14004114268077486,
            0.12467455123603427
           ],
           "y": [
            0.005943881349320678,
            -0.2091629802885654
           ],
           "z": [
            -1.368287085982276,
            -1.265076041407882
           ]
          },
          {
           "line": {
            "color": "lime",
            "width": 2
           },
           "mode": "lines",
           "type": "scatter3d",
           "x": [
            -0.22340548012019734,
            0.09718351797863256
           ],
           "y": [
            0.21201175416361462,
            0.22633299227112413
           ],
           "z": [
            -1.2633184195415084,
            -1.2614426615998795
           ]
          }
         ],
         "name": "23"
        },
        {
         "data": [
          {
           "marker": {
            "color": "blue",
            "size": 6
           },
           "mode": "markers",
           "type": "scatter3d",
           "x": [
            -0.08706394,
            -0.22704913,
            -0.22245798,
            0.09791359,
            0.1392612,
            0.1229505
           ],
           "y": [
            -0.042874288,
            -0.034642182,
            0.21570575,
            0.22689848,
            -0.0017797521,
            -0.2183195
           ],
           "z": [
            -1.0771178,
            -1.2555441,
            -1.2470288,
            -1.2601534,
            -1.3503067,
            -1.2477384
           ]
          },
          {
           "marker": {
            "color": "green",
            "size": 6
           },
           "mode": "markers",
           "type": "scatter3d",
           "x": [
            -0.11376719705721827,
            -0.25477096438613095,
            -0.222539395354575,
            0.09806525717720721,
            0.1411613970651007,
            0.12468898290521513
           ],
           "y": [
            -0.07895331757113594,
            -0.03272985854746295,
            0.21202161926800578,
            0.22581782936650896,
            0.005032702349234683,
            -0.20864635716632274
           ],
           "z": [
            -1.1063849939151469,
            -1.2938345702506755,
            -1.2642078399705703,
            -1.2614439720444164,
            -1.367352247956335,
            -1.26139986483286
           ]
          },
          {
           "line": {
            "color": "red",
            "width": 2
           },
           "mode": "lines",
           "type": "scatter3d",
           "x": [
            -0.08706393837928772,
            -0.22704912722110748
           ],
           "y": [
            -0.0428742878139019,
            -0.03464218229055405
           ],
           "z": [
            -1.0771178007125854,
            -1.2555440664291382
           ]
          },
          {
           "line": {
            "color": "red",
            "width": 2
           },
           "mode": "lines",
           "type": "scatter3d",
           "x": [
            -0.22704912722110748,
            -0.22245797514915466
           ],
           "y": [
            -0.03464218229055405,
            0.2157057523727417
           ],
           "z": [
            -1.2555440664291382,
            -1.2470288276672363
           ]
          },
          {
           "line": {
            "color": "red",
            "width": 2
           },
           "mode": "lines",
           "type": "scatter3d",
           "x": [
            0.09791359305381775,
            0.13926120102405548
           ],
           "y": [
            0.22689847648143768,
            -0.0017797520849853754
           ],
           "z": [
            -1.2601534128189087,
            -1.350306749343872
           ]
          },
          {
           "line": {
            "color": "red",
            "width": 2
           },
           "mode": "lines",
           "type": "scatter3d",
           "x": [
            0.13926120102405548,
            0.12295050173997879
           ],
           "y": [
            -0.0017797520849853754,
            -0.21831950545310974
           ],
           "z": [
            -1.350306749343872,
            -1.2477383613586426
           ]
          },
          {
           "line": {
            "color": "red",
            "width": 2
           },
           "mode": "lines",
           "type": "scatter3d",
           "x": [
            -0.22245797514915466,
            0.09791359305381775
           ],
           "y": [
            0.2157057523727417,
            0.22689847648143768
           ],
           "z": [
            -1.2470288276672363,
            -1.2601534128189087
           ]
          },
          {
           "line": {
            "color": "lime",
            "width": 2
           },
           "mode": "lines",
           "type": "scatter3d",
           "x": [
            -0.11376719705721827,
            -0.25477096438613095
           ],
           "y": [
            -0.07895331757113594,
            -0.03272985854746295
           ],
           "z": [
            -1.1063849939151469,
            -1.2938345702506755
           ]
          },
          {
           "line": {
            "color": "lime",
            "width": 2
           },
           "mode": "lines",
           "type": "scatter3d",
           "x": [
            -0.25477096438613095,
            -0.222539395354575
           ],
           "y": [
            -0.03272985854746295,
            0.21202161926800578
           ],
           "z": [
            -1.2938345702506755,
            -1.2642078399705703
           ]
          },
          {
           "line": {
            "color": "lime",
            "width": 2
           },
           "mode": "lines",
           "type": "scatter3d",
           "x": [
            0.09806525717720721,
            0.1411613970651007
           ],
           "y": [
            0.22581782936650896,
            0.005032702349234683
           ],
           "z": [
            -1.2614439720444164,
            -1.367352247956335
           ]
          },
          {
           "line": {
            "color": "lime",
            "width": 2
           },
           "mode": "lines",
           "type": "scatter3d",
           "x": [
            0.1411613970651007,
            0.12468898290521513
           ],
           "y": [
            0.005032702349234683,
            -0.20864635716632274
           ],
           "z": [
            -1.367352247956335,
            -1.26139986483286
           ]
          },
          {
           "line": {
            "color": "lime",
            "width": 2
           },
           "mode": "lines",
           "type": "scatter3d",
           "x": [
            -0.222539395354575,
            0.09806525717720721
           ],
           "y": [
            0.21202161926800578,
            0.22581782936650896
           ],
           "z": [
            -1.2642078399705703,
            -1.2614439720444164
           ]
          }
         ],
         "name": "24"
        },
        {
         "data": [
          {
           "marker": {
            "color": "blue",
            "size": 6
           },
           "mode": "markers",
           "type": "scatter3d",
           "x": [
            -0.07807634,
            -0.22493288,
            -0.22065353,
            0.09914758,
            0.13926849,
            0.12148796
           ],
           "y": [
            -0.037481476,
            -0.03283463,
            0.21629582,
            0.22704059,
            -0.003647844,
            -0.2179906
           ],
           "z": [
            -1.0782185,
            -1.2515088,
            -1.2452034,
            -1.2635133,
            -1.3460596,
            -1.2407218
           ]
          },
          {
           "marker": {
            "color": "green",
            "size": 6
           },
           "mode": "markers",
           "type": "scatter3d",
           "x": [
            -0.11902567631249639,
            -0.25656533239539564,
            -0.22233560702405708,
            0.09829054018326838,
            0.14172901217625047,
            0.1249438375345508
           ],
           "y": [
            -0.07746285883698562,
            -0.03176877731804621,
            0.212512105673216,
            0.22562789916845283,
            0.004284651060304713,
            -0.20807746045639786
           ],
           "z": [
            -1.106240270943709,
            -1.2963473813174726,
            -1.2652988433866394,
            -1.2616140846048243,
            -1.3661564597402176,
            -1.2576837532057725
           ]
          },
          {
           "line": {
            "color": "red",
            "width": 2
           },
           "mode": "lines",
           "type": "scatter3d",
           "x": [
            -0.07807634025812149,
            -0.22493287920951843
           ],
           "y": [
            -0.03748147562146187,
            -0.03283463045954704
           ],
           "z": [
            -1.0782184600830078,
            -1.2515088319778442
           ]
          },
          {
           "line": {
            "color": "red",
            "width": 2
           },
           "mode": "lines",
           "type": "scatter3d",
           "x": [
            -0.22493287920951843,
            -0.22065353393554688
           ],
           "y": [
            -0.03283463045954704,
            0.21629582345485687
           ],
           "z": [
            -1.2515088319778442,
            -1.2452033758163452
           ]
          },
          {
           "line": {
            "color": "red",
            "width": 2
           },
           "mode": "lines",
           "type": "scatter3d",
           "x": [
            0.09914758056402206,
            0.13926848769187927
           ],
           "y": [
            0.2270405888557434,
            -0.003647844074293971
           ],
           "z": [
            -1.2635133266448975,
            -1.3460595607757568
           ]
          },
          {
           "line": {
            "color": "red",
            "width": 2
           },
           "mode": "lines",
           "type": "scatter3d",
           "x": [
            0.13926848769187927,
            0.12148796021938324
           ],
           "y": [
            -0.003647844074293971,
            -0.21799060702323914
           ],
           "z": [
            -1.3460595607757568,
            -1.2407218217849731
           ]
          },
          {
           "line": {
            "color": "red",
            "width": 2
           },
           "mode": "lines",
           "type": "scatter3d",
           "x": [
            -0.22065353393554688,
            0.09914758056402206
           ],
           "y": [
            0.21629582345485687,
            0.2270405888557434
           ],
           "z": [
            -1.2452033758163452,
            -1.2635133266448975
           ]
          },
          {
           "line": {
            "color": "lime",
            "width": 2
           },
           "mode": "lines",
           "type": "scatter3d",
           "x": [
            -0.11902567631249639,
            -0.25656533239539564
           ],
           "y": [
            -0.07746285883698562,
            -0.03176877731804621
           ],
           "z": [
            -1.106240270943709,
            -1.2963473813174726
           ]
          },
          {
           "line": {
            "color": "lime",
            "width": 2
           },
           "mode": "lines",
           "type": "scatter3d",
           "x": [
            -0.25656533239539564,
            -0.22233560702405708
           ],
           "y": [
            -0.03176877731804621,
            0.212512105673216
           ],
           "z": [
            -1.2963473813174726,
            -1.2652988433866394
           ]
          },
          {
           "line": {
            "color": "lime",
            "width": 2
           },
           "mode": "lines",
           "type": "scatter3d",
           "x": [
            0.09829054018326838,
            0.14172901217625047
           ],
           "y": [
            0.22562789916845283,
            0.004284651060304713
           ],
           "z": [
            -1.2616140846048243,
            -1.3661564597402176
           ]
          },
          {
           "line": {
            "color": "lime",
            "width": 2
           },
           "mode": "lines",
           "type": "scatter3d",
           "x": [
            0.14172901217625047,
            0.1249438375345508
           ],
           "y": [
            0.004284651060304713,
            -0.20807746045639786
           ],
           "z": [
            -1.3661564597402176,
            -1.2576837532057725
           ]
          },
          {
           "line": {
            "color": "lime",
            "width": 2
           },
           "mode": "lines",
           "type": "scatter3d",
           "x": [
            -0.22233560702405708,
            0.09829054018326838
           ],
           "y": [
            0.212512105673216,
            0.22562789916845283
           ],
           "z": [
            -1.2652988433866394,
            -1.2616140846048243
           ]
          }
         ],
         "name": "25"
        },
        {
         "data": [
          {
           "marker": {
            "color": "blue",
            "size": 6
           },
           "mode": "markers",
           "type": "scatter3d",
           "x": [
            -0.066709146,
            -0.22148742,
            -0.22012123,
            0.099599905,
            0.14023285,
            0.121441565
           ],
           "y": [
            -0.03507136,
            -0.03235722,
            0.21660653,
            0.22705887,
            -0.0040729796,
            -0.2158933
           ],
           "z": [
            -1.0772483,
            -1.24657,
            -1.2424588,
            -1.2653104,
            -1.3458844,
            -1.2356747
           ]
          },
          {
           "marker": {
            "color": "green",
            "size": 6
           },
           "mode": "markers",
           "type": "scatter3d",
           "x": [
            -0.12568282826656274,
            -0.2585076690062361,
            -0.22134314471760852,
            0.09930757423526165,
            0.14165252432293524,
            0.12407770006783073
           ],
           "y": [
            -0.07679896502668476,
            -0.030991359030417706,
            0.21266628820227673,
            0.22541144488192444,
            0.002983047594440416,
            -0.20824246119060463
           ],
           "z": [
            -1.1032125970018374,
            -1.2966107163108038,
            -1.2641108035674768,
            -1.2613673214393621,
            -1.3640269044083553,
            -1.2534898519599347
           ]
          },
          {
           "line": {
            "color": "red",
            "width": 2
           },
           "mode": "lines",
           "type": "scatter3d",
           "x": [
            -0.06670914590358734,
            -0.22148741781711578
           ],
           "y": [
            -0.03507136180996895,
            -0.032357219606637955
           ],
           "z": [
            -1.0772483348846436,
            -1.2465699911117554
           ]
          },
          {
           "line": {
            "color": "red",
            "width": 2
           },
           "mode": "lines",
           "type": "scatter3d",
           "x": [
            -0.22148741781711578,
            -0.22012123465538025
           ],
           "y": [
            -0.032357219606637955,
            0.2166065275669098
           ],
           "z": [
            -1.2465699911117554,
            -1.2424588203430176
           ]
          },
          {
           "line": {
            "color": "red",
            "width": 2
           },
           "mode": "lines",
           "type": "scatter3d",
           "x": [
            0.09959990531206131,
            0.1402328461408615
           ],
           "y": [
            0.22705887258052826,
            -0.004072979558259249
           ],
           "z": [
            -1.2653104066848755,
            -1.3458844423294067
           ]
          },
          {
           "line": {
            "color": "red",
            "width": 2
           },
           "mode": "lines",
           "type": "scatter3d",
           "x": [
            0.1402328461408615,
            0.1214415654540062
           ],
           "y": [
            -0.004072979558259249,
            -0.21589329838752747
           ],
           "z": [
            -1.3458844423294067,
            -1.2356747388839722
           ]
          },
          {
           "line": {
            "color": "red",
            "width": 2
           },
           "mode": "lines",
           "type": "scatter3d",
           "x": [
            -0.22012123465538025,
            0.09959990531206131
           ],
           "y": [
            0.2166065275669098,
            0.22705887258052826
           ],
           "z": [
            -1.2424588203430176,
            -1.2653104066848755
           ]
          },
          {
           "line": {
            "color": "lime",
            "width": 2
           },
           "mode": "lines",
           "type": "scatter3d",
           "x": [
            -0.12568282826656274,
            -0.2585076690062361
           ],
           "y": [
            -0.07679896502668476,
            -0.030991359030417706
           ],
           "z": [
            -1.1032125970018374,
            -1.2966107163108038
           ]
          },
          {
           "line": {
            "color": "lime",
            "width": 2
           },
           "mode": "lines",
           "type": "scatter3d",
           "x": [
            -0.2585076690062361,
            -0.22134314471760852
           ],
           "y": [
            -0.030991359030417706,
            0.21266628820227673
           ],
           "z": [
            -1.2966107163108038,
            -1.2641108035674768
           ]
          },
          {
           "line": {
            "color": "lime",
            "width": 2
           },
           "mode": "lines",
           "type": "scatter3d",
           "x": [
            0.09930757423526165,
            0.14165252432293524
           ],
           "y": [
            0.22541144488192444,
            0.002983047594440416
           ],
           "z": [
            -1.2613673214393621,
            -1.3640269044083553
           ]
          },
          {
           "line": {
            "color": "lime",
            "width": 2
           },
           "mode": "lines",
           "type": "scatter3d",
           "x": [
            0.14165252432293524,
            0.12407770006783073
           ],
           "y": [
            0.002983047594440416,
            -0.20824246119060463
           ],
           "z": [
            -1.3640269044083553,
            -1.2534898519599347
           ]
          },
          {
           "line": {
            "color": "lime",
            "width": 2
           },
           "mode": "lines",
           "type": "scatter3d",
           "x": [
            -0.22134314471760852,
            0.09930757423526165
           ],
           "y": [
            0.21266628820227673,
            0.22541144488192444
           ],
           "z": [
            -1.2641108035674768,
            -1.2613673214393621
           ]
          }
         ],
         "name": "26"
        },
        {
         "data": [
          {
           "marker": {
            "color": "blue",
            "size": 6
           },
           "mode": "markers",
           "type": "scatter3d",
           "x": [
            -0.062061183,
            -0.22076216,
            -0.22015405,
            0.09921971,
            0.14021294,
            0.12213565
           ],
           "y": [
            -0.035715938,
            -0.032557584,
            0.21695198,
            0.22726148,
            -0.0042511267,
            -0.21576029
           ],
           "z": [
            -1.0773735,
            -1.2447323,
            -1.2408956,
            -1.26588,
            -1.3457195,
            -1.2342519
           ]
          },
          {
           "marker": {
            "color": "green",
            "size": 6
           },
           "mode": "markers",
           "type": "scatter3d",
           "x": [
            -0.13072734410915787,
            -0.26002940532230245,
            -0.22050340464300755,
            0.1000806018784336,
            0.14145506934069513,
            0.12398329383036491
           ],
           "y": [
            -0.07508390143652033,
            -0.031516858236617276,
            0.21156260352021228,
            0.226081922688393,
            0.002615127769333328,
            -0.21039278805134676
           ],
           "z": [
            -1.1006431556676803,
            -1.2969119558891258,
            -1.262984395117585,
            -1.2624843117383353,
            -1.363240479698824,
            -1.2561848170005216
           ]
          },
          {
           "line": {
            "color": "red",
            "width": 2
           },
           "mode": "lines",
           "type": "scatter3d",
           "x": [
            -0.06206118315458298,
            -0.22076216340065002
           ],
           "y": [
            -0.03571593761444092,
            -0.03255758434534073
           ],
           "z": [
            -1.0773735046386719,
            -1.2447322607040405
           ]
          },
          {
           "line": {
            "color": "red",
            "width": 2
           },
           "mode": "lines",
           "type": "scatter3d",
           "x": [
            -0.22076216340065002,
            -0.2201540470123291
           ],
           "y": [
            -0.03255758434534073,
            0.21695198118686676
           ],
           "z": [
            -1.2447322607040405,
            -1.2408956289291382
           ]
          },
          {
           "line": {
            "color": "red",
            "width": 2
           },
           "mode": "lines",
           "type": "scatter3d",
           "x": [
            0.09921970963478088,
            0.14021293818950653
           ],
           "y": [
            0.227261483669281,
            -0.004251126665621996
           ],
           "z": [
            -1.2658799886703491,
            -1.3457194566726685
           ]
          },
          {
           "line": {
            "color": "red",
            "width": 2
           },
           "mode": "lines",
           "type": "scatter3d",
           "x": [
            0.14021293818950653,
            0.12213564664125443
           ],
           "y": [
            -0.004251126665621996,
            -0.21576029062271118
           ],
           "z": [
            -1.3457194566726685,
            -1.234251856803894
           ]
          },
          {
           "line": {
            "color": "red",
            "width": 2
           },
           "mode": "lines",
           "type": "scatter3d",
           "x": [
            -0.2201540470123291,
            0.09921970963478088
           ],
           "y": [
            0.21695198118686676,
            0.227261483669281
           ],
           "z": [
            -1.2408956289291382,
            -1.2658799886703491
           ]
          },
          {
           "line": {
            "color": "lime",
            "width": 2
           },
           "mode": "lines",
           "type": "scatter3d",
           "x": [
            -0.13072734410915787,
            -0.26002940532230245
           ],
           "y": [
            -0.07508390143652033,
            -0.031516858236617276
           ],
           "z": [
            -1.1006431556676803,
            -1.2969119558891258
           ]
          },
          {
           "line": {
            "color": "lime",
            "width": 2
           },
           "mode": "lines",
           "type": "scatter3d",
           "x": [
            -0.26002940532230245,
            -0.22050340464300755
           ],
           "y": [
            -0.031516858236617276,
            0.21156260352021228
           ],
           "z": [
            -1.2969119558891258,
            -1.262984395117585
           ]
          },
          {
           "line": {
            "color": "lime",
            "width": 2
           },
           "mode": "lines",
           "type": "scatter3d",
           "x": [
            0.1000806018784336,
            0.14145506934069513
           ],
           "y": [
            0.226081922688393,
            0.002615127769333328
           ],
           "z": [
            -1.2624843117383353,
            -1.363240479698824
           ]
          },
          {
           "line": {
            "color": "lime",
            "width": 2
           },
           "mode": "lines",
           "type": "scatter3d",
           "x": [
            0.14145506934069513,
            0.12398329383036491
           ],
           "y": [
            0.002615127769333328,
            -0.21039278805134676
           ],
           "z": [
            -1.363240479698824,
            -1.2561848170005216
           ]
          },
          {
           "line": {
            "color": "lime",
            "width": 2
           },
           "mode": "lines",
           "type": "scatter3d",
           "x": [
            -0.22050340464300755,
            0.1000806018784336
           ],
           "y": [
            0.21156260352021228,
            0.226081922688393
           ],
           "z": [
            -1.262984395117585,
            -1.2624843117383353
           ]
          }
         ],
         "name": "27"
        },
        {
         "data": [
          {
           "marker": {
            "color": "blue",
            "size": 6
           },
           "mode": "markers",
           "type": "scatter3d",
           "x": [
            -0.05833863,
            -0.2192866,
            -0.21979234,
            0.09945294,
            0.13993132,
            0.12197055
           ],
           "y": [
            -0.03373375,
            -0.031797234,
            0.21697599,
            0.22758852,
            -0.0042591617,
            -0.21603467
           ],
           "z": [
            -1.0756319,
            -1.240821,
            -1.2390448,
            -1.2663532,
            -1.3452075,
            -1.2337438
           ]
          },
          {
           "marker": {
            "color": "green",
            "size": 6
           },
           "mode": "markers",
           "type": "scatter3d",
           "x": [
            -0.13601873311405388,
            -0.26139026877776983,
            -0.22077213226049497,
            0.09981955584348509,
            0.14137567584100505,
            0.12380021073086195
           ],
           "y": [
            -0.07457670613215273,
            -0.03073785779304912,
            0.21190355705564823,
            0.2260113955488583,
            0.0027941473595502753,
            -0.21271330135133093
           ],
           "z": [
            -1.1008868233855287,
            -1.2995613834989879,
            -1.264248490328863,
            -1.2615873808762164,
            -1.3626756668246465,
            -1.2608960865861212
           ]
          },
          {
           "line": {
            "color": "red",
            "width": 2
           },
           "mode": "lines",
           "type": "scatter3d",
           "x": [
            -0.05833863094449043,
            -0.21928660571575165
           ],
           "y": [
            -0.03373375162482262,
            -0.03179723396897316
           ],
           "z": [
            -1.075631856918335,
            -1.2408210039138794
           ]
          },
          {
           "line": {
            "color": "red",
            "width": 2
           },
           "mode": "lines",
           "type": "scatter3d",
           "x": [
            -0.21928660571575165,
            -0.21979233622550964
           ],
           "y": [
            -0.03179723396897316,
            0.21697598695755005
           ],
           "z": [
            -1.2408210039138794,
            -1.2390447854995728
           ]
          },
          {
           "line": {
            "color": "red",
            "width": 2
           },
           "mode": "lines",
           "type": "scatter3d",
           "x": [
            0.09945294260978699,
            0.139931321144104
           ],
           "y": [
            0.22758851945400238,
            -0.004259161651134491
           ],
           "z": [
            -1.2663532495498657,
            -1.3452074527740479
           ]
          },
          {
           "line": {
            "color": "red",
            "width": 2
           },
           "mode": "lines",
           "type": "scatter3d",
           "x": [
            0.139931321144104,
            0.12197054922580719
           ],
           "y": [
            -0.004259161651134491,
            -0.2160346657037735
           ],
           "z": [
            -1.3452074527740479,
            -1.2337437868118286
           ]
          },
          {
           "line": {
            "color": "red",
            "width": 2
           },
           "mode": "lines",
           "type": "scatter3d",
           "x": [
            -0.21979233622550964,
            0.09945294260978699
           ],
           "y": [
            0.21697598695755005,
            0.22758851945400238
           ],
           "z": [
            -1.2390447854995728,
            -1.2663532495498657
           ]
          },
          {
           "line": {
            "color": "lime",
            "width": 2
           },
           "mode": "lines",
           "type": "scatter3d",
           "x": [
            -0.13601873311405388,
            -0.26139026877776983
           ],
           "y": [
            -0.07457670613215273,
            -0.03073785779304912
           ],
           "z": [
            -1.1008868233855287,
            -1.2995613834989879
           ]
          },
          {
           "line": {
            "color": "lime",
            "width": 2
           },
           "mode": "lines",
           "type": "scatter3d",
           "x": [
            -0.26139026877776983,
            -0.22077213226049497
           ],
           "y": [
            -0.03073785779304912,
            0.21190355705564823
           ],
           "z": [
            -1.2995613834989879,
            -1.264248490328863
           ]
          },
          {
           "line": {
            "color": "lime",
            "width": 2
           },
           "mode": "lines",
           "type": "scatter3d",
           "x": [
            0.09981955584348509,
            0.14137567584100505
           ],
           "y": [
            0.2260113955488583,
            0.0027941473595502753
           ],
           "z": [
            -1.2615873808762164,
            -1.3626756668246465
           ]
          },
          {
           "line": {
            "color": "lime",
            "width": 2
           },
           "mode": "lines",
           "type": "scatter3d",
           "x": [
            0.14137567584100505,
            0.12380021073086195
           ],
           "y": [
            0.0027941473595502753,
            -0.21271330135133093
           ],
           "z": [
            -1.3626756668246465,
            -1.2608960865861212
           ]
          },
          {
           "line": {
            "color": "lime",
            "width": 2
           },
           "mode": "lines",
           "type": "scatter3d",
           "x": [
            -0.22077213226049497,
            0.09981955584348509
           ],
           "y": [
            0.21190355705564823,
            0.2260113955488583
           ],
           "z": [
            -1.264248490328863,
            -1.2615873808762164
           ]
          }
         ],
         "name": "28"
        },
        {
         "data": [
          {
           "marker": {
            "color": "blue",
            "size": 6
           },
           "mode": "markers",
           "type": "scatter3d",
           "x": [
            -0.061226282,
            -0.22000113,
            -0.22025,
            0.09971082,
            0.1395107,
            0.12228382
           ],
           "y": [
            -0.027335573,
            -0.030400116,
            0.21609472,
            0.22839175,
            -0.0026477443,
            -0.21620412
           ],
           "z": [
            -1.0778908,
            -1.2431931,
            -1.2411177,
            -1.268489,
            -1.3496443,
            -1.2414639
           ]
          },
          {
           "marker": {
            "color": "green",
            "size": 6
           },
           "mode": "markers",
           "type": "scatter3d",
           "x": [
            -0.14119611393920417,
            -0.2595639527549921,
            -0.22061322649590553,
            0.10001450032196332,
            0.14220310732656513,
            0.12393124401555344
           ],
           "y": [
            -0.07359794047896379,
            -0.031102656454256333,
            0.21258088951243592,
            0.22522927826572303,
            0.0033177286016448093,
            -0.20943100751362875
           ],
           "z": [
            -1.090594056277471,
            -1.2938007136628755,
            -1.2642871141159369,
            -1.259656310025619,
            -1.363315702104888,
            -1.256012916081894
           ]
          },
          {
           "line": {
            "color": "red",
            "width": 2
           },
           "mode": "lines",
           "type": "scatter3d",
           "x": [
            -0.06122628226876259,
            -0.22000113129615784
           ],
           "y": [
            -0.027335572987794876,
            -0.030400115996599197
           ],
           "z": [
            -1.0778907537460327,
            -1.2431931495666504
           ]
          },
          {
           "line": {
            "color": "red",
            "width": 2
           },
           "mode": "lines",
           "type": "scatter3d",
           "x": [
            -0.22000113129615784,
            -0.2202499955892563
           ],
           "y": [
            -0.030400115996599197,
            0.2160947173833847
           ],
           "z": [
            -1.2431931495666504,
            -1.2411177158355713
           ]
          },
          {
           "line": {
            "color": "red",
            "width": 2
           },
           "mode": "lines",
           "type": "scatter3d",
           "x": [
            0.09971082210540771,
            0.13951070606708527
           ],
           "y": [
            0.22839175164699554,
            -0.002647744258865714
           ],
           "z": [
            -1.2684890031814575,
            -1.3496443033218384
           ]
          },
          {
           "line": {
            "color": "red",
            "width": 2
           },
           "mode": "lines",
           "type": "scatter3d",
           "x": [
            0.13951070606708527,
            0.12228381633758545
           ],
           "y": [
            -0.002647744258865714,
            -0.21620412170886993
           ],
           "z": [
            -1.3496443033218384,
            -1.2414638996124268
           ]
          },
          {
           "line": {
            "color": "red",
            "width": 2
           },
           "mode": "lines",
           "type": "scatter3d",
           "x": [
            -0.2202499955892563,
            0.09971082210540771
           ],
           "y": [
            0.2160947173833847,
            0.22839175164699554
           ],
           "z": [
            -1.2411177158355713,
            -1.2684890031814575
           ]
          },
          {
           "line": {
            "color": "lime",
            "width": 2
           },
           "mode": "lines",
           "type": "scatter3d",
           "x": [
            -0.14119611393920417,
            -0.2595639527549921
           ],
           "y": [
            -0.07359794047896379,
            -0.031102656454256333
           ],
           "z": [
            -1.090594056277471,
            -1.2938007136628755
           ]
          },
          {
           "line": {
            "color": "lime",
            "width": 2
           },
           "mode": "lines",
           "type": "scatter3d",
           "x": [
            -0.2595639527549921,
            -0.22061322649590553
           ],
           "y": [
            -0.031102656454256333,
            0.21258088951243592
           ],
           "z": [
            -1.2938007136628755,
            -1.2642871141159369
           ]
          },
          {
           "line": {
            "color": "lime",
            "width": 2
           },
           "mode": "lines",
           "type": "scatter3d",
           "x": [
            0.10001450032196332,
            0.14220310732656513
           ],
           "y": [
            0.22522927826572303,
            0.0033177286016448093
           ],
           "z": [
            -1.259656310025619,
            -1.363315702104888
           ]
          },
          {
           "line": {
            "color": "lime",
            "width": 2
           },
           "mode": "lines",
           "type": "scatter3d",
           "x": [
            0.14220310732656513,
            0.12393124401555344
           ],
           "y": [
            0.0033177286016448093,
            -0.20943100751362875
           ],
           "z": [
            -1.363315702104888,
            -1.256012916081894
           ]
          },
          {
           "line": {
            "color": "lime",
            "width": 2
           },
           "mode": "lines",
           "type": "scatter3d",
           "x": [
            -0.22061322649590553,
            0.10001450032196332
           ],
           "y": [
            0.21258088951243592,
            0.22522927826572303
           ],
           "z": [
            -1.2642871141159369,
            -1.259656310025619
           ]
          }
         ],
         "name": "29"
        }
       ],
       "layout": {
        "height": 700,
        "scene": {
         "aspectmode": "cube",
         "aspectratio": {
          "x": 1,
          "y": 1,
          "z": 1
         },
         "camera": {
          "center": {
           "x": 0,
           "y": 0,
           "z": 0
          },
          "eye": {
           "x": 2.0444259915499603,
           "y": 2.044425991549958,
           "z": 2.0444259915499567
          },
          "projection": {
           "type": "perspective"
          },
          "up": {
           "x": -0.408248290463863,
           "y": 0.816496580927726,
           "z": -0.4082482904638629
          }
         },
         "xaxis": {
          "autorange": false,
          "range": [
           -0.301940010468005,
           0.18465688981481715
          ],
          "title": {
           "text": "X"
          },
          "type": "linear"
         },
         "yaxis": {
          "autorange": false,
          "range": [
           -0.2659106329074544,
           0.2747103199264873
          ],
          "title": {
           "text": "Y"
          },
          "type": "linear"
         },
         "zaxis": {
          "autorange": false,
          "range": [
           -1.4086248043267262,
           -1.041962826224093
          ],
          "title": {
           "text": "Z"
          },
          "type": "linear"
         }
        },
        "sliders": [
         {
          "active": 29,
          "currentvalue": {
           "font": {
            "size": 12
           },
           "prefix": "Frame: ",
           "visible": true,
           "xanchor": "center"
          },
          "len": 1,
          "steps": [
           {
            "args": [
             [
              "0"
             ],
             {
              "frame": {
               "duration": 500,
               "redraw": true
              },
              "mode": "immediate",
              "transition": {
               "duration": 0
              }
             }
            ],
            "label": "0",
            "method": "animate"
           },
           {
            "args": [
             [
              "1"
             ],
             {
              "frame": {
               "duration": 500,
               "redraw": true
              },
              "mode": "immediate",
              "transition": {
               "duration": 0
              }
             }
            ],
            "label": "1",
            "method": "animate"
           },
           {
            "args": [
             [
              "2"
             ],
             {
              "frame": {
               "duration": 500,
               "redraw": true
              },
              "mode": "immediate",
              "transition": {
               "duration": 0
              }
             }
            ],
            "label": "2",
            "method": "animate"
           },
           {
            "args": [
             [
              "3"
             ],
             {
              "frame": {
               "duration": 500,
               "redraw": true
              },
              "mode": "immediate",
              "transition": {
               "duration": 0
              }
             }
            ],
            "label": "3",
            "method": "animate"
           },
           {
            "args": [
             [
              "4"
             ],
             {
              "frame": {
               "duration": 500,
               "redraw": true
              },
              "mode": "immediate",
              "transition": {
               "duration": 0
              }
             }
            ],
            "label": "4",
            "method": "animate"
           },
           {
            "args": [
             [
              "5"
             ],
             {
              "frame": {
               "duration": 500,
               "redraw": true
              },
              "mode": "immediate",
              "transition": {
               "duration": 0
              }
             }
            ],
            "label": "5",
            "method": "animate"
           },
           {
            "args": [
             [
              "6"
             ],
             {
              "frame": {
               "duration": 500,
               "redraw": true
              },
              "mode": "immediate",
              "transition": {
               "duration": 0
              }
             }
            ],
            "label": "6",
            "method": "animate"
           },
           {
            "args": [
             [
              "7"
             ],
             {
              "frame": {
               "duration": 500,
               "redraw": true
              },
              "mode": "immediate",
              "transition": {
               "duration": 0
              }
             }
            ],
            "label": "7",
            "method": "animate"
           },
           {
            "args": [
             [
              "8"
             ],
             {
              "frame": {
               "duration": 500,
               "redraw": true
              },
              "mode": "immediate",
              "transition": {
               "duration": 0
              }
             }
            ],
            "label": "8",
            "method": "animate"
           },
           {
            "args": [
             [
              "9"
             ],
             {
              "frame": {
               "duration": 500,
               "redraw": true
              },
              "mode": "immediate",
              "transition": {
               "duration": 0
              }
             }
            ],
            "label": "9",
            "method": "animate"
           },
           {
            "args": [
             [
              "10"
             ],
             {
              "frame": {
               "duration": 500,
               "redraw": true
              },
              "mode": "immediate",
              "transition": {
               "duration": 0
              }
             }
            ],
            "label": "10",
            "method": "animate"
           },
           {
            "args": [
             [
              "11"
             ],
             {
              "frame": {
               "duration": 500,
               "redraw": true
              },
              "mode": "immediate",
              "transition": {
               "duration": 0
              }
             }
            ],
            "label": "11",
            "method": "animate"
           },
           {
            "args": [
             [
              "12"
             ],
             {
              "frame": {
               "duration": 500,
               "redraw": true
              },
              "mode": "immediate",
              "transition": {
               "duration": 0
              }
             }
            ],
            "label": "12",
            "method": "animate"
           },
           {
            "args": [
             [
              "13"
             ],
             {
              "frame": {
               "duration": 500,
               "redraw": true
              },
              "mode": "immediate",
              "transition": {
               "duration": 0
              }
             }
            ],
            "label": "13",
            "method": "animate"
           },
           {
            "args": [
             [
              "14"
             ],
             {
              "frame": {
               "duration": 500,
               "redraw": true
              },
              "mode": "immediate",
              "transition": {
               "duration": 0
              }
             }
            ],
            "label": "14",
            "method": "animate"
           },
           {
            "args": [
             [
              "15"
             ],
             {
              "frame": {
               "duration": 500,
               "redraw": true
              },
              "mode": "immediate",
              "transition": {
               "duration": 0
              }
             }
            ],
            "label": "15",
            "method": "animate"
           },
           {
            "args": [
             [
              "16"
             ],
             {
              "frame": {
               "duration": 500,
               "redraw": true
              },
              "mode": "immediate",
              "transition": {
               "duration": 0
              }
             }
            ],
            "label": "16",
            "method": "animate"
           },
           {
            "args": [
             [
              "17"
             ],
             {
              "frame": {
               "duration": 500,
               "redraw": true
              },
              "mode": "immediate",
              "transition": {
               "duration": 0
              }
             }
            ],
            "label": "17",
            "method": "animate"
           },
           {
            "args": [
             [
              "18"
             ],
             {
              "frame": {
               "duration": 500,
               "redraw": true
              },
              "mode": "immediate",
              "transition": {
               "duration": 0
              }
             }
            ],
            "label": "18",
            "method": "animate"
           },
           {
            "args": [
             [
              "19"
             ],
             {
              "frame": {
               "duration": 500,
               "redraw": true
              },
              "mode": "immediate",
              "transition": {
               "duration": 0
              }
             }
            ],
            "label": "19",
            "method": "animate"
           },
           {
            "args": [
             [
              "20"
             ],
             {
              "frame": {
               "duration": 500,
               "redraw": true
              },
              "mode": "immediate",
              "transition": {
               "duration": 0
              }
             }
            ],
            "label": "20",
            "method": "animate"
           },
           {
            "args": [
             [
              "21"
             ],
             {
              "frame": {
               "duration": 500,
               "redraw": true
              },
              "mode": "immediate",
              "transition": {
               "duration": 0
              }
             }
            ],
            "label": "21",
            "method": "animate"
           },
           {
            "args": [
             [
              "22"
             ],
             {
              "frame": {
               "duration": 500,
               "redraw": true
              },
              "mode": "immediate",
              "transition": {
               "duration": 0
              }
             }
            ],
            "label": "22",
            "method": "animate"
           },
           {
            "args": [
             [
              "23"
             ],
             {
              "frame": {
               "duration": 500,
               "redraw": true
              },
              "mode": "immediate",
              "transition": {
               "duration": 0
              }
             }
            ],
            "label": "23",
            "method": "animate"
           },
           {
            "args": [
             [
              "24"
             ],
             {
              "frame": {
               "duration": 500,
               "redraw": true
              },
              "mode": "immediate",
              "transition": {
               "duration": 0
              }
             }
            ],
            "label": "24",
            "method": "animate"
           },
           {
            "args": [
             [
              "25"
             ],
             {
              "frame": {
               "duration": 500,
               "redraw": true
              },
              "mode": "immediate",
              "transition": {
               "duration": 0
              }
             }
            ],
            "label": "25",
            "method": "animate"
           },
           {
            "args": [
             [
              "26"
             ],
             {
              "frame": {
               "duration": 500,
               "redraw": true
              },
              "mode": "immediate",
              "transition": {
               "duration": 0
              }
             }
            ],
            "label": "26",
            "method": "animate"
           },
           {
            "args": [
             [
              "27"
             ],
             {
              "frame": {
               "duration": 500,
               "redraw": true
              },
              "mode": "immediate",
              "transition": {
               "duration": 0
              }
             }
            ],
            "label": "27",
            "method": "animate"
           },
           {
            "args": [
             [
              "28"
             ],
             {
              "frame": {
               "duration": 500,
               "redraw": true
              },
              "mode": "immediate",
              "transition": {
               "duration": 0
              }
             }
            ],
            "label": "28",
            "method": "animate"
           },
           {
            "args": [
             [
              "29"
             ],
             {
              "frame": {
               "duration": 500,
               "redraw": true
              },
              "mode": "immediate",
              "transition": {
               "duration": 0
              }
             }
            ],
            "label": "29",
            "method": "animate"
           }
          ],
          "transition": {
           "duration": 0
          },
          "x": 0,
          "y": 0
         }
        ],
        "template": {
         "data": {
          "bar": [
           {
            "error_x": {
             "color": "#2a3f5f"
            },
            "error_y": {
             "color": "#2a3f5f"
            },
            "marker": {
             "line": {
              "color": "#E5ECF6",
              "width": 0.5
             },
             "pattern": {
              "fillmode": "overlay",
              "size": 10,
              "solidity": 0.2
             }
            },
            "type": "bar"
           }
          ],
          "barpolar": [
           {
            "marker": {
             "line": {
              "color": "#E5ECF6",
              "width": 0.5
             },
             "pattern": {
              "fillmode": "overlay",
              "size": 10,
              "solidity": 0.2
             }
            },
            "type": "barpolar"
           }
          ],
          "carpet": [
           {
            "aaxis": {
             "endlinecolor": "#2a3f5f",
             "gridcolor": "white",
             "linecolor": "white",
             "minorgridcolor": "white",
             "startlinecolor": "#2a3f5f"
            },
            "baxis": {
             "endlinecolor": "#2a3f5f",
             "gridcolor": "white",
             "linecolor": "white",
             "minorgridcolor": "white",
             "startlinecolor": "#2a3f5f"
            },
            "type": "carpet"
           }
          ],
          "choropleth": [
           {
            "colorbar": {
             "outlinewidth": 0,
             "ticks": ""
            },
            "type": "choropleth"
           }
          ],
          "contour": [
           {
            "colorbar": {
             "outlinewidth": 0,
             "ticks": ""
            },
            "colorscale": [
             [
              0,
              "#0d0887"
             ],
             [
              0.1111111111111111,
              "#46039f"
             ],
             [
              0.2222222222222222,
              "#7201a8"
             ],
             [
              0.3333333333333333,
              "#9c179e"
             ],
             [
              0.4444444444444444,
              "#bd3786"
             ],
             [
              0.5555555555555556,
              "#d8576b"
             ],
             [
              0.6666666666666666,
              "#ed7953"
             ],
             [
              0.7777777777777778,
              "#fb9f3a"
             ],
             [
              0.8888888888888888,
              "#fdca26"
             ],
             [
              1,
              "#f0f921"
             ]
            ],
            "type": "contour"
           }
          ],
          "contourcarpet": [
           {
            "colorbar": {
             "outlinewidth": 0,
             "ticks": ""
            },
            "type": "contourcarpet"
           }
          ],
          "heatmap": [
           {
            "colorbar": {
             "outlinewidth": 0,
             "ticks": ""
            },
            "colorscale": [
             [
              0,
              "#0d0887"
             ],
             [
              0.1111111111111111,
              "#46039f"
             ],
             [
              0.2222222222222222,
              "#7201a8"
             ],
             [
              0.3333333333333333,
              "#9c179e"
             ],
             [
              0.4444444444444444,
              "#bd3786"
             ],
             [
              0.5555555555555556,
              "#d8576b"
             ],
             [
              0.6666666666666666,
              "#ed7953"
             ],
             [
              0.7777777777777778,
              "#fb9f3a"
             ],
             [
              0.8888888888888888,
              "#fdca26"
             ],
             [
              1,
              "#f0f921"
             ]
            ],
            "type": "heatmap"
           }
          ],
          "heatmapgl": [
           {
            "colorbar": {
             "outlinewidth": 0,
             "ticks": ""
            },
            "colorscale": [
             [
              0,
              "#0d0887"
             ],
             [
              0.1111111111111111,
              "#46039f"
             ],
             [
              0.2222222222222222,
              "#7201a8"
             ],
             [
              0.3333333333333333,
              "#9c179e"
             ],
             [
              0.4444444444444444,
              "#bd3786"
             ],
             [
              0.5555555555555556,
              "#d8576b"
             ],
             [
              0.6666666666666666,
              "#ed7953"
             ],
             [
              0.7777777777777778,
              "#fb9f3a"
             ],
             [
              0.8888888888888888,
              "#fdca26"
             ],
             [
              1,
              "#f0f921"
             ]
            ],
            "type": "heatmapgl"
           }
          ],
          "histogram": [
           {
            "marker": {
             "pattern": {
              "fillmode": "overlay",
              "size": 10,
              "solidity": 0.2
             }
            },
            "type": "histogram"
           }
          ],
          "histogram2d": [
           {
            "colorbar": {
             "outlinewidth": 0,
             "ticks": ""
            },
            "colorscale": [
             [
              0,
              "#0d0887"
             ],
             [
              0.1111111111111111,
              "#46039f"
             ],
             [
              0.2222222222222222,
              "#7201a8"
             ],
             [
              0.3333333333333333,
              "#9c179e"
             ],
             [
              0.4444444444444444,
              "#bd3786"
             ],
             [
              0.5555555555555556,
              "#d8576b"
             ],
             [
              0.6666666666666666,
              "#ed7953"
             ],
             [
              0.7777777777777778,
              "#fb9f3a"
             ],
             [
              0.8888888888888888,
              "#fdca26"
             ],
             [
              1,
              "#f0f921"
             ]
            ],
            "type": "histogram2d"
           }
          ],
          "histogram2dcontour": [
           {
            "colorbar": {
             "outlinewidth": 0,
             "ticks": ""
            },
            "colorscale": [
             [
              0,
              "#0d0887"
             ],
             [
              0.1111111111111111,
              "#46039f"
             ],
             [
              0.2222222222222222,
              "#7201a8"
             ],
             [
              0.3333333333333333,
              "#9c179e"
             ],
             [
              0.4444444444444444,
              "#bd3786"
             ],
             [
              0.5555555555555556,
              "#d8576b"
             ],
             [
              0.6666666666666666,
              "#ed7953"
             ],
             [
              0.7777777777777778,
              "#fb9f3a"
             ],
             [
              0.8888888888888888,
              "#fdca26"
             ],
             [
              1,
              "#f0f921"
             ]
            ],
            "type": "histogram2dcontour"
           }
          ],
          "mesh3d": [
           {
            "colorbar": {
             "outlinewidth": 0,
             "ticks": ""
            },
            "type": "mesh3d"
           }
          ],
          "parcoords": [
           {
            "line": {
             "colorbar": {
              "outlinewidth": 0,
              "ticks": ""
             }
            },
            "type": "parcoords"
           }
          ],
          "pie": [
           {
            "automargin": true,
            "type": "pie"
           }
          ],
          "scatter": [
           {
            "fillpattern": {
             "fillmode": "overlay",
             "size": 10,
             "solidity": 0.2
            },
            "type": "scatter"
           }
          ],
          "scatter3d": [
           {
            "line": {
             "colorbar": {
              "outlinewidth": 0,
              "ticks": ""
             }
            },
            "marker": {
             "colorbar": {
              "outlinewidth": 0,
              "ticks": ""
             }
            },
            "type": "scatter3d"
           }
          ],
          "scattercarpet": [
           {
            "marker": {
             "colorbar": {
              "outlinewidth": 0,
              "ticks": ""
             }
            },
            "type": "scattercarpet"
           }
          ],
          "scattergeo": [
           {
            "marker": {
             "colorbar": {
              "outlinewidth": 0,
              "ticks": ""
             }
            },
            "type": "scattergeo"
           }
          ],
          "scattergl": [
           {
            "marker": {
             "colorbar": {
              "outlinewidth": 0,
              "ticks": ""
             }
            },
            "type": "scattergl"
           }
          ],
          "scattermapbox": [
           {
            "marker": {
             "colorbar": {
              "outlinewidth": 0,
              "ticks": ""
             }
            },
            "type": "scattermapbox"
           }
          ],
          "scatterpolar": [
           {
            "marker": {
             "colorbar": {
              "outlinewidth": 0,
              "ticks": ""
             }
            },
            "type": "scatterpolar"
           }
          ],
          "scatterpolargl": [
           {
            "marker": {
             "colorbar": {
              "outlinewidth": 0,
              "ticks": ""
             }
            },
            "type": "scatterpolargl"
           }
          ],
          "scatterternary": [
           {
            "marker": {
             "colorbar": {
              "outlinewidth": 0,
              "ticks": ""
             }
            },
            "type": "scatterternary"
           }
          ],
          "surface": [
           {
            "colorbar": {
             "outlinewidth": 0,
             "ticks": ""
            },
            "colorscale": [
             [
              0,
              "#0d0887"
             ],
             [
              0.1111111111111111,
              "#46039f"
             ],
             [
              0.2222222222222222,
              "#7201a8"
             ],
             [
              0.3333333333333333,
              "#9c179e"
             ],
             [
              0.4444444444444444,
              "#bd3786"
             ],
             [
              0.5555555555555556,
              "#d8576b"
             ],
             [
              0.6666666666666666,
              "#ed7953"
             ],
             [
              0.7777777777777778,
              "#fb9f3a"
             ],
             [
              0.8888888888888888,
              "#fdca26"
             ],
             [
              1,
              "#f0f921"
             ]
            ],
            "type": "surface"
           }
          ],
          "table": [
           {
            "cells": {
             "fill": {
              "color": "#EBF0F8"
             },
             "line": {
              "color": "white"
             }
            },
            "header": {
             "fill": {
              "color": "#C8D4E3"
             },
             "line": {
              "color": "white"
             }
            },
            "type": "table"
           }
          ]
         },
         "layout": {
          "annotationdefaults": {
           "arrowcolor": "#2a3f5f",
           "arrowhead": 0,
           "arrowwidth": 1
          },
          "autotypenumbers": "strict",
          "coloraxis": {
           "colorbar": {
            "outlinewidth": 0,
            "ticks": ""
           }
          },
          "colorscale": {
           "diverging": [
            [
             0,
             "#8e0152"
            ],
            [
             0.1,
             "#c51b7d"
            ],
            [
             0.2,
             "#de77ae"
            ],
            [
             0.3,
             "#f1b6da"
            ],
            [
             0.4,
             "#fde0ef"
            ],
            [
             0.5,
             "#f7f7f7"
            ],
            [
             0.6,
             "#e6f5d0"
            ],
            [
             0.7,
             "#b8e186"
            ],
            [
             0.8,
             "#7fbc41"
            ],
            [
             0.9,
             "#4d9221"
            ],
            [
             1,
             "#276419"
            ]
           ],
           "sequential": [
            [
             0,
             "#0d0887"
            ],
            [
             0.1111111111111111,
             "#46039f"
            ],
            [
             0.2222222222222222,
             "#7201a8"
            ],
            [
             0.3333333333333333,
             "#9c179e"
            ],
            [
             0.4444444444444444,
             "#bd3786"
            ],
            [
             0.5555555555555556,
             "#d8576b"
            ],
            [
             0.6666666666666666,
             "#ed7953"
            ],
            [
             0.7777777777777778,
             "#fb9f3a"
            ],
            [
             0.8888888888888888,
             "#fdca26"
            ],
            [
             1,
             "#f0f921"
            ]
           ],
           "sequentialminus": [
            [
             0,
             "#0d0887"
            ],
            [
             0.1111111111111111,
             "#46039f"
            ],
            [
             0.2222222222222222,
             "#7201a8"
            ],
            [
             0.3333333333333333,
             "#9c179e"
            ],
            [
             0.4444444444444444,
             "#bd3786"
            ],
            [
             0.5555555555555556,
             "#d8576b"
            ],
            [
             0.6666666666666666,
             "#ed7953"
            ],
            [
             0.7777777777777778,
             "#fb9f3a"
            ],
            [
             0.8888888888888888,
             "#fdca26"
            ],
            [
             1,
             "#f0f921"
            ]
           ]
          },
          "colorway": [
           "#636efa",
           "#EF553B",
           "#00cc96",
           "#ab63fa",
           "#FFA15A",
           "#19d3f3",
           "#FF6692",
           "#B6E880",
           "#FF97FF",
           "#FECB52"
          ],
          "font": {
           "color": "#2a3f5f"
          },
          "geo": {
           "bgcolor": "white",
           "lakecolor": "white",
           "landcolor": "#E5ECF6",
           "showlakes": true,
           "showland": true,
           "subunitcolor": "white"
          },
          "hoverlabel": {
           "align": "left"
          },
          "hovermode": "closest",
          "mapbox": {
           "style": "light"
          },
          "paper_bgcolor": "white",
          "plot_bgcolor": "#E5ECF6",
          "polar": {
           "angularaxis": {
            "gridcolor": "white",
            "linecolor": "white",
            "ticks": ""
           },
           "bgcolor": "#E5ECF6",
           "radialaxis": {
            "gridcolor": "white",
            "linecolor": "white",
            "ticks": ""
           }
          },
          "scene": {
           "xaxis": {
            "backgroundcolor": "#E5ECF6",
            "gridcolor": "white",
            "gridwidth": 2,
            "linecolor": "white",
            "showbackground": true,
            "ticks": "",
            "zerolinecolor": "white"
           },
           "yaxis": {
            "backgroundcolor": "#E5ECF6",
            "gridcolor": "white",
            "gridwidth": 2,
            "linecolor": "white",
            "showbackground": true,
            "ticks": "",
            "zerolinecolor": "white"
           },
           "zaxis": {
            "backgroundcolor": "#E5ECF6",
            "gridcolor": "white",
            "gridwidth": 2,
            "linecolor": "white",
            "showbackground": true,
            "ticks": "",
            "zerolinecolor": "white"
           }
          },
          "shapedefaults": {
           "line": {
            "color": "#2a3f5f"
           }
          },
          "ternary": {
           "aaxis": {
            "gridcolor": "white",
            "linecolor": "white",
            "ticks": ""
           },
           "baxis": {
            "gridcolor": "white",
            "linecolor": "white",
            "ticks": ""
           },
           "bgcolor": "#E5ECF6",
           "caxis": {
            "gridcolor": "white",
            "linecolor": "white",
            "ticks": ""
           }
          },
          "title": {
           "x": 0.05
          },
          "xaxis": {
           "automargin": true,
           "gridcolor": "white",
           "linecolor": "white",
           "ticks": "",
           "title": {
            "standoff": 15
           },
           "zerolinecolor": "white",
           "zerolinewidth": 2
          },
          "yaxis": {
           "automargin": true,
           "gridcolor": "white",
           "linecolor": "white",
           "ticks": "",
           "title": {
            "standoff": 15
           },
           "zerolinecolor": "white",
           "zerolinewidth": 2
          }
         }
        },
        "updatemenus": [
         {
          "buttons": [
           {
            "args": [
             null,
             {
              "frame": {
               "duration": 500,
               "redraw": true
              },
              "fromcurrent": true,
              "mode": "immediate"
             }
            ],
            "label": "Play",
            "method": "animate"
           }
          ],
          "showactive": false,
          "type": "buttons"
         }
        ],
        "width": 700
       }
      },
      "image/png": "[encoded data removed]",
      "text/html": [
       "<div>                            <div id=\"aff8a43c-d566-4021-9f83-2819b55e8001\" class=\"plotly-graph-div\" style=\"height:700px; width:700px;\"></div>            <script type=\"text/javascript\">                require([\"plotly\"], function(Plotly) {                    window.PLOTLYENV=window.PLOTLYENV || {};                                    if (document.getElementById(\"aff8a43c-d566-4021-9f83-2819b55e8001\")) {                    Plotly.newPlot(                        \"aff8a43c-d566-4021-9f83-2819b55e8001\",                        [{\"marker\":{\"color\":\"blue\",\"size\":6},\"mode\":\"markers\",\"name\":\"Prediction\",\"x\":[0],\"y\":[0],\"z\":[0],\"type\":\"scatter3d\"},{\"marker\":{\"color\":\"green\",\"size\":6},\"mode\":\"markers\",\"name\":\"Ground Truth\",\"x\":[0],\"y\":[0],\"z\":[0],\"type\":\"scatter3d\"},{\"line\":{\"color\":\"red\",\"width\":2},\"mode\":\"lines\",\"name\":\"Prediction\",\"x\":[0,0],\"y\":[0,0],\"z\":[0,0],\"type\":\"scatter3d\"},{\"line\":{\"color\":\"lime\",\"width\":2},\"mode\":\"lines\",\"name\":\"Ground Truth\",\"x\":[0,0],\"y\":[0,0],\"z\":[0,0],\"type\":\"scatter3d\"},{\"line\":{\"color\":\"red\",\"width\":2},\"mode\":\"lines\",\"name\":\"Prediction\",\"x\":[0,0],\"y\":[0,0],\"z\":[0,0],\"type\":\"scatter3d\"},{\"line\":{\"color\":\"lime\",\"width\":2},\"mode\":\"lines\",\"name\":\"Ground Truth\",\"x\":[0,0],\"y\":[0,0],\"z\":[0,0],\"type\":\"scatter3d\"},{\"line\":{\"color\":\"red\",\"width\":2},\"mode\":\"lines\",\"name\":\"Prediction\",\"x\":[0,0],\"y\":[0,0],\"z\":[0,0],\"type\":\"scatter3d\"},{\"line\":{\"color\":\"lime\",\"width\":2},\"mode\":\"lines\",\"name\":\"Ground Truth\",\"x\":[0,0],\"y\":[0,0],\"z\":[0,0],\"type\":\"scatter3d\"},{\"line\":{\"color\":\"red\",\"width\":2},\"mode\":\"lines\",\"name\":\"Prediction\",\"x\":[0,0],\"y\":[0,0],\"z\":[0,0],\"type\":\"scatter3d\"},{\"line\":{\"color\":\"lime\",\"width\":2},\"mode\":\"lines\",\"name\":\"Ground Truth\",\"x\":[0,0],\"y\":[0,0],\"z\":[0,0],\"type\":\"scatter3d\"},{\"line\":{\"color\":\"red\",\"width\":2},\"mode\":\"lines\",\"name\":\"Prediction\",\"x\":[0,0],\"y\":[0,0],\"z\":[0,0],\"type\":\"scatter3d\"},{\"line\":{\"color\":\"lime\",\"width\":2},\"mode\":\"lines\",\"name\":\"Ground Truth\",\"x\":[0,0],\"y\":[0,0],\"z\":[0,0],\"type\":\"scatter3d\"}],                        {\"template\":{\"data\":{\"histogram2dcontour\":[{\"type\":\"histogram2dcontour\",\"colorbar\":{\"outlinewidth\":0,\"ticks\":\"\"},\"colorscale\":[[0.0,\"#0d0887\"],[0.1111111111111111,\"#46039f\"],[0.2222222222222222,\"#7201a8\"],[0.3333333333333333,\"#9c179e\"],[0.4444444444444444,\"#bd3786\"],[0.5555555555555556,\"#d8576b\"],[0.6666666666666666,\"#ed7953\"],[0.7777777777777778,\"#fb9f3a\"],[0.8888888888888888,\"#fdca26\"],[1.0,\"#f0f921\"]]}],\"choropleth\":[{\"type\":\"choropleth\",\"colorbar\":{\"outlinewidth\":0,\"ticks\":\"\"}}],\"histogram2d\":[{\"type\":\"histogram2d\",\"colorbar\":{\"outlinewidth\":0,\"ticks\":\"\"},\"colorscale\":[[0.0,\"#0d0887\"],[0.1111111111111111,\"#46039f\"],[0.2222222222222222,\"#7201a8\"],[0.3333333333333333,\"#9c179e\"],[0.4444444444444444,\"#bd3786\"],[0.5555555555555556,\"#d8576b\"],[0.6666666666666666,\"#ed7953\"],[0.7777777777777778,\"#fb9f3a\"],[0.8888888888888888,\"#fdca26\"],[1.0,\"#f0f921\"]]}],\"heatmap\":[{\"type\":\"heatmap\",\"colorbar\":{\"outlinewidth\":0,\"ticks\":\"\"},\"colorscale\":[[0.0,\"#0d0887\"],[0.1111111111111111,\"#46039f\"],[0.2222222222222222,\"#7201a8\"],[0.3333333333333333,\"#9c179e\"],[0.4444444444444444,\"#bd3786\"],[0.5555555555555556,\"#d8576b\"],[0.6666666666666666,\"#ed7953\"],[0.7777777777777778,\"#fb9f3a\"],[0.8888888888888888,\"#fdca26\"],[1.0,\"#f0f921\"]]}],\"heatmapgl\":[{\"type\":\"heatmapgl\",\"colorbar\":{\"outlinewidth\":0,\"ticks\":\"\"},\"colorscale\":[[0.0,\"#0d0887\"],[0.1111111111111111,\"#46039f\"],[0.2222222222222222,\"#7201a8\"],[0.3333333333333333,\"#9c179e\"],[0.4444444444444444,\"#bd3786\"],[0.5555555555555556,\"#d8576b\"],[0.6666666666666666,\"#ed7953\"],[0.7777777777777778,\"#fb9f3a\"],[0.8888888888888888,\"#fdca26\"],[1.0,\"#f0f921\"]]}],\"contourcarpet\":[{\"type\":\"contourcarpet\",\"colorbar\":{\"outlinewidth\":0,\"ticks\":\"\"}}],\"contour\":[{\"type\":\"contour\",\"colorbar\":{\"outlinewidth\":0,\"ticks\":\"\"},\"colorscale\":[[0.0,\"#0d0887\"],[0.1111111111111111,\"#46039f\"],[0.2222222222222222,\"#7201a8\"],[0.3333333333333333,\"#9c179e\"],[0.4444444444444444,\"#bd3786\"],[0.5555555555555556,\"#d8576b\"],[0.6666666666666666,\"#ed7953\"],[0.7777777777777778,\"#fb9f3a\"],[0.8888888888888888,\"#fdca26\"],[1.0,\"#f0f921\"]]}],\"surface\":[{\"type\":\"surface\",\"colorbar\":{\"outlinewidth\":0,\"ticks\":\"\"},\"colorscale\":[[0.0,\"#0d0887\"],[0.1111111111111111,\"#46039f\"],[0.2222222222222222,\"#7201a8\"],[0.3333333333333333,\"#9c179e\"],[0.4444444444444444,\"#bd3786\"],[0.5555555555555556,\"#d8576b\"],[0.6666666666666666,\"#ed7953\"],[0.7777777777777778,\"#fb9f3a\"],[0.8888888888888888,\"#fdca26\"],[1.0,\"#f0f921\"]]}],\"mesh3d\":[{\"type\":\"mesh3d\",\"colorbar\":{\"outlinewidth\":0,\"ticks\":\"\"}}],\"scatter\":[{\"fillpattern\":{\"fillmode\":\"overlay\",\"size\":10,\"solidity\":0.2},\"type\":\"scatter\"}],\"parcoords\":[{\"type\":\"parcoords\",\"line\":{\"colorbar\":{\"outlinewidth\":0,\"ticks\":\"\"}}}],\"scatterpolargl\":[{\"type\":\"scatterpolargl\",\"marker\":{\"colorbar\":{\"outlinewidth\":0,\"ticks\":\"\"}}}],\"bar\":[{\"error_x\":{\"color\":\"#2a3f5f\"},\"error_y\":{\"color\":\"#2a3f5f\"},\"marker\":{\"line\":{\"color\":\"#E5ECF6\",\"width\":0.5},\"pattern\":{\"fillmode\":\"overlay\",\"size\":10,\"solidity\":0.2}},\"type\":\"bar\"}],\"scattergeo\":[{\"type\":\"scattergeo\",\"marker\":{\"colorbar\":{\"outlinewidth\":0,\"ticks\":\"\"}}}],\"scatterpolar\":[{\"type\":\"scatterpolar\",\"marker\":{\"colorbar\":{\"outlinewidth\":0,\"ticks\":\"\"}}}],\"histogram\":[{\"marker\":{\"pattern\":{\"fillmode\":\"overlay\",\"size\":10,\"solidity\":0.2}},\"type\":\"histogram\"}],\"scattergl\":[{\"type\":\"scattergl\",\"marker\":{\"colorbar\":{\"outlinewidth\":0,\"ticks\":\"\"}}}],\"scatter3d\":[{\"type\":\"scatter3d\",\"line\":{\"colorbar\":{\"outlinewidth\":0,\"ticks\":\"\"}},\"marker\":{\"colorbar\":{\"outlinewidth\":0,\"ticks\":\"\"}}}],\"scattermapbox\":[{\"type\":\"scattermapbox\",\"marker\":{\"colorbar\":{\"outlinewidth\":0,\"ticks\":\"\"}}}],\"scatterternary\":[{\"type\":\"scatterternary\",\"marker\":{\"colorbar\":{\"outlinewidth\":0,\"ticks\":\"\"}}}],\"scattercarpet\":[{\"type\":\"scattercarpet\",\"marker\":{\"colorbar\":{\"outlinewidth\":0,\"ticks\":\"\"}}}],\"carpet\":[{\"aaxis\":{\"endlinecolor\":\"#2a3f5f\",\"gridcolor\":\"white\",\"linecolor\":\"white\",\"minorgridcolor\":\"white\",\"startlinecolor\":\"#2a3f5f\"},\"baxis\":{\"endlinecolor\":\"#2a3f5f\",\"gridcolor\":\"white\",\"linecolor\":\"white\",\"minorgridcolor\":\"white\",\"startlinecolor\":\"#2a3f5f\"},\"type\":\"carpet\"}],\"table\":[{\"cells\":{\"fill\":{\"color\":\"#EBF0F8\"},\"line\":{\"color\":\"white\"}},\"header\":{\"fill\":{\"color\":\"#C8D4E3\"},\"line\":{\"color\":\"white\"}},\"type\":\"table\"}],\"barpolar\":[{\"marker\":{\"line\":{\"color\":\"#E5ECF6\",\"width\":0.5},\"pattern\":{\"fillmode\":\"overlay\",\"size\":10,\"solidity\":0.2}},\"type\":\"barpolar\"}],\"pie\":[{\"automargin\":true,\"type\":\"pie\"}]},\"layout\":{\"autotypenumbers\":\"strict\",\"colorway\":[\"#636efa\",\"#EF553B\",\"#00cc96\",\"#ab63fa\",\"#FFA15A\",\"#19d3f3\",\"#FF6692\",\"#B6E880\",\"#FF97FF\",\"#FECB52\"],\"font\":{\"color\":\"#2a3f5f\"},\"hovermode\":\"closest\",\"hoverlabel\":{\"align\":\"left\"},\"paper_bgcolor\":\"white\",\"plot_bgcolor\":\"#E5ECF6\",\"polar\":{\"bgcolor\":\"#E5ECF6\",\"angularaxis\":{\"gridcolor\":\"white\",\"linecolor\":\"white\",\"ticks\":\"\"},\"radialaxis\":{\"gridcolor\":\"white\",\"linecolor\":\"white\",\"ticks\":\"\"}},\"ternary\":{\"bgcolor\":\"#E5ECF6\",\"aaxis\":{\"gridcolor\":\"white\",\"linecolor\":\"white\",\"ticks\":\"\"},\"baxis\":{\"gridcolor\":\"white\",\"linecolor\":\"white\",\"ticks\":\"\"},\"caxis\":{\"gridcolor\":\"white\",\"linecolor\":\"white\",\"ticks\":\"\"}},\"coloraxis\":{\"colorbar\":{\"outlinewidth\":0,\"ticks\":\"\"}},\"colorscale\":{\"sequential\":[[0.0,\"#0d0887\"],[0.1111111111111111,\"#46039f\"],[0.2222222222222222,\"#7201a8\"],[0.3333333333333333,\"#9c179e\"],[0.4444444444444444,\"#bd3786\"],[0.5555555555555556,\"#d8576b\"],[0.6666666666666666,\"#ed7953\"],[0.7777777777777778,\"#fb9f3a\"],[0.8888888888888888,\"#fdca26\"],[1.0,\"#f0f921\"]],\"sequentialminus\":[[0.0,\"#0d0887\"],[0.1111111111111111,\"#46039f\"],[0.2222222222222222,\"#7201a8\"],[0.3333333333333333,\"#9c179e\"],[0.4444444444444444,\"#bd3786\"],[0.5555555555555556,\"#d8576b\"],[0.6666666666666666,\"#ed7953\"],[0.7777777777777778,\"#fb9f3a\"],[0.8888888888888888,\"#fdca26\"],[1.0,\"#f0f921\"]],\"diverging\":[[0,\"#8e0152\"],[0.1,\"#c51b7d\"],[0.2,\"#de77ae\"],[0.3,\"#f1b6da\"],[0.4,\"#fde0ef\"],[0.5,\"#f7f7f7\"],[0.6,\"#e6f5d0\"],[0.7,\"#b8e186\"],[0.8,\"#7fbc41\"],[0.9,\"#4d9221\"],[1,\"#276419\"]]},\"xaxis\":{\"gridcolor\":\"white\",\"linecolor\":\"white\",\"ticks\":\"\",\"title\":{\"standoff\":15},\"zerolinecolor\":\"white\",\"automargin\":true,\"zerolinewidth\":2},\"yaxis\":{\"gridcolor\":\"white\",\"linecolor\":\"white\",\"ticks\":\"\",\"title\":{\"standoff\":15},\"zerolinecolor\":\"white\",\"automargin\":true,\"zerolinewidth\":2},\"scene\":{\"xaxis\":{\"backgroundcolor\":\"#E5ECF6\",\"gridcolor\":\"white\",\"linecolor\":\"white\",\"showbackground\":true,\"ticks\":\"\",\"zerolinecolor\":\"white\",\"gridwidth\":2},\"yaxis\":{\"backgroundcolor\":\"#E5ECF6\",\"gridcolor\":\"white\",\"linecolor\":\"white\",\"showbackground\":true,\"ticks\":\"\",\"zerolinecolor\":\"white\",\"gridwidth\":2},\"zaxis\":{\"backgroundcolor\":\"#E5ECF6\",\"gridcolor\":\"white\",\"linecolor\":\"white\",\"showbackground\":true,\"ticks\":\"\",\"zerolinecolor\":\"white\",\"gridwidth\":2}},\"shapedefaults\":{\"line\":{\"color\":\"#2a3f5f\"}},\"annotationdefaults\":{\"arrowcolor\":\"#2a3f5f\",\"arrowhead\":0,\"arrowwidth\":1},\"geo\":{\"bgcolor\":\"white\",\"landcolor\":\"#E5ECF6\",\"subunitcolor\":\"white\",\"showland\":true,\"showlakes\":true,\"lakecolor\":\"white\"},\"title\":{\"x\":0.05},\"mapbox\":{\"style\":\"light\"}}},\"scene\":{\"xaxis\":{\"title\":{\"text\":\"X\"},\"range\":[-0.301940010468005,0.18465688981481715],\"autorange\":false},\"yaxis\":{\"title\":{\"text\":\"Y\"},\"range\":[-0.2659106329074544,0.2747103199264873],\"autorange\":false},\"zaxis\":{\"title\":{\"text\":\"Z\"},\"range\":[-1.4086248043267262,-1.041962826224093],\"autorange\":false},\"camera\":{\"eye\":{\"x\":1.5,\"y\":1.5,\"z\":1.5},\"up\":{\"x\":0,\"y\":1,\"z\":0}},\"aspectmode\":\"cube\"},\"updatemenus\":[{\"buttons\":[{\"args\":[null,{\"frame\":{\"duration\":500,\"redraw\":true},\"fromcurrent\":true,\"mode\":\"immediate\"}],\"label\":\"Play\",\"method\":\"animate\"}],\"showactive\":false,\"type\":\"buttons\"}],\"height\":700,\"width\":700,\"sliders\":[{\"currentvalue\":{\"font\":{\"size\":12},\"prefix\":\"Frame: \",\"visible\":true,\"xanchor\":\"center\"},\"len\":1.0,\"steps\":[{\"args\":[[\"0\"],{\"mode\":\"immediate\",\"frame\":{\"duration\":500,\"redraw\":true},\"transition\":{\"duration\":0}}],\"label\":\"0\",\"method\":\"animate\"},{\"args\":[[\"1\"],{\"mode\":\"immediate\",\"frame\":{\"duration\":500,\"redraw\":true},\"transition\":{\"duration\":0}}],\"label\":\"1\",\"method\":\"animate\"},{\"args\":[[\"2\"],{\"mode\":\"immediate\",\"frame\":{\"duration\":500,\"redraw\":true},\"transition\":{\"duration\":0}}],\"label\":\"2\",\"method\":\"animate\"},{\"args\":[[\"3\"],{\"mode\":\"immediate\",\"frame\":{\"duration\":500,\"redraw\":true},\"transition\":{\"duration\":0}}],\"label\":\"3\",\"method\":\"animate\"},{\"args\":[[\"4\"],{\"mode\":\"immediate\",\"frame\":{\"duration\":500,\"redraw\":true},\"transition\":{\"duration\":0}}],\"label\":\"4\",\"method\":\"animate\"},{\"args\":[[\"5\"],{\"mode\":\"immediate\",\"frame\":{\"duration\":500,\"redraw\":true},\"transition\":{\"duration\":0}}],\"label\":\"5\",\"method\":\"animate\"},{\"args\":[[\"6\"],{\"mode\":\"immediate\",\"frame\":{\"duration\":500,\"redraw\":true},\"transition\":{\"duration\":0}}],\"label\":\"6\",\"method\":\"animate\"},{\"args\":[[\"7\"],{\"mode\":\"immediate\",\"frame\":{\"duration\":500,\"redraw\":true},\"transition\":{\"duration\":0}}],\"label\":\"7\",\"method\":\"animate\"},{\"args\":[[\"8\"],{\"mode\":\"immediate\",\"frame\":{\"duration\":500,\"redraw\":true},\"transition\":{\"duration\":0}}],\"label\":\"8\",\"method\":\"animate\"},{\"args\":[[\"9\"],{\"mode\":\"immediate\",\"frame\":{\"duration\":500,\"redraw\":true},\"transition\":{\"duration\":0}}],\"label\":\"9\",\"method\":\"animate\"},{\"args\":[[\"10\"],{\"mode\":\"immediate\",\"frame\":{\"duration\":500,\"redraw\":true},\"transition\":{\"duration\":0}}],\"label\":\"10\",\"method\":\"animate\"},{\"args\":[[\"11\"],{\"mode\":\"immediate\",\"frame\":{\"duration\":500,\"redraw\":true},\"transition\":{\"duration\":0}}],\"label\":\"11\",\"method\":\"animate\"},{\"args\":[[\"12\"],{\"mode\":\"immediate\",\"frame\":{\"duration\":500,\"redraw\":true},\"transition\":{\"duration\":0}}],\"label\":\"12\",\"method\":\"animate\"},{\"args\":[[\"13\"],{\"mode\":\"immediate\",\"frame\":{\"duration\":500,\"redraw\":true},\"transition\":{\"duration\":0}}],\"label\":\"13\",\"method\":\"animate\"},{\"args\":[[\"14\"],{\"mode\":\"immediate\",\"frame\":{\"duration\":500,\"redraw\":true},\"transition\":{\"duration\":0}}],\"label\":\"14\",\"method\":\"animate\"},{\"args\":[[\"15\"],{\"mode\":\"immediate\",\"frame\":{\"duration\":500,\"redraw\":true},\"transition\":{\"duration\":0}}],\"label\":\"15\",\"method\":\"animate\"},{\"args\":[[\"16\"],{\"mode\":\"immediate\",\"frame\":{\"duration\":500,\"redraw\":true},\"transition\":{\"duration\":0}}],\"label\":\"16\",\"method\":\"animate\"},{\"args\":[[\"17\"],{\"mode\":\"immediate\",\"frame\":{\"duration\":500,\"redraw\":true},\"transition\":{\"duration\":0}}],\"label\":\"17\",\"method\":\"animate\"},{\"args\":[[\"18\"],{\"mode\":\"immediate\",\"frame\":{\"duration\":500,\"redraw\":true},\"transition\":{\"duration\":0}}],\"label\":\"18\",\"method\":\"animate\"},{\"args\":[[\"19\"],{\"mode\":\"immediate\",\"frame\":{\"duration\":500,\"redraw\":true},\"transition\":{\"duration\":0}}],\"label\":\"19\",\"method\":\"animate\"},{\"args\":[[\"20\"],{\"mode\":\"immediate\",\"frame\":{\"duration\":500,\"redraw\":true},\"transition\":{\"duration\":0}}],\"label\":\"20\",\"method\":\"animate\"},{\"args\":[[\"21\"],{\"mode\":\"immediate\",\"frame\":{\"duration\":500,\"redraw\":true},\"transition\":{\"duration\":0}}],\"label\":\"21\",\"method\":\"animate\"},{\"args\":[[\"22\"],{\"mode\":\"immediate\",\"frame\":{\"duration\":500,\"redraw\":true},\"transition\":{\"duration\":0}}],\"label\":\"22\",\"method\":\"animate\"},{\"args\":[[\"23\"],{\"mode\":\"immediate\",\"frame\":{\"duration\":500,\"redraw\":true},\"transition\":{\"duration\":0}}],\"label\":\"23\",\"method\":\"animate\"},{\"args\":[[\"24\"],{\"mode\":\"immediate\",\"frame\":{\"duration\":500,\"redraw\":true},\"transition\":{\"duration\":0}}],\"label\":\"24\",\"method\":\"animate\"},{\"args\":[[\"25\"],{\"mode\":\"immediate\",\"frame\":{\"duration\":500,\"redraw\":true},\"transition\":{\"duration\":0}}],\"label\":\"25\",\"method\":\"animate\"},{\"args\":[[\"26\"],{\"mode\":\"immediate\",\"frame\":{\"duration\":500,\"redraw\":true},\"transition\":{\"duration\":0}}],\"label\":\"26\",\"method\":\"animate\"},{\"args\":[[\"27\"],{\"mode\":\"immediate\",\"frame\":{\"duration\":500,\"redraw\":true},\"transition\":{\"duration\":0}}],\"label\":\"27\",\"method\":\"animate\"},{\"args\":[[\"28\"],{\"mode\":\"immediate\",\"frame\":{\"duration\":500,\"redraw\":true},\"transition\":{\"duration\":0}}],\"label\":\"28\",\"method\":\"animate\"},{\"args\":[[\"29\"],{\"mode\":\"immediate\",\"frame\":{\"duration\":500,\"redraw\":true},\"transition\":{\"duration\":0}}],\"label\":\"29\",\"method\":\"animate\"}],\"transition\":{\"duration\":0},\"x\":0,\"y\":0}]},                        {\"responsive\": true}                    ).then(function(){\n",
       "                            Plotly.addFrames('aff8a43c-d566-4021-9f83-2819b55e8001', [{\"data\":[{\"marker\":{\"color\":\"blue\",\"size\":6},\"mode\":\"markers\",\"x\":[-0.04029738,-0.22122058,-0.222664,0.09827448,0.14174895,0.12629499],\"y\":[-0.046232965,-0.034000736,0.21458012,0.2275132,0.0047697993,-0.2030052],\"z\":[-1.0981781,-1.2522073,-1.2407583,-1.2690982,-1.3716656,-1.2528784],\"type\":\"scatter3d\"},{\"marker\":{\"color\":\"green\",\"size\":6},\"mode\":\"markers\",\"x\":[-0.009749194647421078,-0.20696711490409125,-0.21831746405765778,0.10021840036474433,0.14154633894289856,0.1258316487146891],\"y\":[-0.06681674988568065,-0.033235094683985056,0.21390739086528332,0.2285605520022731,0.004781321606190769,-0.20192904760296793],\"z\":[-1.1218245066889576,-1.2548966431996273,-1.2357152707303456,-1.2728971242817346,-1.3756009346926934,-1.2545453305158905],\"type\":\"scatter3d\"},{\"line\":{\"color\":\"red\",\"width\":2},\"mode\":\"lines\",\"x\":[-0.040297381579875946,-0.22122058272361755],\"y\":[-0.04623296484351158,-0.034000735729932785],\"z\":[-1.0981781482696533,-1.2522072792053223],\"type\":\"scatter3d\"},{\"line\":{\"color\":\"red\",\"width\":2},\"mode\":\"lines\",\"x\":[-0.22122058272361755,-0.2226639986038208],\"y\":[-0.034000735729932785,0.21458011865615845],\"z\":[-1.2522072792053223,-1.2407582998275757],\"type\":\"scatter3d\"},{\"line\":{\"color\":\"red\",\"width\":2},\"mode\":\"lines\",\"x\":[0.09827447682619095,0.14174894988536835],\"y\":[0.22751319408416748,0.0047697992995381355],\"z\":[-1.269098162651062,-1.371665596961975],\"type\":\"scatter3d\"},{\"line\":{\"color\":\"red\",\"width\":2},\"mode\":\"lines\",\"x\":[0.14174894988536835,0.12629498541355133],\"y\":[0.0047697992995381355,-0.20300519466400146],\"z\":[-1.371665596961975,-1.2528784275054932],\"type\":\"scatter3d\"},{\"line\":{\"color\":\"red\",\"width\":2},\"mode\":\"lines\",\"x\":[-0.2226639986038208,0.09827447682619095],\"y\":[0.21458011865615845,0.22751319408416748],\"z\":[-1.2407582998275757,-1.269098162651062],\"type\":\"scatter3d\"},{\"line\":{\"color\":\"lime\",\"width\":2},\"mode\":\"lines\",\"x\":[-0.009749194647421078,-0.20696711490409125],\"y\":[-0.06681674988568065,-0.033235094683985056],\"z\":[-1.1218245066889576,-1.2548966431996273],\"type\":\"scatter3d\"},{\"line\":{\"color\":\"lime\",\"width\":2},\"mode\":\"lines\",\"x\":[-0.20696711490409125,-0.21831746405765778],\"y\":[-0.033235094683985056,0.21390739086528332],\"z\":[-1.2548966431996273,-1.2357152707303456],\"type\":\"scatter3d\"},{\"line\":{\"color\":\"lime\",\"width\":2},\"mode\":\"lines\",\"x\":[0.10021840036474433,0.14154633894289856],\"y\":[0.2285605520022731,0.004781321606190769],\"z\":[-1.2728971242817346,-1.3756009346926934],\"type\":\"scatter3d\"},{\"line\":{\"color\":\"lime\",\"width\":2},\"mode\":\"lines\",\"x\":[0.14154633894289856,0.1258316487146891],\"y\":[0.004781321606190769,-0.20192904760296793],\"z\":[-1.3756009346926934,-1.2545453305158905],\"type\":\"scatter3d\"},{\"line\":{\"color\":\"lime\",\"width\":2},\"mode\":\"lines\",\"x\":[-0.21831746405765778,0.10021840036474433],\"y\":[0.21390739086528332,0.2285605520022731],\"z\":[-1.2357152707303456,-1.2728971242817346],\"type\":\"scatter3d\"}],\"name\":\"0\"},{\"data\":[{\"marker\":{\"color\":\"blue\",\"size\":6},\"mode\":\"markers\",\"x\":[-0.061128687,-0.22928022,-0.22453725,0.097003594,0.14089268,0.12560119],\"y\":[-0.045800023,-0.035083078,0.2136028,0.22779283,0.0042880517,-0.20585732],\"z\":[-1.0933958,-1.2572829,-1.2450714,-1.2669139,-1.3691919,-1.2544141],\"type\":\"scatter3d\"},{\"marker\":{\"color\":\"green\",\"size\":6},\"mode\":\"markers\",\"x\":[-0.012700463597695943,-0.20881341402396458,-0.21783633535083838,0.10064620522873166,0.14210371664505186,0.12617366015646586],\"y\":[-0.06653282201292249,-0.033235094683985056,0.2142179609164685,0.2285442501725885,0.003321662451398255,-0.20391845701908412],\"z\":[-1.1206507656579454,-1.2553830147690732,-1.2371562723072387,-1.274702191565753,-1.3741517059728192,-1.2540302284091647],\"type\":\"scatter3d\"},{\"line\":{\"color\":\"red\",\"width\":2},\"mode\":\"lines\",\"x\":[-0.06112868711352348,-0.22928021848201752],\"y\":[-0.04580002278089523,-0.03508307784795761],\"z\":[-1.0933958292007446,-1.2572828531265259],\"type\":\"scatter3d\"},{\"line\":{\"color\":\"red\",\"width\":2},\"mode\":\"lines\",\"x\":[-0.22928021848201752,-0.22453725337982178],\"y\":[-0.03508307784795761,0.21360279619693756],\"z\":[-1.2572828531265259,-1.2450714111328125],\"type\":\"scatter3d\"},{\"line\":{\"color\":\"red\",\"width\":2},\"mode\":\"lines\",\"x\":[0.09700359404087067,0.14089268445968628],\"y\":[0.22779282927513123,0.00428805174306035],\"z\":[-1.266913890838623,-1.3691918849945068],\"type\":\"scatter3d\"},{\"line\":{\"color\":\"red\",\"width\":2},\"mode\":\"lines\",\"x\":[0.14089268445968628,0.12560118734836578],\"y\":[0.00428805174306035,-0.2058573216199875],\"z\":[-1.3691918849945068,-1.2544140815734863],\"type\":\"scatter3d\"},{\"line\":{\"color\":\"red\",\"width\":2},\"mode\":\"lines\",\"x\":[-0.22453725337982178,0.09700359404087067],\"y\":[0.21360279619693756,0.22779282927513123],\"z\":[-1.2450714111328125,-1.266913890838623],\"type\":\"scatter3d\"},{\"line\":{\"color\":\"lime\",\"width\":2},\"mode\":\"lines\",\"x\":[-0.012700463597695943,-0.20881341402396458],\"y\":[-0.06653282201292249,-0.033235094683985056],\"z\":[-1.1206507656579454,-1.2553830147690732],\"type\":\"scatter3d\"},{\"line\":{\"color\":\"lime\",\"width\":2},\"mode\":\"lines\",\"x\":[-0.20881341402396458,-0.21783633535083838],\"y\":[-0.033235094683985056,0.2142179609164685],\"z\":[-1.2553830147690732,-1.2371562723072387],\"type\":\"scatter3d\"},{\"line\":{\"color\":\"lime\",\"width\":2},\"mode\":\"lines\",\"x\":[0.10064620522873166,0.14210371664505186],\"y\":[0.2285442501725885,0.003321662451398255],\"z\":[-1.274702191565753,-1.3741517059728192],\"type\":\"scatter3d\"},{\"line\":{\"color\":\"lime\",\"width\":2},\"mode\":\"lines\",\"x\":[0.14210371664505186,0.12617366015646586],\"y\":[0.003321662451398255,-0.20391845701908412],\"z\":[-1.3741517059728192,-1.2540302284091647],\"type\":\"scatter3d\"},{\"line\":{\"color\":\"lime\",\"width\":2},\"mode\":\"lines\",\"x\":[-0.21783633535083838,0.10064620522873166],\"y\":[0.2142179609164685,0.2285442501725885],\"z\":[-1.2371562723072387,-1.274702191565753],\"type\":\"scatter3d\"}],\"name\":\"1\"},{\"data\":[{\"marker\":{\"color\":\"blue\",\"size\":6},\"mode\":\"markers\",\"x\":[-0.06309975,-0.22954494,-0.22401133,0.097477145,0.14059271,0.12441823],\"y\":[-0.04423643,-0.035651445,0.2142388,0.22808114,0.0013976842,-0.2100082],\"z\":[-1.089333,-1.2558833,-1.2441695,-1.2670977,-1.364318,-1.2506523],\"type\":\"scatter3d\"},{\"marker\":{\"color\":\"green\",\"size\":6},\"mode\":\"markers\",\"x\":[-0.013510880777085177,-0.20957104889708233,-0.21811267734424925,0.1005685776646382,0.14227741942226527,0.12635761500547216],\"y\":[-0.06656857521464454,-0.033235094683985056,0.21540983039062156,0.22835066916159197,0.003533392289941914,-0.2030980289090205],\"z\":[-1.1206662603881927,-1.2552293522577713,-1.2396872042607345,-1.2759335041922002,-1.376194000194122,-1.2550252670495334],\"type\":\"scatter3d\"},{\"line\":{\"color\":\"red\",\"width\":2},\"mode\":\"lines\",\"x\":[-0.06309974938631058,-0.22954493761062622],\"y\":[-0.044236429035663605,-0.035651445388793945],\"z\":[-1.0893330574035645,-1.2558833360671997],\"type\":\"scatter3d\"},{\"line\":{\"color\":\"red\",\"width\":2},\"mode\":\"lines\",\"x\":[-0.22954493761062622,-0.22401133179664612],\"y\":[-0.035651445388793945,0.21423879265785217],\"z\":[-1.2558833360671997,-1.2441694736480713],\"type\":\"scatter3d\"},{\"line\":{\"color\":\"red\",\"width\":2},\"mode\":\"lines\",\"x\":[0.09747714549303055,0.14059270918369293],\"y\":[0.2280811369419098,0.0013976842164993286],\"z\":[-1.2670977115631104,-1.3643180131912231],\"type\":\"scatter3d\"},{\"line\":{\"color\":\"red\",\"width\":2},\"mode\":\"lines\",\"x\":[0.14059270918369293,0.1244182288646698],\"y\":[0.0013976842164993286,-0.21000820398330688],\"z\":[-1.3643180131912231,-1.2506523132324219],\"type\":\"scatter3d\"},{\"line\":{\"color\":\"red\",\"width\":2},\"mode\":\"lines\",\"x\":[-0.22401133179664612,0.09747714549303055],\"y\":[0.21423879265785217,0.2280811369419098],\"z\":[-1.2441694736480713,-1.2670977115631104],\"type\":\"scatter3d\"},{\"line\":{\"color\":\"lime\",\"width\":2},\"mode\":\"lines\",\"x\":[-0.013510880777085177,-0.20957104889708233],\"y\":[-0.06656857521464454,-0.033235094683985056],\"z\":[-1.1206662603881927,-1.2552293522577713],\"type\":\"scatter3d\"},{\"line\":{\"color\":\"lime\",\"width\":2},\"mode\":\"lines\",\"x\":[-0.20957104889708233,-0.21811267734424925],\"y\":[-0.033235094683985056,0.21540983039062156],\"z\":[-1.2552293522577713,-1.2396872042607345],\"type\":\"scatter3d\"},{\"line\":{\"color\":\"lime\",\"width\":2},\"mode\":\"lines\",\"x\":[0.1005685776646382,0.14227741942226527],\"y\":[0.22835066916159197,0.003533392289941914],\"z\":[-1.2759335041922002,-1.376194000194122],\"type\":\"scatter3d\"},{\"line\":{\"color\":\"lime\",\"width\":2},\"mode\":\"lines\",\"x\":[0.14227741942226527,0.12635761500547216],\"y\":[0.003533392289941914,-0.2030980289090205],\"z\":[-1.376194000194122,-1.2550252670495334],\"type\":\"scatter3d\"},{\"line\":{\"color\":\"lime\",\"width\":2},\"mode\":\"lines\",\"x\":[-0.21811267734424925,0.1005685776646382],\"y\":[0.21540983039062156,0.22835066916159197],\"z\":[-1.2396872042607345,-1.2759335041922002],\"type\":\"scatter3d\"}],\"name\":\"2\"},{\"data\":[{\"marker\":{\"color\":\"blue\",\"size\":6},\"mode\":\"markers\",\"x\":[-0.060020912,-0.22574963,-0.22217816,0.09862371,0.14085558,0.1251177],\"y\":[-0.0386511,-0.035611466,0.21540008,0.22765952,-0.0017281306,-0.21498844],\"z\":[-1.0854354,-1.2532109,-1.2431207,-1.2679807,-1.3575748,-1.2477325],\"type\":\"scatter3d\"},{\"marker\":{\"color\":\"green\",\"size\":6},\"mode\":\"markers\",\"x\":[-0.015360815698966412,-0.21133324407574072,-0.21819329255469352,0.10075286774785719,0.14232064786642307,0.12639898061239002],\"y\":[-0.0660114646665712,-0.032321997466386865,0.21688047059198967,0.22885729373114994,0.004407734647923683,-0.20312188559968591],\"z\":[-1.1220685273896631,-1.2565937021415081,-1.2427595851319335,-1.2769023179183892,-1.3780696394848402,-1.2584238049153287],\"type\":\"scatter3d\"},{\"line\":{\"color\":\"red\",\"width\":2},\"mode\":\"lines\",\"x\":[-0.06002091243863106,-0.22574962675571442],\"y\":[-0.03865110129117966,-0.03561146557331085],\"z\":[-1.085435390472412,-1.2532109022140503],\"type\":\"scatter3d\"},{\"line\":{\"color\":\"red\",\"width\":2},\"mode\":\"lines\",\"x\":[-0.22574962675571442,-0.2221781611442566],\"y\":[-0.03561146557331085,0.2154000848531723],\"z\":[-1.2532109022140503,-1.2431206703186035],\"type\":\"scatter3d\"},{\"line\":{\"color\":\"red\",\"width\":2},\"mode\":\"lines\",\"x\":[0.09862370789051056,0.1408555805683136],\"y\":[0.22765952348709106,-0.0017281306209042668],\"z\":[-1.267980694770813,-1.3575748205184937],\"type\":\"scatter3d\"},{\"line\":{\"color\":\"red\",\"width\":2},\"mode\":\"lines\",\"x\":[0.1408555805683136,0.1251177042722702],\"y\":[-0.0017281306209042668,-0.21498844027519226],\"z\":[-1.3575748205184937,-1.2477325201034546],\"type\":\"scatter3d\"},{\"line\":{\"color\":\"red\",\"width\":2},\"mode\":\"lines\",\"x\":[-0.2221781611442566,0.09862370789051056],\"y\":[0.2154000848531723,0.22765952348709106],\"z\":[-1.2431206703186035,-1.267980694770813],\"type\":\"scatter3d\"},{\"line\":{\"color\":\"lime\",\"width\":2},\"mode\":\"lines\",\"x\":[-0.015360815698966412,-0.21133324407574072],\"y\":[-0.0660114646665712,-0.032321997466386865],\"z\":[-1.1220685273896631,-1.2565937021415081],\"type\":\"scatter3d\"},{\"line\":{\"color\":\"lime\",\"width\":2},\"mode\":\"lines\",\"x\":[-0.21133324407574072,-0.21819329255469352],\"y\":[-0.032321997466386865,0.21688047059198967],\"z\":[-1.2565937021415081,-1.2427595851319335],\"type\":\"scatter3d\"},{\"line\":{\"color\":\"lime\",\"width\":2},\"mode\":\"lines\",\"x\":[0.10075286774785719,0.14232064786642307],\"y\":[0.22885729373114994,0.004407734647923683],\"z\":[-1.2769023179183892,-1.3780696394848402],\"type\":\"scatter3d\"},{\"line\":{\"color\":\"lime\",\"width\":2},\"mode\":\"lines\",\"x\":[0.14232064786642307,0.12639898061239002],\"y\":[0.004407734647923683,-0.20312188559968591],\"z\":[-1.3780696394848402,-1.2584238049153287],\"type\":\"scatter3d\"},{\"line\":{\"color\":\"lime\",\"width\":2},\"mode\":\"lines\",\"x\":[-0.21819329255469352,0.10075286774785719],\"y\":[0.21688047059198967,0.22885729373114994],\"z\":[-1.2427595851319335,-1.2769023179183892],\"type\":\"scatter3d\"}],\"name\":\"3\"},{\"data\":[{\"marker\":{\"color\":\"blue\",\"size\":6},\"mode\":\"markers\",\"x\":[-0.05752793,-0.22166212,-0.2211455,0.098718196,0.14073677,0.1240528],\"y\":[-0.038592648,-0.033895947,0.21684776,0.22761713,-0.0023064092,-0.2142558],\"z\":[-1.0832083,-1.251635,-1.2449076,-1.2683567,-1.3558758,-1.2440038],\"type\":\"scatter3d\"},{\"marker\":{\"color\":\"green\",\"size\":6},\"mode\":\"markers\",\"x\":[-0.01918992261319996,-0.21416202095449588,-0.21863241496074998,0.09979865703603896,0.14380356687412765,0.12885712092938628],\"y\":[-0.06846316513003287,-0.031851780117246556,0.21729157862208082,0.22840526701939612,0.0034436573715418695,-0.20456115899480698],\"z\":[-1.1196358182253672,-1.2548118840557905,-1.2394152887935412,-1.275620699055914,-1.3745415210884904,-1.255639552565854],\"type\":\"scatter3d\"},{\"line\":{\"color\":\"red\",\"width\":2},\"mode\":\"lines\",\"x\":[-0.05752792954444885,-0.22166211903095245],\"y\":[-0.03859264776110649,-0.03389594703912735],\"z\":[-1.0832083225250244,-1.251634955406189],\"type\":\"scatter3d\"},{\"line\":{\"color\":\"red\",\"width\":2},\"mode\":\"lines\",\"x\":[-0.22166211903095245,-0.22114549577236176],\"y\":[-0.03389594703912735,0.216847762465477],\"z\":[-1.251634955406189,-1.2449076175689697],\"type\":\"scatter3d\"},{\"line\":{\"color\":\"red\",\"width\":2},\"mode\":\"lines\",\"x\":[0.09871819615364075,0.14073677361011505],\"y\":[0.22761712968349457,-0.002306409180164337],\"z\":[-1.2683566808700562,-1.355875849723816],\"type\":\"scatter3d\"},{\"line\":{\"color\":\"red\",\"width\":2},\"mode\":\"lines\",\"x\":[0.14073677361011505,0.12405280023813248],\"y\":[-0.002306409180164337,-0.21425579488277435],\"z\":[-1.355875849723816,-1.2440037727355957],\"type\":\"scatter3d\"},{\"line\":{\"color\":\"red\",\"width\":2},\"mode\":\"lines\",\"x\":[-0.22114549577236176,0.09871819615364075],\"y\":[0.216847762465477,0.22761712968349457],\"z\":[-1.2449076175689697,-1.2683566808700562],\"type\":\"scatter3d\"},{\"line\":{\"color\":\"lime\",\"width\":2},\"mode\":\"lines\",\"x\":[-0.01918992261319996,-0.21416202095449588],\"y\":[-0.06846316513003287,-0.031851780117246556],\"z\":[-1.1196358182253672,-1.2548118840557905],\"type\":\"scatter3d\"},{\"line\":{\"color\":\"lime\",\"width\":2},\"mode\":\"lines\",\"x\":[-0.21416202095449588,-0.21863241496074998],\"y\":[-0.031851780117246556,0.21729157862208082],\"z\":[-1.2548118840557905,-1.2394152887935412],\"type\":\"scatter3d\"},{\"line\":{\"color\":\"lime\",\"width\":2},\"mode\":\"lines\",\"x\":[0.09979865703603896,0.14380356687412765],\"y\":[0.22840526701939612,0.0034436573715418695],\"z\":[-1.275620699055914,-1.3745415210884904],\"type\":\"scatter3d\"},{\"line\":{\"color\":\"lime\",\"width\":2},\"mode\":\"lines\",\"x\":[0.14380356687412765,0.12885712092938628],\"y\":[0.0034436573715418695,-0.20456115899480698],\"z\":[-1.3745415210884904,-1.255639552565854],\"type\":\"scatter3d\"},{\"line\":{\"color\":\"lime\",\"width\":2},\"mode\":\"lines\",\"x\":[-0.21863241496074998,0.09979865703603896],\"y\":[0.21729157862208082,0.22840526701939612],\"z\":[-1.2394152887935412,-1.275620699055914],\"type\":\"scatter3d\"}],\"name\":\"4\"},{\"data\":[{\"marker\":{\"color\":\"blue\",\"size\":6},\"mode\":\"markers\",\"x\":[-0.05899202,-0.22078171,-0.22037922,0.0995221,0.14057025,0.123655334],\"y\":[-0.035119783,-0.032664705,0.21772163,0.22810163,-0.002363493,-0.21484286],\"z\":[-1.0798496,-1.2487233,-1.2455684,-1.2689632,-1.3544301,-1.2432578],\"type\":\"scatter3d\"},{\"marker\":{\"color\":\"green\",\"size\":6},\"mode\":\"markers\",\"x\":[-0.023347059500056666,-0.21629503519308635,-0.21825779964644115,0.1003899202059986,0.14410714812458197,0.1290750055404422],\"y\":[-0.06800519803628641,-0.033235094683985056,0.21589736645853397,0.22711239748191403,0.0033463240165792496,-0.20602120459165182],\"z\":[-1.1149296742822044,-1.2534534918556268,-1.2375298733457747,-1.2714699505566296,-1.373185039278475,-1.2567145830635607],\"type\":\"scatter3d\"},{\"line\":{\"color\":\"red\",\"width\":2},\"mode\":\"lines\",\"x\":[-0.05899202078580856,-0.22078171372413635],\"y\":[-0.035119783133268356,-0.032664705067873],\"z\":[-1.0798496007919312,-1.2487232685089111],\"type\":\"scatter3d\"},{\"line\":{\"color\":\"red\",\"width\":2},\"mode\":\"lines\",\"x\":[-0.22078171372413635,-0.22037921845912933],\"y\":[-0.032664705067873,0.217721626162529],\"z\":[-1.2487232685089111,-1.2455683946609497],\"type\":\"scatter3d\"},{\"line\":{\"color\":\"red\",\"width\":2},\"mode\":\"lines\",\"x\":[0.09952209889888763,0.1405702531337738],\"y\":[0.22810162603855133,-0.0023634929675608873],\"z\":[-1.2689632177352905,-1.354430079460144],\"type\":\"scatter3d\"},{\"line\":{\"color\":\"red\",\"width\":2},\"mode\":\"lines\",\"x\":[0.1405702531337738,0.12365533411502838],\"y\":[-0.0023634929675608873,-0.21484285593032837],\"z\":[-1.354430079460144,-1.243257761001587],\"type\":\"scatter3d\"},{\"line\":{\"color\":\"red\",\"width\":2},\"mode\":\"lines\",\"x\":[-0.22037921845912933,0.09952209889888763],\"y\":[0.217721626162529,0.22810162603855133],\"z\":[-1.2455683946609497,-1.2689632177352905],\"type\":\"scatter3d\"},{\"line\":{\"color\":\"lime\",\"width\":2},\"mode\":\"lines\",\"x\":[-0.023347059500056666,-0.21629503519308635],\"y\":[-0.06800519803628641,-0.033235094683985056],\"z\":[-1.1149296742822044,-1.2534534918556268],\"type\":\"scatter3d\"},{\"line\":{\"color\":\"lime\",\"width\":2},\"mode\":\"lines\",\"x\":[-0.21629503519308635,-0.21825779964644115],\"y\":[-0.033235094683985056,0.21589736645853397],\"z\":[-1.2534534918556268,-1.2375298733457747],\"type\":\"scatter3d\"},{\"line\":{\"color\":\"lime\",\"width\":2},\"mode\":\"lines\",\"x\":[0.1003899202059986,0.14410714812458197],\"y\":[0.22711239748191403,0.0033463240165792496],\"z\":[-1.2714699505566296,-1.373185039278475],\"type\":\"scatter3d\"},{\"line\":{\"color\":\"lime\",\"width\":2},\"mode\":\"lines\",\"x\":[0.14410714812458197,0.1290750055404422],\"y\":[0.0033463240165792496,-0.20602120459165182],\"z\":[-1.373185039278475,-1.2567145830635607],\"type\":\"scatter3d\"},{\"line\":{\"color\":\"lime\",\"width\":2},\"mode\":\"lines\",\"x\":[-0.21825779964644115,0.1003899202059986],\"y\":[0.21589736645853397,0.22711239748191403],\"z\":[-1.2375298733457747,-1.2714699505566296],\"type\":\"scatter3d\"}],\"name\":\"5\"},{\"data\":[{\"marker\":{\"color\":\"blue\",\"size\":6},\"mode\":\"markers\",\"x\":[-0.055693775,-0.2206178,-0.22103007,0.09822277,0.14186445,0.1250985],\"y\":[-0.040023338,-0.03252773,0.21696621,0.22764373,-0.0028650505,-0.21586438],\"z\":[-1.0767924,-1.243938,-1.2390133,-1.2671118,-1.3485086,-1.2402797],\"type\":\"scatter3d\"},{\"marker\":{\"color\":\"green\",\"size\":6},\"mode\":\"markers\",\"x\":[-0.028166077671549772,-0.21785981996213621,-0.21762883658259238,0.10118149222086112,0.14288362886357642,0.12785610551014787],\"y\":[-0.06873217064419374,-0.033235094683985056,0.2144096346141211,0.226417571385654,0.0026072133857826807,-0.20649679007059324],\"z\":[-1.1098179834657147,-1.2529667605389223,-1.2392327782412504,-1.2710804939942086,-1.3735227583222986,-1.2565943006347915],\"type\":\"scatter3d\"},{\"line\":{\"color\":\"red\",\"width\":2},\"mode\":\"lines\",\"x\":[-0.05569377541542053,-0.22061780095100403],\"y\":[-0.04002333804965019,-0.032527729868888855],\"z\":[-1.0767923593521118,-1.2439379692077637],\"type\":\"scatter3d\"},{\"line\":{\"color\":\"red\",\"width\":2},\"mode\":\"lines\",\"x\":[-0.22061780095100403,-0.2210300713777542],\"y\":[-0.032527729868888855,0.21696621179580688],\"z\":[-1.2439379692077637,-1.2390133142471313],\"type\":\"scatter3d\"},{\"line\":{\"color\":\"red\",\"width\":2},\"mode\":\"lines\",\"x\":[0.0982227697968483,0.14186444878578186],\"y\":[0.22764372825622559,-0.0028650504536926746],\"z\":[-1.2671117782592773,-1.348508596420288],\"type\":\"scatter3d\"},{\"line\":{\"color\":\"red\",\"width\":2},\"mode\":\"lines\",\"x\":[0.14186444878578186,0.12509849667549133],\"y\":[-0.0028650504536926746,-0.2158643752336502],\"z\":[-1.348508596420288,-1.2402796745300293],\"type\":\"scatter3d\"},{\"line\":{\"color\":\"red\",\"width\":2},\"mode\":\"lines\",\"x\":[-0.2210300713777542,0.0982227697968483],\"y\":[0.21696621179580688,0.22764372825622559],\"z\":[-1.2390133142471313,-1.2671117782592773],\"type\":\"scatter3d\"},{\"line\":{\"color\":\"lime\",\"width\":2},\"mode\":\"lines\",\"x\":[-0.028166077671549772,-0.21785981996213621],\"y\":[-0.06873217064419374,-0.033235094683985056],\"z\":[-1.1098179834657147,-1.2529667605389223],\"type\":\"scatter3d\"},{\"line\":{\"color\":\"lime\",\"width\":2},\"mode\":\"lines\",\"x\":[-0.21785981996213621,-0.21762883658259238],\"y\":[-0.033235094683985056,0.2144096346141211],\"z\":[-1.2529667605389223,-1.2392327782412504],\"type\":\"scatter3d\"},{\"line\":{\"color\":\"lime\",\"width\":2},\"mode\":\"lines\",\"x\":[0.10118149222086112,0.14288362886357642],\"y\":[0.226417571385654,0.0026072133857826807],\"z\":[-1.2710804939942086,-1.3735227583222986],\"type\":\"scatter3d\"},{\"line\":{\"color\":\"lime\",\"width\":2},\"mode\":\"lines\",\"x\":[0.14288362886357642,0.12785610551014787],\"y\":[0.0026072133857826807,-0.20649679007059324],\"z\":[-1.3735227583222986,-1.2565943006347915],\"type\":\"scatter3d\"},{\"line\":{\"color\":\"lime\",\"width\":2},\"mode\":\"lines\",\"x\":[-0.21762883658259238,0.10118149222086112],\"y\":[0.2144096346141211,0.226417571385654],\"z\":[-1.2392327782412504,-1.2710804939942086],\"type\":\"scatter3d\"}],\"name\":\"6\"},{\"data\":[{\"marker\":{\"color\":\"blue\",\"size\":6},\"mode\":\"markers\",\"x\":[-0.06286832,-0.22214775,-0.2209059,0.09891824,0.14092131,0.12391317],\"y\":[-0.03673886,-0.032671064,0.21518628,0.22679895,-0.0023625938,-0.21734834],\"z\":[-1.0804306,-1.2465416,-1.2390174,-1.2621939,-1.3486397,-1.2435681],\"type\":\"scatter3d\"},{\"marker\":{\"color\":\"green\",\"size\":6},\"mode\":\"markers\",\"x\":[-0.032044490830015704,-0.21913726644843834,-0.2183121443852214,0.10076572743667822,0.14080254720895993,0.12613840401196874],\"y\":[-0.06990640179016905,-0.033235094683985056,0.21461081508514668,0.22762984033464972,0.0024812826246230907,-0.2071043402440354],\"z\":[-1.108764646104464,-1.2549518358257767,-1.2420206074390236,-1.2725321052656398,-1.3726397747952124,-1.2565627097358814],\"type\":\"scatter3d\"},{\"line\":{\"color\":\"red\",\"width\":2},\"mode\":\"lines\",\"x\":[-0.06286831945180893,-0.22214774787425995],\"y\":[-0.036738861352205276,-0.032671064138412476],\"z\":[-1.0804306268692017,-1.2465416193008423],\"type\":\"scatter3d\"},{\"line\":{\"color\":\"red\",\"width\":2},\"mode\":\"lines\",\"x\":[-0.22214774787425995,-0.22090590000152588],\"y\":[-0.032671064138412476,0.21518628299236298],\"z\":[-1.2465416193008423,-1.239017367362976],\"type\":\"scatter3d\"},{\"line\":{\"color\":\"red\",\"width\":2},\"mode\":\"lines\",\"x\":[0.09891823679208755,0.14092130959033966],\"y\":[0.22679895162582397,-0.002362593775615096],\"z\":[-1.2621939182281494,-1.348639726638794],\"type\":\"scatter3d\"},{\"line\":{\"color\":\"red\",\"width\":2},\"mode\":\"lines\",\"x\":[0.14092130959033966,0.12391316890716553],\"y\":[-0.002362593775615096,-0.21734833717346191],\"z\":[-1.348639726638794,-1.2435680627822876],\"type\":\"scatter3d\"},{\"line\":{\"color\":\"red\",\"width\":2},\"mode\":\"lines\",\"x\":[-0.22090590000152588,0.09891823679208755],\"y\":[0.21518628299236298,0.22679895162582397],\"z\":[-1.239017367362976,-1.2621939182281494],\"type\":\"scatter3d\"},{\"line\":{\"color\":\"lime\",\"width\":2},\"mode\":\"lines\",\"x\":[-0.032044490830015704,-0.21913726644843834],\"y\":[-0.06990640179016905,-0.033235094683985056],\"z\":[-1.108764646104464,-1.2549518358257767],\"type\":\"scatter3d\"},{\"line\":{\"color\":\"lime\",\"width\":2},\"mode\":\"lines\",\"x\":[-0.21913726644843834,-0.2183121443852214],\"y\":[-0.033235094683985056,0.21461081508514668],\"z\":[-1.2549518358257767,-1.2420206074390236],\"type\":\"scatter3d\"},{\"line\":{\"color\":\"lime\",\"width\":2},\"mode\":\"lines\",\"x\":[0.10076572743667822,0.14080254720895993],\"y\":[0.22762984033464972,0.0024812826246230907],\"z\":[-1.2725321052656398,-1.3726397747952124],\"type\":\"scatter3d\"},{\"line\":{\"color\":\"lime\",\"width\":2},\"mode\":\"lines\",\"x\":[0.14080254720895993,0.12613840401196874],\"y\":[0.0024812826246230907,-0.2071043402440354],\"z\":[-1.3726397747952124,-1.2565627097358814],\"type\":\"scatter3d\"},{\"line\":{\"color\":\"lime\",\"width\":2},\"mode\":\"lines\",\"x\":[-0.2183121443852214,0.10076572743667822],\"y\":[0.21461081508514668,0.22762984033464972],\"z\":[-1.2420206074390236,-1.2725321052656398],\"type\":\"scatter3d\"}],\"name\":\"7\"},{\"data\":[{\"marker\":{\"color\":\"blue\",\"size\":6},\"mode\":\"markers\",\"x\":[-0.06785342,-0.22315542,-0.22125213,0.098827794,0.13918376,0.122033566],\"y\":[-0.037307218,-0.033646088,0.21470614,0.22689666,-0.002619458,-0.21695772],\"z\":[-1.0815734,-1.2484283,-1.241539,-1.2630624,-1.3496305,-1.2435943],\"type\":\"scatter3d\"},{\"marker\":{\"color\":\"green\",\"size\":6},\"mode\":\"markers\",\"x\":[-0.034912659743495666,-0.22062736766018265,-0.2193335294450819,0.10005942736808515,0.13906618958155118,0.12718521053465567],\"y\":[-0.07143489467588227,-0.033235094683985056,0.21309180550056483,0.22748732569551322,0.0032045105029786664,-0.2113158703316218],\"z\":[-1.107753277187748,-1.255486131109473,-1.24441742868167,-1.2721115352247407,-1.3742440933764133,-1.2674806116556907],\"type\":\"scatter3d\"},{\"line\":{\"color\":\"red\",\"width\":2},\"mode\":\"lines\",\"x\":[-0.0678534209728241,-0.2231554239988327],\"y\":[-0.037307217717170715,-0.03364608809351921],\"z\":[-1.0815733671188354,-1.2484283447265625],\"type\":\"scatter3d\"},{\"line\":{\"color\":\"red\",\"width\":2},\"mode\":\"lines\",\"x\":[-0.2231554239988327,-0.22125212848186493],\"y\":[-0.03364608809351921,0.21470613777637482],\"z\":[-1.2484283447265625,-1.2415390014648438],\"type\":\"scatter3d\"},{\"line\":{\"color\":\"red\",\"width\":2},\"mode\":\"lines\",\"x\":[0.0988277941942215,0.13918375968933105],\"y\":[0.22689665853977203,-0.002619457896798849],\"z\":[-1.2630623579025269,-1.3496304750442505],\"type\":\"scatter3d\"},{\"line\":{\"color\":\"red\",\"width\":2},\"mode\":\"lines\",\"x\":[0.13918375968933105,0.12203356623649597],\"y\":[-0.002619457896798849,-0.2169577181339264],\"z\":[-1.3496304750442505,-1.2435942888259888],\"type\":\"scatter3d\"},{\"line\":{\"color\":\"red\",\"width\":2},\"mode\":\"lines\",\"x\":[-0.22125212848186493,0.0988277941942215],\"y\":[0.21470613777637482,0.22689665853977203],\"z\":[-1.2415390014648438,-1.2630623579025269],\"type\":\"scatter3d\"},{\"line\":{\"color\":\"lime\",\"width\":2},\"mode\":\"lines\",\"x\":[-0.034912659743495666,-0.22062736766018265],\"y\":[-0.07143489467588227,-0.033235094683985056],\"z\":[-1.107753277187748,-1.255486131109473],\"type\":\"scatter3d\"},{\"line\":{\"color\":\"lime\",\"width\":2},\"mode\":\"lines\",\"x\":[-0.22062736766018265,-0.2193335294450819],\"y\":[-0.033235094683985056,0.21309180550056483],\"z\":[-1.255486131109473,-1.24441742868167],\"type\":\"scatter3d\"},{\"line\":{\"color\":\"lime\",\"width\":2},\"mode\":\"lines\",\"x\":[0.10005942736808515,0.13906618958155118],\"y\":[0.22748732569551322,0.0032045105029786664],\"z\":[-1.2721115352247407,-1.3742440933764133],\"type\":\"scatter3d\"},{\"line\":{\"color\":\"lime\",\"width\":2},\"mode\":\"lines\",\"x\":[0.13906618958155118,0.12718521053465567],\"y\":[0.0032045105029786664,-0.2113158703316218],\"z\":[-1.3742440933764133,-1.2674806116556907],\"type\":\"scatter3d\"},{\"line\":{\"color\":\"lime\",\"width\":2},\"mode\":\"lines\",\"x\":[-0.2193335294450819,0.10005942736808515],\"y\":[0.21309180550056483,0.22748732569551322],\"z\":[-1.24441742868167,-1.2721115352247407],\"type\":\"scatter3d\"}],\"name\":\"8\"},{\"data\":[{\"marker\":{\"color\":\"blue\",\"size\":6},\"mode\":\"markers\",\"x\":[-0.07143281,-0.22354308,-0.2222911,0.09773702,0.13754396,0.12144849],\"y\":[-0.039591666,-0.03334838,0.21584451,0.22829162,-0.002100895,-0.21726066],\"z\":[-1.0775936,-1.2483362,-1.244449,-1.2654581,-1.3503076,-1.2459737],\"type\":\"scatter3d\"},{\"marker\":{\"color\":\"green\",\"size\":6},\"mode\":\"markers\",\"x\":[-0.03783048518237475,-0.22179546874732825,-0.2197455613881104,0.09981940683864829,0.1394209861684751,0.12751927966821877],\"y\":[-0.07202174917629778,-0.033235094683985056,0.21314804264635945,0.22811196745567086,0.004014626126193667,-0.21193569912042376],\"z\":[-1.1059931525141362,-1.2555813800799172,-1.2442219263733545,-1.2699639799219469,-1.3720540991447816,-1.2684165240975815],\"type\":\"scatter3d\"},{\"line\":{\"color\":\"red\",\"width\":2},\"mode\":\"lines\",\"x\":[-0.07143280655145645,-0.22354307770729065],\"y\":[-0.03959166631102562,-0.03334838151931763],\"z\":[-1.0775935649871826,-1.2483361959457397],\"type\":\"scatter3d\"},{\"line\":{\"color\":\"red\",\"width\":2},\"mode\":\"lines\",\"x\":[-0.22354307770729065,-0.22229109704494476],\"y\":[-0.03334838151931763,0.2158445119857788],\"z\":[-1.2483361959457397,-1.2444490194320679],\"type\":\"scatter3d\"},{\"line\":{\"color\":\"red\",\"width\":2},\"mode\":\"lines\",\"x\":[0.09773702174425125,0.1375439614057541],\"y\":[0.2282916158437729,-0.0021008949261158705],\"z\":[-1.265458106994629,-1.350307583808899],\"type\":\"scatter3d\"},{\"line\":{\"color\":\"red\",\"width\":2},\"mode\":\"lines\",\"x\":[0.1375439614057541,0.12144848704338074],\"y\":[-0.0021008949261158705,-0.21726065874099731],\"z\":[-1.350307583808899,-1.2459737062454224],\"type\":\"scatter3d\"},{\"line\":{\"color\":\"red\",\"width\":2},\"mode\":\"lines\",\"x\":[-0.22229109704494476,0.09773702174425125],\"y\":[0.2158445119857788,0.2282916158437729],\"z\":[-1.2444490194320679,-1.265458106994629],\"type\":\"scatter3d\"},{\"line\":{\"color\":\"lime\",\"width\":2},\"mode\":\"lines\",\"x\":[-0.03783048518237475,-0.22179546874732825],\"y\":[-0.07202174917629778,-0.033235094683985056],\"z\":[-1.1059931525141362,-1.2555813800799172],\"type\":\"scatter3d\"},{\"line\":{\"color\":\"lime\",\"width\":2},\"mode\":\"lines\",\"x\":[-0.22179546874732825,-0.2197455613881104],\"y\":[-0.033235094683985056,0.21314804264635945],\"z\":[-1.2555813800799172,-1.2442219263733545],\"type\":\"scatter3d\"},{\"line\":{\"color\":\"lime\",\"width\":2},\"mode\":\"lines\",\"x\":[0.09981940683864829,0.1394209861684751],\"y\":[0.22811196745567086,0.004014626126193667],\"z\":[-1.2699639799219469,-1.3720540991447816],\"type\":\"scatter3d\"},{\"line\":{\"color\":\"lime\",\"width\":2},\"mode\":\"lines\",\"x\":[0.1394209861684751,0.12751927966821877],\"y\":[0.004014626126193667,-0.21193569912042376],\"z\":[-1.3720540991447816,-1.2684165240975815],\"type\":\"scatter3d\"},{\"line\":{\"color\":\"lime\",\"width\":2},\"mode\":\"lines\",\"x\":[-0.2197455613881104,0.09981940683864829],\"y\":[0.21314804264635945,0.22811196745567086],\"z\":[-1.2442219263733545,-1.2699639799219469],\"type\":\"scatter3d\"}],\"name\":\"9\"},{\"data\":[{\"marker\":{\"color\":\"blue\",\"size\":6},\"mode\":\"markers\",\"x\":[-0.07548179,-0.22595151,-0.22415955,0.096090585,0.13665925,0.1226065],\"y\":[-0.038275972,-0.03430356,0.2141377,0.22759268,-0.0009059844,-0.22085889],\"z\":[-1.076355,-1.2475004,-1.2448466,-1.2629738,-1.3533524,-1.2575165],\"type\":\"scatter3d\"},{\"marker\":{\"color\":\"green\",\"size\":6},\"mode\":\"markers\",\"x\":[-0.041763692323351975,-0.22259861116819124,-0.21950030325675535,0.10016512124588589,0.14073099187370747,0.12989994891717904],\"y\":[-0.07409792651616376,-0.033235094683985056,0.21443991358515824,0.22946791351161275,0.0047966707002737585,-0.2133304923782413],\"z\":[-1.1045902951792668,-1.256862046699469,-1.2442452908355257,-1.2687146664731959,-1.368819237046548,-1.270033836279294],\"type\":\"scatter3d\"},{\"line\":{\"color\":\"red\",\"width\":2},\"mode\":\"lines\",\"x\":[-0.07548178732395172,-0.22595150768756866],\"y\":[-0.03827597200870514,-0.034303560853004456],\"z\":[-1.07635498046875,-1.2475004196166992],\"type\":\"scatter3d\"},{\"line\":{\"color\":\"red\",\"width\":2},\"mode\":\"lines\",\"x\":[-0.22595150768756866,-0.22415955364704132],\"y\":[-0.034303560853004456,0.2141377031803131],\"z\":[-1.2475004196166992,-1.2448465824127197],\"type\":\"scatter3d\"},{\"line\":{\"color\":\"red\",\"width\":2},\"mode\":\"lines\",\"x\":[0.09609058499336243,0.13665924966335297],\"y\":[0.22759267687797546,-0.0009059843723662198],\"z\":[-1.2629737854003906,-1.353352427482605],\"type\":\"scatter3d\"},{\"line\":{\"color\":\"red\",\"width\":2},\"mode\":\"lines\",\"x\":[0.13665924966335297,0.12260650098323822],\"y\":[-0.0009059843723662198,-0.2208588868379593],\"z\":[-1.353352427482605,-1.2575165033340454],\"type\":\"scatter3d\"},{\"line\":{\"color\":\"red\",\"width\":2},\"mode\":\"lines\",\"x\":[-0.22415955364704132,0.09609058499336243],\"y\":[0.2141377031803131,0.22759267687797546],\"z\":[-1.2448465824127197,-1.2629737854003906],\"type\":\"scatter3d\"},{\"line\":{\"color\":\"lime\",\"width\":2},\"mode\":\"lines\",\"x\":[-0.041763692323351975,-0.22259861116819124],\"y\":[-0.07409792651616376,-0.033235094683985056],\"z\":[-1.1045902951792668,-1.256862046699469],\"type\":\"scatter3d\"},{\"line\":{\"color\":\"lime\",\"width\":2},\"mode\":\"lines\",\"x\":[-0.22259861116819124,-0.21950030325675535],\"y\":[-0.033235094683985056,0.21443991358515824],\"z\":[-1.256862046699469,-1.2442452908355257],\"type\":\"scatter3d\"},{\"line\":{\"color\":\"lime\",\"width\":2},\"mode\":\"lines\",\"x\":[0.10016512124588589,0.14073099187370747],\"y\":[0.22946791351161275,0.0047966707002737585],\"z\":[-1.2687146664731959,-1.368819237046548],\"type\":\"scatter3d\"},{\"line\":{\"color\":\"lime\",\"width\":2},\"mode\":\"lines\",\"x\":[0.14073099187370747,0.12989994891717904],\"y\":[0.0047966707002737585,-0.2133304923782413],\"z\":[-1.368819237046548,-1.270033836279294],\"type\":\"scatter3d\"},{\"line\":{\"color\":\"lime\",\"width\":2},\"mode\":\"lines\",\"x\":[-0.21950030325675535,0.10016512124588589],\"y\":[0.21443991358515824,0.22946791351161275],\"z\":[-1.2442452908355257,-1.2687146664731959],\"type\":\"scatter3d\"}],\"name\":\"10\"},{\"data\":[{\"marker\":{\"color\":\"blue\",\"size\":6},\"mode\":\"markers\",\"x\":[-0.07381208,-0.22576557,-0.22342479,0.097367205,0.13899599,0.12303626],\"y\":[-0.038164645,-0.033428635,0.21540776,0.2283787,-0.000007674071,-0.21808974],\"z\":[-1.076598,-1.2486467,-1.2435863,-1.2609968,-1.3523419,-1.2526193],\"type\":\"scatter3d\"},{\"marker\":{\"color\":\"green\",\"size\":6},\"mode\":\"markers\",\"x\":[-0.04508198921614692,-0.22386574893037015,-0.22022888075878205,0.09956066312622242,0.13966420286837689,0.12966036793211738],\"y\":[-0.07531468042985462,-0.033235094683985056,0.2142965497453364,0.22965857385699218,0.003889353034797413,-0.21519212423514933],\"z\":[-1.1028759487306825,-1.257085802770101,-1.244077920361244,-1.2675313952689624,-1.3650650976321899,-1.2685683966135728],\"type\":\"scatter3d\"},{\"line\":{\"color\":\"red\",\"width\":2},\"mode\":\"lines\",\"x\":[-0.0738120824098587,-0.22576557099819183],\"y\":[-0.0381646454334259,-0.03342863544821739],\"z\":[-1.076598048210144,-1.2486467361450195],\"type\":\"scatter3d\"},{\"line\":{\"color\":\"red\",\"width\":2},\"mode\":\"lines\",\"x\":[-0.22576557099819183,-0.2234247922897339],\"y\":[-0.03342863544821739,0.21540775895118713],\"z\":[-1.2486467361450195,-1.2435863018035889],\"type\":\"scatter3d\"},{\"line\":{\"color\":\"red\",\"width\":2},\"mode\":\"lines\",\"x\":[0.09736720472574234,0.13899599015712738],\"y\":[0.22837869822978973,-7.67407072999049e-6],\"z\":[-1.2609968185424805,-1.352341890335083],\"type\":\"scatter3d\"},{\"line\":{\"color\":\"red\",\"width\":2},\"mode\":\"lines\",\"x\":[0.13899599015712738,0.12303625792264938],\"y\":[-7.67407072999049e-6,-0.2180897444486618],\"z\":[-1.352341890335083,-1.2526192665100098],\"type\":\"scatter3d\"},{\"line\":{\"color\":\"red\",\"width\":2},\"mode\":\"lines\",\"x\":[-0.2234247922897339,0.09736720472574234],\"y\":[0.21540775895118713,0.22837869822978973],\"z\":[-1.2435863018035889,-1.2609968185424805],\"type\":\"scatter3d\"},{\"line\":{\"color\":\"lime\",\"width\":2},\"mode\":\"lines\",\"x\":[-0.04508198921614692,-0.22386574893037015],\"y\":[-0.07531468042985462,-0.033235094683985056],\"z\":[-1.1028759487306825,-1.257085802770101],\"type\":\"scatter3d\"},{\"line\":{\"color\":\"lime\",\"width\":2},\"mode\":\"lines\",\"x\":[-0.22386574893037015,-0.22022888075878205],\"y\":[-0.033235094683985056,0.2142965497453364],\"z\":[-1.257085802770101,-1.244077920361244],\"type\":\"scatter3d\"},{\"line\":{\"color\":\"lime\",\"width\":2},\"mode\":\"lines\",\"x\":[0.09956066312622242,0.13966420286837689],\"y\":[0.22965857385699218,0.003889353034797413],\"z\":[-1.2675313952689624,-1.3650650976321899],\"type\":\"scatter3d\"},{\"line\":{\"color\":\"lime\",\"width\":2},\"mode\":\"lines\",\"x\":[0.13966420286837689,0.12966036793211738],\"y\":[0.003889353034797413,-0.21519212423514933],\"z\":[-1.3650650976321899,-1.2685683966135728],\"type\":\"scatter3d\"},{\"line\":{\"color\":\"lime\",\"width\":2},\"mode\":\"lines\",\"x\":[-0.22022888075878205,0.09956066312622242],\"y\":[0.2142965497453364,0.22965857385699218],\"z\":[-1.244077920361244,-1.2675313952689624],\"type\":\"scatter3d\"}],\"name\":\"11\"},{\"data\":[{\"marker\":{\"color\":\"blue\",\"size\":6},\"mode\":\"markers\",\"x\":[-0.076322265,-0.22508158,-0.222071,0.099052034,0.14142929,0.12560272],\"y\":[-0.03489272,-0.030892994,0.21709192,0.22956772,0.00024968866,-0.21724616],\"z\":[-1.074725,-1.2486087,-1.2451172,-1.2632004,-1.3500984,-1.2497861],\"type\":\"scatter3d\"},{\"marker\":{\"color\":\"green\",\"size\":6},\"mode\":\"markers\",\"x\":[-0.04945605022554833,-0.227901592879046,-0.22021096950730606,0.099758304636201,0.13940182334844545,0.1285002679648783],\"y\":[-0.07519568629960366,-0.033235094683985056,0.212630510500319,0.22834761437304163,0.0032981494021942087,-0.21591463640257302],\"z\":[-1.1023466570222737,-1.2573032380477773,-1.2437859772583337,-1.2642685175554593,-1.3635295626808297,-1.2675316335548323],\"type\":\"scatter3d\"},{\"line\":{\"color\":\"red\",\"width\":2},\"mode\":\"lines\",\"x\":[-0.07632226496934891,-0.22508157789707184],\"y\":[-0.034892719238996506,-0.0308929942548275],\"z\":[-1.0747250318527222,-1.2486087083816528],\"type\":\"scatter3d\"},{\"line\":{\"color\":\"red\",\"width\":2},\"mode\":\"lines\",\"x\":[-0.22508157789707184,-0.22207100689411163],\"y\":[-0.0308929942548275,0.21709191799163818],\"z\":[-1.2486087083816528,-1.2451171875],\"type\":\"scatter3d\"},{\"line\":{\"color\":\"red\",\"width\":2},\"mode\":\"lines\",\"x\":[0.09905203431844711,0.14142929017543793],\"y\":[0.2295677214860916,0.0002496886590961367],\"z\":[-1.2632004022598267,-1.3500983715057373],\"type\":\"scatter3d\"},{\"line\":{\"color\":\"red\",\"width\":2},\"mode\":\"lines\",\"x\":[0.14142929017543793,0.12560272216796875],\"y\":[0.0002496886590961367,-0.2172461599111557],\"z\":[-1.3500983715057373,-1.249786138534546],\"type\":\"scatter3d\"},{\"line\":{\"color\":\"red\",\"width\":2},\"mode\":\"lines\",\"x\":[-0.22207100689411163,0.09905203431844711],\"y\":[0.21709191799163818,0.2295677214860916],\"z\":[-1.2451171875,-1.2632004022598267],\"type\":\"scatter3d\"},{\"line\":{\"color\":\"lime\",\"width\":2},\"mode\":\"lines\",\"x\":[-0.04945605022554833,-0.227901592879046],\"y\":[-0.07519568629960366,-0.033235094683985056],\"z\":[-1.1023466570222737,-1.2573032380477773],\"type\":\"scatter3d\"},{\"line\":{\"color\":\"lime\",\"width\":2},\"mode\":\"lines\",\"x\":[-0.227901592879046,-0.22021096950730606],\"y\":[-0.033235094683985056,0.212630510500319],\"z\":[-1.2573032380477773,-1.2437859772583337],\"type\":\"scatter3d\"},{\"line\":{\"color\":\"lime\",\"width\":2},\"mode\":\"lines\",\"x\":[0.099758304636201,0.13940182334844545],\"y\":[0.22834761437304163,0.0032981494021942087],\"z\":[-1.2642685175554593,-1.3635295626808297],\"type\":\"scatter3d\"},{\"line\":{\"color\":\"lime\",\"width\":2},\"mode\":\"lines\",\"x\":[0.13940182334844545,0.1285002679648783],\"y\":[0.0032981494021942087,-0.21591463640257302],\"z\":[-1.3635295626808297,-1.2675316335548323],\"type\":\"scatter3d\"},{\"line\":{\"color\":\"lime\",\"width\":2},\"mode\":\"lines\",\"x\":[-0.22021096950730606,0.099758304636201],\"y\":[0.212630510500319,0.22834761437304163],\"z\":[-1.2437859772583337,-1.2642685175554593],\"type\":\"scatter3d\"}],\"name\":\"12\"},{\"data\":[{\"marker\":{\"color\":\"blue\",\"size\":6},\"mode\":\"markers\",\"x\":[-0.07256225,-0.22191781,-0.22251123,0.09853453,0.13977885,0.12416205],\"y\":[-0.034188975,-0.03109646,0.2166382,0.22916038,-0.00085339026,-0.2180224],\"z\":[-1.072518,-1.2446578,-1.2447859,-1.2638857,-1.3481113,-1.2485222],\"type\":\"scatter3d\"},{\"marker\":{\"color\":\"green\",\"size\":6},\"mode\":\"markers\",\"x\":[-0.05490208836555954,-0.23165732625331836,-0.2198768405873498,0.10015618051613545,0.1402587146490131,0.128858506632949],\"y\":[-0.07490204835924996,-0.033235094683985056,0.21281780289404195,0.2283128201735718,0.003530174409693651,-0.21653507660537086],\"z\":[-1.1032227300442026,-1.260046247014623,-1.2455643421721643,-1.264543533554809,-1.3641780606244147,-1.270254731195931],\"type\":\"scatter3d\"},{\"line\":{\"color\":\"red\",\"width\":2},\"mode\":\"lines\",\"x\":[-0.07256224751472473,-0.22191780805587769],\"y\":[-0.034188974648714066,-0.031096460297703743],\"z\":[-1.072517991065979,-1.2446577548980713],\"type\":\"scatter3d\"},{\"line\":{\"color\":\"red\",\"width\":2},\"mode\":\"lines\",\"x\":[-0.22191780805587769,-0.22251123189926147],\"y\":[-0.031096460297703743,0.2166382074356079],\"z\":[-1.2446577548980713,-1.2447859048843384],\"type\":\"scatter3d\"},{\"line\":{\"color\":\"red\",\"width\":2},\"mode\":\"lines\",\"x\":[0.09853453189134598,0.13977885246276855],\"y\":[0.2291603833436966,-0.0008533902582712471],\"z\":[-1.263885736465454,-1.3481112718582153],\"type\":\"scatter3d\"},{\"line\":{\"color\":\"red\",\"width\":2},\"mode\":\"lines\",\"x\":[0.13977885246276855,0.12416204810142517],\"y\":[-0.0008533902582712471,-0.2180224061012268],\"z\":[-1.3481112718582153,-1.248522162437439],\"type\":\"scatter3d\"},{\"line\":{\"color\":\"red\",\"width\":2},\"mode\":\"lines\",\"x\":[-0.22251123189926147,0.09853453189134598],\"y\":[0.2166382074356079,0.2291603833436966],\"z\":[-1.2447859048843384,-1.263885736465454],\"type\":\"scatter3d\"},{\"line\":{\"color\":\"lime\",\"width\":2},\"mode\":\"lines\",\"x\":[-0.05490208836555954,-0.23165732625331836],\"y\":[-0.07490204835924996,-0.033235094683985056],\"z\":[-1.1032227300442026,-1.260046247014623],\"type\":\"scatter3d\"},{\"line\":{\"color\":\"lime\",\"width\":2},\"mode\":\"lines\",\"x\":[-0.23165732625331836,-0.2198768405873498],\"y\":[-0.033235094683985056,0.21281780289404195],\"z\":[-1.260046247014623,-1.2455643421721643],\"type\":\"scatter3d\"},{\"line\":{\"color\":\"lime\",\"width\":2},\"mode\":\"lines\",\"x\":[0.10015618051613545,0.1402587146490131],\"y\":[0.2283128201735718,0.003530174409693651],\"z\":[-1.264543533554809,-1.3641780606244147],\"type\":\"scatter3d\"},{\"line\":{\"color\":\"lime\",\"width\":2},\"mode\":\"lines\",\"x\":[0.1402587146490131,0.128858506632949],\"y\":[0.003530174409693651,-0.21653507660537086],\"z\":[-1.3641780606244147,-1.270254731195931],\"type\":\"scatter3d\"},{\"line\":{\"color\":\"lime\",\"width\":2},\"mode\":\"lines\",\"x\":[-0.2198768405873498,0.10015618051613545],\"y\":[0.21281780289404195,0.2283128201735718],\"z\":[-1.2455643421721643,-1.264543533554809],\"type\":\"scatter3d\"}],\"name\":\"13\"},{\"data\":[{\"marker\":{\"color\":\"blue\",\"size\":6},\"mode\":\"markers\",\"x\":[-0.07524849,-0.22599679,-0.22227855,0.09868925,0.13986179,0.1221442],\"y\":[-0.035577398,-0.032900542,0.21514189,0.2275718,-0.0014462122,-0.21716173],\"z\":[-1.0817856,-1.2519474,-1.2435635,-1.2611592,-1.3480029,-1.2454739],\"type\":\"scatter3d\"},{\"marker\":{\"color\":\"green\",\"size\":6},\"mode\":\"markers\",\"x\":[-0.060742493059152025,-0.23361198630576796,-0.22034725559740453,0.09962461883722581,0.14086540046207,0.12989753480297583],\"y\":[-0.0756874737419942,-0.033235094683985056,0.21266411228431759,0.2271986900902414,0.003111661471233304,-0.217723355088427],\"z\":[-1.1008644089740987,-1.2617046818769957,-1.2441964152584468,-1.2639120821152972,-1.3645929099303,-1.2724920511425255],\"type\":\"scatter3d\"},{\"line\":{\"color\":\"red\",\"width\":2},\"mode\":\"lines\",\"x\":[-0.07524848729372025,-0.22599679231643677],\"y\":[-0.03557739779353142,-0.03290054202079773],\"z\":[-1.0817855596542358,-1.2519474029541016],\"type\":\"scatter3d\"},{\"line\":{\"color\":\"red\",\"width\":2},\"mode\":\"lines\",\"x\":[-0.22599679231643677,-0.22227855026721954],\"y\":[-0.03290054202079773,0.2151418924331665],\"z\":[-1.2519474029541016,-1.2435635328292847],\"type\":\"scatter3d\"},{\"line\":{\"color\":\"red\",\"width\":2},\"mode\":\"lines\",\"x\":[0.0986892506480217,0.1398617923259735],\"y\":[0.22757180035114288,-0.00144621217623353],\"z\":[-1.2611591815948486,-1.3480029106140137],\"type\":\"scatter3d\"},{\"line\":{\"color\":\"red\",\"width\":2},\"mode\":\"lines\",\"x\":[0.1398617923259735,0.1221441999077797],\"y\":[-0.00144621217623353,-0.21716172993183136],\"z\":[-1.3480029106140137,-1.245473861694336],\"type\":\"scatter3d\"},{\"line\":{\"color\":\"red\",\"width\":2},\"mode\":\"lines\",\"x\":[-0.22227855026721954,0.0986892506480217],\"y\":[0.2151418924331665,0.22757180035114288],\"z\":[-1.2435635328292847,-1.2611591815948486],\"type\":\"scatter3d\"},{\"line\":{\"color\":\"lime\",\"width\":2},\"mode\":\"lines\",\"x\":[-0.060742493059152025,-0.23361198630576796],\"y\":[-0.0756874737419942,-0.033235094683985056],\"z\":[-1.1008644089740987,-1.2617046818769957],\"type\":\"scatter3d\"},{\"line\":{\"color\":\"lime\",\"width\":2},\"mode\":\"lines\",\"x\":[-0.23361198630576796,-0.22034725559740453],\"y\":[-0.033235094683985056,0.21266411228431759],\"z\":[-1.2617046818769957,-1.2441964152584468],\"type\":\"scatter3d\"},{\"line\":{\"color\":\"lime\",\"width\":2},\"mode\":\"lines\",\"x\":[0.09962461883722581,0.14086540046207],\"y\":[0.2271986900902414,0.003111661471233304],\"z\":[-1.2639120821152972,-1.3645929099303],\"type\":\"scatter3d\"},{\"line\":{\"color\":\"lime\",\"width\":2},\"mode\":\"lines\",\"x\":[0.14086540046207,0.12989753480297583],\"y\":[0.003111661471233304,-0.217723355088427],\"z\":[-1.3645929099303,-1.2724920511425255],\"type\":\"scatter3d\"},{\"line\":{\"color\":\"lime\",\"width\":2},\"mode\":\"lines\",\"x\":[-0.22034725559740453,0.09962461883722581],\"y\":[0.21266411228431759,0.2271986900902414],\"z\":[-1.2441964152584468,-1.2639120821152972],\"type\":\"scatter3d\"}],\"name\":\"14\"},{\"data\":[{\"marker\":{\"color\":\"blue\",\"size\":6},\"mode\":\"markers\",\"x\":[-0.074488744,-0.22664016,-0.2215706,0.099439755,0.14090405,0.122352965],\"y\":[-0.037092175,-0.03308637,0.21599123,0.22746271,-0.0016688282,-0.21643186],\"z\":[-1.080137,-1.2519455,-1.244106,-1.2624493,-1.349738,-1.2439389],\"type\":\"scatter3d\"},{\"marker\":{\"color\":\"green\",\"size\":6},\"mode\":\"markers\",\"x\":[-0.06485130782505433,-0.23521257980366128,-0.22168280165433996,0.09856808938297734,0.13992999491065816,0.12659452857399078],\"y\":[-0.07594848219105044,-0.033235094683985056,0.21341331289884802,0.22684140500107963,0.003927335040046248,-0.2126298696630975],\"z\":[-1.1018035442092335,-1.2649688738442784,-1.247137546509613,-1.2626518012201213,-1.3657566317093206,-1.26437950104794],\"type\":\"scatter3d\"},{\"line\":{\"color\":\"red\",\"width\":2},\"mode\":\"lines\",\"x\":[-0.07448874413967133,-0.22664016485214233],\"y\":[-0.037092175334692,-0.033086370676755905],\"z\":[-1.080137014389038,-1.2519454956054688],\"type\":\"scatter3d\"},{\"line\":{\"color\":\"red\",\"width\":2},\"mode\":\"lines\",\"x\":[-0.22664016485214233,-0.22157059609889984],\"y\":[-0.033086370676755905,0.21599122881889343],\"z\":[-1.2519454956054688,-1.2441060543060303],\"type\":\"scatter3d\"},{\"line\":{\"color\":\"red\",\"width\":2},\"mode\":\"lines\",\"x\":[0.09943975508213043,0.14090405404567719],\"y\":[0.22746270895004272,-0.001668828190304339],\"z\":[-1.2624492645263672,-1.3497380018234253],\"type\":\"scatter3d\"},{\"line\":{\"color\":\"red\",\"width\":2},\"mode\":\"lines\",\"x\":[0.14090405404567719,0.1223529651761055],\"y\":[-0.001668828190304339,-0.2164318561553955],\"z\":[-1.3497380018234253,-1.24393892288208],\"type\":\"scatter3d\"},{\"line\":{\"color\":\"red\",\"width\":2},\"mode\":\"lines\",\"x\":[-0.22157059609889984,0.09943975508213043],\"y\":[0.21599122881889343,0.22746270895004272],\"z\":[-1.2441060543060303,-1.2624492645263672],\"type\":\"scatter3d\"},{\"line\":{\"color\":\"lime\",\"width\":2},\"mode\":\"lines\",\"x\":[-0.06485130782505433,-0.23521257980366128],\"y\":[-0.07594848219105044,-0.033235094683985056],\"z\":[-1.1018035442092335,-1.2649688738442784],\"type\":\"scatter3d\"},{\"line\":{\"color\":\"lime\",\"width\":2},\"mode\":\"lines\",\"x\":[-0.23521257980366128,-0.22168280165433996],\"y\":[-0.033235094683985056,0.21341331289884802],\"z\":[-1.2649688738442784,-1.247137546509613],\"type\":\"scatter3d\"},{\"line\":{\"color\":\"lime\",\"width\":2},\"mode\":\"lines\",\"x\":[0.09856808938297734,0.13992999491065816],\"y\":[0.22684140500107963,0.003927335040046248],\"z\":[-1.2626518012201213,-1.3657566317093206],\"type\":\"scatter3d\"},{\"line\":{\"color\":\"lime\",\"width\":2},\"mode\":\"lines\",\"x\":[0.13992999491065816,0.12659452857399078],\"y\":[0.003927335040046248,-0.2126298696630975],\"z\":[-1.3657566317093206,-1.26437950104794],\"type\":\"scatter3d\"},{\"line\":{\"color\":\"lime\",\"width\":2},\"mode\":\"lines\",\"x\":[-0.22168280165433996,0.09856808938297734],\"y\":[0.21341331289884802,0.22684140500107963],\"z\":[-1.247137546509613,-1.2626518012201213],\"type\":\"scatter3d\"}],\"name\":\"15\"},{\"data\":[{\"marker\":{\"color\":\"blue\",\"size\":6},\"mode\":\"markers\",\"x\":[-0.07347241,-0.22475682,-0.22206151,0.098041445,0.140552,0.122894995],\"y\":[-0.039424177,-0.03342523,0.21576568,0.22667904,-0.0022916864,-0.21754523],\"z\":[-1.0768061,-1.2494638,-1.2406265,-1.2614578,-1.3493724,-1.2449054],\"type\":\"scatter3d\"},{\"marker\":{\"color\":\"green\",\"size\":6},\"mode\":\"markers\",\"x\":[-0.07031862971595881,-0.237236097824141,-0.22240720696820837,0.09801866855133812,0.13881249728678002,0.12269873921552066],\"y\":[-0.07481223939443238,-0.033235094683985056,0.2144401222186787,0.2275645733524132,0.005105987171311267,-0.2088994830224088],\"z\":[-1.102782012689297,-1.2693961858548803,-1.2499986890730046,-1.2619875667717064,-1.3662194018687934,-1.260014176156048],\"type\":\"scatter3d\"},{\"line\":{\"color\":\"red\",\"width\":2},\"mode\":\"lines\",\"x\":[-0.07347241044044495,-0.22475682199001312],\"y\":[-0.03942417725920677,-0.0334252305328846],\"z\":[-1.0768060684204102,-1.2494637966156006],\"type\":\"scatter3d\"},{\"line\":{\"color\":\"red\",\"width\":2},\"mode\":\"lines\",\"x\":[-0.22475682199001312,-0.22206151485443115],\"y\":[-0.0334252305328846,0.21576568484306335],\"z\":[-1.2494637966156006,-1.2406264543533325],\"type\":\"scatter3d\"},{\"line\":{\"color\":\"red\",\"width\":2},\"mode\":\"lines\",\"x\":[0.09804144501686096,0.14055199921131134],\"y\":[0.22667904198169708,-0.0022916863672435284],\"z\":[-1.2614578008651733,-1.349372386932373],\"type\":\"scatter3d\"},{\"line\":{\"color\":\"red\",\"width\":2},\"mode\":\"lines\",\"x\":[0.14055199921131134,0.12289499491453171],\"y\":[-0.0022916863672435284,-0.21754522621631622],\"z\":[-1.349372386932373,-1.2449053525924683],\"type\":\"scatter3d\"},{\"line\":{\"color\":\"red\",\"width\":2},\"mode\":\"lines\",\"x\":[-0.22206151485443115,0.09804144501686096],\"y\":[0.21576568484306335,0.22667904198169708],\"z\":[-1.2406264543533325,-1.2614578008651733],\"type\":\"scatter3d\"},{\"line\":{\"color\":\"lime\",\"width\":2},\"mode\":\"lines\",\"x\":[-0.07031862971595881,-0.237236097824141],\"y\":[-0.07481223939443238,-0.033235094683985056],\"z\":[-1.102782012689297,-1.2693961858548803],\"type\":\"scatter3d\"},{\"line\":{\"color\":\"lime\",\"width\":2},\"mode\":\"lines\",\"x\":[-0.237236097824141,-0.22240720696820837],\"y\":[-0.033235094683985056,0.2144401222186787],\"z\":[-1.2693961858548803,-1.2499986890730046],\"type\":\"scatter3d\"},{\"line\":{\"color\":\"lime\",\"width\":2},\"mode\":\"lines\",\"x\":[0.09801866855133812,0.13881249728678002],\"y\":[0.2275645733524132,0.005105987171311267],\"z\":[-1.2619875667717064,-1.3662194018687934],\"type\":\"scatter3d\"},{\"line\":{\"color\":\"lime\",\"width\":2},\"mode\":\"lines\",\"x\":[0.13881249728678002,0.12269873921552066],\"y\":[0.005105987171311267,-0.2088994830224088],\"z\":[-1.3662194018687934,-1.260014176156048],\"type\":\"scatter3d\"},{\"line\":{\"color\":\"lime\",\"width\":2},\"mode\":\"lines\",\"x\":[-0.22240720696820837,0.09801866855133812],\"y\":[0.2144401222186787,0.2275645733524132],\"z\":[-1.2499986890730046,-1.2619875667717064],\"type\":\"scatter3d\"}],\"name\":\"16\"},{\"data\":[{\"marker\":{\"color\":\"blue\",\"size\":6},\"mode\":\"markers\",\"x\":[-0.07960168,-0.23029651,-0.22263382,0.09637886,0.13878638,0.11856352],\"y\":[-0.049343336,-0.035240512,0.2157368,0.22641376,-0.0023483054,-0.21145785],\"z\":[-1.0833613,-1.2551799,-1.2423474,-1.2586906,-1.3487909,-1.2342701],\"type\":\"scatter3d\"},{\"marker\":{\"color\":\"green\",\"size\":6},\"mode\":\"markers\",\"x\":[-0.07641746685035455,-0.24192169303048816,-0.22242669750158062,0.0979113281481136,0.1385570317163614,0.12061704713103316],\"y\":[-0.07437243745544247,-0.033235094683985056,0.21333454529737783,0.22784331441200045,0.004497006487159838,-0.2069027721964068],\"z\":[-1.104101779076772,-1.2723469740795252,-1.2497651579601463,-1.2630432847566944,-1.365410566033276,-1.254395366278505],\"type\":\"scatter3d\"},{\"line\":{\"color\":\"red\",\"width\":2},\"mode\":\"lines\",\"x\":[-0.07960168272256851,-0.23029650747776031],\"y\":[-0.04934333637356758,-0.03524051234126091],\"z\":[-1.083361268043518,-1.2551798820495605],\"type\":\"scatter3d\"},{\"line\":{\"color\":\"red\",\"width\":2},\"mode\":\"lines\",\"x\":[-0.23029650747776031,-0.22263382375240326],\"y\":[-0.03524051234126091,0.21573680639266968],\"z\":[-1.2551798820495605,-1.2423473596572876],\"type\":\"scatter3d\"},{\"line\":{\"color\":\"red\",\"width\":2},\"mode\":\"lines\",\"x\":[0.0963788628578186,0.13878637552261353],\"y\":[0.226413756608963,-0.0023483054246753454],\"z\":[-1.258690595626831,-1.3487908840179443],\"type\":\"scatter3d\"},{\"line\":{\"color\":\"red\",\"width\":2},\"mode\":\"lines\",\"x\":[0.13878637552261353,0.11856351792812347],\"y\":[-0.0023483054246753454,-0.21145784854888916],\"z\":[-1.3487908840179443,-1.2342700958251953],\"type\":\"scatter3d\"},{\"line\":{\"color\":\"red\",\"width\":2},\"mode\":\"lines\",\"x\":[-0.22263382375240326,0.0963788628578186],\"y\":[0.21573680639266968,0.226413756608963],\"z\":[-1.2423473596572876,-1.258690595626831],\"type\":\"scatter3d\"},{\"line\":{\"color\":\"lime\",\"width\":2},\"mode\":\"lines\",\"x\":[-0.07641746685035455,-0.24192169303048816],\"y\":[-0.07437243745544247,-0.033235094683985056],\"z\":[-1.104101779076772,-1.2723469740795252],\"type\":\"scatter3d\"},{\"line\":{\"color\":\"lime\",\"width\":2},\"mode\":\"lines\",\"x\":[-0.24192169303048816,-0.22242669750158062],\"y\":[-0.033235094683985056,0.21333454529737783],\"z\":[-1.2723469740795252,-1.2497651579601463],\"type\":\"scatter3d\"},{\"line\":{\"color\":\"lime\",\"width\":2},\"mode\":\"lines\",\"x\":[0.0979113281481136,0.1385570317163614],\"y\":[0.22784331441200045,0.004497006487159838],\"z\":[-1.2630432847566944,-1.365410566033276],\"type\":\"scatter3d\"},{\"line\":{\"color\":\"lime\",\"width\":2},\"mode\":\"lines\",\"x\":[0.1385570317163614,0.12061704713103316],\"y\":[0.004497006487159838,-0.2069027721964068],\"z\":[-1.365410566033276,-1.254395366278505],\"type\":\"scatter3d\"},{\"line\":{\"color\":\"lime\",\"width\":2},\"mode\":\"lines\",\"x\":[-0.22242669750158062,0.0979113281481136],\"y\":[0.21333454529737783,0.22784331441200045],\"z\":[-1.2497651579601463,-1.2630432847566944],\"type\":\"scatter3d\"}],\"name\":\"17\"},{\"data\":[{\"marker\":{\"color\":\"blue\",\"size\":6},\"mode\":\"markers\",\"x\":[-0.08371737,-0.23258443,-0.22270337,0.095820494,0.13749826,0.11697223],\"y\":[-0.04889869,-0.035262134,0.21591714,0.22691871,-0.0026610408,-0.21045661],\"z\":[-1.0830295,-1.2547174,-1.2426113,-1.259403,-1.3479252,-1.2310249],\"type\":\"scatter3d\"},{\"marker\":{\"color\":\"green\",\"size\":6},\"mode\":\"markers\",\"x\":[-0.0808872630386368,-0.24547807855166326,-0.22288116807312852,0.09743183124259669,0.13899868719940955,0.12128300947923765],\"y\":[-0.07563305156125355,-0.033235094683985056,0.21235063668721188,0.2274868489108921,0.0055397283176251855,-0.20576336980299076],\"z\":[-1.1020723589126993,-1.2710705975300858,-1.2485438577776655,-1.2614209653677726,-1.3664110890874426,-1.2551903725158056],\"type\":\"scatter3d\"},{\"line\":{\"color\":\"red\",\"width\":2},\"mode\":\"lines\",\"x\":[-0.08371736854314804,-0.23258443176746368],\"y\":[-0.048898689448833466,-0.03526213392615318],\"z\":[-1.0830295085906982,-1.2547173500061035],\"type\":\"scatter3d\"},{\"line\":{\"color\":\"red\",\"width\":2},\"mode\":\"lines\",\"x\":[-0.23258443176746368,-0.22270336747169495],\"y\":[-0.03526213392615318,0.21591714024543762],\"z\":[-1.2547173500061035,-1.242611289024353],\"type\":\"scatter3d\"},{\"line\":{\"color\":\"red\",\"width\":2},\"mode\":\"lines\",\"x\":[0.09582049399614334,0.13749825954437256],\"y\":[0.22691871225833893,-0.0026610407512634993],\"z\":[-1.2594029903411865,-1.3479251861572266],\"type\":\"scatter3d\"},{\"line\":{\"color\":\"red\",\"width\":2},\"mode\":\"lines\",\"x\":[0.13749825954437256,0.11697223037481308],\"y\":[-0.0026610407512634993,-0.21045660972595215],\"z\":[-1.3479251861572266,-1.2310248613357544],\"type\":\"scatter3d\"},{\"line\":{\"color\":\"red\",\"width\":2},\"mode\":\"lines\",\"x\":[-0.22270336747169495,0.09582049399614334],\"y\":[0.21591714024543762,0.22691871225833893],\"z\":[-1.242611289024353,-1.2594029903411865],\"type\":\"scatter3d\"},{\"line\":{\"color\":\"lime\",\"width\":2},\"mode\":\"lines\",\"x\":[-0.0808872630386368,-0.24547807855166326],\"y\":[-0.07563305156125355,-0.033235094683985056],\"z\":[-1.1020723589126993,-1.2710705975300858],\"type\":\"scatter3d\"},{\"line\":{\"color\":\"lime\",\"width\":2},\"mode\":\"lines\",\"x\":[-0.24547807855166326,-0.22288116807312852],\"y\":[-0.033235094683985056,0.21235063668721188],\"z\":[-1.2710705975300858,-1.2485438577776655],\"type\":\"scatter3d\"},{\"line\":{\"color\":\"lime\",\"width\":2},\"mode\":\"lines\",\"x\":[0.09743183124259669,0.13899868719940955],\"y\":[0.2274868489108921,0.0055397283176251855],\"z\":[-1.2614209653677726,-1.3664110890874426],\"type\":\"scatter3d\"},{\"line\":{\"color\":\"lime\",\"width\":2},\"mode\":\"lines\",\"x\":[0.13899868719940955,0.12128300947923765],\"y\":[0.0055397283176251855,-0.20576336980299076],\"z\":[-1.3664110890874426,-1.2551903725158056],\"type\":\"scatter3d\"},{\"line\":{\"color\":\"lime\",\"width\":2},\"mode\":\"lines\",\"x\":[-0.22288116807312852,0.09743183124259669],\"y\":[0.21235063668721188,0.2274868489108921],\"z\":[-1.2485438577776655,-1.2614209653677726],\"type\":\"scatter3d\"}],\"name\":\"18\"},{\"data\":[{\"marker\":{\"color\":\"blue\",\"size\":6},\"mode\":\"markers\",\"x\":[-0.07330489,-0.22963007,-0.22311367,0.09641332,0.13823359,0.117862396],\"y\":[-0.043015584,-0.03503699,0.21485688,0.22733252,-0.0026895122,-0.20980375],\"z\":[-1.0845835,-1.2516519,-1.2393514,-1.2631161,-1.3484073,-1.23049],\"type\":\"scatter3d\"},{\"marker\":{\"color\":\"green\",\"size\":6},\"mode\":\"markers\",\"x\":[-0.08506890292710967,-0.2486899496616075,-0.2234227361207758,0.09682662765920691,0.1395940184848572,0.12195998433903793],\"y\":[-0.07624505147256505,-0.033235094683985056,0.21180644620646394,0.22767215972366373,0.0049939761096153105,-0.2058229893491569],\"z\":[-1.1049507880510143,-1.2747383116093598,-1.2500978707725707,-1.2635450361250502,-1.3664526948045275,-1.2543277737678205],\"type\":\"scatter3d\"},{\"line\":{\"color\":\"red\",\"width\":2},\"mode\":\"lines\",\"x\":[-0.07330489158630371,-0.22963006794452667],\"y\":[-0.04301558434963226,-0.03503698855638504],\"z\":[-1.0845835208892822,-1.2516518831253052],\"type\":\"scatter3d\"},{\"line\":{\"color\":\"red\",\"width\":2},\"mode\":\"lines\",\"x\":[-0.22963006794452667,-0.22311367094516754],\"y\":[-0.03503698855638504,0.21485687792301178],\"z\":[-1.2516518831253052,-1.2393513917922974],\"type\":\"scatter3d\"},{\"line\":{\"color\":\"red\",\"width\":2},\"mode\":\"lines\",\"x\":[0.09641332179307938,0.13823358714580536],\"y\":[0.22733251750469208,-0.002689512213692069],\"z\":[-1.2631161212921143,-1.34840726852417],\"type\":\"scatter3d\"},{\"line\":{\"color\":\"red\",\"width\":2},\"mode\":\"lines\",\"x\":[0.13823358714580536,0.11786239594221115],\"y\":[-0.002689512213692069,-0.2098037451505661],\"z\":[-1.34840726852417,-1.23048996925354],\"type\":\"scatter3d\"},{\"line\":{\"color\":\"red\",\"width\":2},\"mode\":\"lines\",\"x\":[-0.22311367094516754,0.09641332179307938],\"y\":[0.21485687792301178,0.22733251750469208],\"z\":[-1.2393513917922974,-1.2631161212921143],\"type\":\"scatter3d\"},{\"line\":{\"color\":\"lime\",\"width\":2},\"mode\":\"lines\",\"x\":[-0.08506890292710967,-0.2486899496616075],\"y\":[-0.07624505147256505,-0.033235094683985056],\"z\":[-1.1049507880510143,-1.2747383116093598],\"type\":\"scatter3d\"},{\"line\":{\"color\":\"lime\",\"width\":2},\"mode\":\"lines\",\"x\":[-0.2486899496616075,-0.2234227361207758],\"y\":[-0.033235094683985056,0.21180644620646394],\"z\":[-1.2747383116093598,-1.2500978707725707],\"type\":\"scatter3d\"},{\"line\":{\"color\":\"lime\",\"width\":2},\"mode\":\"lines\",\"x\":[0.09682662765920691,0.1395940184848572],\"y\":[0.22767215972366373,0.0049939761096153105],\"z\":[-1.2635450361250502,-1.3664526948045275],\"type\":\"scatter3d\"},{\"line\":{\"color\":\"lime\",\"width\":2},\"mode\":\"lines\",\"x\":[0.1395940184848572,0.12195998433903793],\"y\":[0.0049939761096153105,-0.2058229893491569],\"z\":[-1.3664526948045275,-1.2543277737678205],\"type\":\"scatter3d\"},{\"line\":{\"color\":\"lime\",\"width\":2},\"mode\":\"lines\",\"x\":[-0.2234227361207758,0.09682662765920691],\"y\":[0.21180644620646394,0.22767215972366373],\"z\":[-1.2500978707725707,-1.2635450361250502],\"type\":\"scatter3d\"}],\"name\":\"19\"},{\"data\":[{\"marker\":{\"color\":\"blue\",\"size\":6},\"mode\":\"markers\",\"x\":[-0.074353956,-0.22919832,-0.22367105,0.09641396,0.1395074,0.120325185],\"y\":[-0.046720427,-0.035361525,0.214364,0.22713526,-0.00082652323,-0.21027623],\"z\":[-1.0801146,-1.250137,-1.2402105,-1.261476,-1.3530315,-1.2376448],\"type\":\"scatter3d\"},{\"marker\":{\"color\":\"green\",\"size\":6},\"mode\":\"markers\",\"x\":[-0.08819945745456037,-0.251321822451529,-0.2240698785535289,0.09621783345483825,0.14008918399687348,0.12487298247865192],\"y\":[-0.07835866753532061,-0.033235094683985056,0.21129465128578273,0.22680406280388432,0.005678387353329585,-0.20937028519123235],\"z\":[-1.108445287907399,-1.2779603021972914,-1.2510961293956893,-1.263407230346834,-1.3688095817354373,-1.264977336082549],\"type\":\"scatter3d\"},{\"line\":{\"color\":\"red\",\"width\":2},\"mode\":\"lines\",\"x\":[-0.07435395568609238,-0.22919832170009613],\"y\":[-0.04672042652964592,-0.03536152467131615],\"z\":[-1.0801146030426025,-1.2501369714736938],\"type\":\"scatter3d\"},{\"line\":{\"color\":\"red\",\"width\":2},\"mode\":\"lines\",\"x\":[-0.22919832170009613,-0.2236710488796234],\"y\":[-0.03536152467131615,0.21436400711536407],\"z\":[-1.2501369714736938,-1.2402105331420898],\"type\":\"scatter3d\"},{\"line\":{\"color\":\"red\",\"width\":2},\"mode\":\"lines\",\"x\":[0.09641396254301071,0.13950739800930023],\"y\":[0.22713525593280792,-0.0008265232318080962],\"z\":[-1.2614760398864746,-1.3530315160751343],\"type\":\"scatter3d\"},{\"line\":{\"color\":\"red\",\"width\":2},\"mode\":\"lines\",\"x\":[0.13950739800930023,0.12032518535852432],\"y\":[-0.0008265232318080962,-0.21027623116970062],\"z\":[-1.3530315160751343,-1.2376447916030884],\"type\":\"scatter3d\"},{\"line\":{\"color\":\"red\",\"width\":2},\"mode\":\"lines\",\"x\":[-0.2236710488796234,0.09641396254301071],\"y\":[0.21436400711536407,0.22713525593280792],\"z\":[-1.2402105331420898,-1.2614760398864746],\"type\":\"scatter3d\"},{\"line\":{\"color\":\"lime\",\"width\":2},\"mode\":\"lines\",\"x\":[-0.08819945745456037,-0.251321822451529],\"y\":[-0.07835866753532061,-0.033235094683985056],\"z\":[-1.108445287907399,-1.2779603021972914],\"type\":\"scatter3d\"},{\"line\":{\"color\":\"lime\",\"width\":2},\"mode\":\"lines\",\"x\":[-0.251321822451529,-0.2240698785535289],\"y\":[-0.033235094683985056,0.21129465128578273],\"z\":[-1.2779603021972914,-1.2510961293956893],\"type\":\"scatter3d\"},{\"line\":{\"color\":\"lime\",\"width\":2},\"mode\":\"lines\",\"x\":[0.09621783345483825,0.14008918399687348],\"y\":[0.22680406280388432,0.005678387353329585],\"z\":[-1.263407230346834,-1.3688095817354373],\"type\":\"scatter3d\"},{\"line\":{\"color\":\"lime\",\"width\":2},\"mode\":\"lines\",\"x\":[0.14008918399687348,0.12487298247865192],\"y\":[0.005678387353329585,-0.20937028519123235],\"z\":[-1.3688095817354373,-1.264977336082549],\"type\":\"scatter3d\"},{\"line\":{\"color\":\"lime\",\"width\":2},\"mode\":\"lines\",\"x\":[-0.2240698785535289,0.09621783345483825],\"y\":[0.21129465128578273,0.22680406280388432],\"z\":[-1.2510961293956893,-1.263407230346834],\"type\":\"scatter3d\"}],\"name\":\"20\"},{\"data\":[{\"marker\":{\"color\":\"blue\",\"size\":6},\"mode\":\"markers\",\"x\":[-0.06984236,-0.22707248,-0.2241004,0.096628636,0.13966797,0.12139092],\"y\":[-0.04459013,-0.035095755,0.21457964,0.2275784,-0.0011748897,-0.21173136],\"z\":[-1.0815594,-1.251549,-1.241307,-1.2644788,-1.3537065,-1.240883],\"type\":\"scatter3d\"},{\"marker\":{\"color\":\"green\",\"size\":6},\"mode\":\"markers\",\"x\":[-0.09300590720418977,-0.2524338364970628,-0.22417241312581393,0.09621914460949366,0.13935326045744273,0.1250004470427401],\"y\":[-0.07905669314926389,-0.033235094683985056,0.2112223210696218,0.22699019320470937,0.0069168806434060995,-0.2086755036963558],\"z\":[-1.108477354574199,-1.2811491489676925,-1.2538203001574146,-1.262761712155564,-1.3704671852319539,-1.2678136825710795],\"type\":\"scatter3d\"},{\"line\":{\"color\":\"red\",\"width\":2},\"mode\":\"lines\",\"x\":[-0.06984236091375351,-0.22707247734069824],\"y\":[-0.04459013044834137,-0.03509575501084328],\"z\":[-1.081559419631958,-1.2515490055084229],\"type\":\"scatter3d\"},{\"line\":{\"color\":\"red\",\"width\":2},\"mode\":\"lines\",\"x\":[-0.22707247734069824,-0.22410039603710175],\"y\":[-0.03509575501084328,0.21457964181900024],\"z\":[-1.2515490055084229,-1.241307020187378],\"type\":\"scatter3d\"},{\"line\":{\"color\":\"red\",\"width\":2},\"mode\":\"lines\",\"x\":[0.09662863612174988,0.13966797292232513],\"y\":[0.22757840156555176,-0.001174889737740159],\"z\":[-1.2644788026809692,-1.3537064790725708],\"type\":\"scatter3d\"},{\"line\":{\"color\":\"red\",\"width\":2},\"mode\":\"lines\",\"x\":[0.13966797292232513,0.1213909164071083],\"y\":[-0.001174889737740159,-0.21173135936260223],\"z\":[-1.3537064790725708,-1.2408829927444458],\"type\":\"scatter3d\"},{\"line\":{\"color\":\"red\",\"width\":2},\"mode\":\"lines\",\"x\":[-0.22410039603710175,0.09662863612174988],\"y\":[0.21457964181900024,0.22757840156555176],\"z\":[-1.241307020187378,-1.2644788026809692],\"type\":\"scatter3d\"},{\"line\":{\"color\":\"lime\",\"width\":2},\"mode\":\"lines\",\"x\":[-0.09300590720418977,-0.2524338364970628],\"y\":[-0.07905669314926389,-0.033235094683985056],\"z\":[-1.108477354574199,-1.2811491489676925],\"type\":\"scatter3d\"},{\"line\":{\"color\":\"lime\",\"width\":2},\"mode\":\"lines\",\"x\":[-0.2524338364970628,-0.22417241312581393],\"y\":[-0.033235094683985056,0.2112223210696218],\"z\":[-1.2811491489676925,-1.2538203001574146],\"type\":\"scatter3d\"},{\"line\":{\"color\":\"lime\",\"width\":2},\"mode\":\"lines\",\"x\":[0.09621914460949366,0.13935326045744273],\"y\":[0.22699019320470937,0.0069168806434060995],\"z\":[-1.262761712155564,-1.3704671852319539],\"type\":\"scatter3d\"},{\"line\":{\"color\":\"lime\",\"width\":2},\"mode\":\"lines\",\"x\":[0.13935326045744273,0.1250004470427401],\"y\":[0.0069168806434060995,-0.2086755036963558],\"z\":[-1.3704671852319539,-1.2678136825710795],\"type\":\"scatter3d\"},{\"line\":{\"color\":\"lime\",\"width\":2},\"mode\":\"lines\",\"x\":[-0.22417241312581393,0.09621914460949366],\"y\":[0.2112223210696218,0.22699019320470937],\"z\":[-1.2538203001574146,-1.262761712155564],\"type\":\"scatter3d\"}],\"name\":\"21\"},{\"data\":[{\"marker\":{\"color\":\"blue\",\"size\":6},\"mode\":\"markers\",\"x\":[-0.06866785,-0.22625145,-0.22403397,0.096285485,0.13988149,0.12333669],\"y\":[-0.045333482,-0.035578106,0.21425487,0.22670424,-0.0008859788,-0.21665464],\"z\":[-1.0813369,-1.2522814,-1.2423108,-1.2625074,-1.3547192,-1.2501823],\"type\":\"scatter3d\"},{\"marker\":{\"color\":\"green\",\"size\":6},\"mode\":\"markers\",\"x\":[-0.10122097634746607,-0.2535850704108502,-0.22444169208709863,0.0961077360225906,0.13975052541164146,0.12565216422012626],\"y\":[-0.07983256419191176,-0.033235094683985056,0.21176882066374025,0.22660921507750764,0.00697559301909919,-0.20924371487450055],\"z\":[-1.1090139128607364,-1.2874559151424343,-1.259513735673588,-1.2611993546360907,-1.369426011339776,-1.2682312725339058],\"type\":\"scatter3d\"},{\"line\":{\"color\":\"red\",\"width\":2},\"mode\":\"lines\",\"x\":[-0.06866785138845444,-0.22625145316123962],\"y\":[-0.04533348232507706,-0.035578105598688126],\"z\":[-1.0813368558883667,-1.2522814273834229],\"type\":\"scatter3d\"},{\"line\":{\"color\":\"red\",\"width\":2},\"mode\":\"lines\",\"x\":[-0.22625145316123962,-0.22403396666049957],\"y\":[-0.035578105598688126,0.21425487101078033],\"z\":[-1.2522814273834229,-1.2423107624053955],\"type\":\"scatter3d\"},{\"line\":{\"color\":\"red\",\"width\":2},\"mode\":\"lines\",\"x\":[0.09628548473119736,0.13988149166107178],\"y\":[0.22670423984527588,-0.0008859788067638874],\"z\":[-1.262507438659668,-1.3547191619873047],\"type\":\"scatter3d\"},{\"line\":{\"color\":\"red\",\"width\":2},\"mode\":\"lines\",\"x\":[0.13988149166107178,0.12333668768405914],\"y\":[-0.0008859788067638874,-0.21665464341640472],\"z\":[-1.3547191619873047,-1.2501822710037231],\"type\":\"scatter3d\"},{\"line\":{\"color\":\"red\",\"width\":2},\"mode\":\"lines\",\"x\":[-0.22403396666049957,0.09628548473119736],\"y\":[0.21425487101078033,0.22670423984527588],\"z\":[-1.2423107624053955,-1.262507438659668],\"type\":\"scatter3d\"},{\"line\":{\"color\":\"lime\",\"width\":2},\"mode\":\"lines\",\"x\":[-0.10122097634746607,-0.2535850704108502],\"y\":[-0.07983256419191176,-0.033235094683985056],\"z\":[-1.1090139128607364,-1.2874559151424343],\"type\":\"scatter3d\"},{\"line\":{\"color\":\"lime\",\"width\":2},\"mode\":\"lines\",\"x\":[-0.2535850704108502,-0.22444169208709863],\"y\":[-0.033235094683985056,0.21176882066374025],\"z\":[-1.2874559151424343,-1.259513735673588],\"type\":\"scatter3d\"},{\"line\":{\"color\":\"lime\",\"width\":2},\"mode\":\"lines\",\"x\":[0.0961077360225906,0.13975052541164146],\"y\":[0.22660921507750764,0.00697559301909919],\"z\":[-1.2611993546360907,-1.369426011339776],\"type\":\"scatter3d\"},{\"line\":{\"color\":\"lime\",\"width\":2},\"mode\":\"lines\",\"x\":[0.13975052541164146,0.12565216422012626],\"y\":[0.00697559301909919,-0.20924371487450055],\"z\":[-1.369426011339776,-1.2682312725339058],\"type\":\"scatter3d\"},{\"line\":{\"color\":\"lime\",\"width\":2},\"mode\":\"lines\",\"x\":[-0.22444169208709863,0.0961077360225906],\"y\":[0.21176882066374025,0.22660921507750764],\"z\":[-1.259513735673588,-1.2611993546360907],\"type\":\"scatter3d\"}],\"name\":\"22\"},{\"data\":[{\"marker\":{\"color\":\"blue\",\"size\":6},\"mode\":\"markers\",\"x\":[-0.07471266,-0.2264972,-0.22306426,0.09735955,0.13901067,0.12250992],\"y\":[-0.04451824,-0.034949798,0.21464415,0.22732885,-0.000021689904,-0.21511386],\"z\":[-1.0800904,-1.2539777,-1.2447253,-1.260936,-1.3555527,-1.2489045],\"type\":\"scatter3d\"},{\"marker\":{\"color\":\"green\",\"size\":6},\"mode\":\"markers\",\"x\":[-0.10813283274991825,-0.25409218671426226,-0.22340548012019734,0.09718351797863256,0.14004114268077486,0.12467455123603427],\"y\":[-0.08004568185475153,-0.03297411745786347,0.21201175416361462,0.22633299227112413,0.005943881349320678,-0.2091629802885654],\"z\":[-1.1093027562983906,-1.2927140012475942,-1.2633184195415084,-1.2614426615998795,-1.368287085982276,-1.265076041407882],\"type\":\"scatter3d\"},{\"line\":{\"color\":\"red\",\"width\":2},\"mode\":\"lines\",\"x\":[-0.07471265643835068,-0.22649720311164856],\"y\":[-0.04451823979616165,-0.03494979813694954],\"z\":[-1.0800904035568237,-1.253977656364441],\"type\":\"scatter3d\"},{\"line\":{\"color\":\"red\",\"width\":2},\"mode\":\"lines\",\"x\":[-0.22649720311164856,-0.22306425869464874],\"y\":[-0.03494979813694954,0.2146441489458084],\"z\":[-1.253977656364441,-1.2447253465652466],\"type\":\"scatter3d\"},{\"line\":{\"color\":\"red\",\"width\":2},\"mode\":\"lines\",\"x\":[0.0973595529794693,0.13901066780090332],\"y\":[0.2273288518190384,-0.000021689904315280728],\"z\":[-1.2609360218048096,-1.3555526733398438],\"type\":\"scatter3d\"},{\"line\":{\"color\":\"red\",\"width\":2},\"mode\":\"lines\",\"x\":[0.13901066780090332,0.1225099191069603],\"y\":[-0.000021689904315280728,-0.21511386334896088],\"z\":[-1.3555526733398438,-1.2489044666290283],\"type\":\"scatter3d\"},{\"line\":{\"color\":\"red\",\"width\":2},\"mode\":\"lines\",\"x\":[-0.22306425869464874,0.0973595529794693],\"y\":[0.2146441489458084,0.2273288518190384],\"z\":[-1.2447253465652466,-1.2609360218048096],\"type\":\"scatter3d\"},{\"line\":{\"color\":\"lime\",\"width\":2},\"mode\":\"lines\",\"x\":[-0.10813283274991825,-0.25409218671426226],\"y\":[-0.08004568185475153,-0.03297411745786347],\"z\":[-1.1093027562983906,-1.2927140012475942],\"type\":\"scatter3d\"},{\"line\":{\"color\":\"lime\",\"width\":2},\"mode\":\"lines\",\"x\":[-0.25409218671426226,-0.22340548012019734],\"y\":[-0.03297411745786347,0.21201175416361462],\"z\":[-1.2927140012475942,-1.2633184195415084],\"type\":\"scatter3d\"},{\"line\":{\"color\":\"lime\",\"width\":2},\"mode\":\"lines\",\"x\":[0.09718351797863256,0.14004114268077486],\"y\":[0.22633299227112413,0.005943881349320678],\"z\":[-1.2614426615998795,-1.368287085982276],\"type\":\"scatter3d\"},{\"line\":{\"color\":\"lime\",\"width\":2},\"mode\":\"lines\",\"x\":[0.14004114268077486,0.12467455123603427],\"y\":[0.005943881349320678,-0.2091629802885654],\"z\":[-1.368287085982276,-1.265076041407882],\"type\":\"scatter3d\"},{\"line\":{\"color\":\"lime\",\"width\":2},\"mode\":\"lines\",\"x\":[-0.22340548012019734,0.09718351797863256],\"y\":[0.21201175416361462,0.22633299227112413],\"z\":[-1.2633184195415084,-1.2614426615998795],\"type\":\"scatter3d\"}],\"name\":\"23\"},{\"data\":[{\"marker\":{\"color\":\"blue\",\"size\":6},\"mode\":\"markers\",\"x\":[-0.08706394,-0.22704913,-0.22245798,0.09791359,0.1392612,0.1229505],\"y\":[-0.042874288,-0.034642182,0.21570575,0.22689848,-0.0017797521,-0.2183195],\"z\":[-1.0771178,-1.2555441,-1.2470288,-1.2601534,-1.3503067,-1.2477384],\"type\":\"scatter3d\"},{\"marker\":{\"color\":\"green\",\"size\":6},\"mode\":\"markers\",\"x\":[-0.11376719705721827,-0.25477096438613095,-0.222539395354575,0.09806525717720721,0.1411613970651007,0.12468898290521513],\"y\":[-0.07895331757113594,-0.03272985854746295,0.21202161926800578,0.22581782936650896,0.005032702349234683,-0.20864635716632274],\"z\":[-1.1063849939151469,-1.2938345702506755,-1.2642078399705703,-1.2614439720444164,-1.367352247956335,-1.26139986483286],\"type\":\"scatter3d\"},{\"line\":{\"color\":\"red\",\"width\":2},\"mode\":\"lines\",\"x\":[-0.08706393837928772,-0.22704912722110748],\"y\":[-0.0428742878139019,-0.03464218229055405],\"z\":[-1.0771178007125854,-1.2555440664291382],\"type\":\"scatter3d\"},{\"line\":{\"color\":\"red\",\"width\":2},\"mode\":\"lines\",\"x\":[-0.22704912722110748,-0.22245797514915466],\"y\":[-0.03464218229055405,0.2157057523727417],\"z\":[-1.2555440664291382,-1.2470288276672363],\"type\":\"scatter3d\"},{\"line\":{\"color\":\"red\",\"width\":2},\"mode\":\"lines\",\"x\":[0.09791359305381775,0.13926120102405548],\"y\":[0.22689847648143768,-0.0017797520849853754],\"z\":[-1.2601534128189087,-1.350306749343872],\"type\":\"scatter3d\"},{\"line\":{\"color\":\"red\",\"width\":2},\"mode\":\"lines\",\"x\":[0.13926120102405548,0.12295050173997879],\"y\":[-0.0017797520849853754,-0.21831950545310974],\"z\":[-1.350306749343872,-1.2477383613586426],\"type\":\"scatter3d\"},{\"line\":{\"color\":\"red\",\"width\":2},\"mode\":\"lines\",\"x\":[-0.22245797514915466,0.09791359305381775],\"y\":[0.2157057523727417,0.22689847648143768],\"z\":[-1.2470288276672363,-1.2601534128189087],\"type\":\"scatter3d\"},{\"line\":{\"color\":\"lime\",\"width\":2},\"mode\":\"lines\",\"x\":[-0.11376719705721827,-0.25477096438613095],\"y\":[-0.07895331757113594,-0.03272985854746295],\"z\":[-1.1063849939151469,-1.2938345702506755],\"type\":\"scatter3d\"},{\"line\":{\"color\":\"lime\",\"width\":2},\"mode\":\"lines\",\"x\":[-0.25477096438613095,-0.222539395354575],\"y\":[-0.03272985854746295,0.21202161926800578],\"z\":[-1.2938345702506755,-1.2642078399705703],\"type\":\"scatter3d\"},{\"line\":{\"color\":\"lime\",\"width\":2},\"mode\":\"lines\",\"x\":[0.09806525717720721,0.1411613970651007],\"y\":[0.22581782936650896,0.005032702349234683],\"z\":[-1.2614439720444164,-1.367352247956335],\"type\":\"scatter3d\"},{\"line\":{\"color\":\"lime\",\"width\":2},\"mode\":\"lines\",\"x\":[0.1411613970651007,0.12468898290521513],\"y\":[0.005032702349234683,-0.20864635716632274],\"z\":[-1.367352247956335,-1.26139986483286],\"type\":\"scatter3d\"},{\"line\":{\"color\":\"lime\",\"width\":2},\"mode\":\"lines\",\"x\":[-0.222539395354575,0.09806525717720721],\"y\":[0.21202161926800578,0.22581782936650896],\"z\":[-1.2642078399705703,-1.2614439720444164],\"type\":\"scatter3d\"}],\"name\":\"24\"},{\"data\":[{\"marker\":{\"color\":\"blue\",\"size\":6},\"mode\":\"markers\",\"x\":[-0.07807634,-0.22493288,-0.22065353,0.09914758,0.13926849,0.12148796],\"y\":[-0.037481476,-0.03283463,0.21629582,0.22704059,-0.003647844,-0.2179906],\"z\":[-1.0782185,-1.2515088,-1.2452034,-1.2635133,-1.3460596,-1.2407218],\"type\":\"scatter3d\"},{\"marker\":{\"color\":\"green\",\"size\":6},\"mode\":\"markers\",\"x\":[-0.11902567631249639,-0.25656533239539564,-0.22233560702405708,0.09829054018326838,0.14172901217625047,0.1249438375345508],\"y\":[-0.07746285883698562,-0.03176877731804621,0.212512105673216,0.22562789916845283,0.004284651060304713,-0.20807746045639786],\"z\":[-1.106240270943709,-1.2963473813174726,-1.2652988433866394,-1.2616140846048243,-1.3661564597402176,-1.2576837532057725],\"type\":\"scatter3d\"},{\"line\":{\"color\":\"red\",\"width\":2},\"mode\":\"lines\",\"x\":[-0.07807634025812149,-0.22493287920951843],\"y\":[-0.03748147562146187,-0.03283463045954704],\"z\":[-1.0782184600830078,-1.2515088319778442],\"type\":\"scatter3d\"},{\"line\":{\"color\":\"red\",\"width\":2},\"mode\":\"lines\",\"x\":[-0.22493287920951843,-0.22065353393554688],\"y\":[-0.03283463045954704,0.21629582345485687],\"z\":[-1.2515088319778442,-1.2452033758163452],\"type\":\"scatter3d\"},{\"line\":{\"color\":\"red\",\"width\":2},\"mode\":\"lines\",\"x\":[0.09914758056402206,0.13926848769187927],\"y\":[0.2270405888557434,-0.003647844074293971],\"z\":[-1.2635133266448975,-1.3460595607757568],\"type\":\"scatter3d\"},{\"line\":{\"color\":\"red\",\"width\":2},\"mode\":\"lines\",\"x\":[0.13926848769187927,0.12148796021938324],\"y\":[-0.003647844074293971,-0.21799060702323914],\"z\":[-1.3460595607757568,-1.2407218217849731],\"type\":\"scatter3d\"},{\"line\":{\"color\":\"red\",\"width\":2},\"mode\":\"lines\",\"x\":[-0.22065353393554688,0.09914758056402206],\"y\":[0.21629582345485687,0.2270405888557434],\"z\":[-1.2452033758163452,-1.2635133266448975],\"type\":\"scatter3d\"},{\"line\":{\"color\":\"lime\",\"width\":2},\"mode\":\"lines\",\"x\":[-0.11902567631249639,-0.25656533239539564],\"y\":[-0.07746285883698562,-0.03176877731804621],\"z\":[-1.106240270943709,-1.2963473813174726],\"type\":\"scatter3d\"},{\"line\":{\"color\":\"lime\",\"width\":2},\"mode\":\"lines\",\"x\":[-0.25656533239539564,-0.22233560702405708],\"y\":[-0.03176877731804621,0.212512105673216],\"z\":[-1.2963473813174726,-1.2652988433866394],\"type\":\"scatter3d\"},{\"line\":{\"color\":\"lime\",\"width\":2},\"mode\":\"lines\",\"x\":[0.09829054018326838,0.14172901217625047],\"y\":[0.22562789916845283,0.004284651060304713],\"z\":[-1.2616140846048243,-1.3661564597402176],\"type\":\"scatter3d\"},{\"line\":{\"color\":\"lime\",\"width\":2},\"mode\":\"lines\",\"x\":[0.14172901217625047,0.1249438375345508],\"y\":[0.004284651060304713,-0.20807746045639786],\"z\":[-1.3661564597402176,-1.2576837532057725],\"type\":\"scatter3d\"},{\"line\":{\"color\":\"lime\",\"width\":2},\"mode\":\"lines\",\"x\":[-0.22233560702405708,0.09829054018326838],\"y\":[0.212512105673216,0.22562789916845283],\"z\":[-1.2652988433866394,-1.2616140846048243],\"type\":\"scatter3d\"}],\"name\":\"25\"},{\"data\":[{\"marker\":{\"color\":\"blue\",\"size\":6},\"mode\":\"markers\",\"x\":[-0.066709146,-0.22148742,-0.22012123,0.099599905,0.14023285,0.121441565],\"y\":[-0.03507136,-0.03235722,0.21660653,0.22705887,-0.0040729796,-0.2158933],\"z\":[-1.0772483,-1.24657,-1.2424588,-1.2653104,-1.3458844,-1.2356747],\"type\":\"scatter3d\"},{\"marker\":{\"color\":\"green\",\"size\":6},\"mode\":\"markers\",\"x\":[-0.12568282826656274,-0.2585076690062361,-0.22134314471760852,0.09930757423526165,0.14165252432293524,0.12407770006783073],\"y\":[-0.07679896502668476,-0.030991359030417706,0.21266628820227673,0.22541144488192444,0.002983047594440416,-0.20824246119060463],\"z\":[-1.1032125970018374,-1.2966107163108038,-1.2641108035674768,-1.2613673214393621,-1.3640269044083553,-1.2534898519599347],\"type\":\"scatter3d\"},{\"line\":{\"color\":\"red\",\"width\":2},\"mode\":\"lines\",\"x\":[-0.06670914590358734,-0.22148741781711578],\"y\":[-0.03507136180996895,-0.032357219606637955],\"z\":[-1.0772483348846436,-1.2465699911117554],\"type\":\"scatter3d\"},{\"line\":{\"color\":\"red\",\"width\":2},\"mode\":\"lines\",\"x\":[-0.22148741781711578,-0.22012123465538025],\"y\":[-0.032357219606637955,0.2166065275669098],\"z\":[-1.2465699911117554,-1.2424588203430176],\"type\":\"scatter3d\"},{\"line\":{\"color\":\"red\",\"width\":2},\"mode\":\"lines\",\"x\":[0.09959990531206131,0.1402328461408615],\"y\":[0.22705887258052826,-0.004072979558259249],\"z\":[-1.2653104066848755,-1.3458844423294067],\"type\":\"scatter3d\"},{\"line\":{\"color\":\"red\",\"width\":2},\"mode\":\"lines\",\"x\":[0.1402328461408615,0.1214415654540062],\"y\":[-0.004072979558259249,-0.21589329838752747],\"z\":[-1.3458844423294067,-1.2356747388839722],\"type\":\"scatter3d\"},{\"line\":{\"color\":\"red\",\"width\":2},\"mode\":\"lines\",\"x\":[-0.22012123465538025,0.09959990531206131],\"y\":[0.2166065275669098,0.22705887258052826],\"z\":[-1.2424588203430176,-1.2653104066848755],\"type\":\"scatter3d\"},{\"line\":{\"color\":\"lime\",\"width\":2},\"mode\":\"lines\",\"x\":[-0.12568282826656274,-0.2585076690062361],\"y\":[-0.07679896502668476,-0.030991359030417706],\"z\":[-1.1032125970018374,-1.2966107163108038],\"type\":\"scatter3d\"},{\"line\":{\"color\":\"lime\",\"width\":2},\"mode\":\"lines\",\"x\":[-0.2585076690062361,-0.22134314471760852],\"y\":[-0.030991359030417706,0.21266628820227673],\"z\":[-1.2966107163108038,-1.2641108035674768],\"type\":\"scatter3d\"},{\"line\":{\"color\":\"lime\",\"width\":2},\"mode\":\"lines\",\"x\":[0.09930757423526165,0.14165252432293524],\"y\":[0.22541144488192444,0.002983047594440416],\"z\":[-1.2613673214393621,-1.3640269044083553],\"type\":\"scatter3d\"},{\"line\":{\"color\":\"lime\",\"width\":2},\"mode\":\"lines\",\"x\":[0.14165252432293524,0.12407770006783073],\"y\":[0.002983047594440416,-0.20824246119060463],\"z\":[-1.3640269044083553,-1.2534898519599347],\"type\":\"scatter3d\"},{\"line\":{\"color\":\"lime\",\"width\":2},\"mode\":\"lines\",\"x\":[-0.22134314471760852,0.09930757423526165],\"y\":[0.21266628820227673,0.22541144488192444],\"z\":[-1.2641108035674768,-1.2613673214393621],\"type\":\"scatter3d\"}],\"name\":\"26\"},{\"data\":[{\"marker\":{\"color\":\"blue\",\"size\":6},\"mode\":\"markers\",\"x\":[-0.062061183,-0.22076216,-0.22015405,0.09921971,0.14021294,0.12213565],\"y\":[-0.035715938,-0.032557584,0.21695198,0.22726148,-0.0042511267,-0.21576029],\"z\":[-1.0773735,-1.2447323,-1.2408956,-1.26588,-1.3457195,-1.2342519],\"type\":\"scatter3d\"},{\"marker\":{\"color\":\"green\",\"size\":6},\"mode\":\"markers\",\"x\":[-0.13072734410915787,-0.26002940532230245,-0.22050340464300755,0.1000806018784336,0.14145506934069513,0.12398329383036491],\"y\":[-0.07508390143652033,-0.031516858236617276,0.21156260352021228,0.226081922688393,0.002615127769333328,-0.21039278805134676],\"z\":[-1.1006431556676803,-1.2969119558891258,-1.262984395117585,-1.2624843117383353,-1.363240479698824,-1.2561848170005216],\"type\":\"scatter3d\"},{\"line\":{\"color\":\"red\",\"width\":2},\"mode\":\"lines\",\"x\":[-0.06206118315458298,-0.22076216340065002],\"y\":[-0.03571593761444092,-0.03255758434534073],\"z\":[-1.0773735046386719,-1.2447322607040405],\"type\":\"scatter3d\"},{\"line\":{\"color\":\"red\",\"width\":2},\"mode\":\"lines\",\"x\":[-0.22076216340065002,-0.2201540470123291],\"y\":[-0.03255758434534073,0.21695198118686676],\"z\":[-1.2447322607040405,-1.2408956289291382],\"type\":\"scatter3d\"},{\"line\":{\"color\":\"red\",\"width\":2},\"mode\":\"lines\",\"x\":[0.09921970963478088,0.14021293818950653],\"y\":[0.227261483669281,-0.004251126665621996],\"z\":[-1.2658799886703491,-1.3457194566726685],\"type\":\"scatter3d\"},{\"line\":{\"color\":\"red\",\"width\":2},\"mode\":\"lines\",\"x\":[0.14021293818950653,0.12213564664125443],\"y\":[-0.004251126665621996,-0.21576029062271118],\"z\":[-1.3457194566726685,-1.234251856803894],\"type\":\"scatter3d\"},{\"line\":{\"color\":\"red\",\"width\":2},\"mode\":\"lines\",\"x\":[-0.2201540470123291,0.09921970963478088],\"y\":[0.21695198118686676,0.227261483669281],\"z\":[-1.2408956289291382,-1.2658799886703491],\"type\":\"scatter3d\"},{\"line\":{\"color\":\"lime\",\"width\":2},\"mode\":\"lines\",\"x\":[-0.13072734410915787,-0.26002940532230245],\"y\":[-0.07508390143652033,-0.031516858236617276],\"z\":[-1.1006431556676803,-1.2969119558891258],\"type\":\"scatter3d\"},{\"line\":{\"color\":\"lime\",\"width\":2},\"mode\":\"lines\",\"x\":[-0.26002940532230245,-0.22050340464300755],\"y\":[-0.031516858236617276,0.21156260352021228],\"z\":[-1.2969119558891258,-1.262984395117585],\"type\":\"scatter3d\"},{\"line\":{\"color\":\"lime\",\"width\":2},\"mode\":\"lines\",\"x\":[0.1000806018784336,0.14145506934069513],\"y\":[0.226081922688393,0.002615127769333328],\"z\":[-1.2624843117383353,-1.363240479698824],\"type\":\"scatter3d\"},{\"line\":{\"color\":\"lime\",\"width\":2},\"mode\":\"lines\",\"x\":[0.14145506934069513,0.12398329383036491],\"y\":[0.002615127769333328,-0.21039278805134676],\"z\":[-1.363240479698824,-1.2561848170005216],\"type\":\"scatter3d\"},{\"line\":{\"color\":\"lime\",\"width\":2},\"mode\":\"lines\",\"x\":[-0.22050340464300755,0.1000806018784336],\"y\":[0.21156260352021228,0.226081922688393],\"z\":[-1.262984395117585,-1.2624843117383353],\"type\":\"scatter3d\"}],\"name\":\"27\"},{\"data\":[{\"marker\":{\"color\":\"blue\",\"size\":6},\"mode\":\"markers\",\"x\":[-0.05833863,-0.2192866,-0.21979234,0.09945294,0.13993132,0.12197055],\"y\":[-0.03373375,-0.031797234,0.21697599,0.22758852,-0.0042591617,-0.21603467],\"z\":[-1.0756319,-1.240821,-1.2390448,-1.2663532,-1.3452075,-1.2337438],\"type\":\"scatter3d\"},{\"marker\":{\"color\":\"green\",\"size\":6},\"mode\":\"markers\",\"x\":[-0.13601873311405388,-0.26139026877776983,-0.22077213226049497,0.09981955584348509,0.14137567584100505,0.12380021073086195],\"y\":[-0.07457670613215273,-0.03073785779304912,0.21190355705564823,0.2260113955488583,0.0027941473595502753,-0.21271330135133093],\"z\":[-1.1008868233855287,-1.2995613834989879,-1.264248490328863,-1.2615873808762164,-1.3626756668246465,-1.2608960865861212],\"type\":\"scatter3d\"},{\"line\":{\"color\":\"red\",\"width\":2},\"mode\":\"lines\",\"x\":[-0.05833863094449043,-0.21928660571575165],\"y\":[-0.03373375162482262,-0.03179723396897316],\"z\":[-1.075631856918335,-1.2408210039138794],\"type\":\"scatter3d\"},{\"line\":{\"color\":\"red\",\"width\":2},\"mode\":\"lines\",\"x\":[-0.21928660571575165,-0.21979233622550964],\"y\":[-0.03179723396897316,0.21697598695755005],\"z\":[-1.2408210039138794,-1.2390447854995728],\"type\":\"scatter3d\"},{\"line\":{\"color\":\"red\",\"width\":2},\"mode\":\"lines\",\"x\":[0.09945294260978699,0.139931321144104],\"y\":[0.22758851945400238,-0.004259161651134491],\"z\":[-1.2663532495498657,-1.3452074527740479],\"type\":\"scatter3d\"},{\"line\":{\"color\":\"red\",\"width\":2},\"mode\":\"lines\",\"x\":[0.139931321144104,0.12197054922580719],\"y\":[-0.004259161651134491,-0.2160346657037735],\"z\":[-1.3452074527740479,-1.2337437868118286],\"type\":\"scatter3d\"},{\"line\":{\"color\":\"red\",\"width\":2},\"mode\":\"lines\",\"x\":[-0.21979233622550964,0.09945294260978699],\"y\":[0.21697598695755005,0.22758851945400238],\"z\":[-1.2390447854995728,-1.2663532495498657],\"type\":\"scatter3d\"},{\"line\":{\"color\":\"lime\",\"width\":2},\"mode\":\"lines\",\"x\":[-0.13601873311405388,-0.26139026877776983],\"y\":[-0.07457670613215273,-0.03073785779304912],\"z\":[-1.1008868233855287,-1.2995613834989879],\"type\":\"scatter3d\"},{\"line\":{\"color\":\"lime\",\"width\":2},\"mode\":\"lines\",\"x\":[-0.26139026877776983,-0.22077213226049497],\"y\":[-0.03073785779304912,0.21190355705564823],\"z\":[-1.2995613834989879,-1.264248490328863],\"type\":\"scatter3d\"},{\"line\":{\"color\":\"lime\",\"width\":2},\"mode\":\"lines\",\"x\":[0.09981955584348509,0.14137567584100505],\"y\":[0.2260113955488583,0.0027941473595502753],\"z\":[-1.2615873808762164,-1.3626756668246465],\"type\":\"scatter3d\"},{\"line\":{\"color\":\"lime\",\"width\":2},\"mode\":\"lines\",\"x\":[0.14137567584100505,0.12380021073086195],\"y\":[0.0027941473595502753,-0.21271330135133093],\"z\":[-1.3626756668246465,-1.2608960865861212],\"type\":\"scatter3d\"},{\"line\":{\"color\":\"lime\",\"width\":2},\"mode\":\"lines\",\"x\":[-0.22077213226049497,0.09981955584348509],\"y\":[0.21190355705564823,0.2260113955488583],\"z\":[-1.264248490328863,-1.2615873808762164],\"type\":\"scatter3d\"}],\"name\":\"28\"},{\"data\":[{\"marker\":{\"color\":\"blue\",\"size\":6},\"mode\":\"markers\",\"x\":[-0.061226282,-0.22000113,-0.22025,0.09971082,0.1395107,0.12228382],\"y\":[-0.027335573,-0.030400116,0.21609472,0.22839175,-0.0026477443,-0.21620412],\"z\":[-1.0778908,-1.2431931,-1.2411177,-1.268489,-1.3496443,-1.2414639],\"type\":\"scatter3d\"},{\"marker\":{\"color\":\"green\",\"size\":6},\"mode\":\"markers\",\"x\":[-0.14119611393920417,-0.2595639527549921,-0.22061322649590553,0.10001450032196332,0.14220310732656513,0.12393124401555344],\"y\":[-0.07359794047896379,-0.031102656454256333,0.21258088951243592,0.22522927826572303,0.0033177286016448093,-0.20943100751362875],\"z\":[-1.090594056277471,-1.2938007136628755,-1.2642871141159369,-1.259656310025619,-1.363315702104888,-1.256012916081894],\"type\":\"scatter3d\"},{\"line\":{\"color\":\"red\",\"width\":2},\"mode\":\"lines\",\"x\":[-0.06122628226876259,-0.22000113129615784],\"y\":[-0.027335572987794876,-0.030400115996599197],\"z\":[-1.0778907537460327,-1.2431931495666504],\"type\":\"scatter3d\"},{\"line\":{\"color\":\"red\",\"width\":2},\"mode\":\"lines\",\"x\":[-0.22000113129615784,-0.2202499955892563],\"y\":[-0.030400115996599197,0.2160947173833847],\"z\":[-1.2431931495666504,-1.2411177158355713],\"type\":\"scatter3d\"},{\"line\":{\"color\":\"red\",\"width\":2},\"mode\":\"lines\",\"x\":[0.09971082210540771,0.13951070606708527],\"y\":[0.22839175164699554,-0.002647744258865714],\"z\":[-1.2684890031814575,-1.3496443033218384],\"type\":\"scatter3d\"},{\"line\":{\"color\":\"red\",\"width\":2},\"mode\":\"lines\",\"x\":[0.13951070606708527,0.12228381633758545],\"y\":[-0.002647744258865714,-0.21620412170886993],\"z\":[-1.3496443033218384,-1.2414638996124268],\"type\":\"scatter3d\"},{\"line\":{\"color\":\"red\",\"width\":2},\"mode\":\"lines\",\"x\":[-0.2202499955892563,0.09971082210540771],\"y\":[0.2160947173833847,0.22839175164699554],\"z\":[-1.2411177158355713,-1.2684890031814575],\"type\":\"scatter3d\"},{\"line\":{\"color\":\"lime\",\"width\":2},\"mode\":\"lines\",\"x\":[-0.14119611393920417,-0.2595639527549921],\"y\":[-0.07359794047896379,-0.031102656454256333],\"z\":[-1.090594056277471,-1.2938007136628755],\"type\":\"scatter3d\"},{\"line\":{\"color\":\"lime\",\"width\":2},\"mode\":\"lines\",\"x\":[-0.2595639527549921,-0.22061322649590553],\"y\":[-0.031102656454256333,0.21258088951243592],\"z\":[-1.2938007136628755,-1.2642871141159369],\"type\":\"scatter3d\"},{\"line\":{\"color\":\"lime\",\"width\":2},\"mode\":\"lines\",\"x\":[0.10001450032196332,0.14220310732656513],\"y\":[0.22522927826572303,0.0033177286016448093],\"z\":[-1.259656310025619,-1.363315702104888],\"type\":\"scatter3d\"},{\"line\":{\"color\":\"lime\",\"width\":2},\"mode\":\"lines\",\"x\":[0.14220310732656513,0.12393124401555344],\"y\":[0.0033177286016448093,-0.20943100751362875],\"z\":[-1.363315702104888,-1.256012916081894],\"type\":\"scatter3d\"},{\"line\":{\"color\":\"lime\",\"width\":2},\"mode\":\"lines\",\"x\":[-0.22061322649590553,0.10001450032196332],\"y\":[0.21258088951243592,0.22522927826572303],\"z\":[-1.2642871141159369,-1.259656310025619],\"type\":\"scatter3d\"}],\"name\":\"29\"}]);\n",
       "                        }).then(function(){\n",
       "                            \n",
       "var gd = document.getElementById('aff8a43c-d566-4021-9f83-2819b55e8001');\n",
       "var x = new MutationObserver(function (mutations, observer) {{\n",
       "        var display = window.getComputedStyle(gd).display;\n",
       "        if (!display || display === 'none') {{\n",
       "            console.log([gd, 'removed!']);\n",
       "            Plotly.purge(gd);\n",
       "            observer.disconnect();\n",
       "        }}\n",
       "}});\n",
       "\n",
       "// Listen for the removal of the full notebook cells\n",
       "var notebookContainer = gd.closest('#notebook-container');\n",
       "if (notebookContainer) {{\n",
       "    x.observe(notebookContainer, {childList: true});\n",
       "}}\n",
       "\n",
       "// Listen for the clearing of the current output cell\n",
       "var outputEl = gd.closest('.output');\n",
       "if (outputEl) {{\n",
       "    x.observe(outputEl, {childList: true});\n",
       "}}\n",
       "\n",
       "                        })                };                });            </script>        </div>"
      ]
     },
     "metadata": {},
     "output_type": "display_data"
    }
   ],
   "source": [
    "import numpy as np\n",
    "import plotly.graph_objects as go\n",
    "from ipywidgets import interactive, IntSlider\n",
    "from IPython.display import display\n",
    "\n",
    "updated_connections = [\n",
    "    (0, 1), (1, 2),  # Right arm\n",
    "    (3, 4), (4, 5),  # Left arm\n",
    "    (2, 3),  # Connection between arms\n",
    "]\n",
    "\n",
    "def update_plot(pred):\n",
    "    # First dataset processing\n",
    "    data = hf.reverse_normalization(predicted_positions[pred], medians_pos, iqrs_pos)\n",
    "    #data = predicted_positions[pred]\n",
    "\n",
    "\n",
    "    if len(data.shape) == 1:\n",
    "        print(\"Data is a scalar or has unexpected shape.\")\n",
    "        return np.zeros((1, 3)), [], np.zeros((1, 3)), []\n",
    "    else:\n",
    "        valid_keypoints = ~np.isnan(data[:, :3]).any(axis=1)\n",
    "        filtered_data = data[valid_keypoints]\n",
    "\n",
    "        # Create mapping from old indices to new indices after NaN removal\n",
    "        index_mapping = {old_index: new_index for new_index, old_index in enumerate(np.where(valid_keypoints)[0])}\n",
    "        # Create new connections for the first dataset\n",
    "        new_connections = [(index_mapping[start], index_mapping[end])\n",
    "                           for start, end in updated_connections\n",
    "                           if start in index_mapping and end in index_mapping]\n",
    "\n",
    "    # Second dataset processing\n",
    "    data_y = hf.reverse_normalization(combined_Y_pos[batchnum][pred], medians_pos, iqrs_pos)\n",
    "    #data_y = combined_Y_pos[batchnum][pred]\n",
    "\n",
    "\n",
    "    if len(data_y.shape) == 1:\n",
    "        print(\"Data_y is a scalar or has unexpected shape.\")\n",
    "        return np.zeros((1, 3)), [], np.zeros((1, 3)), []\n",
    "    else:\n",
    "        valid_keypoints_y = ~np.isnan(data_y[:, :3]).any(axis=1)\n",
    "        filtered_data_y = data_y[valid_keypoints_y]\n",
    "\n",
    "        # Create mapping from old indices to new indices for the second dataset\n",
    "        index_mapping_y = {old_index: new_index for new_index, old_index in enumerate(np.where(valid_keypoints_y)[0])}\n",
    "        # Create new connections for the second dataset\n",
    "        new_connections_y = [(index_mapping_y[start], index_mapping_y[end])\n",
    "                             for start, end in updated_connections\n",
    "                             if start in index_mapping_y and end in index_mapping_y]\n",
    "\n",
    "    return filtered_data, new_connections, filtered_data_y, new_connections_y\n",
    "\n",
    "# Calculate overall axis limits\n",
    "# all_data = np.vstack([hf.reverse_normalization(pos, medians_pos, iqrs_pos) for pos in predicted_positions] +\n",
    "#                      [hf.reverse_normalization(combined_Y_pos[batchnum][i], medians_pos, iqrs_pos) for i in range(len(predicted_positions))])\n",
    "\n",
    "all_data = np.vstack([hf.reverse_normalization(pos, medians_pos, iqrs_pos) for pos in predicted_positions] +\n",
    "                     [hf.reverse_normalization(combined_Y_pos[batchnum][i], medians_pos, iqrs_pos) for i in range(len(predicted_positions))])\n",
    "\n",
    "# Ensure all_data is 3D\n",
    "if all_data.ndim < 3:\n",
    "    print(f\"Warning: all_data has unexpected shape: {all_data.shape}\")\n",
    "    all_data = all_data.reshape(-1, 1, 3)  # Reshape to 3D\n",
    "\n",
    "# Calculate min and max values for each axis\n",
    "x_min, y_min, z_min = np.nanmin(all_data, axis=(0, 1))\n",
    "x_max, y_max, z_max = np.nanmax(all_data, axis=(0, 1))\n",
    "\n",
    "# Check if any of the values are NaN and replace with default values if necessary\n",
    "if np.isnan(x_min) or np.isnan(x_max):\n",
    "    print(\"Warning: X-axis limits contain NaN. Using default values.\")\n",
    "    x_min, x_max = -1, 1\n",
    "if np.isnan(y_min) or np.isnan(y_max):\n",
    "    print(\"Warning: Y-axis limits contain NaN. Using default values.\")\n",
    "    y_min, y_max = -1, 1\n",
    "if np.isnan(z_min) or np.isnan(z_max):\n",
    "    print(\"Warning: Z-axis limits contain NaN. Using default values.\")\n",
    "    z_min, z_max = -1, 1\n",
    "\n",
    "# Add padding\n",
    "padding = 0.1\n",
    "x_range = x_max - x_min\n",
    "y_range = y_max - y_min\n",
    "z_range = z_max - z_min\n",
    "x_min -= x_range * padding\n",
    "x_max += x_range * padding\n",
    "y_min -= y_range * padding\n",
    "y_max += y_range * padding\n",
    "z_min -= z_range * padding\n",
    "z_max += z_range * padding\n",
    "\n",
    "# Initialize the plot\n",
    "fig = go.Figure()\n",
    "\n",
    "# Add initial traces (these will be updated later)\n",
    "scatter = fig.add_trace(go.Scatter3d(x=[0], y=[0], z=[0], mode='markers', marker=dict(size=6, color='blue'), name='Prediction'))\n",
    "scatter_y = fig.add_trace(go.Scatter3d(x=[0], y=[0], z=[0], mode='markers', marker=dict(size=6, color='green'), name='Ground Truth'))\n",
    "\n",
    "for _ in range(len(updated_connections)):\n",
    "    fig.add_trace(go.Scatter3d(x=[0, 0], y=[0, 0], z=[0, 0], mode='lines', line=dict(color='red', width=2), name='Prediction'))\n",
    "    fig.add_trace(go.Scatter3d(x=[0, 0], y=[0, 0], z=[0, 0], mode='lines', line=dict(color='lime', width=2), name='Ground Truth'))\n",
    "\n",
    "# Set layout\n",
    "fig.update_layout(\n",
    "    scene=dict(\n",
    "        xaxis=dict(title='X', range=[x_min, x_max], autorange=False),\n",
    "        yaxis=dict(title='Y', range=[y_min, y_max], autorange=False),\n",
    "        zaxis=dict(title='Z', range=[z_min, z_max], autorange=False),\n",
    "        aspectmode='cube',\n",
    "        camera=dict(\n",
    "            eye=dict(x=1.5, y=1.5, z=1.5),  # Adjust camera position\n",
    "                up=dict(x=0, y=1, z=0)  # Set up direction to positive z-axis\n",
    "        )\n",
    "    ),\n",
    "    updatemenus=[dict(\n",
    "        type='buttons',\n",
    "        showactive=False,\n",
    "        buttons=[dict(label='Play',\n",
    "                      method='animate',\n",
    "                      args=[None, dict(frame=dict(duration=500, redraw=True), fromcurrent=True, mode='immediate')])]\n",
    "    )],\n",
    "    height=700,\n",
    "    width=700\n",
    ")\n",
    "\n",
    "# Create frames for animation\n",
    "frames = []\n",
    "for pred in range(len(predicted_positions)):\n",
    "    filtered_data, new_connections, filtered_data_y, new_connections_y = update_plot(pred)\n",
    "    \n",
    "    frame = go.Frame(\n",
    "        data=[\n",
    "            go.Scatter3d(x=filtered_data[:, 0], y=filtered_data[:, 1], z=filtered_data[:, 2], mode='markers', marker=dict(size=6, color='blue')),\n",
    "            go.Scatter3d(x=filtered_data_y[:, 0], y=filtered_data_y[:, 1], z=filtered_data_y[:, 2], mode='markers', marker=dict(size=6, color='green'))\n",
    "        ] +\n",
    "        [go.Scatter3d(x=[filtered_data[start, 0], filtered_data[end, 0]], \n",
    "                      y=[filtered_data[start, 1], filtered_data[end, 1]], \n",
    "                      z=[filtered_data[start, 2], filtered_data[end, 2]], \n",
    "                      mode='lines', line=dict(color='red', width=2))\n",
    "         for start, end in new_connections] +\n",
    "        [go.Scatter3d(x=[filtered_data_y[start, 0], filtered_data_y[end, 0]], \n",
    "                      y=[filtered_data_y[start, 1], filtered_data_y[end, 1]], \n",
    "                      z=[filtered_data_y[start, 2], filtered_data_y[end, 2]], \n",
    "                      mode='lines', line=dict(color='lime', width=2))\n",
    "         for start, end in new_connections_y],\n",
    "        name=str(pred)\n",
    "    )\n",
    "    frames.append(frame)\n",
    "\n",
    "fig.frames = frames\n",
    "\n",
    "# Add slider\n",
    "sliders = [dict(\n",
    "    steps=[dict(method='animate',\n",
    "                args=[[str(i)], dict(mode='immediate', frame=dict(duration=500, redraw=True), transition=dict(duration=0))],\n",
    "                label=str(i)) for i in range(len(predicted_positions))],\n",
    "    transition=dict(duration=0),\n",
    "    x=0,\n",
    "    y=0, \n",
    "    currentvalue=dict(font=dict(size=12), prefix='Frame: ', visible=True, xanchor='center'),\n",
    "    len=1.0\n",
    ")]\n",
    "\n",
    "fig.update_layout(sliders=sliders)\n",
    "\n",
    "# Show the figure\n",
    "fig.show()"
   ]
  },
  {
   "cell_type": "code",
   "execution_count": 7,
   "id": "9b372154",
   "metadata": {},
   "outputs": [
    {
     "data": {
      "image/png": "[encoded data removed]",
      "text/plain": [
       "<Figure size 1000x600 with 1 Axes>"
      ]
     },
     "metadata": {},
     "output_type": "display_data"
    }
   ],
   "source": [
    "import matplotlib.pyplot as plt\n",
    "\n",
    "# First set of error values\n",
    "errors_first_set = [\n",
    "    0.3571, 0.3716, 0.4279, 0.5543, 0.5699, 0.7271,\n",
    "    0.8781, 0.9333, 1.1531, 1.6589\n",
    "]\n",
    "\n",
    "# Second set of error values\n",
    "errors_second_set = [\n",
    "    0.0135, 0.0668, 0.0971, 0.1059, 0.1099, 0.1166,\n",
    "    0.1282, 0.1546, 0.1960, 0.1988\n",
    "]\n",
    "\n",
    "errors_third_set = [\n",
    "    0.0090, 0.0329, 0.0358, 0.0358, 0.0330, 0.0299,\n",
    "    0.0287, 0.0387, 0.0435, 0.0504\n",
    "]\n",
    "\n",
    "errors_new_Set = [0.0339,0.0396,0.0135,0.0280,0.0144,0.0545,0.0617,0.0530,0.0487,0.0139]\n",
    "\n",
    "\n",
    "# Generate x values for plotting\n",
    "x_values_first = list(range(len(errors_first_set)))\n",
    "x_values_second = list(range(len(errors_second_set)))\n",
    "x_values_third = list(range(len(errors_third_set)))\n",
    "x_values_fourth= list(range(len(errors_new_Set)))\n",
    "\n",
    "# Create the scatter plot\n",
    "plt.figure(figsize=(10, 6))\n",
    "\n",
    "plt.scatter(x_values_first, errors_first_set, color='blue', label='First Set of Errors')\n",
    "plt.scatter(x_values_second, errors_second_set, color='red', label='Second Set of Errors')\n",
    "plt.scatter(x_values_third, errors_third_set, color='green', label='third Set of Errors')\n",
    "plt.scatter(x_values_fourth, errors_new_Set, color='purple', label='third Set of Errors')\n",
    "\n",
    "plt.xlabel('Index')\n",
    "plt.ylabel('Error Value')\n",
    "plt.title('Comparison of Three Sets of Error Values')\n",
    "plt.legend()\n",
    "plt.grid(True)\n",
    "plt.show()\n"
   ]
  },
  {
   "cell_type": "code",
   "execution_count": null,
   "id": "14aafb27",
   "metadata": {},
   "outputs": [],
   "source": []
  }
 ],
 "metadata": {
  "kernelspec": {
   "display_name": "Python 3 (ipykernel)",
   "language": "python",
   "name": "python3"
  },
  "language_info": {
   "codemirror_mode": {
    "name": "ipython",
    "version": 3
   },
   "file_extension": ".py",
   "mimetype": "text/x-python",
   "name": "python",
   "nbconvert_exporter": "python",
   "pygments_lexer": "ipython3",
   "version": "3.8.10"
  }
 },
 "nbformat": 4,
 "nbformat_minor": 5
}
