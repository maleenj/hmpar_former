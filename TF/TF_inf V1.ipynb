{
 "cells": [
  {
   "cell_type": "code",
   "execution_count": 1,
   "id": "033b1eb5-8e73-46fa-97e8-30208fb91eb4",
   "metadata": {},
   "outputs": [],
   "source": [
    "import torch\n",
    "import torch.nn as nn\n",
    "import torch.optim as optim\n",
    "import torch.utils.data as data\n",
    "import torch.nn.functional as F\n",
    "import pandas as pd\n",
    "import numpy as np\n",
    "import matplotlib.pyplot as plt\n",
    "import math\n",
    "import copy\n",
    "import sys\n",
    "from torch.utils.data import DataLoader, TensorDataset, Subset\n",
    "from sklearn.model_selection import train_test_split\n",
    "from embedding_layers import SkeletalInputEmbedding\n",
    "from encoder_layers import TransformerEncoder\n",
    "from decoder_layers import TransformerDecoder\n",
    "import TF_helper_functions as hf\n",
    "import pickle\n",
    "import ipyvolume as ipv\n",
    "import numpy as np\n",
    "import ipywidgets as widgets\n",
    "from IPython.display import display\n"
   ]
  },
  {
   "cell_type": "code",
   "execution_count": 2,
   "id": "4bb28bfa-65b6-4023-a035-35036b5aa2c7",
   "metadata": {},
   "outputs": [],
   "source": [
    "datapath='/home/maleen/research_data/Transformers/datasets/training/'\n",
    "# Base path and file information\n",
    "base_name='24_07_25_training_norm'\n",
    "\n",
    "weights_path='/home/maleen/research_data/Transformers/models/TF_tokenised/24_07_31_v1_best_model.pth'\n",
    "\n",
    "filename=datapath+base_name+'.pkl'\n",
    "\n",
    "def load_results_from_pickle(filename):\n",
    "    with open(filename, 'rb') as f:\n",
    "        return pickle.load(f)\n",
    "\n",
    "def process_all_datasets(results, input_length=60, predict_length=60):\n",
    "    all_X_pos, all_X_vel, all_X_acc = [], [], []\n",
    "    all_Y_pos, all_Y_vel, all_Y_acc = [], [], []\n",
    "    discarded_frames = {}\n",
    "\n",
    "    for i in range(1, 7):  # Assuming you have 6 datasets\n",
    "        dataset_key = f'dataset{i}'\n",
    "        norm_pos = results[f'{dataset_key}_normpos']\n",
    "        norm_vel = results[f'{dataset_key}_normvel']\n",
    "        norm_acc = results[f'{dataset_key}_normacc']\n",
    "\n",
    "        # Generate sequences for this dataset\n",
    "        X_pos, X_vel, X_acc, Y_pos, Y_vel, Y_acc = hf.generate_sequences(norm_pos, norm_vel, norm_acc, input_length, predict_length)\n",
    "        \n",
    "        all_X_pos.append(X_pos)\n",
    "        all_X_vel.append(X_vel)\n",
    "        all_X_acc.append(X_acc)\n",
    "        all_Y_pos.append(Y_pos)\n",
    "        all_Y_vel.append(Y_vel)\n",
    "        all_Y_acc.append(Y_acc)\n",
    "\n",
    "        # Calculate discarded frames\n",
    "        total_frames = norm_pos.shape[0]\n",
    "        used_frames = X_pos.shape[0] + input_length + predict_length - 1\n",
    "        discarded = total_frames - used_frames\n",
    "        discarded_frames[dataset_key] = discarded\n",
    "\n",
    "    # Combine sequences from all datasets\n",
    "    combined_X_pos = np.concatenate(all_X_pos)\n",
    "    combined_X_vel = np.concatenate(all_X_vel)\n",
    "    combined_X_acc = np.concatenate(all_X_acc)\n",
    "    combined_Y_pos = np.concatenate(all_Y_pos)\n",
    "    combined_Y_vel = np.concatenate(all_Y_vel)\n",
    "    combined_Y_acc = np.concatenate(all_Y_acc)\n",
    "\n",
    "    return (combined_X_pos, combined_X_vel, combined_X_acc, \n",
    "            combined_Y_pos, combined_Y_vel, combined_Y_acc, \n",
    "            discarded_frames)\n",
    "\n",
    "\n"
   ]
  },
  {
   "cell_type": "code",
   "execution_count": 3,
   "id": "15b76f69",
   "metadata": {},
   "outputs": [
    {
     "name": "stdout",
     "output_type": "stream",
     "text": [
      "Combined sequences shapes:\n",
      "X_pos shape: (7499, 30, 6, 3)\n",
      "X_vel shape: (7499, 30, 6, 3)\n",
      "X_acc shape: (7499, 30, 6, 3)\n",
      "Y_pos shape: (7499, 30, 6, 3)\n",
      "Y_vel shape: (7499, 30, 6, 3)\n",
      "Y_acc shape: (7499, 30, 6, 3)\n",
      "\n",
      "Discarded frames per dataset:\n",
      "dataset1: 0 frames\n",
      "dataset2: 0 frames\n",
      "dataset3: 0 frames\n",
      "dataset4: 0 frames\n",
      "dataset5: 0 frames\n",
      "dataset6: 0 frames\n"
     ]
    }
   ],
   "source": [
    "input_length = 30\n",
    "predict_length = 30\n",
    "datasetnum=6\n",
    "\n",
    "# Load the results\n",
    "results = load_results_from_pickle(filename)\n",
    "\n",
    "medians_pos = results['combined_medians_pos']\n",
    "iqrs_pos = results['combined_iqrs_pos']\n",
    "\n",
    "\n",
    "# Process all datasets and get combined sequences\n",
    "(combined_X_pos, combined_X_vel, combined_X_acc, \n",
    " combined_Y_pos, combined_Y_vel, combined_Y_acc, \n",
    " discarded_frames) = process_all_datasets(results, input_length, predict_length)\n",
    "\n",
    "print(\"Combined sequences shapes:\")\n",
    "print(f\"X_pos shape: {combined_X_pos.shape}\")\n",
    "print(f\"X_vel shape: {combined_X_vel.shape}\")\n",
    "print(f\"X_acc shape: {combined_X_acc.shape}\")\n",
    "print(f\"Y_pos shape: {combined_Y_pos.shape}\")\n",
    "print(f\"Y_vel shape: {combined_Y_vel.shape}\")\n",
    "print(f\"Y_acc shape: {combined_Y_acc.shape}\")\n",
    "\n",
    "print(\"\\nDiscarded frames per dataset:\")\n",
    "for dataset, frames in discarded_frames.items():\n",
    "    print(f\"{dataset}: {frames} frames\")\n"
   ]
  },
  {
   "cell_type": "code",
   "execution_count": 4,
   "id": "ee8abd09",
   "metadata": {
    "notebookRunGroups": {
     "groupValue": "1"
    }
   },
   "outputs": [
    {
     "name": "stdout",
     "output_type": "stream",
     "text": [
      "tensor(0.0339, device='cuda:0', grad_fn=<MeanBackward0>)\n",
      "tensor(0.0396, device='cuda:0', grad_fn=<MeanBackward0>)\n",
      "tensor(0.0135, device='cuda:0', grad_fn=<MeanBackward0>)\n",
      "tensor(0.0467, device='cuda:0', grad_fn=<MeanBackward0>)\n",
      "tensor(0.0280, device='cuda:0', grad_fn=<MeanBackward0>)\n",
      "tensor(0.0144, device='cuda:0', grad_fn=<MeanBackward0>)\n",
      "tensor(0.0545, device='cuda:0', grad_fn=<MeanBackward0>)\n",
      "tensor(0.0617, device='cuda:0', grad_fn=<MeanBackward0>)\n",
      "tensor(0.0530, device='cuda:0', grad_fn=<MeanBackward0>)\n",
      "tensor(0.0487, device='cuda:0', grad_fn=<MeanBackward0>)\n",
      "tensor(0.0139, device='cuda:0', grad_fn=<MeanBackward0>)\n",
      "tensor(0.0208, device='cuda:0', grad_fn=<MeanBackward0>)\n",
      "tensor(0.0184, device='cuda:0', grad_fn=<MeanBackward0>)\n",
      "tensor(0.5163, device='cuda:0', grad_fn=<MeanBackward0>)\n",
      "tensor(0.3987, device='cuda:0', grad_fn=<MeanBackward0>)\n",
      "tensor(0.2614, device='cuda:0', grad_fn=<MeanBackward0>)\n",
      "tensor(0.5446, device='cuda:0', grad_fn=<MeanBackward0>)\n",
      "tensor(0.6202, device='cuda:0', grad_fn=<MeanBackward0>)\n",
      "tensor(1.3929, device='cuda:0', grad_fn=<MeanBackward0>)\n",
      "tensor(1.7349, device='cuda:0', grad_fn=<MeanBackward0>)\n",
      "1\n",
      "tensor(0.0393, device='cuda:0', grad_fn=<MeanBackward0>)\n",
      "tensor(0.0164, device='cuda:0', grad_fn=<MeanBackward0>)\n",
      "tensor(0.0517, device='cuda:0', grad_fn=<MeanBackward0>)\n",
      "tensor(0.0363, device='cuda:0', grad_fn=<MeanBackward0>)\n",
      "tensor(0.0172, device='cuda:0', grad_fn=<MeanBackward0>)\n",
      "tensor(0.0614, device='cuda:0', grad_fn=<MeanBackward0>)\n",
      "tensor(0.0712, device='cuda:0', grad_fn=<MeanBackward0>)\n",
      "tensor(0.0585, device='cuda:0', grad_fn=<MeanBackward0>)\n",
      "tensor(0.0573, device='cuda:0', grad_fn=<MeanBackward0>)\n",
      "tensor(0.0185, device='cuda:0', grad_fn=<MeanBackward0>)\n",
      "tensor(0.0235, device='cuda:0', grad_fn=<MeanBackward0>)\n",
      "tensor(0.0202, device='cuda:0', grad_fn=<MeanBackward0>)\n",
      "tensor(0.5264, device='cuda:0', grad_fn=<MeanBackward0>)\n",
      "tensor(0.4468, device='cuda:0', grad_fn=<MeanBackward0>)\n",
      "tensor(0.2759, device='cuda:0', grad_fn=<MeanBackward0>)\n",
      "tensor(0.5377, device='cuda:0', grad_fn=<MeanBackward0>)\n",
      "tensor(0.6298, device='cuda:0', grad_fn=<MeanBackward0>)\n",
      "tensor(1.3922, device='cuda:0', grad_fn=<MeanBackward0>)\n",
      "tensor(1.7992, device='cuda:0', grad_fn=<MeanBackward0>)\n",
      "tensor(1.2269, device='cuda:0', grad_fn=<MeanBackward0>)\n",
      "2\n",
      "tensor(0.0117, device='cuda:0', grad_fn=<MeanBackward0>)\n",
      "tensor(0.0498, device='cuda:0', grad_fn=<MeanBackward0>)\n",
      "tensor(0.0299, device='cuda:0', grad_fn=<MeanBackward0>)\n",
      "tensor(0.0137, device='cuda:0', grad_fn=<MeanBackward0>)\n",
      "tensor(0.0581, device='cuda:0', grad_fn=<MeanBackward0>)\n",
      "tensor(0.0666, device='cuda:0', grad_fn=<MeanBackward0>)\n",
      "tensor(0.0561, device='cuda:0', grad_fn=<MeanBackward0>)\n",
      "tensor(0.0530, device='cuda:0', grad_fn=<MeanBackward0>)\n",
      "tensor(0.0155, device='cuda:0', grad_fn=<MeanBackward0>)\n",
      "tensor(0.0202, device='cuda:0', grad_fn=<MeanBackward0>)\n",
      "tensor(0.0179, device='cuda:0', grad_fn=<MeanBackward0>)\n",
      "tensor(0.5205, device='cuda:0', grad_fn=<MeanBackward0>)\n",
      "tensor(0.4203, device='cuda:0', grad_fn=<MeanBackward0>)\n",
      "tensor(0.2697, device='cuda:0', grad_fn=<MeanBackward0>)\n",
      "tensor(0.5407, device='cuda:0', grad_fn=<MeanBackward0>)\n",
      "tensor(0.6299, device='cuda:0', grad_fn=<MeanBackward0>)\n",
      "tensor(1.3912, device='cuda:0', grad_fn=<MeanBackward0>)\n",
      "tensor(1.7790, device='cuda:0', grad_fn=<MeanBackward0>)\n",
      "tensor(1.2197, device='cuda:0', grad_fn=<MeanBackward0>)\n",
      "tensor(1.8550, device='cuda:0', grad_fn=<MeanBackward0>)\n",
      "3\n",
      "tensor(0.0496, device='cuda:0', grad_fn=<MeanBackward0>)\n",
      "tensor(0.0244, device='cuda:0', grad_fn=<MeanBackward0>)\n",
      "tensor(0.0108, device='cuda:0', grad_fn=<MeanBackward0>)\n",
      "tensor(0.0547, device='cuda:0', grad_fn=<MeanBackward0>)\n",
      "tensor(0.0621, device='cuda:0', grad_fn=<MeanBackward0>)\n",
      "tensor(0.0533, device='cuda:0', grad_fn=<MeanBackward0>)\n",
      "tensor(0.0486, device='cuda:0', grad_fn=<MeanBackward0>)\n",
      "tensor(0.0117, device='cuda:0', grad_fn=<MeanBackward0>)\n",
      "tensor(0.0191, device='cuda:0', grad_fn=<MeanBackward0>)\n",
      "tensor(0.0169, device='cuda:0', grad_fn=<MeanBackward0>)\n",
      "tensor(0.5129, device='cuda:0', grad_fn=<MeanBackward0>)\n",
      "tensor(0.3991, device='cuda:0', grad_fn=<MeanBackward0>)\n",
      "tensor(0.2637, device='cuda:0', grad_fn=<MeanBackward0>)\n",
      "tensor(0.5465, device='cuda:0', grad_fn=<MeanBackward0>)\n",
      "tensor(0.6256, device='cuda:0', grad_fn=<MeanBackward0>)\n",
      "tensor(1.3902, device='cuda:0', grad_fn=<MeanBackward0>)\n",
      "tensor(1.7409, device='cuda:0', grad_fn=<MeanBackward0>)\n",
      "tensor(1.2060, device='cuda:0', grad_fn=<MeanBackward0>)\n",
      "tensor(1.8651, device='cuda:0', grad_fn=<MeanBackward0>)\n",
      "tensor(1.4413, device='cuda:0', grad_fn=<MeanBackward0>)\n",
      "4\n",
      "tensor(0.0304, device='cuda:0', grad_fn=<MeanBackward0>)\n",
      "tensor(0.0122, device='cuda:0', grad_fn=<MeanBackward0>)\n",
      "tensor(0.0555, device='cuda:0', grad_fn=<MeanBackward0>)\n",
      "tensor(0.0646, device='cuda:0', grad_fn=<MeanBackward0>)\n",
      "tensor(0.0542, device='cuda:0', grad_fn=<MeanBackward0>)\n",
      "tensor(0.0503, device='cuda:0', grad_fn=<MeanBackward0>)\n",
      "tensor(0.0140, device='cuda:0', grad_fn=<MeanBackward0>)\n",
      "tensor(0.0190, device='cuda:0', grad_fn=<MeanBackward0>)\n",
      "tensor(0.0183, device='cuda:0', grad_fn=<MeanBackward0>)\n",
      "tensor(0.5247, device='cuda:0', grad_fn=<MeanBackward0>)\n",
      "tensor(0.4344, device='cuda:0', grad_fn=<MeanBackward0>)\n",
      "tensor(0.2712, device='cuda:0', grad_fn=<MeanBackward0>)\n",
      "tensor(0.5450, device='cuda:0', grad_fn=<MeanBackward0>)\n",
      "tensor(0.6336, device='cuda:0', grad_fn=<MeanBackward0>)\n",
      "tensor(1.3959, device='cuda:0', grad_fn=<MeanBackward0>)\n",
      "tensor(1.7786, device='cuda:0', grad_fn=<MeanBackward0>)\n",
      "tensor(1.2192, device='cuda:0', grad_fn=<MeanBackward0>)\n",
      "tensor(1.8602, device='cuda:0', grad_fn=<MeanBackward0>)\n",
      "tensor(1.4571, device='cuda:0', grad_fn=<MeanBackward0>)\n",
      "tensor(1.3684, device='cuda:0', grad_fn=<MeanBackward0>)\n",
      "5\n",
      "tensor(0.0128, device='cuda:0', grad_fn=<MeanBackward0>)\n",
      "tensor(0.0575, device='cuda:0', grad_fn=<MeanBackward0>)\n",
      "tensor(0.0673, device='cuda:0', grad_fn=<MeanBackward0>)\n",
      "tensor(0.0565, device='cuda:0', grad_fn=<MeanBackward0>)\n",
      "tensor(0.0537, device='cuda:0', grad_fn=<MeanBackward0>)\n",
      "tensor(0.0150, device='cuda:0', grad_fn=<MeanBackward0>)\n",
      "tensor(0.0247, device='cuda:0', grad_fn=<MeanBackward0>)\n",
      "tensor(0.0200, device='cuda:0', grad_fn=<MeanBackward0>)\n",
      "tensor(0.5137, device='cuda:0', grad_fn=<MeanBackward0>)\n",
      "tensor(0.4134, device='cuda:0', grad_fn=<MeanBackward0>)\n",
      "tensor(0.2601, device='cuda:0', grad_fn=<MeanBackward0>)\n",
      "tensor(0.5443, device='cuda:0', grad_fn=<MeanBackward0>)\n",
      "tensor(0.6181, device='cuda:0', grad_fn=<MeanBackward0>)\n",
      "tensor(1.3849, device='cuda:0', grad_fn=<MeanBackward0>)\n",
      "tensor(1.7277, device='cuda:0', grad_fn=<MeanBackward0>)\n",
      "tensor(1.1960, device='cuda:0', grad_fn=<MeanBackward0>)\n",
      "tensor(1.8578, device='cuda:0', grad_fn=<MeanBackward0>)\n",
      "tensor(1.4245, device='cuda:0', grad_fn=<MeanBackward0>)\n",
      "tensor(1.3685, device='cuda:0', grad_fn=<MeanBackward0>)\n",
      "tensor(1.7199, device='cuda:0', grad_fn=<MeanBackward0>)\n",
      "6\n",
      "tensor(0.0493, device='cuda:0', grad_fn=<MeanBackward0>)\n",
      "tensor(0.0590, device='cuda:0', grad_fn=<MeanBackward0>)\n",
      "tensor(0.0530, device='cuda:0', grad_fn=<MeanBackward0>)\n",
      "tensor(0.0481, device='cuda:0', grad_fn=<MeanBackward0>)\n",
      "tensor(0.0106, device='cuda:0', grad_fn=<MeanBackward0>)\n",
      "tensor(0.0262, device='cuda:0', grad_fn=<MeanBackward0>)\n",
      "tensor(0.0212, device='cuda:0', grad_fn=<MeanBackward0>)\n",
      "tensor(0.4860, device='cuda:0', grad_fn=<MeanBackward0>)\n",
      "tensor(0.3274, device='cuda:0', grad_fn=<MeanBackward0>)\n",
      "tensor(0.2265, device='cuda:0', grad_fn=<MeanBackward0>)\n",
      "tensor(0.5467, device='cuda:0', grad_fn=<MeanBackward0>)\n",
      "tensor(0.5925, device='cuda:0', grad_fn=<MeanBackward0>)\n",
      "tensor(1.3686, device='cuda:0', grad_fn=<MeanBackward0>)\n",
      "tensor(1.6064, device='cuda:0', grad_fn=<MeanBackward0>)\n",
      "tensor(1.1371, device='cuda:0', grad_fn=<MeanBackward0>)\n",
      "tensor(1.8688, device='cuda:0', grad_fn=<MeanBackward0>)\n",
      "tensor(1.3724, device='cuda:0', grad_fn=<MeanBackward0>)\n",
      "tensor(1.3864, device='cuda:0', grad_fn=<MeanBackward0>)\n",
      "tensor(1.7043, device='cuda:0', grad_fn=<MeanBackward0>)\n",
      "tensor(2.0726, device='cuda:0', grad_fn=<MeanBackward0>)\n",
      "7\n",
      "tensor(0.0604, device='cuda:0', grad_fn=<MeanBackward0>)\n",
      "tensor(0.0508, device='cuda:0', grad_fn=<MeanBackward0>)\n",
      "tensor(0.0472, device='cuda:0', grad_fn=<MeanBackward0>)\n",
      "tensor(0.0096, device='cuda:0', grad_fn=<MeanBackward0>)\n",
      "tensor(0.0235, device='cuda:0', grad_fn=<MeanBackward0>)\n",
      "tensor(0.0211, device='cuda:0', grad_fn=<MeanBackward0>)\n",
      "tensor(0.4975, device='cuda:0', grad_fn=<MeanBackward0>)\n",
      "tensor(0.3325, device='cuda:0', grad_fn=<MeanBackward0>)\n",
      "tensor(0.2401, device='cuda:0', grad_fn=<MeanBackward0>)\n",
      "tensor(0.5519, device='cuda:0', grad_fn=<MeanBackward0>)\n",
      "tensor(0.6061, device='cuda:0', grad_fn=<MeanBackward0>)\n",
      "tensor(1.3794, device='cuda:0', grad_fn=<MeanBackward0>)\n",
      "tensor(1.6446, device='cuda:0', grad_fn=<MeanBackward0>)\n",
      "tensor(1.1606, device='cuda:0', grad_fn=<MeanBackward0>)\n",
      "tensor(1.8712, device='cuda:0', grad_fn=<MeanBackward0>)\n",
      "tensor(1.3937, device='cuda:0', grad_fn=<MeanBackward0>)\n",
      "tensor(1.3835, device='cuda:0', grad_fn=<MeanBackward0>)\n",
      "tensor(1.7185, device='cuda:0', grad_fn=<MeanBackward0>)\n",
      "tensor(2.0879, device='cuda:0', grad_fn=<MeanBackward0>)\n",
      "tensor(2.1503, device='cuda:0', grad_fn=<MeanBackward0>)\n",
      "8\n",
      "tensor(0.0506, device='cuda:0', grad_fn=<MeanBackward0>)\n",
      "tensor(0.0456, device='cuda:0', grad_fn=<MeanBackward0>)\n",
      "tensor(0.0113, device='cuda:0', grad_fn=<MeanBackward0>)\n",
      "tensor(0.0236, device='cuda:0', grad_fn=<MeanBackward0>)\n",
      "tensor(0.0198, device='cuda:0', grad_fn=<MeanBackward0>)\n",
      "tensor(0.4919, device='cuda:0', grad_fn=<MeanBackward0>)\n",
      "tensor(0.3265, device='cuda:0', grad_fn=<MeanBackward0>)\n",
      "tensor(0.2281, device='cuda:0', grad_fn=<MeanBackward0>)\n",
      "tensor(0.5486, device='cuda:0', grad_fn=<MeanBackward0>)\n",
      "tensor(0.6005, device='cuda:0', grad_fn=<MeanBackward0>)\n",
      "tensor(1.3784, device='cuda:0', grad_fn=<MeanBackward0>)\n",
      "tensor(1.6332, device='cuda:0', grad_fn=<MeanBackward0>)\n",
      "tensor(1.1491, device='cuda:0', grad_fn=<MeanBackward0>)\n",
      "tensor(1.8731, device='cuda:0', grad_fn=<MeanBackward0>)\n",
      "tensor(1.3864, device='cuda:0', grad_fn=<MeanBackward0>)\n",
      "tensor(1.3860, device='cuda:0', grad_fn=<MeanBackward0>)\n",
      "tensor(1.7111, device='cuda:0', grad_fn=<MeanBackward0>)\n",
      "tensor(2.0783, device='cuda:0', grad_fn=<MeanBackward0>)\n",
      "tensor(2.1426, device='cuda:0', grad_fn=<MeanBackward0>)\n",
      "tensor(2.0690, device='cuda:0', grad_fn=<MeanBackward0>)\n",
      "9\n",
      "tensor(0.0458, device='cuda:0', grad_fn=<MeanBackward0>)\n",
      "tensor(0.0096, device='cuda:0', grad_fn=<MeanBackward0>)\n",
      "tensor(0.0251, device='cuda:0', grad_fn=<MeanBackward0>)\n",
      "tensor(0.0189, device='cuda:0', grad_fn=<MeanBackward0>)\n",
      "tensor(0.4639, device='cuda:0', grad_fn=<MeanBackward0>)\n",
      "tensor(0.2690, device='cuda:0', grad_fn=<MeanBackward0>)\n",
      "tensor(0.1970, device='cuda:0', grad_fn=<MeanBackward0>)\n",
      "tensor(0.5413, device='cuda:0', grad_fn=<MeanBackward0>)\n",
      "tensor(0.5798, device='cuda:0', grad_fn=<MeanBackward0>)\n",
      "tensor(1.3563, device='cuda:0', grad_fn=<MeanBackward0>)\n",
      "tensor(1.5521, device='cuda:0', grad_fn=<MeanBackward0>)\n",
      "tensor(1.0990, device='cuda:0', grad_fn=<MeanBackward0>)\n",
      "tensor(1.8611, device='cuda:0', grad_fn=<MeanBackward0>)\n",
      "tensor(1.3478, device='cuda:0', grad_fn=<MeanBackward0>)\n",
      "tensor(1.3868, device='cuda:0', grad_fn=<MeanBackward0>)\n",
      "tensor(1.6922, device='cuda:0', grad_fn=<MeanBackward0>)\n",
      "tensor(2.0532, device='cuda:0', grad_fn=<MeanBackward0>)\n",
      "tensor(2.1156, device='cuda:0', grad_fn=<MeanBackward0>)\n",
      "tensor(2.0694, device='cuda:0', grad_fn=<MeanBackward0>)\n",
      "tensor(2.2405, device='cuda:0', grad_fn=<MeanBackward0>)\n",
      "10\n",
      "tensor(0.0109, device='cuda:0', grad_fn=<MeanBackward0>)\n",
      "tensor(0.0336, device='cuda:0', grad_fn=<MeanBackward0>)\n",
      "tensor(0.0223, device='cuda:0', grad_fn=<MeanBackward0>)\n",
      "tensor(0.4298, device='cuda:0', grad_fn=<MeanBackward0>)\n",
      "tensor(0.2322, device='cuda:0', grad_fn=<MeanBackward0>)\n",
      "tensor(0.1696, device='cuda:0', grad_fn=<MeanBackward0>)\n",
      "tensor(0.5238, device='cuda:0', grad_fn=<MeanBackward0>)\n",
      "tensor(0.5496, device='cuda:0', grad_fn=<MeanBackward0>)\n",
      "tensor(1.3198, device='cuda:0', grad_fn=<MeanBackward0>)\n",
      "tensor(1.4679, device='cuda:0', grad_fn=<MeanBackward0>)\n",
      "tensor(1.0435, device='cuda:0', grad_fn=<MeanBackward0>)\n",
      "tensor(1.8310, device='cuda:0', grad_fn=<MeanBackward0>)\n",
      "tensor(1.2892, device='cuda:0', grad_fn=<MeanBackward0>)\n",
      "tensor(1.3753, device='cuda:0', grad_fn=<MeanBackward0>)\n",
      "tensor(1.6546, device='cuda:0', grad_fn=<MeanBackward0>)\n",
      "tensor(2.0106, device='cuda:0', grad_fn=<MeanBackward0>)\n",
      "tensor(2.0642, device='cuda:0', grad_fn=<MeanBackward0>)\n",
      "tensor(2.0488, device='cuda:0', grad_fn=<MeanBackward0>)\n",
      "tensor(2.1958, device='cuda:0', grad_fn=<MeanBackward0>)\n",
      "tensor(1.9761, device='cuda:0', grad_fn=<MeanBackward0>)\n",
      "11\n",
      "tensor(0.0681, device='cuda:0', grad_fn=<MeanBackward0>)\n",
      "tensor(0.0325, device='cuda:0', grad_fn=<MeanBackward0>)\n",
      "tensor(0.2268, device='cuda:0', grad_fn=<MeanBackward0>)\n",
      "tensor(0.0624, device='cuda:0', grad_fn=<MeanBackward0>)\n",
      "tensor(0.0229, device='cuda:0', grad_fn=<MeanBackward0>)\n",
      "tensor(0.1442, device='cuda:0', grad_fn=<MeanBackward0>)\n",
      "tensor(0.1251, device='cuda:0', grad_fn=<MeanBackward0>)\n",
      "tensor(0.7320, device='cuda:0', grad_fn=<MeanBackward0>)\n",
      "tensor(0.5868, device='cuda:0', grad_fn=<MeanBackward0>)\n",
      "tensor(0.2842, device='cuda:0', grad_fn=<MeanBackward0>)\n",
      "tensor(1.2886, device='cuda:0', grad_fn=<MeanBackward0>)\n",
      "tensor(0.7125, device='cuda:0', grad_fn=<MeanBackward0>)\n",
      "tensor(1.1981, device='cuda:0', grad_fn=<MeanBackward0>)\n",
      "tensor(1.3286, device='cuda:0', grad_fn=<MeanBackward0>)\n",
      "tensor(1.6063, device='cuda:0', grad_fn=<MeanBackward0>)\n",
      "tensor(1.5896, device='cuda:0', grad_fn=<MeanBackward0>)\n",
      "tensor(1.8613, device='cuda:0', grad_fn=<MeanBackward0>)\n",
      "tensor(1.8417, device='cuda:0', grad_fn=<MeanBackward0>)\n",
      "tensor(1.7651, device='cuda:0', grad_fn=<MeanBackward0>)\n",
      "tensor(1.7306, device='cuda:0', grad_fn=<MeanBackward0>)\n",
      "12\n",
      "tensor(0.0225, device='cuda:0', grad_fn=<MeanBackward0>)\n",
      "tensor(0.0491, device='cuda:0', grad_fn=<MeanBackward0>)\n",
      "tensor(0.0949, device='cuda:0', grad_fn=<MeanBackward0>)\n",
      "tensor(0.2887, device='cuda:0', grad_fn=<MeanBackward0>)\n",
      "tensor(0.1294, device='cuda:0', grad_fn=<MeanBackward0>)\n",
      "tensor(0.1993, device='cuda:0', grad_fn=<MeanBackward0>)\n",
      "tensor(0.0118, device='cuda:0', grad_fn=<MeanBackward0>)\n",
      "tensor(0.0126, device='cuda:0', grad_fn=<MeanBackward0>)\n",
      "tensor(0.0840, device='cuda:0', grad_fn=<MeanBackward0>)\n",
      "tensor(0.0876, device='cuda:0', grad_fn=<MeanBackward0>)\n",
      "tensor(0.0377, device='cuda:0', grad_fn=<MeanBackward0>)\n",
      "tensor(0.0509, device='cuda:0', grad_fn=<MeanBackward0>)\n",
      "tensor(0.1106, device='cuda:0', grad_fn=<MeanBackward0>)\n",
      "tensor(0.1429, device='cuda:0', grad_fn=<MeanBackward0>)\n",
      "tensor(0.1093, device='cuda:0', grad_fn=<MeanBackward0>)\n",
      "tensor(0.1957, device='cuda:0', grad_fn=<MeanBackward0>)\n",
      "tensor(0.1549, device='cuda:0', grad_fn=<MeanBackward0>)\n",
      "tensor(0.1972, device='cuda:0', grad_fn=<MeanBackward0>)\n",
      "tensor(0.1579, device='cuda:0', grad_fn=<MeanBackward0>)\n",
      "tensor(0.3062, device='cuda:0', grad_fn=<MeanBackward0>)\n",
      "13\n",
      "tensor(0.0851, device='cuda:0', grad_fn=<MeanBackward0>)\n",
      "tensor(0.0440, device='cuda:0', grad_fn=<MeanBackward0>)\n",
      "tensor(0.1189, device='cuda:0', grad_fn=<MeanBackward0>)\n",
      "tensor(0.0283, device='cuda:0', grad_fn=<MeanBackward0>)\n",
      "tensor(0.0504, device='cuda:0', grad_fn=<MeanBackward0>)\n",
      "tensor(0.0379, device='cuda:0', grad_fn=<MeanBackward0>)\n",
      "tensor(0.0321, device='cuda:0', grad_fn=<MeanBackward0>)\n",
      "tensor(0.0412, device='cuda:0', grad_fn=<MeanBackward0>)\n",
      "tensor(0.1943, device='cuda:0', grad_fn=<MeanBackward0>)\n",
      "tensor(0.0403, device='cuda:0', grad_fn=<MeanBackward0>)\n",
      "tensor(0.1318, device='cuda:0', grad_fn=<MeanBackward0>)\n",
      "tensor(0.2654, device='cuda:0', grad_fn=<MeanBackward0>)\n",
      "tensor(0.3315, device='cuda:0', grad_fn=<MeanBackward0>)\n",
      "tensor(0.2304, device='cuda:0', grad_fn=<MeanBackward0>)\n",
      "tensor(0.3711, device='cuda:0', grad_fn=<MeanBackward0>)\n",
      "tensor(0.3432, device='cuda:0', grad_fn=<MeanBackward0>)\n",
      "tensor(0.3481, device='cuda:0', grad_fn=<MeanBackward0>)\n",
      "tensor(0.3749, device='cuda:0', grad_fn=<MeanBackward0>)\n",
      "tensor(0.8210, device='cuda:0', grad_fn=<MeanBackward0>)\n",
      "tensor(0.5823, device='cuda:0', grad_fn=<MeanBackward0>)\n",
      "14\n",
      "tensor(0.0378, device='cuda:0', grad_fn=<MeanBackward0>)\n",
      "tensor(0.0568, device='cuda:0', grad_fn=<MeanBackward0>)\n",
      "tensor(0.0169, device='cuda:0', grad_fn=<MeanBackward0>)\n",
      "tensor(0.0068, device='cuda:0', grad_fn=<MeanBackward0>)\n",
      "tensor(0.2153, device='cuda:0', grad_fn=<MeanBackward0>)\n",
      "tensor(0.1593, device='cuda:0', grad_fn=<MeanBackward0>)\n",
      "tensor(0.0340, device='cuda:0', grad_fn=<MeanBackward0>)\n",
      "tensor(0.5385, device='cuda:0', grad_fn=<MeanBackward0>)\n",
      "tensor(0.1935, device='cuda:0', grad_fn=<MeanBackward0>)\n",
      "tensor(0.6371, device='cuda:0', grad_fn=<MeanBackward0>)\n",
      "tensor(0.8490, device='cuda:0', grad_fn=<MeanBackward0>)\n",
      "tensor(1.0802, device='cuda:0', grad_fn=<MeanBackward0>)\n",
      "tensor(1.0080, device='cuda:0', grad_fn=<MeanBackward0>)\n",
      "tensor(1.5669, device='cuda:0', grad_fn=<MeanBackward0>)\n",
      "tensor(1.5873, device='cuda:0', grad_fn=<MeanBackward0>)\n",
      "tensor(1.6287, device='cuda:0', grad_fn=<MeanBackward0>)\n",
      "tensor(1.6425, device='cuda:0', grad_fn=<MeanBackward0>)\n",
      "tensor(2.1824, device='cuda:0', grad_fn=<MeanBackward0>)\n",
      "tensor(1.5402, device='cuda:0', grad_fn=<MeanBackward0>)\n",
      "tensor(1.5896, device='cuda:0', grad_fn=<MeanBackward0>)\n",
      "15\n",
      "tensor(0.0296, device='cuda:0', grad_fn=<MeanBackward0>)\n",
      "tensor(0.0131, device='cuda:0', grad_fn=<MeanBackward0>)\n",
      "tensor(0.0127, device='cuda:0', grad_fn=<MeanBackward0>)\n",
      "tensor(0.0733, device='cuda:0', grad_fn=<MeanBackward0>)\n",
      "tensor(0.0545, device='cuda:0', grad_fn=<MeanBackward0>)\n",
      "tensor(0.0248, device='cuda:0', grad_fn=<MeanBackward0>)\n",
      "tensor(0.2038, device='cuda:0', grad_fn=<MeanBackward0>)\n",
      "tensor(0.0387, device='cuda:0', grad_fn=<MeanBackward0>)\n",
      "tensor(0.1121, device='cuda:0', grad_fn=<MeanBackward0>)\n",
      "tensor(0.2224, device='cuda:0', grad_fn=<MeanBackward0>)\n",
      "tensor(0.2822, device='cuda:0', grad_fn=<MeanBackward0>)\n",
      "tensor(0.1996, device='cuda:0', grad_fn=<MeanBackward0>)\n",
      "tensor(0.2893, device='cuda:0', grad_fn=<MeanBackward0>)\n",
      "tensor(0.2665, device='cuda:0', grad_fn=<MeanBackward0>)\n",
      "tensor(0.2666, device='cuda:0', grad_fn=<MeanBackward0>)\n",
      "tensor(0.2583, device='cuda:0', grad_fn=<MeanBackward0>)\n",
      "tensor(0.5746, device='cuda:0', grad_fn=<MeanBackward0>)\n",
      "tensor(0.3135, device='cuda:0', grad_fn=<MeanBackward0>)\n",
      "tensor(0.5787, device='cuda:0', grad_fn=<MeanBackward0>)\n",
      "tensor(0.4006, device='cuda:0', grad_fn=<MeanBackward0>)\n",
      "16\n",
      "tensor(0.0170, device='cuda:0', grad_fn=<MeanBackward0>)\n",
      "tensor(0.0963, device='cuda:0', grad_fn=<MeanBackward0>)\n",
      "tensor(0.0098, device='cuda:0', grad_fn=<MeanBackward0>)\n",
      "tensor(0.0081, device='cuda:0', grad_fn=<MeanBackward0>)\n",
      "tensor(0.1062, device='cuda:0', grad_fn=<MeanBackward0>)\n",
      "tensor(0.0219, device='cuda:0', grad_fn=<MeanBackward0>)\n",
      "tensor(0.0575, device='cuda:0', grad_fn=<MeanBackward0>)\n",
      "tensor(0.0351, device='cuda:0', grad_fn=<MeanBackward0>)\n",
      "tensor(0.0348, device='cuda:0', grad_fn=<MeanBackward0>)\n",
      "tensor(0.0633, device='cuda:0', grad_fn=<MeanBackward0>)\n",
      "tensor(0.0660, device='cuda:0', grad_fn=<MeanBackward0>)\n",
      "tensor(0.1234, device='cuda:0', grad_fn=<MeanBackward0>)\n",
      "tensor(0.0854, device='cuda:0', grad_fn=<MeanBackward0>)\n",
      "tensor(0.1369, device='cuda:0', grad_fn=<MeanBackward0>)\n",
      "tensor(0.1041, device='cuda:0', grad_fn=<MeanBackward0>)\n",
      "tensor(0.1592, device='cuda:0', grad_fn=<MeanBackward0>)\n",
      "tensor(0.1428, device='cuda:0', grad_fn=<MeanBackward0>)\n",
      "tensor(0.0994, device='cuda:0', grad_fn=<MeanBackward0>)\n",
      "tensor(0.1076, device='cuda:0', grad_fn=<MeanBackward0>)\n",
      "tensor(0.1015, device='cuda:0', grad_fn=<MeanBackward0>)\n",
      "17\n",
      "tensor(0.0744, device='cuda:0', grad_fn=<MeanBackward0>)\n",
      "tensor(0.0125, device='cuda:0', grad_fn=<MeanBackward0>)\n",
      "tensor(0.0108, device='cuda:0', grad_fn=<MeanBackward0>)\n",
      "tensor(0.1251, device='cuda:0', grad_fn=<MeanBackward0>)\n",
      "tensor(0.0121, device='cuda:0', grad_fn=<MeanBackward0>)\n",
      "tensor(0.0734, device='cuda:0', grad_fn=<MeanBackward0>)\n",
      "tensor(0.0481, device='cuda:0', grad_fn=<MeanBackward0>)\n",
      "tensor(0.0344, device='cuda:0', grad_fn=<MeanBackward0>)\n",
      "tensor(0.0546, device='cuda:0', grad_fn=<MeanBackward0>)\n",
      "tensor(0.0616, device='cuda:0', grad_fn=<MeanBackward0>)\n",
      "tensor(0.1174, device='cuda:0', grad_fn=<MeanBackward0>)\n",
      "tensor(0.0738, device='cuda:0', grad_fn=<MeanBackward0>)\n",
      "tensor(0.1310, device='cuda:0', grad_fn=<MeanBackward0>)\n",
      "tensor(0.1037, device='cuda:0', grad_fn=<MeanBackward0>)\n",
      "tensor(0.1309, device='cuda:0', grad_fn=<MeanBackward0>)\n",
      "tensor(0.1471, device='cuda:0', grad_fn=<MeanBackward0>)\n",
      "tensor(0.0940, device='cuda:0', grad_fn=<MeanBackward0>)\n",
      "tensor(0.1331, device='cuda:0', grad_fn=<MeanBackward0>)\n",
      "tensor(0.0548, device='cuda:0', grad_fn=<MeanBackward0>)\n",
      "tensor(0.0411, device='cuda:0', grad_fn=<MeanBackward0>)\n",
      "18\n",
      "tensor(0.0082, device='cuda:0', grad_fn=<MeanBackward0>)\n",
      "tensor(0.0071, device='cuda:0', grad_fn=<MeanBackward0>)\n",
      "tensor(0.1179, device='cuda:0', grad_fn=<MeanBackward0>)\n",
      "tensor(0.0091, device='cuda:0', grad_fn=<MeanBackward0>)\n",
      "tensor(0.0752, device='cuda:0', grad_fn=<MeanBackward0>)\n",
      "tensor(0.0507, device='cuda:0', grad_fn=<MeanBackward0>)\n",
      "tensor(0.0321, device='cuda:0', grad_fn=<MeanBackward0>)\n",
      "tensor(0.0455, device='cuda:0', grad_fn=<MeanBackward0>)\n",
      "tensor(0.0537, device='cuda:0', grad_fn=<MeanBackward0>)\n",
      "tensor(0.1051, device='cuda:0', grad_fn=<MeanBackward0>)\n",
      "tensor(0.0626, device='cuda:0', grad_fn=<MeanBackward0>)\n",
      "tensor(0.1192, device='cuda:0', grad_fn=<MeanBackward0>)\n",
      "tensor(0.0955, device='cuda:0', grad_fn=<MeanBackward0>)\n",
      "tensor(0.1150, device='cuda:0', grad_fn=<MeanBackward0>)\n",
      "tensor(0.1397, device='cuda:0', grad_fn=<MeanBackward0>)\n",
      "tensor(0.0871, device='cuda:0', grad_fn=<MeanBackward0>)\n",
      "tensor(0.1357, device='cuda:0', grad_fn=<MeanBackward0>)\n",
      "tensor(0.0378, device='cuda:0', grad_fn=<MeanBackward0>)\n",
      "tensor(0.0430, device='cuda:0', grad_fn=<MeanBackward0>)\n",
      "tensor(0.0825, device='cuda:0', grad_fn=<MeanBackward0>)\n",
      "19\n",
      "tensor(0.0080, device='cuda:0', grad_fn=<MeanBackward0>)\n",
      "tensor(0.1225, device='cuda:0', grad_fn=<MeanBackward0>)\n",
      "tensor(0.0081, device='cuda:0', grad_fn=<MeanBackward0>)\n",
      "tensor(0.0746, device='cuda:0', grad_fn=<MeanBackward0>)\n",
      "tensor(0.0530, device='cuda:0', grad_fn=<MeanBackward0>)\n",
      "tensor(0.0285, device='cuda:0', grad_fn=<MeanBackward0>)\n",
      "tensor(0.0366, device='cuda:0', grad_fn=<MeanBackward0>)\n",
      "tensor(0.0446, device='cuda:0', grad_fn=<MeanBackward0>)\n",
      "tensor(0.0918, device='cuda:0', grad_fn=<MeanBackward0>)\n",
      "tensor(0.0521, device='cuda:0', grad_fn=<MeanBackward0>)\n",
      "tensor(0.1055, device='cuda:0', grad_fn=<MeanBackward0>)\n",
      "tensor(0.0849, device='cuda:0', grad_fn=<MeanBackward0>)\n",
      "tensor(0.1007, device='cuda:0', grad_fn=<MeanBackward0>)\n",
      "tensor(0.1281, device='cuda:0', grad_fn=<MeanBackward0>)\n",
      "tensor(0.0784, device='cuda:0', grad_fn=<MeanBackward0>)\n",
      "tensor(0.1305, device='cuda:0', grad_fn=<MeanBackward0>)\n",
      "tensor(0.0250, device='cuda:0', grad_fn=<MeanBackward0>)\n",
      "tensor(0.0421, device='cuda:0', grad_fn=<MeanBackward0>)\n",
      "tensor(0.0945, device='cuda:0', grad_fn=<MeanBackward0>)\n",
      "tensor(0.0122, device='cuda:0', grad_fn=<MeanBackward0>)\n",
      "20\n",
      "tensor(0.1085, device='cuda:0', grad_fn=<MeanBackward0>)\n",
      "tensor(0.0067, device='cuda:0', grad_fn=<MeanBackward0>)\n",
      "tensor(0.0746, device='cuda:0', grad_fn=<MeanBackward0>)\n",
      "tensor(0.0603, device='cuda:0', grad_fn=<MeanBackward0>)\n",
      "tensor(0.0287, device='cuda:0', grad_fn=<MeanBackward0>)\n",
      "tensor(0.0277, device='cuda:0', grad_fn=<MeanBackward0>)\n",
      "tensor(0.0347, device='cuda:0', grad_fn=<MeanBackward0>)\n",
      "tensor(0.0787, device='cuda:0', grad_fn=<MeanBackward0>)\n",
      "tensor(0.0394, device='cuda:0', grad_fn=<MeanBackward0>)\n",
      "tensor(0.0932, device='cuda:0', grad_fn=<MeanBackward0>)\n",
      "tensor(0.0756, device='cuda:0', grad_fn=<MeanBackward0>)\n",
      "tensor(0.0805, device='cuda:0', grad_fn=<MeanBackward0>)\n",
      "tensor(0.1228, device='cuda:0', grad_fn=<MeanBackward0>)\n",
      "tensor(0.0727, device='cuda:0', grad_fn=<MeanBackward0>)\n",
      "tensor(0.1342, device='cuda:0', grad_fn=<MeanBackward0>)\n",
      "tensor(0.0156, device='cuda:0', grad_fn=<MeanBackward0>)\n",
      "tensor(0.0468, device='cuda:0', grad_fn=<MeanBackward0>)\n",
      "tensor(0.1173, device='cuda:0', grad_fn=<MeanBackward0>)\n",
      "tensor(0.0104, device='cuda:0', grad_fn=<MeanBackward0>)\n",
      "tensor(0.0816, device='cuda:0', grad_fn=<MeanBackward0>)\n",
      "21\n",
      "tensor(0.0176, device='cuda:0', grad_fn=<MeanBackward0>)\n",
      "tensor(0.0487, device='cuda:0', grad_fn=<MeanBackward0>)\n",
      "tensor(0.0454, device='cuda:0', grad_fn=<MeanBackward0>)\n",
      "tensor(0.0193, device='cuda:0', grad_fn=<MeanBackward0>)\n",
      "tensor(0.0203, device='cuda:0', grad_fn=<MeanBackward0>)\n",
      "tensor(0.0256, device='cuda:0', grad_fn=<MeanBackward0>)\n",
      "tensor(0.0650, device='cuda:0', grad_fn=<MeanBackward0>)\n",
      "tensor(0.0330, device='cuda:0', grad_fn=<MeanBackward0>)\n",
      "tensor(0.0804, device='cuda:0', grad_fn=<MeanBackward0>)\n",
      "tensor(0.0607, device='cuda:0', grad_fn=<MeanBackward0>)\n",
      "tensor(0.0743, device='cuda:0', grad_fn=<MeanBackward0>)\n",
      "tensor(0.1080, device='cuda:0', grad_fn=<MeanBackward0>)\n",
      "tensor(0.0584, device='cuda:0', grad_fn=<MeanBackward0>)\n",
      "tensor(0.1140, device='cuda:0', grad_fn=<MeanBackward0>)\n",
      "tensor(0.0147, device='cuda:0', grad_fn=<MeanBackward0>)\n",
      "tensor(0.0407, device='cuda:0', grad_fn=<MeanBackward0>)\n",
      "tensor(0.1033, device='cuda:0', grad_fn=<MeanBackward0>)\n",
      "tensor(0.0145, device='cuda:0', grad_fn=<MeanBackward0>)\n",
      "tensor(0.0776, device='cuda:0', grad_fn=<MeanBackward0>)\n",
      "tensor(0.3420, device='cuda:0', grad_fn=<MeanBackward0>)\n",
      "22\n",
      "tensor(0.0669, device='cuda:0', grad_fn=<MeanBackward0>)\n",
      "tensor(0.0660, device='cuda:0', grad_fn=<MeanBackward0>)\n",
      "tensor(0.0279, device='cuda:0', grad_fn=<MeanBackward0>)\n",
      "tensor(0.0163, device='cuda:0', grad_fn=<MeanBackward0>)\n",
      "tensor(0.0214, device='cuda:0', grad_fn=<MeanBackward0>)\n",
      "tensor(0.0575, device='cuda:0', grad_fn=<MeanBackward0>)\n",
      "tensor(0.0221, device='cuda:0', grad_fn=<MeanBackward0>)\n",
      "tensor(0.0744, device='cuda:0', grad_fn=<MeanBackward0>)\n",
      "tensor(0.0585, device='cuda:0', grad_fn=<MeanBackward0>)\n",
      "tensor(0.0563, device='cuda:0', grad_fn=<MeanBackward0>)\n",
      "tensor(0.1121, device='cuda:0', grad_fn=<MeanBackward0>)\n",
      "tensor(0.0602, device='cuda:0', grad_fn=<MeanBackward0>)\n",
      "tensor(0.1301, device='cuda:0', grad_fn=<MeanBackward0>)\n",
      "tensor(0.0098, device='cuda:0', grad_fn=<MeanBackward0>)\n",
      "tensor(0.0526, device='cuda:0', grad_fn=<MeanBackward0>)\n",
      "tensor(0.1342, device='cuda:0', grad_fn=<MeanBackward0>)\n",
      "tensor(0.0173, device='cuda:0', grad_fn=<MeanBackward0>)\n",
      "tensor(0.1039, device='cuda:0', grad_fn=<MeanBackward0>)\n",
      "tensor(0.4027, device='cuda:0', grad_fn=<MeanBackward0>)\n",
      "tensor(0.3376, device='cuda:0', grad_fn=<MeanBackward0>)\n",
      "23\n",
      "tensor(0.0697, device='cuda:0', grad_fn=<MeanBackward0>)\n",
      "tensor(0.0476, device='cuda:0', grad_fn=<MeanBackward0>)\n",
      "tensor(0.0212, device='cuda:0', grad_fn=<MeanBackward0>)\n",
      "tensor(0.0245, device='cuda:0', grad_fn=<MeanBackward0>)\n",
      "tensor(0.0598, device='cuda:0', grad_fn=<MeanBackward0>)\n",
      "tensor(0.0174, device='cuda:0', grad_fn=<MeanBackward0>)\n",
      "tensor(0.0783, device='cuda:0', grad_fn=<MeanBackward0>)\n",
      "tensor(0.0686, device='cuda:0', grad_fn=<MeanBackward0>)\n",
      "tensor(0.0399, device='cuda:0', grad_fn=<MeanBackward0>)\n",
      "tensor(0.1291, device='cuda:0', grad_fn=<MeanBackward0>)\n",
      "tensor(0.0765, device='cuda:0', grad_fn=<MeanBackward0>)\n",
      "tensor(0.1644, device='cuda:0', grad_fn=<MeanBackward0>)\n",
      "tensor(0.0147, device='cuda:0', grad_fn=<MeanBackward0>)\n",
      "tensor(0.0752, device='cuda:0', grad_fn=<MeanBackward0>)\n",
      "tensor(0.1849, device='cuda:0', grad_fn=<MeanBackward0>)\n",
      "tensor(0.0285, device='cuda:0', grad_fn=<MeanBackward0>)\n",
      "tensor(0.1433, device='cuda:0', grad_fn=<MeanBackward0>)\n",
      "tensor(0.4989, device='cuda:0', grad_fn=<MeanBackward0>)\n",
      "tensor(0.4586, device='cuda:0', grad_fn=<MeanBackward0>)\n",
      "tensor(0.4945, device='cuda:0', grad_fn=<MeanBackward0>)\n",
      "24\n",
      "tensor(0.0504, device='cuda:0', grad_fn=<MeanBackward0>)\n",
      "tensor(0.0286, device='cuda:0', grad_fn=<MeanBackward0>)\n",
      "tensor(0.0380, device='cuda:0', grad_fn=<MeanBackward0>)\n",
      "tensor(0.0598, device='cuda:0', grad_fn=<MeanBackward0>)\n",
      "tensor(0.0218, device='cuda:0', grad_fn=<MeanBackward0>)\n",
      "tensor(0.0787, device='cuda:0', grad_fn=<MeanBackward0>)\n",
      "tensor(0.0784, device='cuda:0', grad_fn=<MeanBackward0>)\n",
      "tensor(0.0232, device='cuda:0', grad_fn=<MeanBackward0>)\n",
      "tensor(0.1496, device='cuda:0', grad_fn=<MeanBackward0>)\n",
      "tensor(0.0960, device='cuda:0', grad_fn=<MeanBackward0>)\n",
      "tensor(0.2125, device='cuda:0', grad_fn=<MeanBackward0>)\n",
      "tensor(0.0362, device='cuda:0', grad_fn=<MeanBackward0>)\n",
      "tensor(0.1232, device='cuda:0', grad_fn=<MeanBackward0>)\n",
      "tensor(0.2642, device='cuda:0', grad_fn=<MeanBackward0>)\n",
      "tensor(0.0717, device='cuda:0', grad_fn=<MeanBackward0>)\n",
      "tensor(0.2287, device='cuda:0', grad_fn=<MeanBackward0>)\n",
      "tensor(0.6347, device='cuda:0', grad_fn=<MeanBackward0>)\n",
      "tensor(0.6208, device='cuda:0', grad_fn=<MeanBackward0>)\n",
      "tensor(0.6633, device='cuda:0', grad_fn=<MeanBackward0>)\n",
      "tensor(1.2727, device='cuda:0', grad_fn=<MeanBackward0>)\n",
      "25\n",
      "tensor(0.0128, device='cuda:0', grad_fn=<MeanBackward0>)\n",
      "tensor(0.0307, device='cuda:0', grad_fn=<MeanBackward0>)\n",
      "tensor(0.0530, device='cuda:0', grad_fn=<MeanBackward0>)\n",
      "tensor(0.0205, device='cuda:0', grad_fn=<MeanBackward0>)\n",
      "tensor(0.0723, device='cuda:0', grad_fn=<MeanBackward0>)\n",
      "tensor(0.0733, device='cuda:0', grad_fn=<MeanBackward0>)\n",
      "tensor(0.0216, device='cuda:0', grad_fn=<MeanBackward0>)\n",
      "tensor(0.1447, device='cuda:0', grad_fn=<MeanBackward0>)\n",
      "tensor(0.0916, device='cuda:0', grad_fn=<MeanBackward0>)\n",
      "tensor(0.2115, device='cuda:0', grad_fn=<MeanBackward0>)\n",
      "tensor(0.0382, device='cuda:0', grad_fn=<MeanBackward0>)\n",
      "tensor(0.1306, device='cuda:0', grad_fn=<MeanBackward0>)\n",
      "tensor(0.2728, device='cuda:0', grad_fn=<MeanBackward0>)\n",
      "tensor(0.0814, device='cuda:0', grad_fn=<MeanBackward0>)\n",
      "tensor(0.2421, device='cuda:0', grad_fn=<MeanBackward0>)\n",
      "tensor(0.6425, device='cuda:0', grad_fn=<MeanBackward0>)\n",
      "tensor(0.6313, device='cuda:0', grad_fn=<MeanBackward0>)\n",
      "tensor(0.6839, device='cuda:0', grad_fn=<MeanBackward0>)\n",
      "tensor(1.2951, device='cuda:0', grad_fn=<MeanBackward0>)\n",
      "tensor(1.1067, device='cuda:0', grad_fn=<MeanBackward0>)\n",
      "26\n",
      "tensor(0.0264, device='cuda:0', grad_fn=<MeanBackward0>)\n",
      "tensor(0.0502, device='cuda:0', grad_fn=<MeanBackward0>)\n",
      "tensor(0.0258, device='cuda:0', grad_fn=<MeanBackward0>)\n",
      "tensor(0.0698, device='cuda:0', grad_fn=<MeanBackward0>)\n",
      "tensor(0.0725, device='cuda:0', grad_fn=<MeanBackward0>)\n",
      "tensor(0.0194, device='cuda:0', grad_fn=<MeanBackward0>)\n",
      "tensor(0.1511, device='cuda:0', grad_fn=<MeanBackward0>)\n",
      "tensor(0.0949, device='cuda:0', grad_fn=<MeanBackward0>)\n",
      "tensor(0.2246, device='cuda:0', grad_fn=<MeanBackward0>)\n",
      "tensor(0.0508, device='cuda:0', grad_fn=<MeanBackward0>)\n",
      "tensor(0.1565, device='cuda:0', grad_fn=<MeanBackward0>)\n",
      "tensor(0.3085, device='cuda:0', grad_fn=<MeanBackward0>)\n",
      "tensor(0.1078, device='cuda:0', grad_fn=<MeanBackward0>)\n",
      "tensor(0.2829, device='cuda:0', grad_fn=<MeanBackward0>)\n",
      "tensor(0.6848, device='cuda:0', grad_fn=<MeanBackward0>)\n",
      "tensor(0.6945, device='cuda:0', grad_fn=<MeanBackward0>)\n",
      "tensor(0.7436, device='cuda:0', grad_fn=<MeanBackward0>)\n",
      "tensor(1.3523, device='cuda:0', grad_fn=<MeanBackward0>)\n",
      "tensor(1.1731, device='cuda:0', grad_fn=<MeanBackward0>)\n",
      "tensor(2.3476, device='cuda:0', grad_fn=<MeanBackward0>)\n",
      "27\n",
      "tensor(0.0460, device='cuda:0', grad_fn=<MeanBackward0>)\n",
      "tensor(0.0209, device='cuda:0', grad_fn=<MeanBackward0>)\n",
      "tensor(0.0724, device='cuda:0', grad_fn=<MeanBackward0>)\n",
      "tensor(0.0732, device='cuda:0', grad_fn=<MeanBackward0>)\n",
      "tensor(0.0184, device='cuda:0', grad_fn=<MeanBackward0>)\n",
      "tensor(0.1617, device='cuda:0', grad_fn=<MeanBackward0>)\n",
      "tensor(0.0993, device='cuda:0', grad_fn=<MeanBackward0>)\n",
      "tensor(0.2340, device='cuda:0', grad_fn=<MeanBackward0>)\n",
      "tensor(0.0573, device='cuda:0', grad_fn=<MeanBackward0>)\n",
      "tensor(0.1718, device='cuda:0', grad_fn=<MeanBackward0>)\n",
      "tensor(0.3309, device='cuda:0', grad_fn=<MeanBackward0>)\n",
      "tensor(0.1179, device='cuda:0', grad_fn=<MeanBackward0>)\n",
      "tensor(0.3066, device='cuda:0', grad_fn=<MeanBackward0>)\n",
      "tensor(0.7116, device='cuda:0', grad_fn=<MeanBackward0>)\n",
      "tensor(0.7290, device='cuda:0', grad_fn=<MeanBackward0>)\n",
      "tensor(0.7628, device='cuda:0', grad_fn=<MeanBackward0>)\n",
      "tensor(1.3784, device='cuda:0', grad_fn=<MeanBackward0>)\n",
      "tensor(1.1926, device='cuda:0', grad_fn=<MeanBackward0>)\n",
      "tensor(2.3997, device='cuda:0', grad_fn=<MeanBackward0>)\n",
      "tensor(1.8158, device='cuda:0', grad_fn=<MeanBackward0>)\n",
      "28\n",
      "tensor(0.0403, device='cuda:0', grad_fn=<MeanBackward0>)\n",
      "tensor(0.0927, device='cuda:0', grad_fn=<MeanBackward0>)\n",
      "tensor(0.1140, device='cuda:0', grad_fn=<MeanBackward0>)\n",
      "tensor(0.0370, device='cuda:0', grad_fn=<MeanBackward0>)\n",
      "tensor(0.2145, device='cuda:0', grad_fn=<MeanBackward0>)\n",
      "tensor(0.1518, device='cuda:0', grad_fn=<MeanBackward0>)\n",
      "tensor(0.3136, device='cuda:0', grad_fn=<MeanBackward0>)\n",
      "tensor(0.1111, device='cuda:0', grad_fn=<MeanBackward0>)\n",
      "tensor(0.2423, device='cuda:0', grad_fn=<MeanBackward0>)\n",
      "tensor(0.4256, device='cuda:0', grad_fn=<MeanBackward0>)\n",
      "tensor(0.1866, device='cuda:0', grad_fn=<MeanBackward0>)\n",
      "tensor(0.4306, device='cuda:0', grad_fn=<MeanBackward0>)\n",
      "tensor(0.8785, device='cuda:0', grad_fn=<MeanBackward0>)\n",
      "tensor(0.9043, device='cuda:0', grad_fn=<MeanBackward0>)\n",
      "tensor(0.9346, device='cuda:0', grad_fn=<MeanBackward0>)\n",
      "tensor(1.5889, device='cuda:0', grad_fn=<MeanBackward0>)\n",
      "tensor(1.3947, device='cuda:0', grad_fn=<MeanBackward0>)\n",
      "tensor(2.7104, device='cuda:0', grad_fn=<MeanBackward0>)\n",
      "tensor(2.0880, device='cuda:0', grad_fn=<MeanBackward0>)\n",
      "tensor(1.7834, device='cuda:0', grad_fn=<MeanBackward0>)\n",
      "29\n",
      "tensor(0.0774, device='cuda:0', grad_fn=<MeanBackward0>)\n",
      "tensor(0.0923, device='cuda:0', grad_fn=<MeanBackward0>)\n",
      "tensor(0.0200, device='cuda:0', grad_fn=<MeanBackward0>)\n",
      "tensor(0.1869, device='cuda:0', grad_fn=<MeanBackward0>)\n",
      "tensor(0.1290, device='cuda:0', grad_fn=<MeanBackward0>)\n",
      "tensor(0.2636, device='cuda:0', grad_fn=<MeanBackward0>)\n",
      "tensor(0.0755, device='cuda:0', grad_fn=<MeanBackward0>)\n",
      "tensor(0.1762, device='cuda:0', grad_fn=<MeanBackward0>)\n",
      "tensor(0.3491, device='cuda:0', grad_fn=<MeanBackward0>)\n",
      "tensor(0.1232, device='cuda:0', grad_fn=<MeanBackward0>)\n",
      "tensor(0.3197, device='cuda:0', grad_fn=<MeanBackward0>)\n",
      "tensor(0.7748, device='cuda:0', grad_fn=<MeanBackward0>)\n",
      "tensor(0.7959, device='cuda:0', grad_fn=<MeanBackward0>)\n",
      "tensor(0.8181, device='cuda:0', grad_fn=<MeanBackward0>)\n",
      "tensor(1.4310, device='cuda:0', grad_fn=<MeanBackward0>)\n",
      "tensor(1.2740, device='cuda:0', grad_fn=<MeanBackward0>)\n",
      "tensor(2.5603, device='cuda:0', grad_fn=<MeanBackward0>)\n",
      "tensor(1.9784, device='cuda:0', grad_fn=<MeanBackward0>)\n",
      "tensor(1.5753, device='cuda:0', grad_fn=<MeanBackward0>)\n",
      "tensor(3.3630, device='cuda:0', grad_fn=<MeanBackward0>)\n",
      "30\n",
      "tensor(0.0724, device='cuda:0', grad_fn=<MeanBackward0>)\n",
      "tensor(0.0212, device='cuda:0', grad_fn=<MeanBackward0>)\n",
      "tensor(0.1740, device='cuda:0', grad_fn=<MeanBackward0>)\n",
      "tensor(0.1273, device='cuda:0', grad_fn=<MeanBackward0>)\n",
      "tensor(0.2572, device='cuda:0', grad_fn=<MeanBackward0>)\n",
      "tensor(0.0747, device='cuda:0', grad_fn=<MeanBackward0>)\n",
      "tensor(0.1645, device='cuda:0', grad_fn=<MeanBackward0>)\n",
      "tensor(0.3373, device='cuda:0', grad_fn=<MeanBackward0>)\n",
      "tensor(0.1229, device='cuda:0', grad_fn=<MeanBackward0>)\n",
      "tensor(0.3076, device='cuda:0', grad_fn=<MeanBackward0>)\n",
      "tensor(0.7628, device='cuda:0', grad_fn=<MeanBackward0>)\n",
      "tensor(0.7803, device='cuda:0', grad_fn=<MeanBackward0>)\n",
      "tensor(0.8188, device='cuda:0', grad_fn=<MeanBackward0>)\n",
      "tensor(1.4217, device='cuda:0', grad_fn=<MeanBackward0>)\n",
      "tensor(1.2897, device='cuda:0', grad_fn=<MeanBackward0>)\n",
      "tensor(2.5617, device='cuda:0', grad_fn=<MeanBackward0>)\n",
      "tensor(1.9815, device='cuda:0', grad_fn=<MeanBackward0>)\n",
      "tensor(1.5313, device='cuda:0', grad_fn=<MeanBackward0>)\n",
      "tensor(3.2720, device='cuda:0', grad_fn=<MeanBackward0>)\n",
      "tensor(2.8092, device='cuda:0', grad_fn=<MeanBackward0>)\n",
      "31\n",
      "tensor(0.0185, device='cuda:0', grad_fn=<MeanBackward0>)\n",
      "tensor(0.1468, device='cuda:0', grad_fn=<MeanBackward0>)\n",
      "tensor(0.1056, device='cuda:0', grad_fn=<MeanBackward0>)\n",
      "tensor(0.2262, device='cuda:0', grad_fn=<MeanBackward0>)\n",
      "tensor(0.0551, device='cuda:0', grad_fn=<MeanBackward0>)\n",
      "tensor(0.1395, device='cuda:0', grad_fn=<MeanBackward0>)\n",
      "tensor(0.3002, device='cuda:0', grad_fn=<MeanBackward0>)\n",
      "tensor(0.1017, device='cuda:0', grad_fn=<MeanBackward0>)\n",
      "tensor(0.2689, device='cuda:0', grad_fn=<MeanBackward0>)\n",
      "tensor(0.7042, device='cuda:0', grad_fn=<MeanBackward0>)\n",
      "tensor(0.7084, device='cuda:0', grad_fn=<MeanBackward0>)\n",
      "tensor(0.7532, device='cuda:0', grad_fn=<MeanBackward0>)\n",
      "tensor(1.3464, device='cuda:0', grad_fn=<MeanBackward0>)\n",
      "tensor(1.2077, device='cuda:0', grad_fn=<MeanBackward0>)\n",
      "tensor(2.4371, device='cuda:0', grad_fn=<MeanBackward0>)\n",
      "tensor(1.8586, device='cuda:0', grad_fn=<MeanBackward0>)\n",
      "tensor(1.4282, device='cuda:0', grad_fn=<MeanBackward0>)\n",
      "tensor(3.1319, device='cuda:0', grad_fn=<MeanBackward0>)\n",
      "tensor(2.6903, device='cuda:0', grad_fn=<MeanBackward0>)\n",
      "tensor(2.2172, device='cuda:0', grad_fn=<MeanBackward0>)\n",
      "32\n",
      "tensor(0.1262, device='cuda:0', grad_fn=<MeanBackward0>)\n",
      "tensor(0.0876, device='cuda:0', grad_fn=<MeanBackward0>)\n",
      "tensor(0.1932, device='cuda:0', grad_fn=<MeanBackward0>)\n",
      "tensor(0.0360, device='cuda:0', grad_fn=<MeanBackward0>)\n",
      "tensor(0.1125, device='cuda:0', grad_fn=<MeanBackward0>)\n",
      "tensor(0.2584, device='cuda:0', grad_fn=<MeanBackward0>)\n",
      "tensor(0.0720, device='cuda:0', grad_fn=<MeanBackward0>)\n",
      "tensor(0.2157, device='cuda:0', grad_fn=<MeanBackward0>)\n",
      "tensor(0.6217, device='cuda:0', grad_fn=<MeanBackward0>)\n",
      "tensor(0.6331, device='cuda:0', grad_fn=<MeanBackward0>)\n",
      "tensor(0.6673, device='cuda:0', grad_fn=<MeanBackward0>)\n",
      "tensor(1.2420, device='cuda:0', grad_fn=<MeanBackward0>)\n",
      "tensor(1.0919, device='cuda:0', grad_fn=<MeanBackward0>)\n",
      "tensor(2.2667, device='cuda:0', grad_fn=<MeanBackward0>)\n",
      "tensor(1.7161, device='cuda:0', grad_fn=<MeanBackward0>)\n",
      "tensor(1.2961, device='cuda:0', grad_fn=<MeanBackward0>)\n",
      "tensor(2.9485, device='cuda:0', grad_fn=<MeanBackward0>)\n",
      "tensor(2.5239, device='cuda:0', grad_fn=<MeanBackward0>)\n",
      "tensor(2.0603, device='cuda:0', grad_fn=<MeanBackward0>)\n",
      "tensor(3.2119, device='cuda:0', grad_fn=<MeanBackward0>)\n",
      "33\n",
      "tensor(0.0603, device='cuda:0', grad_fn=<MeanBackward0>)\n",
      "tensor(0.1771, device='cuda:0', grad_fn=<MeanBackward0>)\n",
      "tensor(0.0337, device='cuda:0', grad_fn=<MeanBackward0>)\n",
      "tensor(0.1154, device='cuda:0', grad_fn=<MeanBackward0>)\n",
      "tensor(0.2574, device='cuda:0', grad_fn=<MeanBackward0>)\n",
      "tensor(0.0758, device='cuda:0', grad_fn=<MeanBackward0>)\n",
      "tensor(0.2195, device='cuda:0', grad_fn=<MeanBackward0>)\n",
      "tensor(0.6079, device='cuda:0', grad_fn=<MeanBackward0>)\n",
      "tensor(0.6319, device='cuda:0', grad_fn=<MeanBackward0>)\n",
      "tensor(0.6568, device='cuda:0', grad_fn=<MeanBackward0>)\n",
      "tensor(1.2300, device='cuda:0', grad_fn=<MeanBackward0>)\n",
      "tensor(1.0774, device='cuda:0', grad_fn=<MeanBackward0>)\n",
      "tensor(2.2191, device='cuda:0', grad_fn=<MeanBackward0>)\n",
      "tensor(1.6676, device='cuda:0', grad_fn=<MeanBackward0>)\n",
      "tensor(1.2952, device='cuda:0', grad_fn=<MeanBackward0>)\n",
      "tensor(2.9415, device='cuda:0', grad_fn=<MeanBackward0>)\n",
      "tensor(2.4816, device='cuda:0', grad_fn=<MeanBackward0>)\n",
      "tensor(2.0495, device='cuda:0', grad_fn=<MeanBackward0>)\n",
      "tensor(3.1978, device='cuda:0', grad_fn=<MeanBackward0>)\n",
      "tensor(2.3070, device='cuda:0', grad_fn=<MeanBackward0>)\n",
      "34\n",
      "tensor(0.1627, device='cuda:0', grad_fn=<MeanBackward0>)\n",
      "tensor(0.0392, device='cuda:0', grad_fn=<MeanBackward0>)\n",
      "tensor(0.1323, device='cuda:0', grad_fn=<MeanBackward0>)\n",
      "tensor(0.2889, device='cuda:0', grad_fn=<MeanBackward0>)\n",
      "tensor(0.0887, device='cuda:0', grad_fn=<MeanBackward0>)\n",
      "tensor(0.2505, device='cuda:0', grad_fn=<MeanBackward0>)\n",
      "tensor(0.6652, device='cuda:0', grad_fn=<MeanBackward0>)\n",
      "tensor(0.6856, device='cuda:0', grad_fn=<MeanBackward0>)\n",
      "tensor(0.7036, device='cuda:0', grad_fn=<MeanBackward0>)\n",
      "tensor(1.3032, device='cuda:0', grad_fn=<MeanBackward0>)\n",
      "tensor(1.1396, device='cuda:0', grad_fn=<MeanBackward0>)\n",
      "tensor(2.3107, device='cuda:0', grad_fn=<MeanBackward0>)\n",
      "tensor(1.7550, device='cuda:0', grad_fn=<MeanBackward0>)\n",
      "tensor(1.3669, device='cuda:0', grad_fn=<MeanBackward0>)\n",
      "tensor(3.0708, device='cuda:0', grad_fn=<MeanBackward0>)\n",
      "tensor(2.5919, device='cuda:0', grad_fn=<MeanBackward0>)\n",
      "tensor(2.1563, device='cuda:0', grad_fn=<MeanBackward0>)\n",
      "tensor(3.3497, device='cuda:0', grad_fn=<MeanBackward0>)\n",
      "tensor(2.4281, device='cuda:0', grad_fn=<MeanBackward0>)\n",
      "tensor(2.5884, device='cuda:0', grad_fn=<MeanBackward0>)\n",
      "35\n",
      "tensor(0.0280, device='cuda:0', grad_fn=<MeanBackward0>)\n",
      "tensor(0.1309, device='cuda:0', grad_fn=<MeanBackward0>)\n",
      "tensor(0.2979, device='cuda:0', grad_fn=<MeanBackward0>)\n",
      "tensor(0.0858, device='cuda:0', grad_fn=<MeanBackward0>)\n",
      "tensor(0.2645, device='cuda:0', grad_fn=<MeanBackward0>)\n",
      "tensor(0.6803, device='cuda:0', grad_fn=<MeanBackward0>)\n",
      "tensor(0.7030, device='cuda:0', grad_fn=<MeanBackward0>)\n",
      "tensor(0.7018, device='cuda:0', grad_fn=<MeanBackward0>)\n",
      "tensor(1.3158, device='cuda:0', grad_fn=<MeanBackward0>)\n",
      "tensor(1.1399, device='cuda:0', grad_fn=<MeanBackward0>)\n",
      "tensor(2.3456, device='cuda:0', grad_fn=<MeanBackward0>)\n",
      "tensor(1.7661, device='cuda:0', grad_fn=<MeanBackward0>)\n",
      "tensor(1.3859, device='cuda:0', grad_fn=<MeanBackward0>)\n",
      "tensor(3.1339, device='cuda:0', grad_fn=<MeanBackward0>)\n",
      "tensor(2.6117, device='cuda:0', grad_fn=<MeanBackward0>)\n",
      "tensor(2.1960, device='cuda:0', grad_fn=<MeanBackward0>)\n",
      "tensor(3.4366, device='cuda:0', grad_fn=<MeanBackward0>)\n",
      "tensor(2.4691, device='cuda:0', grad_fn=<MeanBackward0>)\n",
      "tensor(2.6653, device='cuda:0', grad_fn=<MeanBackward0>)\n",
      "tensor(1.7248, device='cuda:0', grad_fn=<MeanBackward0>)\n",
      "36\n",
      "tensor(0.0799, device='cuda:0', grad_fn=<MeanBackward0>)\n",
      "tensor(0.2560, device='cuda:0', grad_fn=<MeanBackward0>)\n",
      "tensor(0.0562, device='cuda:0', grad_fn=<MeanBackward0>)\n",
      "tensor(0.2197, device='cuda:0', grad_fn=<MeanBackward0>)\n",
      "tensor(0.6301, device='cuda:0', grad_fn=<MeanBackward0>)\n",
      "tensor(0.6093, device='cuda:0', grad_fn=<MeanBackward0>)\n",
      "tensor(0.6072, device='cuda:0', grad_fn=<MeanBackward0>)\n",
      "tensor(1.2095, device='cuda:0', grad_fn=<MeanBackward0>)\n",
      "tensor(1.0163, device='cuda:0', grad_fn=<MeanBackward0>)\n",
      "tensor(2.2373, device='cuda:0', grad_fn=<MeanBackward0>)\n",
      "tensor(1.6763, device='cuda:0', grad_fn=<MeanBackward0>)\n",
      "tensor(1.2386, device='cuda:0', grad_fn=<MeanBackward0>)\n",
      "tensor(2.9745, device='cuda:0', grad_fn=<MeanBackward0>)\n",
      "tensor(2.4854, device='cuda:0', grad_fn=<MeanBackward0>)\n",
      "tensor(2.0704, device='cuda:0', grad_fn=<MeanBackward0>)\n",
      "tensor(3.2979, device='cuda:0', grad_fn=<MeanBackward0>)\n",
      "tensor(2.3801, device='cuda:0', grad_fn=<MeanBackward0>)\n",
      "tensor(2.5300, device='cuda:0', grad_fn=<MeanBackward0>)\n",
      "tensor(1.6340, device='cuda:0', grad_fn=<MeanBackward0>)\n",
      "tensor(1.4265, device='cuda:0', grad_fn=<MeanBackward0>)\n",
      "37\n",
      "tensor(0.1820, device='cuda:0', grad_fn=<MeanBackward0>)\n",
      "tensor(0.0338, device='cuda:0', grad_fn=<MeanBackward0>)\n",
      "tensor(0.1801, device='cuda:0', grad_fn=<MeanBackward0>)\n",
      "tensor(0.5733, device='cuda:0', grad_fn=<MeanBackward0>)\n",
      "tensor(0.5350, device='cuda:0', grad_fn=<MeanBackward0>)\n",
      "tensor(0.5215, device='cuda:0', grad_fn=<MeanBackward0>)\n",
      "tensor(1.1026, device='cuda:0', grad_fn=<MeanBackward0>)\n",
      "tensor(0.9070, device='cuda:0', grad_fn=<MeanBackward0>)\n",
      "tensor(2.0760, device='cuda:0', grad_fn=<MeanBackward0>)\n",
      "tensor(1.5363, device='cuda:0', grad_fn=<MeanBackward0>)\n",
      "tensor(1.1138, device='cuda:0', grad_fn=<MeanBackward0>)\n",
      "tensor(2.8139, device='cuda:0', grad_fn=<MeanBackward0>)\n",
      "tensor(2.3401, device='cuda:0', grad_fn=<MeanBackward0>)\n",
      "tensor(1.9438, device='cuda:0', grad_fn=<MeanBackward0>)\n",
      "tensor(3.1791, device='cuda:0', grad_fn=<MeanBackward0>)\n",
      "tensor(2.2772, device='cuda:0', grad_fn=<MeanBackward0>)\n",
      "tensor(2.3991, device='cuda:0', grad_fn=<MeanBackward0>)\n",
      "tensor(1.5499, device='cuda:0', grad_fn=<MeanBackward0>)\n",
      "tensor(1.3485, device='cuda:0', grad_fn=<MeanBackward0>)\n",
      "tensor(0.7300, device='cuda:0', grad_fn=<MeanBackward0>)\n",
      "38\n",
      "tensor(0.0136, device='cuda:0', grad_fn=<MeanBackward0>)\n",
      "tensor(0.1299, device='cuda:0', grad_fn=<MeanBackward0>)\n",
      "tensor(0.4881, device='cuda:0', grad_fn=<MeanBackward0>)\n",
      "tensor(0.4684, device='cuda:0', grad_fn=<MeanBackward0>)\n",
      "tensor(0.4459, device='cuda:0', grad_fn=<MeanBackward0>)\n",
      "tensor(1.0029, device='cuda:0', grad_fn=<MeanBackward0>)\n",
      "tensor(0.8149, device='cuda:0', grad_fn=<MeanBackward0>)\n",
      "tensor(1.9125, device='cuda:0', grad_fn=<MeanBackward0>)\n",
      "tensor(1.3701, device='cuda:0', grad_fn=<MeanBackward0>)\n",
      "tensor(1.0031, device='cuda:0', grad_fn=<MeanBackward0>)\n",
      "tensor(2.6561, device='cuda:0', grad_fn=<MeanBackward0>)\n",
      "tensor(2.1721, device='cuda:0', grad_fn=<MeanBackward0>)\n",
      "tensor(1.8207, device='cuda:0', grad_fn=<MeanBackward0>)\n",
      "tensor(3.0420, device='cuda:0', grad_fn=<MeanBackward0>)\n",
      "tensor(2.1389, device='cuda:0', grad_fn=<MeanBackward0>)\n",
      "tensor(2.2546, device='cuda:0', grad_fn=<MeanBackward0>)\n",
      "tensor(1.4456, device='cuda:0', grad_fn=<MeanBackward0>)\n",
      "tensor(1.2544, device='cuda:0', grad_fn=<MeanBackward0>)\n",
      "tensor(0.6635, device='cuda:0', grad_fn=<MeanBackward0>)\n",
      "tensor(1.3268, device='cuda:0', grad_fn=<MeanBackward0>)\n",
      "39\n",
      "tensor(0.0880, device='cuda:0', grad_fn=<MeanBackward0>)\n",
      "tensor(0.4122, device='cuda:0', grad_fn=<MeanBackward0>)\n",
      "tensor(0.3889, device='cuda:0', grad_fn=<MeanBackward0>)\n",
      "tensor(0.3618, device='cuda:0', grad_fn=<MeanBackward0>)\n",
      "tensor(0.8787, device='cuda:0', grad_fn=<MeanBackward0>)\n",
      "tensor(0.6914, device='cuda:0', grad_fn=<MeanBackward0>)\n",
      "tensor(1.7150, device='cuda:0', grad_fn=<MeanBackward0>)\n",
      "tensor(1.1753, device='cuda:0', grad_fn=<MeanBackward0>)\n",
      "tensor(0.8561, device='cuda:0', grad_fn=<MeanBackward0>)\n",
      "tensor(2.4668, device='cuda:0', grad_fn=<MeanBackward0>)\n",
      "tensor(1.9942, device='cuda:0', grad_fn=<MeanBackward0>)\n",
      "tensor(1.6900, device='cuda:0', grad_fn=<MeanBackward0>)\n",
      "tensor(2.9129, device='cuda:0', grad_fn=<MeanBackward0>)\n",
      "tensor(2.0098, device='cuda:0', grad_fn=<MeanBackward0>)\n",
      "tensor(2.1336, device='cuda:0', grad_fn=<MeanBackward0>)\n",
      "tensor(1.3484, device='cuda:0', grad_fn=<MeanBackward0>)\n",
      "tensor(1.1711, device='cuda:0', grad_fn=<MeanBackward0>)\n",
      "tensor(0.6009, device='cuda:0', grad_fn=<MeanBackward0>)\n",
      "tensor(1.2461, device='cuda:0', grad_fn=<MeanBackward0>)\n",
      "tensor(0.3258, device='cuda:0', grad_fn=<MeanBackward0>)\n",
      "40\n",
      "tensor(0.2704, device='cuda:0', grad_fn=<MeanBackward0>)\n",
      "tensor(0.2979, device='cuda:0', grad_fn=<MeanBackward0>)\n",
      "tensor(0.2786, device='cuda:0', grad_fn=<MeanBackward0>)\n",
      "tensor(0.7684, device='cuda:0', grad_fn=<MeanBackward0>)\n",
      "tensor(0.5803, device='cuda:0', grad_fn=<MeanBackward0>)\n",
      "tensor(1.5074, device='cuda:0', grad_fn=<MeanBackward0>)\n",
      "tensor(0.9585, device='cuda:0', grad_fn=<MeanBackward0>)\n",
      "tensor(0.7009, device='cuda:0', grad_fn=<MeanBackward0>)\n",
      "tensor(2.2492, device='cuda:0', grad_fn=<MeanBackward0>)\n",
      "tensor(1.7637, device='cuda:0', grad_fn=<MeanBackward0>)\n",
      "tensor(1.5480, device='cuda:0', grad_fn=<MeanBackward0>)\n",
      "tensor(2.7934, device='cuda:0', grad_fn=<MeanBackward0>)\n",
      "tensor(1.8707, device='cuda:0', grad_fn=<MeanBackward0>)\n",
      "tensor(2.0261, device='cuda:0', grad_fn=<MeanBackward0>)\n",
      "tensor(1.2536, device='cuda:0', grad_fn=<MeanBackward0>)\n",
      "tensor(1.1029, device='cuda:0', grad_fn=<MeanBackward0>)\n",
      "tensor(0.5516, device='cuda:0', grad_fn=<MeanBackward0>)\n",
      "tensor(1.1740, device='cuda:0', grad_fn=<MeanBackward0>)\n",
      "tensor(0.2793, device='cuda:0', grad_fn=<MeanBackward0>)\n",
      "tensor(0.4028, device='cuda:0', grad_fn=<MeanBackward0>)\n",
      "41\n",
      "tensor(0.1283, device='cuda:0', grad_fn=<MeanBackward0>)\n",
      "tensor(0.1570, device='cuda:0', grad_fn=<MeanBackward0>)\n",
      "tensor(0.5758, device='cuda:0', grad_fn=<MeanBackward0>)\n",
      "tensor(0.4438, device='cuda:0', grad_fn=<MeanBackward0>)\n",
      "tensor(1.2771, device='cuda:0', grad_fn=<MeanBackward0>)\n",
      "tensor(0.7950, device='cuda:0', grad_fn=<MeanBackward0>)\n",
      "tensor(0.5703, device='cuda:0', grad_fn=<MeanBackward0>)\n",
      "tensor(2.1193, device='cuda:0', grad_fn=<MeanBackward0>)\n",
      "tensor(1.6398, device='cuda:0', grad_fn=<MeanBackward0>)\n",
      "tensor(1.4936, device='cuda:0', grad_fn=<MeanBackward0>)\n",
      "tensor(2.8517, device='cuda:0', grad_fn=<MeanBackward0>)\n",
      "tensor(1.8706, device='cuda:0', grad_fn=<MeanBackward0>)\n",
      "tensor(2.0902, device='cuda:0', grad_fn=<MeanBackward0>)\n",
      "tensor(1.2894, device='cuda:0', grad_fn=<MeanBackward0>)\n",
      "tensor(1.1828, device='cuda:0', grad_fn=<MeanBackward0>)\n",
      "tensor(0.5980, device='cuda:0', grad_fn=<MeanBackward0>)\n",
      "tensor(1.2705, device='cuda:0', grad_fn=<MeanBackward0>)\n",
      "tensor(0.2961, device='cuda:0', grad_fn=<MeanBackward0>)\n",
      "tensor(0.4599, device='cuda:0', grad_fn=<MeanBackward0>)\n",
      "tensor(0.1626, device='cuda:0', grad_fn=<MeanBackward0>)\n",
      "42\n",
      "tensor(0.0887, device='cuda:0', grad_fn=<MeanBackward0>)\n",
      "tensor(0.5369, device='cuda:0', grad_fn=<MeanBackward0>)\n",
      "tensor(0.4639, device='cuda:0', grad_fn=<MeanBackward0>)\n",
      "tensor(1.4131, device='cuda:0', grad_fn=<MeanBackward0>)\n",
      "tensor(0.9440, device='cuda:0', grad_fn=<MeanBackward0>)\n",
      "tensor(0.7218, device='cuda:0', grad_fn=<MeanBackward0>)\n",
      "tensor(2.4112, device='cuda:0', grad_fn=<MeanBackward0>)\n",
      "tensor(1.9031, device='cuda:0', grad_fn=<MeanBackward0>)\n",
      "tensor(1.7003, device='cuda:0', grad_fn=<MeanBackward0>)\n",
      "tensor(3.0859, device='cuda:0', grad_fn=<MeanBackward0>)\n",
      "tensor(2.0770, device='cuda:0', grad_fn=<MeanBackward0>)\n",
      "tensor(2.2871, device='cuda:0', grad_fn=<MeanBackward0>)\n",
      "tensor(1.4419, device='cuda:0', grad_fn=<MeanBackward0>)\n",
      "tensor(1.3249, device='cuda:0', grad_fn=<MeanBackward0>)\n",
      "tensor(0.7008, device='cuda:0', grad_fn=<MeanBackward0>)\n",
      "tensor(1.4210, device='cuda:0', grad_fn=<MeanBackward0>)\n",
      "tensor(0.3707, device='cuda:0', grad_fn=<MeanBackward0>)\n",
      "tensor(0.5603, device='cuda:0', grad_fn=<MeanBackward0>)\n",
      "tensor(0.2175, device='cuda:0', grad_fn=<MeanBackward0>)\n",
      "tensor(0.0215, device='cuda:0', grad_fn=<MeanBackward0>)\n",
      "43\n",
      "tensor(0.2589, device='cuda:0', grad_fn=<MeanBackward0>)\n",
      "tensor(0.3041, device='cuda:0', grad_fn=<MeanBackward0>)\n",
      "tensor(1.1376, device='cuda:0', grad_fn=<MeanBackward0>)\n",
      "tensor(0.7763, device='cuda:0', grad_fn=<MeanBackward0>)\n",
      "tensor(0.5974, device='cuda:0', grad_fn=<MeanBackward0>)\n",
      "tensor(2.2745, device='cuda:0', grad_fn=<MeanBackward0>)\n",
      "tensor(1.8303, device='cuda:0', grad_fn=<MeanBackward0>)\n",
      "tensor(1.6668, device='cuda:0', grad_fn=<MeanBackward0>)\n",
      "tensor(3.1086, device='cuda:0', grad_fn=<MeanBackward0>)\n",
      "tensor(2.1047, device='cuda:0', grad_fn=<MeanBackward0>)\n",
      "tensor(2.3218, device='cuda:0', grad_fn=<MeanBackward0>)\n",
      "tensor(1.4715, device='cuda:0', grad_fn=<MeanBackward0>)\n",
      "tensor(1.3745, device='cuda:0', grad_fn=<MeanBackward0>)\n",
      "tensor(0.7397, device='cuda:0', grad_fn=<MeanBackward0>)\n",
      "tensor(1.4872, device='cuda:0', grad_fn=<MeanBackward0>)\n",
      "tensor(0.3909, device='cuda:0', grad_fn=<MeanBackward0>)\n",
      "tensor(0.6018, device='cuda:0', grad_fn=<MeanBackward0>)\n",
      "tensor(0.2372, device='cuda:0', grad_fn=<MeanBackward0>)\n",
      "tensor(0.0257, device='cuda:0', grad_fn=<MeanBackward0>)\n",
      "tensor(0.2504, device='cuda:0', grad_fn=<MeanBackward0>)\n",
      "44\n",
      "tensor(0.0487, device='cuda:0', grad_fn=<MeanBackward0>)\n",
      "tensor(0.3382, device='cuda:0', grad_fn=<MeanBackward0>)\n",
      "tensor(0.1969, device='cuda:0', grad_fn=<MeanBackward0>)\n",
      "tensor(0.1124, device='cuda:0', grad_fn=<MeanBackward0>)\n",
      "tensor(1.0195, device='cuda:0', grad_fn=<MeanBackward0>)\n",
      "tensor(0.7339, device='cuda:0', grad_fn=<MeanBackward0>)\n",
      "tensor(0.7367, device='cuda:0', grad_fn=<MeanBackward0>)\n",
      "tensor(2.2449, device='cuda:0', grad_fn=<MeanBackward0>)\n",
      "tensor(1.4950, device='cuda:0', grad_fn=<MeanBackward0>)\n",
      "tensor(1.8695, device='cuda:0', grad_fn=<MeanBackward0>)\n",
      "tensor(1.1529, device='cuda:0', grad_fn=<MeanBackward0>)\n",
      "tensor(1.1366, device='cuda:0', grad_fn=<MeanBackward0>)\n",
      "tensor(0.5695, device='cuda:0', grad_fn=<MeanBackward0>)\n",
      "tensor(1.2565, device='cuda:0', grad_fn=<MeanBackward0>)\n",
      "tensor(0.2422, device='cuda:0', grad_fn=<MeanBackward0>)\n",
      "tensor(0.4487, device='cuda:0', grad_fn=<MeanBackward0>)\n",
      "tensor(0.1427, device='cuda:0', grad_fn=<MeanBackward0>)\n",
      "tensor(0.0212, device='cuda:0', grad_fn=<MeanBackward0>)\n",
      "tensor(0.1871, device='cuda:0', grad_fn=<MeanBackward0>)\n",
      "tensor(0.0310, device='cuda:0', grad_fn=<MeanBackward0>)\n",
      "45\n",
      "tensor(0.1367, device='cuda:0', grad_fn=<MeanBackward0>)\n",
      "tensor(0.0448, device='cuda:0', grad_fn=<MeanBackward0>)\n",
      "tensor(0.0723, device='cuda:0', grad_fn=<MeanBackward0>)\n",
      "tensor(0.4312, device='cuda:0', grad_fn=<MeanBackward0>)\n",
      "tensor(0.2107, device='cuda:0', grad_fn=<MeanBackward0>)\n",
      "tensor(0.1694, device='cuda:0', grad_fn=<MeanBackward0>)\n",
      "tensor(0.9375, device='cuda:0', grad_fn=<MeanBackward0>)\n",
      "tensor(0.4929, device='cuda:0', grad_fn=<MeanBackward0>)\n",
      "tensor(0.8403, device='cuda:0', grad_fn=<MeanBackward0>)\n",
      "tensor(0.4131, device='cuda:0', grad_fn=<MeanBackward0>)\n",
      "tensor(0.6232, device='cuda:0', grad_fn=<MeanBackward0>)\n",
      "tensor(0.2793, device='cuda:0', grad_fn=<MeanBackward0>)\n",
      "tensor(0.9083, device='cuda:0', grad_fn=<MeanBackward0>)\n",
      "tensor(0.0877, device='cuda:0', grad_fn=<MeanBackward0>)\n",
      "tensor(0.2511, device='cuda:0', grad_fn=<MeanBackward0>)\n",
      "tensor(0.0580, device='cuda:0', grad_fn=<MeanBackward0>)\n",
      "tensor(0.0636, device='cuda:0', grad_fn=<MeanBackward0>)\n",
      "tensor(0.0973, device='cuda:0', grad_fn=<MeanBackward0>)\n",
      "tensor(0.0664, device='cuda:0', grad_fn=<MeanBackward0>)\n",
      "tensor(0.0669, device='cuda:0', grad_fn=<MeanBackward0>)\n",
      "46\n",
      "tensor(0.0204, device='cuda:0', grad_fn=<MeanBackward0>)\n",
      "tensor(0.1242, device='cuda:0', grad_fn=<MeanBackward0>)\n",
      "tensor(0.2060, device='cuda:0', grad_fn=<MeanBackward0>)\n",
      "tensor(0.0858, device='cuda:0', grad_fn=<MeanBackward0>)\n",
      "tensor(0.0469, device='cuda:0', grad_fn=<MeanBackward0>)\n",
      "tensor(0.3435, device='cuda:0', grad_fn=<MeanBackward0>)\n",
      "tensor(0.0580, device='cuda:0', grad_fn=<MeanBackward0>)\n",
      "tensor(0.1777, device='cuda:0', grad_fn=<MeanBackward0>)\n",
      "tensor(0.0736, device='cuda:0', grad_fn=<MeanBackward0>)\n",
      "tensor(0.0772, device='cuda:0', grad_fn=<MeanBackward0>)\n",
      "tensor(0.0506, device='cuda:0', grad_fn=<MeanBackward0>)\n",
      "tensor(0.2463, device='cuda:0', grad_fn=<MeanBackward0>)\n",
      "tensor(0.1072, device='cuda:0', grad_fn=<MeanBackward0>)\n",
      "tensor(0.0356, device='cuda:0', grad_fn=<MeanBackward0>)\n",
      "tensor(0.0615, device='cuda:0', grad_fn=<MeanBackward0>)\n",
      "tensor(0.4649, device='cuda:0', grad_fn=<MeanBackward0>)\n",
      "tensor(0.0696, device='cuda:0', grad_fn=<MeanBackward0>)\n",
      "tensor(0.3204, device='cuda:0', grad_fn=<MeanBackward0>)\n",
      "tensor(0.1084, device='cuda:0', grad_fn=<MeanBackward0>)\n",
      "tensor(0.4377, device='cuda:0', grad_fn=<MeanBackward0>)\n",
      "47\n",
      "tensor(0.1172, device='cuda:0', grad_fn=<MeanBackward0>)\n",
      "tensor(0.1841, device='cuda:0', grad_fn=<MeanBackward0>)\n",
      "tensor(0.0892, device='cuda:0', grad_fn=<MeanBackward0>)\n",
      "tensor(0.0465, device='cuda:0', grad_fn=<MeanBackward0>)\n",
      "tensor(0.3169, device='cuda:0', grad_fn=<MeanBackward0>)\n",
      "tensor(0.0568, device='cuda:0', grad_fn=<MeanBackward0>)\n",
      "tensor(0.1604, device='cuda:0', grad_fn=<MeanBackward0>)\n",
      "tensor(0.0872, device='cuda:0', grad_fn=<MeanBackward0>)\n",
      "tensor(0.0688, device='cuda:0', grad_fn=<MeanBackward0>)\n",
      "tensor(0.0736, device='cuda:0', grad_fn=<MeanBackward0>)\n",
      "tensor(0.1816, device='cuda:0', grad_fn=<MeanBackward0>)\n",
      "tensor(0.1543, device='cuda:0', grad_fn=<MeanBackward0>)\n",
      "tensor(0.0294, device='cuda:0', grad_fn=<MeanBackward0>)\n",
      "tensor(0.1023, device='cuda:0', grad_fn=<MeanBackward0>)\n",
      "tensor(0.6082, device='cuda:0', grad_fn=<MeanBackward0>)\n",
      "tensor(0.1083, device='cuda:0', grad_fn=<MeanBackward0>)\n",
      "tensor(0.4526, device='cuda:0', grad_fn=<MeanBackward0>)\n",
      "tensor(0.1824, device='cuda:0', grad_fn=<MeanBackward0>)\n",
      "tensor(0.6265, device='cuda:0', grad_fn=<MeanBackward0>)\n",
      "tensor(1.0668, device='cuda:0', grad_fn=<MeanBackward0>)\n",
      "48\n",
      "tensor(0.3678, device='cuda:0', grad_fn=<MeanBackward0>)\n",
      "tensor(0.1423, device='cuda:0', grad_fn=<MeanBackward0>)\n",
      "tensor(0.1025, device='cuda:0', grad_fn=<MeanBackward0>)\n",
      "tensor(0.6760, device='cuda:0', grad_fn=<MeanBackward0>)\n",
      "tensor(0.2811, device='cuda:0', grad_fn=<MeanBackward0>)\n",
      "tensor(0.5486, device='cuda:0', grad_fn=<MeanBackward0>)\n",
      "tensor(0.1969, device='cuda:0', grad_fn=<MeanBackward0>)\n",
      "tensor(0.3988, device='cuda:0', grad_fn=<MeanBackward0>)\n",
      "tensor(0.1607, device='cuda:0', grad_fn=<MeanBackward0>)\n",
      "tensor(0.7553, device='cuda:0', grad_fn=<MeanBackward0>)\n",
      "tensor(0.0578, device='cuda:0', grad_fn=<MeanBackward0>)\n",
      "tensor(0.1875, device='cuda:0', grad_fn=<MeanBackward0>)\n",
      "tensor(0.0402, device='cuda:0', grad_fn=<MeanBackward0>)\n",
      "tensor(0.1071, device='cuda:0', grad_fn=<MeanBackward0>)\n",
      "tensor(0.0724, device='cuda:0', grad_fn=<MeanBackward0>)\n",
      "tensor(0.0953, device='cuda:0', grad_fn=<MeanBackward0>)\n",
      "tensor(0.0621, device='cuda:0', grad_fn=<MeanBackward0>)\n",
      "tensor(0.1084, device='cuda:0', grad_fn=<MeanBackward0>)\n",
      "tensor(0.2564, device='cuda:0', grad_fn=<MeanBackward0>)\n",
      "tensor(0.1435, device='cuda:0', grad_fn=<MeanBackward0>)\n",
      "49\n",
      "tensor(0.0317, device='cuda:0', grad_fn=<MeanBackward0>)\n",
      "tensor(0.0230, device='cuda:0', grad_fn=<MeanBackward0>)\n",
      "tensor(0.2086, device='cuda:0', grad_fn=<MeanBackward0>)\n",
      "tensor(0.0271, device='cuda:0', grad_fn=<MeanBackward0>)\n",
      "tensor(0.0859, device='cuda:0', grad_fn=<MeanBackward0>)\n",
      "tensor(0.0822, device='cuda:0', grad_fn=<MeanBackward0>)\n",
      "tensor(0.0403, device='cuda:0', grad_fn=<MeanBackward0>)\n",
      "tensor(0.0691, device='cuda:0', grad_fn=<MeanBackward0>)\n",
      "tensor(0.1643, device='cuda:0', grad_fn=<MeanBackward0>)\n",
      "tensor(0.1832, device='cuda:0', grad_fn=<MeanBackward0>)\n",
      "tensor(0.0223, device='cuda:0', grad_fn=<MeanBackward0>)\n",
      "tensor(0.1034, device='cuda:0', grad_fn=<MeanBackward0>)\n",
      "tensor(0.6012, device='cuda:0', grad_fn=<MeanBackward0>)\n",
      "tensor(0.0786, device='cuda:0', grad_fn=<MeanBackward0>)\n",
      "tensor(0.4391, device='cuda:0', grad_fn=<MeanBackward0>)\n",
      "tensor(0.1476, device='cuda:0', grad_fn=<MeanBackward0>)\n",
      "tensor(0.6372, device='cuda:0', grad_fn=<MeanBackward0>)\n",
      "tensor(1.1451, device='cuda:0', grad_fn=<MeanBackward0>)\n",
      "tensor(1.0686, device='cuda:0', grad_fn=<MeanBackward0>)\n",
      "tensor(1.4466, device='cuda:0', grad_fn=<MeanBackward0>)\n",
      "50\n",
      "tensor(0.0260, device='cuda:0', grad_fn=<MeanBackward0>)\n",
      "tensor(0.1299, device='cuda:0', grad_fn=<MeanBackward0>)\n",
      "tensor(0.0202, device='cuda:0', grad_fn=<MeanBackward0>)\n",
      "tensor(0.0472, device='cuda:0', grad_fn=<MeanBackward0>)\n",
      "tensor(0.1080, device='cuda:0', grad_fn=<MeanBackward0>)\n",
      "tensor(0.0388, device='cuda:0', grad_fn=<MeanBackward0>)\n",
      "tensor(0.1622, device='cuda:0', grad_fn=<MeanBackward0>)\n",
      "tensor(0.0553, device='cuda:0', grad_fn=<MeanBackward0>)\n",
      "tensor(0.4253, device='cuda:0', grad_fn=<MeanBackward0>)\n",
      "tensor(0.1003, device='cuda:0', grad_fn=<MeanBackward0>)\n",
      "tensor(0.5358, device='cuda:0', grad_fn=<MeanBackward0>)\n",
      "tensor(1.5504, device='cuda:0', grad_fn=<MeanBackward0>)\n",
      "tensor(0.4100, device='cuda:0', grad_fn=<MeanBackward0>)\n",
      "tensor(1.2989, device='cuda:0', grad_fn=<MeanBackward0>)\n",
      "tensor(0.9583, device='cuda:0', grad_fn=<MeanBackward0>)\n",
      "tensor(1.5246, device='cuda:0', grad_fn=<MeanBackward0>)\n",
      "tensor(2.0075, device='cuda:0', grad_fn=<MeanBackward0>)\n",
      "tensor(1.7600, device='cuda:0', grad_fn=<MeanBackward0>)\n",
      "tensor(1.6987, device='cuda:0', grad_fn=<MeanBackward0>)\n",
      "tensor(1.6766, device='cuda:0', grad_fn=<MeanBackward0>)\n",
      "51\n",
      "tensor(0.1637, device='cuda:0', grad_fn=<MeanBackward0>)\n",
      "tensor(0.0276, device='cuda:0', grad_fn=<MeanBackward0>)\n",
      "tensor(0.0790, device='cuda:0', grad_fn=<MeanBackward0>)\n",
      "tensor(0.1037, device='cuda:0', grad_fn=<MeanBackward0>)\n",
      "tensor(0.0499, device='cuda:0', grad_fn=<MeanBackward0>)\n",
      "tensor(0.1185, device='cuda:0', grad_fn=<MeanBackward0>)\n",
      "tensor(0.1124, device='cuda:0', grad_fn=<MeanBackward0>)\n",
      "tensor(0.3044, device='cuda:0', grad_fn=<MeanBackward0>)\n",
      "tensor(0.0541, device='cuda:0', grad_fn=<MeanBackward0>)\n",
      "tensor(0.3280, device='cuda:0', grad_fn=<MeanBackward0>)\n",
      "tensor(1.1452, device='cuda:0', grad_fn=<MeanBackward0>)\n",
      "tensor(0.2307, device='cuda:0', grad_fn=<MeanBackward0>)\n",
      "tensor(0.8784, device='cuda:0', grad_fn=<MeanBackward0>)\n",
      "tensor(0.5396, device='cuda:0', grad_fn=<MeanBackward0>)\n",
      "tensor(1.2465, device='cuda:0', grad_fn=<MeanBackward0>)\n",
      "tensor(1.7851, device='cuda:0', grad_fn=<MeanBackward0>)\n",
      "tensor(1.6034, device='cuda:0', grad_fn=<MeanBackward0>)\n",
      "tensor(1.6342, device='cuda:0', grad_fn=<MeanBackward0>)\n",
      "tensor(1.6302, device='cuda:0', grad_fn=<MeanBackward0>)\n",
      "tensor(1.7033, device='cuda:0', grad_fn=<MeanBackward0>)\n",
      "52\n",
      "tensor(0.0616, device='cuda:0', grad_fn=<MeanBackward0>)\n",
      "tensor(0.2800, device='cuda:0', grad_fn=<MeanBackward0>)\n",
      "tensor(0.1000, device='cuda:0', grad_fn=<MeanBackward0>)\n",
      "tensor(0.3446, device='cuda:0', grad_fn=<MeanBackward0>)\n",
      "tensor(0.1819, device='cuda:0', grad_fn=<MeanBackward0>)\n",
      "tensor(0.7884, device='cuda:0', grad_fn=<MeanBackward0>)\n",
      "tensor(0.0623, device='cuda:0', grad_fn=<MeanBackward0>)\n",
      "tensor(0.2246, device='cuda:0', grad_fn=<MeanBackward0>)\n",
      "tensor(0.0386, device='cuda:0', grad_fn=<MeanBackward0>)\n",
      "tensor(0.0588, device='cuda:0', grad_fn=<MeanBackward0>)\n",
      "tensor(0.0815, device='cuda:0', grad_fn=<MeanBackward0>)\n",
      "tensor(0.0615, device='cuda:0', grad_fn=<MeanBackward0>)\n",
      "tensor(0.0366, device='cuda:0', grad_fn=<MeanBackward0>)\n",
      "tensor(0.0431, device='cuda:0', grad_fn=<MeanBackward0>)\n",
      "tensor(0.1314, device='cuda:0', grad_fn=<MeanBackward0>)\n",
      "tensor(0.0569, device='cuda:0', grad_fn=<MeanBackward0>)\n",
      "tensor(0.0700, device='cuda:0', grad_fn=<MeanBackward0>)\n",
      "tensor(0.0815, device='cuda:0', grad_fn=<MeanBackward0>)\n",
      "tensor(0.1026, device='cuda:0', grad_fn=<MeanBackward0>)\n",
      "tensor(0.1933, device='cuda:0', grad_fn=<MeanBackward0>)\n",
      "53\n",
      "tensor(0.1975, device='cuda:0', grad_fn=<MeanBackward0>)\n",
      "tensor(0.0760, device='cuda:0', grad_fn=<MeanBackward0>)\n",
      "tensor(0.3027, device='cuda:0', grad_fn=<MeanBackward0>)\n",
      "tensor(0.1758, device='cuda:0', grad_fn=<MeanBackward0>)\n",
      "tensor(0.8109, device='cuda:0', grad_fn=<MeanBackward0>)\n",
      "tensor(0.0835, device='cuda:0', grad_fn=<MeanBackward0>)\n",
      "tensor(0.2475, device='cuda:0', grad_fn=<MeanBackward0>)\n",
      "tensor(0.0507, device='cuda:0', grad_fn=<MeanBackward0>)\n",
      "tensor(0.0487, device='cuda:0', grad_fn=<MeanBackward0>)\n",
      "tensor(0.1009, device='cuda:0', grad_fn=<MeanBackward0>)\n",
      "tensor(0.0441, device='cuda:0', grad_fn=<MeanBackward0>)\n",
      "tensor(0.0479, device='cuda:0', grad_fn=<MeanBackward0>)\n",
      "tensor(0.0368, device='cuda:0', grad_fn=<MeanBackward0>)\n",
      "tensor(0.1021, device='cuda:0', grad_fn=<MeanBackward0>)\n",
      "tensor(0.0512, device='cuda:0', grad_fn=<MeanBackward0>)\n",
      "tensor(0.0602, device='cuda:0', grad_fn=<MeanBackward0>)\n",
      "tensor(0.0661, device='cuda:0', grad_fn=<MeanBackward0>)\n",
      "tensor(0.0813, device='cuda:0', grad_fn=<MeanBackward0>)\n",
      "tensor(0.1467, device='cuda:0', grad_fn=<MeanBackward0>)\n",
      "tensor(0.0582, device='cuda:0', grad_fn=<MeanBackward0>)\n",
      "54\n",
      "tensor(0.0694, device='cuda:0', grad_fn=<MeanBackward0>)\n",
      "tensor(0.4844, device='cuda:0', grad_fn=<MeanBackward0>)\n",
      "tensor(0.3699, device='cuda:0', grad_fn=<MeanBackward0>)\n",
      "tensor(1.1638, device='cuda:0', grad_fn=<MeanBackward0>)\n",
      "tensor(0.2515, device='cuda:0', grad_fn=<MeanBackward0>)\n",
      "tensor(0.4802, device='cuda:0', grad_fn=<MeanBackward0>)\n",
      "tensor(0.1577, device='cuda:0', grad_fn=<MeanBackward0>)\n",
      "tensor(0.0149, device='cuda:0', grad_fn=<MeanBackward0>)\n",
      "tensor(0.2087, device='cuda:0', grad_fn=<MeanBackward0>)\n",
      "tensor(0.0275, device='cuda:0', grad_fn=<MeanBackward0>)\n",
      "tensor(0.1360, device='cuda:0', grad_fn=<MeanBackward0>)\n",
      "tensor(0.0553, device='cuda:0', grad_fn=<MeanBackward0>)\n",
      "tensor(0.0365, device='cuda:0', grad_fn=<MeanBackward0>)\n",
      "tensor(0.0777, device='cuda:0', grad_fn=<MeanBackward0>)\n",
      "tensor(0.0817, device='cuda:0', grad_fn=<MeanBackward0>)\n",
      "tensor(0.0765, device='cuda:0', grad_fn=<MeanBackward0>)\n",
      "tensor(0.0807, device='cuda:0', grad_fn=<MeanBackward0>)\n",
      "tensor(0.0506, device='cuda:0', grad_fn=<MeanBackward0>)\n",
      "tensor(0.1139, device='cuda:0', grad_fn=<MeanBackward0>)\n",
      "tensor(0.0554, device='cuda:0', grad_fn=<MeanBackward0>)\n",
      "55\n",
      "tensor(0.3789, device='cuda:0', grad_fn=<MeanBackward0>)\n",
      "tensor(0.4030, device='cuda:0', grad_fn=<MeanBackward0>)\n",
      "tensor(1.3403, device='cuda:0', grad_fn=<MeanBackward0>)\n",
      "tensor(0.3769, device='cuda:0', grad_fn=<MeanBackward0>)\n",
      "tensor(0.6453, device='cuda:0', grad_fn=<MeanBackward0>)\n",
      "tensor(0.2655, device='cuda:0', grad_fn=<MeanBackward0>)\n",
      "tensor(0.0327, device='cuda:0', grad_fn=<MeanBackward0>)\n",
      "tensor(0.3043, device='cuda:0', grad_fn=<MeanBackward0>)\n",
      "tensor(0.0541, device='cuda:0', grad_fn=<MeanBackward0>)\n",
      "tensor(0.2223, device='cuda:0', grad_fn=<MeanBackward0>)\n",
      "tensor(0.1074, device='cuda:0', grad_fn=<MeanBackward0>)\n",
      "tensor(0.0416, device='cuda:0', grad_fn=<MeanBackward0>)\n",
      "tensor(0.1210, device='cuda:0', grad_fn=<MeanBackward0>)\n",
      "tensor(0.1283, device='cuda:0', grad_fn=<MeanBackward0>)\n",
      "tensor(0.1196, device='cuda:0', grad_fn=<MeanBackward0>)\n",
      "tensor(0.1239, device='cuda:0', grad_fn=<MeanBackward0>)\n",
      "tensor(0.0479, device='cuda:0', grad_fn=<MeanBackward0>)\n",
      "tensor(0.1705, device='cuda:0', grad_fn=<MeanBackward0>)\n",
      "tensor(0.0356, device='cuda:0', grad_fn=<MeanBackward0>)\n",
      "tensor(0.1198, device='cuda:0', grad_fn=<MeanBackward0>)\n",
      "56\n",
      "tensor(0.0583, device='cuda:0', grad_fn=<MeanBackward0>)\n",
      "tensor(0.9970, device='cuda:0', grad_fn=<MeanBackward0>)\n",
      "tensor(0.3478, device='cuda:0', grad_fn=<MeanBackward0>)\n",
      "tensor(0.6905, device='cuda:0', grad_fn=<MeanBackward0>)\n",
      "tensor(0.3176, device='cuda:0', grad_fn=<MeanBackward0>)\n",
      "tensor(0.0477, device='cuda:0', grad_fn=<MeanBackward0>)\n",
      "tensor(0.3610, device='cuda:0', grad_fn=<MeanBackward0>)\n",
      "tensor(0.0741, device='cuda:0', grad_fn=<MeanBackward0>)\n",
      "tensor(0.2759, device='cuda:0', grad_fn=<MeanBackward0>)\n",
      "tensor(0.1392, device='cuda:0', grad_fn=<MeanBackward0>)\n",
      "tensor(0.0547, device='cuda:0', grad_fn=<MeanBackward0>)\n",
      "tensor(0.1532, device='cuda:0', grad_fn=<MeanBackward0>)\n",
      "tensor(0.1596, device='cuda:0', grad_fn=<MeanBackward0>)\n",
      "tensor(0.1488, device='cuda:0', grad_fn=<MeanBackward0>)\n",
      "tensor(0.1537, device='cuda:0', grad_fn=<MeanBackward0>)\n",
      "tensor(0.0567, device='cuda:0', grad_fn=<MeanBackward0>)\n",
      "tensor(0.2102, device='cuda:0', grad_fn=<MeanBackward0>)\n",
      "tensor(0.0389, device='cuda:0', grad_fn=<MeanBackward0>)\n",
      "tensor(0.1485, device='cuda:0', grad_fn=<MeanBackward0>)\n",
      "tensor(0.0790, device='cuda:0', grad_fn=<MeanBackward0>)\n",
      "57\n",
      "tensor(0.8771, device='cuda:0', grad_fn=<MeanBackward0>)\n",
      "tensor(0.4036, device='cuda:0', grad_fn=<MeanBackward0>)\n",
      "tensor(0.8010, device='cuda:0', grad_fn=<MeanBackward0>)\n",
      "tensor(0.4103, device='cuda:0', grad_fn=<MeanBackward0>)\n",
      "tensor(0.0857, device='cuda:0', grad_fn=<MeanBackward0>)\n",
      "tensor(0.4458, device='cuda:0', grad_fn=<MeanBackward0>)\n",
      "tensor(0.1129, device='cuda:0', grad_fn=<MeanBackward0>)\n",
      "tensor(0.3595, device='cuda:0', grad_fn=<MeanBackward0>)\n",
      "tensor(0.1988, device='cuda:0', grad_fn=<MeanBackward0>)\n",
      "tensor(0.0852, device='cuda:0', grad_fn=<MeanBackward0>)\n",
      "tensor(0.2048, device='cuda:0', grad_fn=<MeanBackward0>)\n",
      "tensor(0.2096, device='cuda:0', grad_fn=<MeanBackward0>)\n",
      "tensor(0.1962, device='cuda:0', grad_fn=<MeanBackward0>)\n",
      "tensor(0.2030, device='cuda:0', grad_fn=<MeanBackward0>)\n",
      "tensor(0.0749, device='cuda:0', grad_fn=<MeanBackward0>)\n",
      "tensor(0.2692, device='cuda:0', grad_fn=<MeanBackward0>)\n",
      "tensor(0.0532, device='cuda:0', grad_fn=<MeanBackward0>)\n",
      "tensor(0.1895, device='cuda:0', grad_fn=<MeanBackward0>)\n",
      "tensor(0.0815, device='cuda:0', grad_fn=<MeanBackward0>)\n",
      "tensor(0.1720, device='cuda:0', grad_fn=<MeanBackward0>)\n",
      "58\n",
      "tensor(0.1692, device='cuda:0', grad_fn=<MeanBackward0>)\n",
      "tensor(0.6216, device='cuda:0', grad_fn=<MeanBackward0>)\n",
      "tensor(0.3613, device='cuda:0', grad_fn=<MeanBackward0>)\n",
      "tensor(0.0884, device='cuda:0', grad_fn=<MeanBackward0>)\n",
      "tensor(0.4761, device='cuda:0', grad_fn=<MeanBackward0>)\n",
      "tensor(0.1265, device='cuda:0', grad_fn=<MeanBackward0>)\n",
      "tensor(0.3756, device='cuda:0', grad_fn=<MeanBackward0>)\n",
      "tensor(0.2134, device='cuda:0', grad_fn=<MeanBackward0>)\n",
      "tensor(0.0953, device='cuda:0', grad_fn=<MeanBackward0>)\n",
      "tensor(0.2224, device='cuda:0', grad_fn=<MeanBackward0>)\n",
      "tensor(0.2223, device='cuda:0', grad_fn=<MeanBackward0>)\n",
      "tensor(0.2044, device='cuda:0', grad_fn=<MeanBackward0>)\n",
      "tensor(0.2092, device='cuda:0', grad_fn=<MeanBackward0>)\n",
      "tensor(0.0787, device='cuda:0', grad_fn=<MeanBackward0>)\n",
      "tensor(0.2823, device='cuda:0', grad_fn=<MeanBackward0>)\n",
      "tensor(0.0571, device='cuda:0', grad_fn=<MeanBackward0>)\n",
      "tensor(0.1929, device='cuda:0', grad_fn=<MeanBackward0>)\n",
      "tensor(0.0739, device='cuda:0', grad_fn=<MeanBackward0>)\n",
      "tensor(0.1511, device='cuda:0', grad_fn=<MeanBackward0>)\n",
      "tensor(0.0463, device='cuda:0', grad_fn=<MeanBackward0>)\n",
      "59\n",
      "tensor(0.4640, device='cuda:0', grad_fn=<MeanBackward0>)\n",
      "tensor(0.3842, device='cuda:0', grad_fn=<MeanBackward0>)\n",
      "tensor(0.1234, device='cuda:0', grad_fn=<MeanBackward0>)\n",
      "tensor(0.5957, device='cuda:0', grad_fn=<MeanBackward0>)\n",
      "tensor(0.2099, device='cuda:0', grad_fn=<MeanBackward0>)\n",
      "tensor(0.5167, device='cuda:0', grad_fn=<MeanBackward0>)\n",
      "tensor(0.3109, device='cuda:0', grad_fn=<MeanBackward0>)\n",
      "tensor(0.1671, device='cuda:0', grad_fn=<MeanBackward0>)\n",
      "tensor(0.3257, device='cuda:0', grad_fn=<MeanBackward0>)\n",
      "tensor(0.3142, device='cuda:0', grad_fn=<MeanBackward0>)\n",
      "tensor(0.2843, device='cuda:0', grad_fn=<MeanBackward0>)\n",
      "tensor(0.2910, device='cuda:0', grad_fn=<MeanBackward0>)\n",
      "tensor(0.1279, device='cuda:0', grad_fn=<MeanBackward0>)\n",
      "tensor(0.3840, device='cuda:0', grad_fn=<MeanBackward0>)\n",
      "tensor(0.1027, device='cuda:0', grad_fn=<MeanBackward0>)\n",
      "tensor(0.2805, device='cuda:0', grad_fn=<MeanBackward0>)\n",
      "tensor(0.1257, device='cuda:0', grad_fn=<MeanBackward0>)\n",
      "tensor(0.2551, device='cuda:0', grad_fn=<MeanBackward0>)\n",
      "tensor(0.0904, device='cuda:0', grad_fn=<MeanBackward0>)\n",
      "tensor(0.1809, device='cuda:0', grad_fn=<MeanBackward0>)\n",
      "60\n",
      "tensor(0.2278, device='cuda:0', grad_fn=<MeanBackward0>)\n",
      "tensor(0.0797, device='cuda:0', grad_fn=<MeanBackward0>)\n",
      "tensor(0.5741, device='cuda:0', grad_fn=<MeanBackward0>)\n",
      "tensor(0.2247, device='cuda:0', grad_fn=<MeanBackward0>)\n",
      "tensor(0.5440, device='cuda:0', grad_fn=<MeanBackward0>)\n",
      "tensor(0.3407, device='cuda:0', grad_fn=<MeanBackward0>)\n",
      "tensor(0.1946, device='cuda:0', grad_fn=<MeanBackward0>)\n",
      "tensor(0.3641, device='cuda:0', grad_fn=<MeanBackward0>)\n",
      "tensor(0.3525, device='cuda:0', grad_fn=<MeanBackward0>)\n",
      "tensor(0.3197, device='cuda:0', grad_fn=<MeanBackward0>)\n",
      "tensor(0.3274, device='cuda:0', grad_fn=<MeanBackward0>)\n",
      "tensor(0.1549, device='cuda:0', grad_fn=<MeanBackward0>)\n",
      "tensor(0.4279, device='cuda:0', grad_fn=<MeanBackward0>)\n",
      "tensor(0.1297, device='cuda:0', grad_fn=<MeanBackward0>)\n",
      "tensor(0.3271, device='cuda:0', grad_fn=<MeanBackward0>)\n",
      "tensor(0.1595, device='cuda:0', grad_fn=<MeanBackward0>)\n",
      "tensor(0.3056, device='cuda:0', grad_fn=<MeanBackward0>)\n",
      "tensor(0.1198, device='cuda:0', grad_fn=<MeanBackward0>)\n",
      "tensor(0.2266, device='cuda:0', grad_fn=<MeanBackward0>)\n",
      "tensor(0.3879, device='cuda:0', grad_fn=<MeanBackward0>)\n",
      "61\n",
      "tensor(0.0197, device='cuda:0', grad_fn=<MeanBackward0>)\n",
      "tensor(0.4142, device='cuda:0', grad_fn=<MeanBackward0>)\n",
      "tensor(0.1743, device='cuda:0', grad_fn=<MeanBackward0>)\n",
      "tensor(0.4717, device='cuda:0', grad_fn=<MeanBackward0>)\n",
      "tensor(0.2999, device='cuda:0', grad_fn=<MeanBackward0>)\n",
      "tensor(0.1604, device='cuda:0', grad_fn=<MeanBackward0>)\n",
      "tensor(0.3147, device='cuda:0', grad_fn=<MeanBackward0>)\n",
      "tensor(0.3067, device='cuda:0', grad_fn=<MeanBackward0>)\n",
      "tensor(0.2787, device='cuda:0', grad_fn=<MeanBackward0>)\n",
      "tensor(0.2849, device='cuda:0', grad_fn=<MeanBackward0>)\n",
      "tensor(0.1226, device='cuda:0', grad_fn=<MeanBackward0>)\n",
      "tensor(0.3690, device='cuda:0', grad_fn=<MeanBackward0>)\n",
      "tensor(0.1020, device='cuda:0', grad_fn=<MeanBackward0>)\n",
      "tensor(0.2672, device='cuda:0', grad_fn=<MeanBackward0>)\n",
      "tensor(0.1223, device='cuda:0', grad_fn=<MeanBackward0>)\n",
      "tensor(0.2393, device='cuda:0', grad_fn=<MeanBackward0>)\n",
      "tensor(0.0847, device='cuda:0', grad_fn=<MeanBackward0>)\n",
      "tensor(0.1787, device='cuda:0', grad_fn=<MeanBackward0>)\n",
      "tensor(0.3131, device='cuda:0', grad_fn=<MeanBackward0>)\n",
      "tensor(0.2162, device='cuda:0', grad_fn=<MeanBackward0>)\n",
      "62\n",
      "tensor(0.3154, device='cuda:0', grad_fn=<MeanBackward0>)\n",
      "tensor(0.1488, device='cuda:0', grad_fn=<MeanBackward0>)\n",
      "tensor(0.4397, device='cuda:0', grad_fn=<MeanBackward0>)\n",
      "tensor(0.2840, device='cuda:0', grad_fn=<MeanBackward0>)\n",
      "tensor(0.1487, device='cuda:0', grad_fn=<MeanBackward0>)\n",
      "tensor(0.2967, device='cuda:0', grad_fn=<MeanBackward0>)\n",
      "tensor(0.2877, device='cuda:0', grad_fn=<MeanBackward0>)\n",
      "tensor(0.2607, device='cuda:0', grad_fn=<MeanBackward0>)\n",
      "tensor(0.2620, device='cuda:0', grad_fn=<MeanBackward0>)\n",
      "tensor(0.1073, device='cuda:0', grad_fn=<MeanBackward0>)\n",
      "tensor(0.3426, device='cuda:0', grad_fn=<MeanBackward0>)\n",
      "tensor(0.0886, device='cuda:0', grad_fn=<MeanBackward0>)\n",
      "tensor(0.2368, device='cuda:0', grad_fn=<MeanBackward0>)\n",
      "tensor(0.1027, device='cuda:0', grad_fn=<MeanBackward0>)\n",
      "tensor(0.2090, device='cuda:0', grad_fn=<MeanBackward0>)\n",
      "tensor(0.0681, device='cuda:0', grad_fn=<MeanBackward0>)\n",
      "tensor(0.1530, device='cuda:0', grad_fn=<MeanBackward0>)\n",
      "tensor(0.2761, device='cuda:0', grad_fn=<MeanBackward0>)\n",
      "tensor(0.1896, device='cuda:0', grad_fn=<MeanBackward0>)\n",
      "tensor(0.2787, device='cuda:0', grad_fn=<MeanBackward0>)\n",
      "63\n",
      "tensor(0.0479, device='cuda:0', grad_fn=<MeanBackward0>)\n",
      "tensor(0.3294, device='cuda:0', grad_fn=<MeanBackward0>)\n",
      "tensor(0.2414, device='cuda:0', grad_fn=<MeanBackward0>)\n",
      "tensor(0.1309, device='cuda:0', grad_fn=<MeanBackward0>)\n",
      "tensor(0.2774, device='cuda:0', grad_fn=<MeanBackward0>)\n",
      "tensor(0.2763, device='cuda:0', grad_fn=<MeanBackward0>)\n",
      "tensor(0.2507, device='cuda:0', grad_fn=<MeanBackward0>)\n",
      "tensor(0.2553, device='cuda:0', grad_fn=<MeanBackward0>)\n",
      "tensor(0.1061, device='cuda:0', grad_fn=<MeanBackward0>)\n",
      "tensor(0.3349, device='cuda:0', grad_fn=<MeanBackward0>)\n",
      "tensor(0.0889, device='cuda:0', grad_fn=<MeanBackward0>)\n",
      "tensor(0.2314, device='cuda:0', grad_fn=<MeanBackward0>)\n",
      "tensor(0.1079, device='cuda:0', grad_fn=<MeanBackward0>)\n",
      "tensor(0.2050, device='cuda:0', grad_fn=<MeanBackward0>)\n",
      "tensor(0.0764, device='cuda:0', grad_fn=<MeanBackward0>)\n",
      "tensor(0.1533, device='cuda:0', grad_fn=<MeanBackward0>)\n",
      "tensor(0.2763, device='cuda:0', grad_fn=<MeanBackward0>)\n",
      "tensor(0.1859, device='cuda:0', grad_fn=<MeanBackward0>)\n",
      "tensor(0.2782, device='cuda:0', grad_fn=<MeanBackward0>)\n",
      "tensor(0.3518, device='cuda:0', grad_fn=<MeanBackward0>)\n",
      "64\n",
      "tensor(0.2393, device='cuda:0', grad_fn=<MeanBackward0>)\n",
      "tensor(0.2147, device='cuda:0', grad_fn=<MeanBackward0>)\n",
      "tensor(0.1127, device='cuda:0', grad_fn=<MeanBackward0>)\n",
      "tensor(0.2517, device='cuda:0', grad_fn=<MeanBackward0>)\n",
      "tensor(0.2582, device='cuda:0', grad_fn=<MeanBackward0>)\n",
      "tensor(0.2403, device='cuda:0', grad_fn=<MeanBackward0>)\n",
      "tensor(0.2428, device='cuda:0', grad_fn=<MeanBackward0>)\n",
      "tensor(0.0940, device='cuda:0', grad_fn=<MeanBackward0>)\n",
      "tensor(0.3173, device='cuda:0', grad_fn=<MeanBackward0>)\n",
      "tensor(0.0787, device='cuda:0', grad_fn=<MeanBackward0>)\n",
      "tensor(0.2121, device='cuda:0', grad_fn=<MeanBackward0>)\n",
      "tensor(0.0850, device='cuda:0', grad_fn=<MeanBackward0>)\n",
      "tensor(0.1765, device='cuda:0', grad_fn=<MeanBackward0>)\n",
      "tensor(0.0544, device='cuda:0', grad_fn=<MeanBackward0>)\n",
      "tensor(0.1252, device='cuda:0', grad_fn=<MeanBackward0>)\n",
      "tensor(0.2426, device='cuda:0', grad_fn=<MeanBackward0>)\n",
      "tensor(0.1681, device='cuda:0', grad_fn=<MeanBackward0>)\n",
      "tensor(0.2528, device='cuda:0', grad_fn=<MeanBackward0>)\n",
      "tensor(0.3292, device='cuda:0', grad_fn=<MeanBackward0>)\n",
      "tensor(0.3097, device='cuda:0', grad_fn=<MeanBackward0>)\n",
      "65\n",
      "tensor(0.1479, device='cuda:0', grad_fn=<MeanBackward0>)\n",
      "tensor(0.1043, device='cuda:0', grad_fn=<MeanBackward0>)\n",
      "tensor(0.2641, device='cuda:0', grad_fn=<MeanBackward0>)\n",
      "tensor(0.2865, device='cuda:0', grad_fn=<MeanBackward0>)\n",
      "tensor(0.2751, device='cuda:0', grad_fn=<MeanBackward0>)\n",
      "tensor(0.2810, device='cuda:0', grad_fn=<MeanBackward0>)\n",
      "tensor(0.1187, device='cuda:0', grad_fn=<MeanBackward0>)\n",
      "tensor(0.3656, device='cuda:0', grad_fn=<MeanBackward0>)\n",
      "tensor(0.1031, device='cuda:0', grad_fn=<MeanBackward0>)\n",
      "tensor(0.2500, device='cuda:0', grad_fn=<MeanBackward0>)\n",
      "tensor(0.0973, device='cuda:0', grad_fn=<MeanBackward0>)\n",
      "tensor(0.2029, device='cuda:0', grad_fn=<MeanBackward0>)\n",
      "tensor(0.0604, device='cuda:0', grad_fn=<MeanBackward0>)\n",
      "tensor(0.1101, device='cuda:0', grad_fn=<MeanBackward0>)\n",
      "tensor(0.2472, device='cuda:0', grad_fn=<MeanBackward0>)\n",
      "tensor(0.1604, device='cuda:0', grad_fn=<MeanBackward0>)\n",
      "tensor(0.2505, device='cuda:0', grad_fn=<MeanBackward0>)\n",
      "tensor(0.3357, device='cuda:0', grad_fn=<MeanBackward0>)\n",
      "tensor(0.3190, device='cuda:0', grad_fn=<MeanBackward0>)\n",
      "tensor(0.3229, device='cuda:0', grad_fn=<MeanBackward0>)\n",
      "66\n",
      "tensor(0.0563, device='cuda:0', grad_fn=<MeanBackward0>)\n",
      "tensor(0.2475, device='cuda:0', grad_fn=<MeanBackward0>)\n",
      "tensor(0.3072, device='cuda:0', grad_fn=<MeanBackward0>)\n",
      "tensor(0.3067, device='cuda:0', grad_fn=<MeanBackward0>)\n",
      "tensor(0.3297, device='cuda:0', grad_fn=<MeanBackward0>)\n",
      "tensor(0.1639, device='cuda:0', grad_fn=<MeanBackward0>)\n",
      "tensor(0.4406, device='cuda:0', grad_fn=<MeanBackward0>)\n",
      "tensor(0.1598, device='cuda:0', grad_fn=<MeanBackward0>)\n",
      "tensor(0.3280, device='cuda:0', grad_fn=<MeanBackward0>)\n",
      "tensor(0.1723, device='cuda:0', grad_fn=<MeanBackward0>)\n",
      "tensor(0.2906, device='cuda:0', grad_fn=<MeanBackward0>)\n",
      "tensor(0.1260, device='cuda:0', grad_fn=<MeanBackward0>)\n",
      "tensor(0.1627, device='cuda:0', grad_fn=<MeanBackward0>)\n",
      "tensor(0.3184, device='cuda:0', grad_fn=<MeanBackward0>)\n",
      "tensor(0.2020, device='cuda:0', grad_fn=<MeanBackward0>)\n",
      "tensor(0.3083, device='cuda:0', grad_fn=<MeanBackward0>)\n",
      "tensor(0.3866, device='cuda:0', grad_fn=<MeanBackward0>)\n",
      "tensor(0.3799, device='cuda:0', grad_fn=<MeanBackward0>)\n",
      "tensor(0.3721, device='cuda:0', grad_fn=<MeanBackward0>)\n",
      "tensor(0.2486, device='cuda:0', grad_fn=<MeanBackward0>)\n",
      "67\n",
      "tensor(0.1392, device='cuda:0', grad_fn=<MeanBackward0>)\n",
      "tensor(0.2286, device='cuda:0', grad_fn=<MeanBackward0>)\n",
      "tensor(0.2453, device='cuda:0', grad_fn=<MeanBackward0>)\n",
      "tensor(0.2728, device='cuda:0', grad_fn=<MeanBackward0>)\n",
      "tensor(0.1287, device='cuda:0', grad_fn=<MeanBackward0>)\n",
      "tensor(0.3680, device='cuda:0', grad_fn=<MeanBackward0>)\n",
      "tensor(0.1315, device='cuda:0', grad_fn=<MeanBackward0>)\n",
      "tensor(0.2665, device='cuda:0', grad_fn=<MeanBackward0>)\n",
      "tensor(0.1487, device='cuda:0', grad_fn=<MeanBackward0>)\n",
      "tensor(0.2339, device='cuda:0', grad_fn=<MeanBackward0>)\n",
      "tensor(0.1092, device='cuda:0', grad_fn=<MeanBackward0>)\n",
      "tensor(0.1437, device='cuda:0', grad_fn=<MeanBackward0>)\n",
      "tensor(0.2710, device='cuda:0', grad_fn=<MeanBackward0>)\n",
      "tensor(0.1785, device='cuda:0', grad_fn=<MeanBackward0>)\n",
      "tensor(0.2776, device='cuda:0', grad_fn=<MeanBackward0>)\n",
      "tensor(0.3419, device='cuda:0', grad_fn=<MeanBackward0>)\n",
      "tensor(0.3374, device='cuda:0', grad_fn=<MeanBackward0>)\n",
      "tensor(0.3279, device='cuda:0', grad_fn=<MeanBackward0>)\n",
      "tensor(0.2307, device='cuda:0', grad_fn=<MeanBackward0>)\n",
      "tensor(0.3876, device='cuda:0', grad_fn=<MeanBackward0>)\n",
      "68\n",
      "tensor(0.1444, device='cuda:0', grad_fn=<MeanBackward0>)\n",
      "tensor(0.2010, device='cuda:0', grad_fn=<MeanBackward0>)\n",
      "tensor(0.2380, device='cuda:0', grad_fn=<MeanBackward0>)\n",
      "tensor(0.1105, device='cuda:0', grad_fn=<MeanBackward0>)\n",
      "tensor(0.3354, device='cuda:0', grad_fn=<MeanBackward0>)\n",
      "tensor(0.1164, device='cuda:0', grad_fn=<MeanBackward0>)\n",
      "tensor(0.2311, device='cuda:0', grad_fn=<MeanBackward0>)\n",
      "tensor(0.1218, device='cuda:0', grad_fn=<MeanBackward0>)\n",
      "tensor(0.1938, device='cuda:0', grad_fn=<MeanBackward0>)\n",
      "tensor(0.0901, device='cuda:0', grad_fn=<MeanBackward0>)\n",
      "tensor(0.1000, device='cuda:0', grad_fn=<MeanBackward0>)\n",
      "tensor(0.2226, device='cuda:0', grad_fn=<MeanBackward0>)\n",
      "tensor(0.1350, device='cuda:0', grad_fn=<MeanBackward0>)\n",
      "tensor(0.2212, device='cuda:0', grad_fn=<MeanBackward0>)\n",
      "tensor(0.2870, device='cuda:0', grad_fn=<MeanBackward0>)\n",
      "tensor(0.2834, device='cuda:0', grad_fn=<MeanBackward0>)\n",
      "tensor(0.2781, device='cuda:0', grad_fn=<MeanBackward0>)\n",
      "tensor(0.1885, device='cuda:0', grad_fn=<MeanBackward0>)\n",
      "tensor(0.3226, device='cuda:0', grad_fn=<MeanBackward0>)\n",
      "tensor(0.1329, device='cuda:0', grad_fn=<MeanBackward0>)\n",
      "69\n",
      "tensor(0.1428, device='cuda:0', grad_fn=<MeanBackward0>)\n",
      "tensor(0.2017, device='cuda:0', grad_fn=<MeanBackward0>)\n",
      "tensor(0.0898, device='cuda:0', grad_fn=<MeanBackward0>)\n",
      "tensor(0.3137, device='cuda:0', grad_fn=<MeanBackward0>)\n",
      "tensor(0.0962, device='cuda:0', grad_fn=<MeanBackward0>)\n",
      "tensor(0.2109, device='cuda:0', grad_fn=<MeanBackward0>)\n",
      "tensor(0.0925, device='cuda:0', grad_fn=<MeanBackward0>)\n",
      "tensor(0.1712, device='cuda:0', grad_fn=<MeanBackward0>)\n",
      "tensor(0.0686, device='cuda:0', grad_fn=<MeanBackward0>)\n",
      "tensor(0.0742, device='cuda:0', grad_fn=<MeanBackward0>)\n",
      "tensor(0.2023, device='cuda:0', grad_fn=<MeanBackward0>)\n",
      "tensor(0.1158, device='cuda:0', grad_fn=<MeanBackward0>)\n",
      "tensor(0.1918, device='cuda:0', grad_fn=<MeanBackward0>)\n",
      "tensor(0.2643, device='cuda:0', grad_fn=<MeanBackward0>)\n",
      "tensor(0.2558, device='cuda:0', grad_fn=<MeanBackward0>)\n",
      "tensor(0.2565, device='cuda:0', grad_fn=<MeanBackward0>)\n",
      "tensor(0.1614, device='cuda:0', grad_fn=<MeanBackward0>)\n",
      "tensor(0.2924, device='cuda:0', grad_fn=<MeanBackward0>)\n",
      "tensor(0.1060, device='cuda:0', grad_fn=<MeanBackward0>)\n",
      "tensor(0.2123, device='cuda:0', grad_fn=<MeanBackward0>)\n",
      "70\n",
      "broke  70\n",
      "Predicted Positions: [[[ 1.2718223e+00  7.4131680e-01  4.5658568e-01]\n",
      "  [ 2.1807137e+00  1.5493476e+00  6.3496190e-01]\n",
      "  [ 2.3250625e+00  1.8551176e+00  8.2242942e-01]\n",
      "  [ 2.5376627e+00  1.8042601e+00  9.1385114e-01]\n",
      "  [ 1.3384403e+00  1.2873633e-01  4.4801641e-01]\n",
      "  [ 3.0160922e-01 -8.4583795e-01 -2.3709257e-01]]\n",
      "\n",
      " [[ 1.1478505e+00  7.7219671e-01  3.6195070e-01]\n",
      "  [ 2.0068400e+00  1.6254127e+00  5.1018298e-01]\n",
      "  [ 2.1608119e+00  1.9052091e+00  6.6354251e-01]\n",
      "  [ 2.3517089e+00  1.8342048e+00  7.8516805e-01]\n",
      "  [ 1.1019148e+00  9.2259139e-02  3.6552122e-01]\n",
      "  [ 1.6244639e-01 -9.1147506e-01 -3.1733856e-01]]\n",
      "\n",
      " [[ 1.1328679e+00  7.7865231e-01  3.4154287e-01]\n",
      "  [ 1.9921976e+00  1.6448611e+00  4.9438593e-01]\n",
      "  [ 2.1411183e+00  1.9208621e+00  6.5455067e-01]\n",
      "  [ 2.3258092e+00  1.8468068e+00  7.7612352e-01]\n",
      "  [ 1.0461012e+00  4.3999285e-02  3.5971779e-01]\n",
      "  [ 8.6382717e-02 -9.2477590e-01 -3.1724513e-01]]\n",
      "\n",
      " [[ 1.0292459e+00  8.0768406e-01  3.0361283e-01]\n",
      "  [ 1.8298362e+00  1.6997962e+00  4.3292382e-01]\n",
      "  [ 1.9915007e+00  1.9472241e+00  5.7217300e-01]\n",
      "  [ 2.1680300e+00  1.8369575e+00  7.2369665e-01]\n",
      "  [ 8.5055792e-01 -8.4361449e-02  3.3496261e-01]\n",
      "  [-3.7745450e-02 -1.0167377e+00 -3.3678576e-01]]\n",
      "\n",
      " [[ 1.0751466e+00  7.8413820e-01  3.5789168e-01]\n",
      "  [ 1.9129797e+00  1.6586467e+00  5.0206786e-01]\n",
      "  [ 2.0506356e+00  1.9112794e+00  6.6552985e-01]\n",
      "  [ 2.2400761e+00  1.8216915e+00  7.9687601e-01]\n",
      "  [ 9.6155065e-01 -4.5216344e-03  4.0976191e-01]\n",
      "  [ 2.2745211e-02 -9.5283824e-01 -2.5174591e-01]]\n",
      "\n",
      " [[ 9.7565788e-01  8.1109160e-01  3.0078441e-01]\n",
      "  [ 1.7609460e+00  1.7315797e+00  4.2736226e-01]\n",
      "  [ 1.9188026e+00  1.9675152e+00  5.6519282e-01]\n",
      "  [ 2.0958328e+00  1.8519679e+00  7.2283083e-01]\n",
      "  [ 7.7463144e-01 -5.9615683e-02  3.6193204e-01]\n",
      "  [-2.5134694e-02 -1.0465188e+00 -2.9673308e-01]]\n",
      "\n",
      " [[ 9.6551663e-01  8.2550079e-01  3.6384141e-01]\n",
      "  [ 1.7205151e+00  1.7490559e+00  4.8912755e-01]\n",
      "  [ 1.8739552e+00  1.9763813e+00  6.3926744e-01]\n",
      "  [ 2.0604167e+00  1.8367425e+00  7.9144359e-01]\n",
      "  [ 7.2200876e-01 -1.6892783e-01  4.1480470e-01]\n",
      "  [-9.3953177e-02 -1.0929959e+00 -2.3323654e-01]]\n",
      "\n",
      " [[ 9.5896500e-01  8.4615588e-01  3.1339091e-01]\n",
      "  [ 1.6770613e+00  1.7787830e+00  4.4757637e-01]\n",
      "  [ 1.8620627e+00  1.9950120e+00  6.1916041e-01]\n",
      "  [ 2.0489666e+00  1.7852963e+00  7.3767388e-01]\n",
      "  [ 6.9354445e-01 -5.9643346e-01  2.5174561e-01]\n",
      "  [-4.0797990e-02 -1.2716146e+00 -3.9753866e-01]]\n",
      "\n",
      " [[ 1.0059922e+00  7.9686320e-01  3.9900020e-01]\n",
      "  [ 1.8123704e+00  1.7979040e+00  5.7273340e-01]\n",
      "  [ 1.9864445e+00  2.0429847e+00  8.0942392e-01]\n",
      "  [ 2.1930144e+00  1.8648478e+00  8.7238449e-01]\n",
      "  [ 8.1657499e-01 -6.5863687e-01  3.4781623e-01]\n",
      "  [ 4.1623693e-02 -1.3182714e+00 -3.0793554e-01]]\n",
      "\n",
      " [[ 9.9166363e-01  8.2079488e-01  3.4462082e-01]\n",
      "  [ 1.7819711e+00  1.8012654e+00  5.0461233e-01]\n",
      "  [ 1.9708921e+00  2.0326114e+00  7.0993471e-01]\n",
      "  [ 2.1605301e+00  1.8491755e+00  7.8774619e-01]\n",
      "  [ 7.6903701e-01 -6.4183670e-01  2.6707652e-01]\n",
      "  [ 3.7824709e-02 -1.3151002e+00 -3.8579157e-01]]\n",
      "\n",
      " [[ 1.0238870e+00  8.4271646e-01  3.8691163e-01]\n",
      "  [ 1.7757515e+00  1.8246840e+00  5.6240785e-01]\n",
      "  [ 1.9734870e+00  2.0564702e+00  8.0604887e-01]\n",
      "  [ 2.1795368e+00  1.8039104e+00  8.6466479e-01]\n",
      "  [ 8.1603062e-01 -9.1585040e-01  2.8839153e-01]\n",
      "  [ 6.1175387e-02 -1.4183273e+00 -3.3846852e-01]]\n",
      "\n",
      " [[ 1.0638982e+00  7.7216214e-01  4.2710763e-01]\n",
      "  [ 1.9230119e+00  1.7558312e+00  6.1881220e-01]\n",
      "  [ 2.0910192e+00  2.0163443e+00  8.7332475e-01]\n",
      "  [ 2.2937782e+00  1.8752016e+00  9.3334472e-01]\n",
      "  [ 9.2766434e-01 -5.0953954e-01  4.0752482e-01]\n",
      "  [ 1.2496248e-01 -1.2263541e+00 -2.6138318e-01]]\n",
      "\n",
      " [[ 1.0091277e+00  8.0694634e-01  3.4396237e-01]\n",
      "  [ 1.8004004e+00  1.7443315e+00  4.9448195e-01]\n",
      "  [ 1.9676523e+00  1.9881210e+00  6.7131984e-01]\n",
      "  [ 2.1520314e+00  1.8525201e+00  7.8701568e-01]\n",
      "  [ 7.8802520e-01 -3.0101910e-01  3.4287193e-01]\n",
      "  [ 1.5922301e-03 -1.1651578e+00 -3.2485428e-01]]\n",
      "\n",
      " [[ 1.0301739e+00  8.0891424e-01  3.5552692e-01]\n",
      "  [ 1.8445042e+00  1.7457012e+00  5.0868738e-01]\n",
      "  [ 2.0148201e+00  1.9929340e+00  6.8636250e-01]\n",
      "  [ 2.1974216e+00  1.8646067e+00  8.0460817e-01]\n",
      "  [ 8.3274353e-01 -2.5968689e-01  3.6724931e-01]\n",
      "  [-2.8084818e-02 -1.1152914e+00 -3.0129960e-01]]\n",
      "\n",
      " [[ 1.0066245e+00  8.0216134e-01  3.6052287e-01]\n",
      "  [ 1.8330685e+00  1.7481017e+00  5.1554662e-01]\n",
      "  [ 1.9912491e+00  1.9958253e+00  7.0680773e-01]\n",
      "  [ 2.1832004e+00  1.8588094e+00  8.3017135e-01]\n",
      "  [ 8.0921692e-01 -3.0351657e-01  4.0494639e-01]\n",
      "  [-1.4025327e-02 -1.1200423e+00 -2.5198677e-01]]\n",
      "\n",
      " [[ 1.0776761e+00  8.0328327e-01  3.6645585e-01]\n",
      "  [ 1.9044842e+00  1.7168424e+00  5.2172530e-01]\n",
      "  [ 2.0693905e+00  1.9801025e+00  7.0304978e-01]\n",
      "  [ 2.2505696e+00  1.8681313e+00  8.2076240e-01]\n",
      "  [ 9.0254277e-01 -1.7874308e-01  3.8205108e-01]\n",
      "  [ 6.3335039e-03 -1.0579629e+00 -2.9290715e-01]]\n",
      "\n",
      " [[ 1.0087193e+00  7.9757345e-01  3.2617050e-01]\n",
      "  [ 1.8329142e+00  1.7108794e+00  4.6189269e-01]\n",
      "  [ 1.9746444e+00  1.9578984e+00  6.1580920e-01]\n",
      "  [ 2.1582019e+00  1.8548770e+00  7.6468468e-01]\n",
      "  [ 8.2486099e-01 -6.5583408e-02  4.0198863e-01]\n",
      "  [-6.8173617e-02 -9.9706846e-01 -2.5537252e-01]]\n",
      "\n",
      " [[ 9.5091373e-01  8.0896324e-01  2.2120474e-01]\n",
      "  [ 1.6952287e+00  1.6934674e+00  3.3636674e-01]\n",
      "  [ 1.8365233e+00  1.9289503e+00  4.6204302e-01]\n",
      "  [ 2.0236316e+00  1.8181856e+00  6.2417352e-01]\n",
      "  [ 7.1473736e-01 -1.0152304e-01  2.7222422e-01]\n",
      "  [-1.5956847e-01 -1.0379863e+00 -3.8122740e-01]]\n",
      "\n",
      " [[ 1.0566139e+00  7.8348237e-01  3.4563214e-01]\n",
      "  [ 1.9136072e+00  1.6979640e+00  4.9509296e-01]\n",
      "  [ 2.0417242e+00  1.9677778e+00  6.7508912e-01]\n",
      "  [ 2.2290211e+00  1.8795720e+00  8.0722207e-01]\n",
      "  [ 9.0009248e-01 -6.9669813e-02  4.2410216e-01]\n",
      "  [-5.9621576e-02 -9.7698361e-01 -2.3653245e-01]]\n",
      "\n",
      " [[ 1.0230197e+00  7.8124958e-01  2.4579556e-01]\n",
      "  [ 1.8145385e+00  1.6356071e+00  3.6999491e-01]\n",
      "  [ 1.9326620e+00  1.8910856e+00  4.9493414e-01]\n",
      "  [ 2.1118071e+00  1.8355029e+00  6.7003059e-01]\n",
      "  [ 8.6725628e-01  1.9184655e-01  3.7141073e-01]\n",
      "  [-9.8423868e-02 -8.7832409e-01 -2.7166802e-01]]]\n"
     ]
    }
   ],
   "source": [
    "# Set device\n",
    "device = torch.device(\"cuda\" if torch.cuda.is_available() else \"cpu\")\n",
    "\n",
    "# Load the saved model weights\n",
    "checkpoint = torch.load(weights_path, map_location=device)\n",
    "embed_dim = 128\n",
    "num_heads = 8\n",
    "num_layers = 6\n",
    "num_joints = 6\n",
    "dropout_rate = 0.1\n",
    "autoregressiveloops=20\n",
    "batch_size = 1\n",
    "dof=3\n",
    "input_dim = num_joints * dof\n",
    "\n",
    "# Initialize the models with the same configuration as during training\n",
    "embedding = SkeletalInputEmbedding(input_dim).to(device)\n",
    "#t_embedding = TargetEmbedding(num_joints=num_joints, dof=3, embed_dim=embed_dim,device=device).to(device)\n",
    "encoder = TransformerEncoder(embed_dim, num_heads, num_layers, dropout_rate).to(device)\n",
    "decoder = TransformerDecoder(embed_dim, num_heads, num_layers, num_joints, dropout_rate).to(device)\n",
    "\n",
    "# Load state dicts\n",
    "embedding.load_state_dict(checkpoint['embedding_state_dict'])\n",
    "#t_embedding.load_state_dict(checkpoint['t_embedding_state_dict'])\n",
    "encoder.load_state_dict(checkpoint['encoder_state_dict'])\n",
    "decoder.load_state_dict(checkpoint['decoder_state_dict'])\n",
    "\n",
    "embedding.eval()\n",
    "#t_embedding.eval()\n",
    "encoder.eval()\n",
    "decoder.eval()\n",
    "\n",
    "# X_pos, X_vel, X_acc, Y_pos, Y_vel, Y_acc = generate_sequences(norm_pos, norm_vel, norm_acc, input_length, predict_length)\n",
    "\n",
    "# Convert to PyTorch tensors\n",
    "X_pos_tensor = torch.tensor(combined_X_pos, dtype=torch.float32)\n",
    "X_vel_tensor = torch.tensor(combined_X_vel, dtype=torch.float32)\n",
    "X_acc_tensor = torch.tensor(combined_X_acc, dtype=torch.float32)\n",
    "\n",
    "\n",
    "Y_pos_tensor = torch.tensor(combined_Y_pos, dtype=torch.float32)\n",
    "Y_vel_tensor = torch.tensor(combined_Y_vel, dtype=torch.float32)\n",
    "Y_acc_tensor = torch.tensor(combined_Y_acc, dtype=torch.float32)\n",
    "\n",
    "# Create the DataLoader for inference data\n",
    "dataset = TensorDataset(X_pos_tensor, X_vel_tensor, X_acc_tensor, Y_pos_tensor, Y_vel_tensor)\n",
    "inference_loader = DataLoader(dataset, batch_size=batch_size, shuffle=False)\n",
    "\n",
    "# Prepare for autoregressive decoding\n",
    "#predicted_positions = []\n",
    "\n",
    "criterion = hf.MaskedMSELoss()\n",
    "batchnum=0\n",
    "# Perform inference across all batches\n",
    "for batch in inference_loader:\n",
    "    X_pos_batch, X_vel_batch, X_acc_batch, Y_pos_batch, Y_vel_tensor = [b.to(device) for b in batch]\n",
    "    \n",
    "    predicted_positions = []\n",
    "\n",
    "\n",
    "\n",
    "    # Encoder pass\n",
    "   \n",
    "    inputembeddings = embedding(X_pos_batch, X_vel_batch)\n",
    "    memory = encoder(inputembeddings, src_key_padding_mask=None)\n",
    "\n",
    "    \n",
    "    # Initialize the start token for decoding\n",
    "    current_pos = X_pos_batch[:, -1:, :, :]\n",
    "    current_vel= X_vel_batch[:, -1:, :, :]\n",
    "\n",
    "\n",
    "    for i in range(autoregressiveloops):\n",
    "        # Embed the current position\n",
    "        Y_expected= Y_pos_batch[:,i:i+1,:,:]\n",
    "    \n",
    "\n",
    "        # # #Running whole model\n",
    "        # if i > 0:\n",
    "        #     X_mask_batch_ar = torch.cat([X_mask_batch[:, 1:, :], current_mask], dim=1)\n",
    "        #     X_pos_batch_ar = torch.cat([X_pos_batch[:, 1:, :, :], current_pos], dim=1)\n",
    "    \n",
    "        #     src_key_padding_mask = ~X_mask_batch_ar.view(batch_size, input_length * num_joints)\n",
    "        #     input_embeddings = embedding(X_pos_batch_ar, X_mask_batch_ar)\n",
    "        #     memory = encoder(input_embeddings, src_key_padding_mask=src_key_padding_mask)\n",
    "        # ##\n",
    "        \n",
    "        current_embeddings = embedding(current_pos, current_vel)\n",
    "        \n",
    "        # Decoder pass\n",
    "        output = decoder(current_embeddings, memory, tgt_key_padding_mask=None, memory_key_padding_mask=None)\n",
    "    \n",
    "        # Update current_pos for the next prediction\n",
    "\n",
    "        old_pos= current_pos\n",
    "        current_pos = output[:, :, :, :].detach()  # only take the last timestep\n",
    "\n",
    "        #current_vel = (current_pos-old_pos)/0.1\n",
    "\n",
    "        # velocity_error=Y_vel_tensor[:, i, :, :]-current_vel\n",
    "        current_vel = Y_vel_tensor[:, i, :, :]\n",
    "        #\n",
    "        # print('velocity_error: ', velocity_error)\n",
    "    \n",
    "        predicted_positions.append(current_pos.squeeze().cpu().numpy())\n",
    "\n",
    "    \n",
    "        output = output.where(~torch.isnan(output), torch.zeros_like(output))\n",
    "        # masked_output = output * Xmask\n",
    "    \n",
    "        Y_expected = Y_expected.where(~torch.isnan(Y_expected), torch.zeros_like(Y_expected))\n",
    "        # masked_y_pos = Y_pos_batch * Ymask\n",
    "\n",
    "        #print(Y_expected)\n",
    "    \n",
    "        # Compute loss\n",
    "        \n",
    "        loss = criterion(output, Y_expected)\n",
    "\n",
    "        print(loss)\n",
    "    \n",
    "    batchnum=batchnum+1\n",
    "    print(batchnum)\n",
    "    #break\n",
    "\n",
    "    if batchnum == 70:\n",
    "        print('broke ', batchnum )\n",
    "        break\n",
    "# Convert the list of predicted positions to a more manageable form, e.g., a NumPy array\n",
    "predicted_positions = np.array(predicted_positions)\n",
    "\n",
    "print(\"Predicted Positions:\", predicted_positions)\n"
   ]
  },
  {
   "cell_type": "code",
   "execution_count": 5,
   "id": "fe4a82bd",
   "metadata": {},
   "outputs": [
    {
     "name": "stdout",
     "output_type": "stream",
     "text": [
      "Warning: all_data has unexpected shape: (240, 3)\n"
     ]
    },
    {
     "data": {
      "application/vnd.plotly.v1+json": {
       "config": {
        "plotlyServerURL": "https://plot.ly"
       },
       "data": [
        {
         "marker": {
          "color": "blue",
          "size": 6
         },
         "mode": "markers",
         "name": "Prediction",
         "type": "scatter3d",
         "x": [
          0
         ],
         "y": [
          0
         ],
         "z": [
          0
         ]
        },
        {
         "marker": {
          "color": "green",
          "size": 6
         },
         "mode": "markers",
         "name": "Ground Truth",
         "type": "scatter3d",
         "x": [
          0
         ],
         "y": [
          0
         ],
         "z": [
          0
         ]
        },
        {
         "line": {
          "color": "red",
          "width": 2
         },
         "mode": "lines",
         "name": "Prediction",
         "type": "scatter3d",
         "x": [
          0,
          0
         ],
         "y": [
          0,
          0
         ],
         "z": [
          0,
          0
         ]
        },
        {
         "line": {
          "color": "lime",
          "width": 2
         },
         "mode": "lines",
         "name": "Ground Truth",
         "type": "scatter3d",
         "x": [
          0,
          0
         ],
         "y": [
          0,
          0
         ],
         "z": [
          0,
          0
         ]
        },
        {
         "line": {
          "color": "red",
          "width": 2
         },
         "mode": "lines",
         "name": "Prediction",
         "type": "scatter3d",
         "x": [
          0,
          0
         ],
         "y": [
          0,
          0
         ],
         "z": [
          0,
          0
         ]
        },
        {
         "line": {
          "color": "lime",
          "width": 2
         },
         "mode": "lines",
         "name": "Ground Truth",
         "type": "scatter3d",
         "x": [
          0,
          0
         ],
         "y": [
          0,
          0
         ],
         "z": [
          0,
          0
         ]
        },
        {
         "line": {
          "color": "red",
          "width": 2
         },
         "mode": "lines",
         "name": "Prediction",
         "type": "scatter3d",
         "x": [
          0,
          0
         ],
         "y": [
          0,
          0
         ],
         "z": [
          0,
          0
         ]
        },
        {
         "line": {
          "color": "lime",
          "width": 2
         },
         "mode": "lines",
         "name": "Ground Truth",
         "type": "scatter3d",
         "x": [
          0,
          0
         ],
         "y": [
          0,
          0
         ],
         "z": [
          0,
          0
         ]
        },
        {
         "line": {
          "color": "red",
          "width": 2
         },
         "mode": "lines",
         "name": "Prediction",
         "type": "scatter3d",
         "x": [
          0,
          0
         ],
         "y": [
          0,
          0
         ],
         "z": [
          0,
          0
         ]
        },
        {
         "line": {
          "color": "lime",
          "width": 2
         },
         "mode": "lines",
         "name": "Ground Truth",
         "type": "scatter3d",
         "x": [
          0,
          0
         ],
         "y": [
          0,
          0
         ],
         "z": [
          0,
          0
         ]
        },
        {
         "line": {
          "color": "red",
          "width": 2
         },
         "mode": "lines",
         "name": "Prediction",
         "type": "scatter3d",
         "x": [
          0,
          0
         ],
         "y": [
          0,
          0
         ],
         "z": [
          0,
          0
         ]
        },
        {
         "line": {
          "color": "lime",
          "width": 2
         },
         "mode": "lines",
         "name": "Ground Truth",
         "type": "scatter3d",
         "x": [
          0,
          0
         ],
         "y": [
          0,
          0
         ],
         "z": [
          0,
          0
         ]
        }
       ],
       "frames": [
        {
         "data": [
          {
           "marker": {
            "color": "blue",
            "size": 6
           },
           "mode": "markers",
           "type": "scatter3d",
           "x": [
            0.5164508,
            0.55601865,
            0.5135074,
            0.19512571,
            0.06585809,
            -0.010213886
           ],
           "y": [
            0.47829285,
            0.2464136,
            0.036208946,
            -0.05398719,
            0.13537794,
            0.052550156
           ],
           "z": [
            1.1401197,
            1.1988856,
            1.2276583,
            1.2863781,
            1.145301,
            0.8897647
           ]
          },
          {
           "marker": {
            "color": "green",
            "size": 6
           },
           "mode": "markers",
           "type": "scatter3d",
           "x": [
            0.5683126028929351,
            0.6050989505205748,
            0.547439801350653,
            0.2172842797194121,
            0.10453538860422353,
            0.01922790969949939
           ],
           "y": [
            0.4789953476291031,
            0.23435785551628774,
            0.028249002295348102,
            -0.04795529763140971,
            0.13178116758427327,
            0.044481880265089924
           ],
           "z": [
            1.2111466828628843,
            1.306629315380699,
            1.3465616334124868,
            1.3974532525881593,
            1.2305683795257871,
            0.9515444937988584
           ]
          },
          {
           "line": {
            "color": "red",
            "width": 2
           },
           "mode": "lines",
           "type": "scatter3d",
           "x": [
            0.516450822353363,
            0.5560186505317688
           ],
           "y": [
            0.478292852640152,
            0.24641360342502594
           ],
           "z": [
            1.1401196718215942,
            1.1988855600357056
           ]
          },
          {
           "line": {
            "color": "red",
            "width": 2
           },
           "mode": "lines",
           "type": "scatter3d",
           "x": [
            0.5560186505317688,
            0.5135074257850647
           ],
           "y": [
            0.24641360342502594,
            0.036208946257829666
           ],
           "z": [
            1.1988855600357056,
            1.2276582717895508
           ]
          },
          {
           "line": {
            "color": "red",
            "width": 2
           },
           "mode": "lines",
           "type": "scatter3d",
           "x": [
            0.19512571394443512,
            0.06585808843374252
           ],
           "y": [
            -0.05398719012737274,
            0.1353779435157776
           ],
           "z": [
            1.2863781452178955,
            1.1453009843826294
           ]
          },
          {
           "line": {
            "color": "red",
            "width": 2
           },
           "mode": "lines",
           "type": "scatter3d",
           "x": [
            0.06585808843374252,
            -0.010213886387646198
           ],
           "y": [
            0.1353779435157776,
            0.05255015566945076
           ],
           "z": [
            1.1453009843826294,
            0.8897647261619568
           ]
          },
          {
           "line": {
            "color": "red",
            "width": 2
           },
           "mode": "lines",
           "type": "scatter3d",
           "x": [
            0.5135074257850647,
            0.19512571394443512
           ],
           "y": [
            0.036208946257829666,
            -0.05398719012737274
           ],
           "z": [
            1.2276582717895508,
            1.2863781452178955
           ]
          },
          {
           "line": {
            "color": "lime",
            "width": 2
           },
           "mode": "lines",
           "type": "scatter3d",
           "x": [
            0.5683126028929351,
            0.6050989505205748
           ],
           "y": [
            0.4789953476291031,
            0.23435785551628774
           ],
           "z": [
            1.2111466828628843,
            1.306629315380699
           ]
          },
          {
           "line": {
            "color": "lime",
            "width": 2
           },
           "mode": "lines",
           "type": "scatter3d",
           "x": [
            0.6050989505205748,
            0.547439801350653
           ],
           "y": [
            0.23435785551628774,
            0.028249002295348102
           ],
           "z": [
            1.306629315380699,
            1.3465616334124868
           ]
          },
          {
           "line": {
            "color": "lime",
            "width": 2
           },
           "mode": "lines",
           "type": "scatter3d",
           "x": [
            0.2172842797194121,
            0.10453538860422353
           ],
           "y": [
            -0.04795529763140971,
            0.13178116758427327
           ],
           "z": [
            1.3974532525881593,
            1.2305683795257871
           ]
          },
          {
           "line": {
            "color": "lime",
            "width": 2
           },
           "mode": "lines",
           "type": "scatter3d",
           "x": [
            0.10453538860422353,
            0.01922790969949939
           ],
           "y": [
            0.13178116758427327,
            0.044481880265089924
           ],
           "z": [
            1.2305683795257871,
            0.9515444937988584
           ]
          },
          {
           "line": {
            "color": "lime",
            "width": 2
           },
           "mode": "lines",
           "type": "scatter3d",
           "x": [
            0.547439801350653,
            0.2172842797194121
           ],
           "y": [
            0.028249002295348102,
            -0.04795529763140971
           ],
           "z": [
            1.3465616334124868,
            1.3974532525881593
           ]
          }
         ],
         "name": "0"
        },
        {
         "data": [
          {
           "marker": {
            "color": "blue",
            "size": 6
           },
           "mode": "markers",
           "type": "scatter3d",
           "x": [
            0.49513423,
            0.5350762,
            0.4948412,
            0.17624912,
            0.03807404,
            -0.03999965
           ],
           "y": [
            0.48791352,
            0.25297877,
            0.039524935,
            -0.05239129,
            0.1333476,
            0.03720963
           ],
           "z": [
            1.112299,
            1.1692133,
            1.1989164,
            1.2643627,
            1.1317682,
            0.874931
           ]
          },
          {
           "marker": {
            "color": "green",
            "size": 6
           },
           "mode": "markers",
           "type": "scatter3d",
           "x": [
            0.5490864073951792,
            0.5865454232414317,
            0.5361726587732386,
            0.20381875392990823,
            0.09116286096173044,
            0.006032124729926536
           ],
           "y": [
            0.47524502567032906,
            0.24830154162848922,
            0.03667167407477828,
            -0.04504444616829423,
            0.1402311084886882,
            0.04088768941367599
           ],
           "z": [
            1.1473493583574943,
            1.2495867915526084,
            1.2939435325637512,
            1.3376983709707908,
            1.1685918428078346,
            0.8844957955256156
           ]
          },
          {
           "line": {
            "color": "red",
            "width": 2
           },
           "mode": "lines",
           "type": "scatter3d",
           "x": [
            0.49513423442840576,
            0.5350762009620667
           ],
           "y": [
            0.4879135191440582,
            0.25297877192497253
           ],
           "z": [
            1.1122989654541016,
            1.1692132949829102
           ]
          },
          {
           "line": {
            "color": "red",
            "width": 2
           },
           "mode": "lines",
           "type": "scatter3d",
           "x": [
            0.5350762009620667,
            0.49484118819236755
           ],
           "y": [
            0.25297877192497253,
            0.03952493518590927
           ],
           "z": [
            1.1692132949829102,
            1.1989164352416992
           ]
          },
          {
           "line": {
            "color": "red",
            "width": 2
           },
           "mode": "lines",
           "type": "scatter3d",
           "x": [
            0.17624911665916443,
            0.03807403892278671
           ],
           "y": [
            -0.05239129066467285,
            0.13334760069847107
           ],
           "z": [
            1.2643626928329468,
            1.1317682266235352
           ]
          },
          {
           "line": {
            "color": "red",
            "width": 2
           },
           "mode": "lines",
           "type": "scatter3d",
           "x": [
            0.03807403892278671,
            -0.03999964892864227
           ],
           "y": [
            0.13334760069847107,
            0.03720963001251221
           ],
           "z": [
            1.1317682266235352,
            0.8749309778213501
           ]
          },
          {
           "line": {
            "color": "red",
            "width": 2
           },
           "mode": "lines",
           "type": "scatter3d",
           "x": [
            0.49484118819236755,
            0.17624911665916443
           ],
           "y": [
            0.03952493518590927,
            -0.05239129066467285
           ],
           "z": [
            1.1989164352416992,
            1.2643626928329468
           ]
          },
          {
           "line": {
            "color": "lime",
            "width": 2
           },
           "mode": "lines",
           "type": "scatter3d",
           "x": [
            0.5490864073951792,
            0.5865454232414317
           ],
           "y": [
            0.47524502567032906,
            0.24830154162848922
           ],
           "z": [
            1.1473493583574943,
            1.2495867915526084
           ]
          },
          {
           "line": {
            "color": "lime",
            "width": 2
           },
           "mode": "lines",
           "type": "scatter3d",
           "x": [
            0.5865454232414317,
            0.5361726587732386
           ],
           "y": [
            0.24830154162848922,
            0.03667167407477828
           ],
           "z": [
            1.2495867915526084,
            1.2939435325637512
           ]
          },
          {
           "line": {
            "color": "lime",
            "width": 2
           },
           "mode": "lines",
           "type": "scatter3d",
           "x": [
            0.20381875392990823,
            0.09116286096173044
           ],
           "y": [
            -0.04504444616829423,
            0.1402311084886882
           ],
           "z": [
            1.3376983709707908,
            1.1685918428078346
           ]
          },
          {
           "line": {
            "color": "lime",
            "width": 2
           },
           "mode": "lines",
           "type": "scatter3d",
           "x": [
            0.09116286096173044,
            0.006032124729926536
           ],
           "y": [
            0.1402311084886882,
            0.04088768941367599
           ],
           "z": [
            1.1685918428078346,
            0.8844957955256156
           ]
          },
          {
           "line": {
            "color": "lime",
            "width": 2
           },
           "mode": "lines",
           "type": "scatter3d",
           "x": [
            0.5361726587732386,
            0.20381875392990823
           ],
           "y": [
            0.03667167407477828,
            -0.04504444616829423
           ],
           "z": [
            1.2939435325637512,
            1.3376983709707908
           ]
          }
         ],
         "name": "1"
        },
        {
         "data": [
          {
           "marker": {
            "color": "blue",
            "size": 6
           },
           "mode": "markers",
           "type": "scatter3d",
           "x": [
            0.492558,
            0.5333126,
            0.49260312,
            0.17361999,
            0.031517763,
            -0.05627996
           ],
           "y": [
            0.48992476,
            0.25465733,
            0.040561143,
            -0.05171967,
            0.13066141,
            0.034101
           ],
           "z": [
            1.1062995,
            1.1654568,
            1.1972898,
            1.2628154,
            1.1308162,
            0.87494826
           ]
          },
          {
           "marker": {
            "color": "green",
            "size": 6
           },
           "mode": "markers",
           "type": "scatter3d",
           "x": [
            0.5687800260653202,
            0.598439327107877,
            0.5438871445526783,
            0.2149437280764286,
            0.10524407647749824,
            0.01687051974436682
           ],
           "y": [
            0.4834970249324218,
            0.2364239864512459,
            0.030035498039342523,
            -0.0476692296103462,
            0.13514420618257678,
            0.039094927208043695
           ],
           "z": [
            1.2362950899140244,
            1.3287693418995743,
            1.3580379344956284,
            1.4018466704027062,
            1.2346090980307465,
            0.9524003126160507
           ]
          },
          {
           "line": {
            "color": "red",
            "width": 2
           },
           "mode": "lines",
           "type": "scatter3d",
           "x": [
            0.49255800247192383,
            0.5333126187324524
           ],
           "y": [
            0.48992475867271423,
            0.2546573281288147
           ],
           "z": [
            1.1062995195388794,
            1.165456771850586
           ]
          },
          {
           "line": {
            "color": "red",
            "width": 2
           },
           "mode": "lines",
           "type": "scatter3d",
           "x": [
            0.5333126187324524,
            0.4926031231880188
           ],
           "y": [
            0.2546573281288147,
            0.040561143308877945
           ],
           "z": [
            1.165456771850586,
            1.1972898244857788
           ]
          },
          {
           "line": {
            "color": "red",
            "width": 2
           },
           "mode": "lines",
           "type": "scatter3d",
           "x": [
            0.17361998558044434,
            0.03151776269078255
           ],
           "y": [
            -0.05171966925263405,
            0.13066141307353973
           ],
           "z": [
            1.2628153562545776,
            1.1308162212371826
           ]
          },
          {
           "line": {
            "color": "red",
            "width": 2
           },
           "mode": "lines",
           "type": "scatter3d",
           "x": [
            0.03151776269078255,
            -0.05627996101975441
           ],
           "y": [
            0.13066141307353973,
            0.03410099819302559
           ],
           "z": [
            1.1308162212371826,
            0.874948263168335
           ]
          },
          {
           "line": {
            "color": "red",
            "width": 2
           },
           "mode": "lines",
           "type": "scatter3d",
           "x": [
            0.4926031231880188,
            0.17361998558044434
           ],
           "y": [
            0.040561143308877945,
            -0.05171966925263405
           ],
           "z": [
            1.1972898244857788,
            1.2628153562545776
           ]
          },
          {
           "line": {
            "color": "lime",
            "width": 2
           },
           "mode": "lines",
           "type": "scatter3d",
           "x": [
            0.5687800260653202,
            0.598439327107877
           ],
           "y": [
            0.4834970249324218,
            0.2364239864512459
           ],
           "z": [
            1.2362950899140244,
            1.3287693418995743
           ]
          },
          {
           "line": {
            "color": "lime",
            "width": 2
           },
           "mode": "lines",
           "type": "scatter3d",
           "x": [
            0.598439327107877,
            0.5438871445526783
           ],
           "y": [
            0.2364239864512459,
            0.030035498039342523
           ],
           "z": [
            1.3287693418995743,
            1.3580379344956284
           ]
          },
          {
           "line": {
            "color": "lime",
            "width": 2
           },
           "mode": "lines",
           "type": "scatter3d",
           "x": [
            0.2149437280764286,
            0.10524407647749824
           ],
           "y": [
            -0.0476692296103462,
            0.13514420618257678
           ],
           "z": [
            1.4018466704027062,
            1.2346090980307465
           ]
          },
          {
           "line": {
            "color": "lime",
            "width": 2
           },
           "mode": "lines",
           "type": "scatter3d",
           "x": [
            0.10524407647749824,
            0.01687051974436682
           ],
           "y": [
            0.13514420618257678,
            0.039094927208043695
           ],
           "z": [
            1.2346090980307465,
            0.9524003126160507
           ]
          },
          {
           "line": {
            "color": "lime",
            "width": 2
           },
           "mode": "lines",
           "type": "scatter3d",
           "x": [
            0.5438871445526783,
            0.2149437280764286
           ],
           "y": [
            0.030035498039342523,
            -0.0476692296103462
           ],
           "z": [
            1.3580379344956284,
            1.4018466704027062
           ]
          }
         ],
         "name": "2"
        },
        {
         "data": [
          {
           "marker": {
            "color": "blue",
            "size": 6
           },
           "mode": "markers",
           "type": "scatter3d",
           "x": [
            0.47474048,
            0.5137568,
            0.47559988,
            0.15760347,
            0.008547791,
            -0.082847774
           ],
           "y": [
            0.49896964,
            0.25939876,
            0.042306278,
            -0.05224459,
            0.12351675,
            0.012607939
           ],
           "z": [
            1.0951489,
            1.1508412,
            1.1823882,
            1.253846,
            1.1267552,
            0.8713361
           ]
          },
          {
           "marker": {
            "color": "green",
            "size": 6
           },
           "mode": "markers",
           "type": "scatter3d",
           "x": [
            0.5424532048155852,
            0.5775374226023742,
            0.5288275681187697,
            0.20499001962443075,
            0.08833317977686607,
            0.019591589992243863
           ],
           "y": [
            0.47371668617518853,
            0.24242353967668723,
            0.0314299219036312,
            -0.04573445983884622,
            0.14386264018060874,
            0.031302338161489474
           ],
           "z": [
            1.1592081809080093,
            1.2456353628671615,
            1.2756919214165656,
            1.3211534643209426,
            1.166240038875386,
            0.896118345264241
           ]
          },
          {
           "line": {
            "color": "red",
            "width": 2
           },
           "mode": "lines",
           "type": "scatter3d",
           "x": [
            0.47474047541618347,
            0.5137568116188049
           ],
           "y": [
            0.4989696443080902,
            0.25939875841140747
           ],
           "z": [
            1.0951489210128784,
            1.150841236114502
           ]
          },
          {
           "line": {
            "color": "red",
            "width": 2
           },
           "mode": "lines",
           "type": "scatter3d",
           "x": [
            0.5137568116188049,
            0.47559988498687744
           ],
           "y": [
            0.25939875841140747,
            0.04230627790093422
           ],
           "z": [
            1.150841236114502,
            1.182388186454773
           ]
          },
          {
           "line": {
            "color": "red",
            "width": 2
           },
           "mode": "lines",
           "type": "scatter3d",
           "x": [
            0.15760347247123718,
            0.00854779127985239
           ],
           "y": [
            -0.05224458873271942,
            0.1235167533159256
           ],
           "z": [
            1.2538460493087769,
            1.1267552375793457
           ]
          },
          {
           "line": {
            "color": "red",
            "width": 2
           },
           "mode": "lines",
           "type": "scatter3d",
           "x": [
            0.00854779127985239,
            -0.08284777402877808
           ],
           "y": [
            0.1235167533159256,
            0.0126079386100173
           ],
           "z": [
            1.1267552375793457,
            0.8713361024856567
           ]
          },
          {
           "line": {
            "color": "red",
            "width": 2
           },
           "mode": "lines",
           "type": "scatter3d",
           "x": [
            0.47559988498687744,
            0.15760347247123718
           ],
           "y": [
            0.04230627790093422,
            -0.05224458873271942
           ],
           "z": [
            1.182388186454773,
            1.2538460493087769
           ]
          },
          {
           "line": {
            "color": "lime",
            "width": 2
           },
           "mode": "lines",
           "type": "scatter3d",
           "x": [
            0.5424532048155852,
            0.5775374226023742
           ],
           "y": [
            0.47371668617518853,
            0.24242353967668723
           ],
           "z": [
            1.1592081809080093,
            1.2456353628671615
           ]
          },
          {
           "line": {
            "color": "lime",
            "width": 2
           },
           "mode": "lines",
           "type": "scatter3d",
           "x": [
            0.5775374226023742,
            0.5288275681187697
           ],
           "y": [
            0.24242353967668723,
            0.0314299219036312
           ],
           "z": [
            1.2456353628671615,
            1.2756919214165656
           ]
          },
          {
           "line": {
            "color": "lime",
            "width": 2
           },
           "mode": "lines",
           "type": "scatter3d",
           "x": [
            0.20499001962443075,
            0.08833317977686607
           ],
           "y": [
            -0.04573445983884622,
            0.14386264018060874
           ],
           "z": [
            1.3211534643209426,
            1.166240038875386
           ]
          },
          {
           "line": {
            "color": "lime",
            "width": 2
           },
           "mode": "lines",
           "type": "scatter3d",
           "x": [
            0.08833317977686607,
            0.019591589992243863
           ],
           "y": [
            0.14386264018060874,
            0.031302338161489474
           ],
           "z": [
            1.166240038875386,
            0.896118345264241
           ]
          },
          {
           "line": {
            "color": "lime",
            "width": 2
           },
           "mode": "lines",
           "type": "scatter3d",
           "x": [
            0.5288275681187697,
            0.20499001962443075
           ],
           "y": [
            0.0314299219036312,
            -0.04573445983884622
           ],
           "z": [
            1.2756919214165656,
            1.3211534643209426
           ]
          }
         ],
         "name": "3"
        },
        {
         "data": [
          {
           "marker": {
            "color": "blue",
            "size": 6
           },
           "mode": "markers",
           "type": "scatter3d",
           "x": [
            0.48263296,
            0.5237711,
            0.48232025,
            0.16491702,
            0.021585824,
            -0.06990064
           ],
           "y": [
            0.4916339,
            0.2558472,
            0.039926786,
            -0.053058185,
            0.1279607,
            0.027542343
           ],
           "z": [
            1.1111057,
            1.1672835,
            1.199276,
            1.2663658,
            1.1390256,
            0.887056
           ]
          },
          {
           "marker": {
            "color": "green",
            "size": 6
           },
           "mode": "markers",
           "type": "scatter3d",
           "x": [
            0.5456066944934235,
            0.5812611201144562,
            0.5274541148282395,
            0.20558718529714198,
            0.08201054421437833,
            0.016031585011611893
           ],
           "y": [
            0.4845891475495617,
            0.24461548792242221,
            0.03290314244150333,
            -0.048951409589060024,
            0.13318837450861148,
            0.006038345564595982
           ],
           "z": [
            1.1996162222801776,
            1.2836200134932132,
            1.3129011528669925,
            1.3613143773852916,
            1.2157452540575595,
            0.9571496831356616
           ]
          },
          {
           "line": {
            "color": "red",
            "width": 2
           },
           "mode": "lines",
           "type": "scatter3d",
           "x": [
            0.48263296484947205,
            0.5237711071968079
           ],
           "y": [
            0.49163389205932617,
            0.25584718585014343
           ],
           "z": [
            1.1111056804656982,
            1.167283535003662
           ]
          },
          {
           "line": {
            "color": "red",
            "width": 2
           },
           "mode": "lines",
           "type": "scatter3d",
           "x": [
            0.5237711071968079,
            0.48232024908065796
           ],
           "y": [
            0.25584718585014343,
            0.039926785975694656
           ],
           "z": [
            1.167283535003662,
            1.1992759704589844
           ]
          },
          {
           "line": {
            "color": "red",
            "width": 2
           },
           "mode": "lines",
           "type": "scatter3d",
           "x": [
            0.1649170219898224,
            0.021585823968052864
           ],
           "y": [
            -0.053058184683322906,
            0.1279606968164444
           ],
           "z": [
            1.2663657665252686,
            1.1390255689620972
           ]
          },
          {
           "line": {
            "color": "red",
            "width": 2
           },
           "mode": "lines",
           "type": "scatter3d",
           "x": [
            0.021585823968052864,
            -0.06990063935518265
           ],
           "y": [
            0.1279606968164444,
            0.027542343363165855
           ],
           "z": [
            1.1390255689620972,
            0.8870559930801392
           ]
          },
          {
           "line": {
            "color": "red",
            "width": 2
           },
           "mode": "lines",
           "type": "scatter3d",
           "x": [
            0.48232024908065796,
            0.1649170219898224
           ],
           "y": [
            0.039926785975694656,
            -0.053058184683322906
           ],
           "z": [
            1.1992759704589844,
            1.2663657665252686
           ]
          },
          {
           "line": {
            "color": "lime",
            "width": 2
           },
           "mode": "lines",
           "type": "scatter3d",
           "x": [
            0.5456066944934235,
            0.5812611201144562
           ],
           "y": [
            0.4845891475495617,
            0.24461548792242221
           ],
           "z": [
            1.1996162222801776,
            1.2836200134932132
           ]
          },
          {
           "line": {
            "color": "lime",
            "width": 2
           },
           "mode": "lines",
           "type": "scatter3d",
           "x": [
            0.5812611201144562,
            0.5274541148282395
           ],
           "y": [
            0.24461548792242221,
            0.03290314244150333
           ],
           "z": [
            1.2836200134932132,
            1.3129011528669925
           ]
          },
          {
           "line": {
            "color": "lime",
            "width": 2
           },
           "mode": "lines",
           "type": "scatter3d",
           "x": [
            0.20558718529714198,
            0.08201054421437833
           ],
           "y": [
            -0.048951409589060024,
            0.13318837450861148
           ],
           "z": [
            1.3613143773852916,
            1.2157452540575595
           ]
          },
          {
           "line": {
            "color": "lime",
            "width": 2
           },
           "mode": "lines",
           "type": "scatter3d",
           "x": [
            0.08201054421437833,
            0.016031585011611893
           ],
           "y": [
            0.13318837450861148,
            0.006038345564595982
           ],
           "z": [
            1.2157452540575595,
            0.9571496831356616
           ]
          },
          {
           "line": {
            "color": "lime",
            "width": 2
           },
           "mode": "lines",
           "type": "scatter3d",
           "x": [
            0.5274541148282395,
            0.20558718529714198
           ],
           "y": [
            0.03290314244150333,
            -0.048951409589060024
           ],
           "z": [
            1.3129011528669925,
            1.3613143773852916
           ]
          }
         ],
         "name": "4"
        },
        {
         "data": [
          {
           "marker": {
            "color": "blue",
            "size": 6
           },
           "mode": "markers",
           "type": "scatter3d",
           "x": [
            0.46552616,
            0.50545925,
            0.46733814,
            0.15027457,
            -0.00037109878,
            -0.08014863
           ],
           "y": [
            0.50003123,
            0.262142,
            0.04364952,
            -0.051444605,
            0.12489412,
            0.0056475815
           ],
           "z": [
            1.0943174,
            1.1495187,
            1.1811255,
            1.2536979,
            1.1311795,
            0.87874
           ]
          },
          {
           "marker": {
            "color": "green",
            "size": 6
           },
           "mode": "markers",
           "type": "scatter3d",
           "x": [
            0.5237184638587207,
            0.5553529138175219,
            0.5147558326331347,
            0.1942312593070239,
            0.0732678348628253,
            0.016905503949281586
           ],
           "y": [
            0.47492775069941706,
            0.24191042716075606,
            0.04010914201308913,
            -0.05105347996185594,
            0.11218742961456007,
            -0.022892550281985335
           ],
           "z": [
            1.0815328767110959,
            1.1799109091570035,
            1.227508079033102,
            1.285046431939806,
            1.130716006975378,
            0.8744859804918423
           ]
          },
          {
           "line": {
            "color": "red",
            "width": 2
           },
           "mode": "lines",
           "type": "scatter3d",
           "x": [
            0.46552616357803345,
            0.5054592490196228
           ],
           "y": [
            0.5000312328338623,
            0.26214200258255005
           ],
           "z": [
            1.0943174362182617,
            1.1495187282562256
           ]
          },
          {
           "line": {
            "color": "red",
            "width": 2
           },
           "mode": "lines",
           "type": "scatter3d",
           "x": [
            0.5054592490196228,
            0.4673381447792053
           ],
           "y": [
            0.26214200258255005,
            0.043649520725011826
           ],
           "z": [
            1.1495187282562256,
            1.181125521659851
           ]
          },
          {
           "line": {
            "color": "red",
            "width": 2
           },
           "mode": "lines",
           "type": "scatter3d",
           "x": [
            0.15027457475662231,
            -0.00037109878030605614
           ],
           "y": [
            -0.051444604992866516,
            0.12489411979913712
           ],
           "z": [
            1.2536978721618652,
            1.1311794519424438
           ]
          },
          {
           "line": {
            "color": "red",
            "width": 2
           },
           "mode": "lines",
           "type": "scatter3d",
           "x": [
            -0.00037109878030605614,
            -0.08014862984418869
           ],
           "y": [
            0.12489411979913712,
            0.005647581536322832
           ],
           "z": [
            1.1311794519424438,
            0.8787400126457214
           ]
          },
          {
           "line": {
            "color": "red",
            "width": 2
           },
           "mode": "lines",
           "type": "scatter3d",
           "x": [
            0.4673381447792053,
            0.15027457475662231
           ],
           "y": [
            0.043649520725011826,
            -0.051444604992866516
           ],
           "z": [
            1.181125521659851,
            1.2536978721618652
           ]
          },
          {
           "line": {
            "color": "lime",
            "width": 2
           },
           "mode": "lines",
           "type": "scatter3d",
           "x": [
            0.5237184638587207,
            0.5553529138175219
           ],
           "y": [
            0.47492775069941706,
            0.24191042716075606
           ],
           "z": [
            1.0815328767110959,
            1.1799109091570035
           ]
          },
          {
           "line": {
            "color": "lime",
            "width": 2
           },
           "mode": "lines",
           "type": "scatter3d",
           "x": [
            0.5553529138175219,
            0.5147558326331347
           ],
           "y": [
            0.24191042716075606,
            0.04010914201308913
           ],
           "z": [
            1.1799109091570035,
            1.227508079033102
           ]
          },
          {
           "line": {
            "color": "lime",
            "width": 2
           },
           "mode": "lines",
           "type": "scatter3d",
           "x": [
            0.1942312593070239,
            0.0732678348628253
           ],
           "y": [
            -0.05105347996185594,
            0.11218742961456007
           ],
           "z": [
            1.285046431939806,
            1.130716006975378
           ]
          },
          {
           "line": {
            "color": "lime",
            "width": 2
           },
           "mode": "lines",
           "type": "scatter3d",
           "x": [
            0.0732678348628253,
            0.016905503949281586
           ],
           "y": [
            0.11218742961456007,
            -0.022892550281985335
           ],
           "z": [
            1.130716006975378,
            0.8744859804918423
           ]
          },
          {
           "line": {
            "color": "lime",
            "width": 2
           },
           "mode": "lines",
           "type": "scatter3d",
           "x": [
            0.5147558326331347,
            0.1942312593070239
           ],
           "y": [
            0.04010914201308913,
            -0.05105347996185594
           ],
           "z": [
            1.227508079033102,
            1.285046431939806
           ]
          }
         ],
         "name": "5"
        },
        {
         "data": [
          {
           "marker": {
            "color": "blue",
            "size": 6
           },
           "mode": "markers",
           "type": "scatter3d",
           "x": [
            0.4637824,
            0.5005895,
            0.46224147,
            0.1466794,
            -0.0065525505,
            -0.09487821
           ],
           "y": [
            0.5045204,
            0.26365036,
            0.044236444,
            -0.052256044,
            0.11880972,
            -0.0052149133
           ],
           "z": [
            1.1128548,
            1.1642064,
            1.1945252,
            1.2654363,
            1.1398529,
            0.89047754
           ]
          },
          {
           "marker": {
            "color": "green",
            "size": 6
           },
           "mode": "markers",
           "type": "scatter3d",
           "x": [
            0.5175306176561862,
            0.5582085674423725,
            0.5136387621778995,
            0.2029534702915698,
            0.08973905199952421,
            0.021959659995511138
           ],
           "y": [
            0.4633211504142882,
            0.25903798001223816,
            0.044417181186020505,
            -0.0516453598219751,
            0.09901616828852905,
            -0.04251208049839722
           ],
           "z": [
            1.2204387322067936,
            1.268792746961089,
            1.298678605258437,
            1.337589690834256,
            1.171169562637778,
            0.9044432178139408
           ]
          },
          {
           "line": {
            "color": "red",
            "width": 2
           },
           "mode": "lines",
           "type": "scatter3d",
           "x": [
            0.463782399892807,
            0.5005894899368286
           ],
           "y": [
            0.5045204162597656,
            0.2636503577232361
           ],
           "z": [
            1.1128548383712769,
            1.1642063856124878
           ]
          },
          {
           "line": {
            "color": "red",
            "width": 2
           },
           "mode": "lines",
           "type": "scatter3d",
           "x": [
            0.5005894899368286,
            0.4622414708137512
           ],
           "y": [
            0.2636503577232361,
            0.0442364439368248
           ],
           "z": [
            1.1642063856124878,
            1.1945252418518066
           ]
          },
          {
           "line": {
            "color": "red",
            "width": 2
           },
           "mode": "lines",
           "type": "scatter3d",
           "x": [
            0.14667940139770508,
            -0.006552550476044416
           ],
           "y": [
            -0.05225604400038719,
            0.11880972236394882
           ],
           "z": [
            1.2654362916946411,
            1.1398528814315796
           ]
          },
          {
           "line": {
            "color": "red",
            "width": 2
           },
           "mode": "lines",
           "type": "scatter3d",
           "x": [
            -0.006552550476044416,
            -0.09487821161746979
           ],
           "y": [
            0.11880972236394882,
            -0.005214913282543421
           ],
           "z": [
            1.1398528814315796,
            0.8904775381088257
           ]
          },
          {
           "line": {
            "color": "red",
            "width": 2
           },
           "mode": "lines",
           "type": "scatter3d",
           "x": [
            0.4622414708137512,
            0.14667940139770508
           ],
           "y": [
            0.0442364439368248,
            -0.05225604400038719
           ],
           "z": [
            1.1945252418518066,
            1.2654362916946411
           ]
          },
          {
           "line": {
            "color": "lime",
            "width": 2
           },
           "mode": "lines",
           "type": "scatter3d",
           "x": [
            0.5175306176561862,
            0.5582085674423725
           ],
           "y": [
            0.4633211504142882,
            0.25903798001223816
           ],
           "z": [
            1.2204387322067936,
            1.268792746961089
           ]
          },
          {
           "line": {
            "color": "lime",
            "width": 2
           },
           "mode": "lines",
           "type": "scatter3d",
           "x": [
            0.5582085674423725,
            0.5136387621778995
           ],
           "y": [
            0.25903798001223816,
            0.044417181186020505
           ],
           "z": [
            1.268792746961089,
            1.298678605258437
           ]
          },
          {
           "line": {
            "color": "lime",
            "width": 2
           },
           "mode": "lines",
           "type": "scatter3d",
           "x": [
            0.2029534702915698,
            0.08973905199952421
           ],
           "y": [
            -0.0516453598219751,
            0.09901616828852905
           ],
           "z": [
            1.337589690834256,
            1.171169562637778
           ]
          },
          {
           "line": {
            "color": "lime",
            "width": 2
           },
           "mode": "lines",
           "type": "scatter3d",
           "x": [
            0.08973905199952421,
            0.021959659995511138
           ],
           "y": [
            0.09901616828852905,
            -0.04251208049839722
           ],
           "z": [
            1.171169562637778,
            0.9044432178139408
           ]
          },
          {
           "line": {
            "color": "lime",
            "width": 2
           },
           "mode": "lines",
           "type": "scatter3d",
           "x": [
            0.5136387621778995,
            0.2029534702915698
           ],
           "y": [
            0.044417181186020505,
            -0.0516453598219751
           ],
           "z": [
            1.298678605258437,
            1.337589690834256
           ]
          }
         ],
         "name": "6"
        },
        {
         "data": [
          {
           "marker": {
            "color": "blue",
            "size": 6
           },
           "mode": "markers",
           "type": "scatter3d",
           "x": [
            0.46265587,
            0.49535564,
            0.46088994,
            0.14551708,
            -0.0098961815,
            -0.08350113
           ],
           "y": [
            0.5109556,
            0.2662161,
            0.045469772,
            -0.054997865,
            0.095014416,
            -0.046961173
           ],
           "z": [
            1.0980235,
            1.1543256,
            1.1908879,
            1.2562373,
            1.1131041,
            0.86010575
           ]
          },
          {
           "marker": {
            "color": "green",
            "size": 6
           },
           "mode": "markers",
           "type": "scatter3d",
           "x": [
            0.5081781718171432,
            0.5506094667352035,
            0.5095401677525833,
            0.19800834089883107,
            0.08213300735123892,
            0.03528856963284749
           ],
           "y": [
            0.4714796598441857,
            0.26423862012102783,
            0.04672572942450226,
            -0.04821195272729217,
            0.10191331239416779,
            -0.042587896864865415
           ],
           "z": [
            1.1520670898160799,
            1.2168069876632555,
            1.249426791807161,
            1.2803263611993654,
            1.098428197830938,
            0.8311931340031045
           ]
          },
          {
           "line": {
            "color": "red",
            "width": 2
           },
           "mode": "lines",
           "type": "scatter3d",
           "x": [
            0.4626558721065521,
            0.49535563588142395
           ],
           "y": [
            0.5109555721282959,
            0.26621609926223755
           ],
           "z": [
            1.098023533821106,
            1.1543256044387817
           ]
          },
          {
           "line": {
            "color": "red",
            "width": 2
           },
           "mode": "lines",
           "type": "scatter3d",
           "x": [
            0.49535563588142395,
            0.46088993549346924
           ],
           "y": [
            0.26621609926223755,
            0.045469772070646286
           ],
           "z": [
            1.1543256044387817,
            1.1908879280090332
           ]
          },
          {
           "line": {
            "color": "red",
            "width": 2
           },
           "mode": "lines",
           "type": "scatter3d",
           "x": [
            0.14551708102226257,
            -0.009896181523799896
           ],
           "y": [
            -0.05499786511063576,
            0.09501441568136215
           ],
           "z": [
            1.256237268447876,
            1.1131041049957275
           ]
          },
          {
           "line": {
            "color": "red",
            "width": 2
           },
           "mode": "lines",
           "type": "scatter3d",
           "x": [
            -0.009896181523799896,
            -0.08350113034248352
           ],
           "y": [
            0.09501441568136215,
            -0.04696117341518402
           ],
           "z": [
            1.1131041049957275,
            0.8601057529449463
           ]
          },
          {
           "line": {
            "color": "red",
            "width": 2
           },
           "mode": "lines",
           "type": "scatter3d",
           "x": [
            0.46088993549346924,
            0.14551708102226257
           ],
           "y": [
            0.045469772070646286,
            -0.05499786511063576
           ],
           "z": [
            1.1908879280090332,
            1.256237268447876
           ]
          },
          {
           "line": {
            "color": "lime",
            "width": 2
           },
           "mode": "lines",
           "type": "scatter3d",
           "x": [
            0.5081781718171432,
            0.5506094667352035
           ],
           "y": [
            0.4714796598441857,
            0.26423862012102783
           ],
           "z": [
            1.1520670898160799,
            1.2168069876632555
           ]
          },
          {
           "line": {
            "color": "lime",
            "width": 2
           },
           "mode": "lines",
           "type": "scatter3d",
           "x": [
            0.5506094667352035,
            0.5095401677525833
           ],
           "y": [
            0.26423862012102783,
            0.04672572942450226
           ],
           "z": [
            1.2168069876632555,
            1.249426791807161
           ]
          },
          {
           "line": {
            "color": "lime",
            "width": 2
           },
           "mode": "lines",
           "type": "scatter3d",
           "x": [
            0.19800834089883107,
            0.08213300735123892
           ],
           "y": [
            -0.04821195272729217,
            0.10191331239416779
           ],
           "z": [
            1.2803263611993654,
            1.098428197830938
           ]
          },
          {
           "line": {
            "color": "lime",
            "width": 2
           },
           "mode": "lines",
           "type": "scatter3d",
           "x": [
            0.08213300735123892,
            0.03528856963284749
           ],
           "y": [
            0.10191331239416779,
            -0.042587896864865415
           ],
           "z": [
            1.098428197830938,
            0.8311931340031045
           ]
          },
          {
           "line": {
            "color": "lime",
            "width": 2
           },
           "mode": "lines",
           "type": "scatter3d",
           "x": [
            0.5095401677525833,
            0.19800834089883107
           ],
           "y": [
            0.04672572942450226,
            -0.04821195272729217
           ],
           "z": [
            1.249426791807161,
            1.2803263611993654
           ]
          }
         ],
         "name": "7"
        },
        {
         "data": [
          {
           "marker": {
            "color": "blue",
            "size": 6
           },
           "mode": "markers",
           "type": "scatter3d",
           "x": [
            0.47074208,
            0.5116531,
            0.47502527,
            0.1601397,
            0.004555903,
            -0.06585997
           ],
           "y": [
            0.49559838,
            0.26786643,
            0.0486455,
            -0.050758176,
            0.09155212,
            -0.057865683
           ],
           "z": [
            1.1231908,
            1.1840878,
            1.2253057,
            1.2792839,
            1.1288638,
            0.87666917
           ]
          },
          {
           "marker": {
            "color": "green",
            "size": 6
           },
           "mode": "markers",
           "type": "scatter3d",
           "x": [
            0.508283633827471,
            0.5440996923439734,
            0.5057510026686423,
            0.19627464198996947,
            0.07955631995131897,
            0.027129251598619675
           ],
           "y": [
            0.46622702939954824,
            0.26471148519364424,
            0.04997266917077131,
            -0.05762030096205645,
            0.06907965330926008,
            -0.08998931856306963
           ],
           "z": [
            1.1039136005583072,
            1.1856819940748478,
            1.2335108993592525,
            1.2752672312798763,
            1.098428197830938,
            0.8311931340031045
           ]
          },
          {
           "line": {
            "color": "red",
            "width": 2
           },
           "mode": "lines",
           "type": "scatter3d",
           "x": [
            0.4707420766353607,
            0.5116531252861023
           ],
           "y": [
            0.49559837579727173,
            0.26786643266677856
           ],
           "z": [
            1.1231907606124878,
            1.1840877532958984
           ]
          },
          {
           "line": {
            "color": "red",
            "width": 2
           },
           "mode": "lines",
           "type": "scatter3d",
           "x": [
            0.5116531252861023,
            0.4750252664089203
           ],
           "y": [
            0.26786643266677856,
            0.0486455000936985
           ],
           "z": [
            1.1840877532958984,
            1.2253056764602661
           ]
          },
          {
           "line": {
            "color": "red",
            "width": 2
           },
           "mode": "lines",
           "type": "scatter3d",
           "x": [
            0.16013969480991364,
            0.004555902909487486
           ],
           "y": [
            -0.05075817555189133,
            0.09155212342739105
           ],
           "z": [
            1.279283881187439,
            1.12886381149292
           ]
          },
          {
           "line": {
            "color": "red",
            "width": 2
           },
           "mode": "lines",
           "type": "scatter3d",
           "x": [
            0.004555902909487486,
            -0.06585997343063354
           ],
           "y": [
            0.09155212342739105,
            -0.0578656829893589
           ],
           "z": [
            1.12886381149292,
            0.87666916847229
           ]
          },
          {
           "line": {
            "color": "red",
            "width": 2
           },
           "mode": "lines",
           "type": "scatter3d",
           "x": [
            0.4750252664089203,
            0.16013969480991364
           ],
           "y": [
            0.0486455000936985,
            -0.05075817555189133
           ],
           "z": [
            1.2253056764602661,
            1.279283881187439
           ]
          },
          {
           "line": {
            "color": "lime",
            "width": 2
           },
           "mode": "lines",
           "type": "scatter3d",
           "x": [
            0.508283633827471,
            0.5440996923439734
           ],
           "y": [
            0.46622702939954824,
            0.26471148519364424
           ],
           "z": [
            1.1039136005583072,
            1.1856819940748478
           ]
          },
          {
           "line": {
            "color": "lime",
            "width": 2
           },
           "mode": "lines",
           "type": "scatter3d",
           "x": [
            0.5440996923439734,
            0.5057510026686423
           ],
           "y": [
            0.26471148519364424,
            0.04997266917077131
           ],
           "z": [
            1.1856819940748478,
            1.2335108993592525
           ]
          },
          {
           "line": {
            "color": "lime",
            "width": 2
           },
           "mode": "lines",
           "type": "scatter3d",
           "x": [
            0.19627464198996947,
            0.07955631995131897
           ],
           "y": [
            -0.05762030096205645,
            0.06907965330926008
           ],
           "z": [
            1.2752672312798763,
            1.098428197830938
           ]
          },
          {
           "line": {
            "color": "lime",
            "width": 2
           },
           "mode": "lines",
           "type": "scatter3d",
           "x": [
            0.07955631995131897,
            0.027129251598619675
           ],
           "y": [
            0.06907965330926008,
            -0.08998931856306963
           ],
           "z": [
            1.098428197830938,
            0.8311931340031045
           ]
          },
          {
           "line": {
            "color": "lime",
            "width": 2
           },
           "mode": "lines",
           "type": "scatter3d",
           "x": [
            0.5057510026686423,
            0.19627464198996947
           ],
           "y": [
            0.04997266917077131,
            -0.05762030096205645
           ],
           "z": [
            1.2335108993592525,
            1.2752672312798763
           ]
          }
         ],
         "name": "8"
        },
        {
         "data": [
          {
           "marker": {
            "color": "blue",
            "size": 6
           },
           "mode": "markers",
           "type": "scatter3d",
           "x": [
            0.46827832,
            0.5079916,
            0.4732578,
            0.15684214,
            -0.0010282624,
            -0.06667309
           ],
           "y": [
            0.5030543,
            0.26815653,
            0.0479588,
            -0.05159343,
            0.09248723,
            -0.057124518
           ],
           "z": [
            1.1072044,
            1.1678886,
            1.2073085,
            1.2648038,
            1.1156191,
            0.8622772
           ]
          },
          {
           "marker": {
            "color": "green",
            "size": 6
           },
           "mode": "markers",
           "type": "scatter3d",
           "x": [
            0.5260062103233532,
            0.563867140289326,
            0.5223301534614757,
            0.21797135817625085,
            0.09660880612947505,
            0.05572228479005853
           ],
           "y": [
            0.46894530210201335,
            0.263645436647578,
            0.048297148230715514,
            -0.06051002812083173,
            0.059485953334017516,
            -0.08758072924311566
           ],
           "z": [
            1.292771626386936,
            1.3271012270191267,
            1.346347648773487,
            1.372866425786312,
            1.1899551042655065,
            0.923229429993923
           ]
          },
          {
           "line": {
            "color": "red",
            "width": 2
           },
           "mode": "lines",
           "type": "scatter3d",
           "x": [
            0.46827831864356995,
            0.50799161195755
           ],
           "y": [
            0.5030543208122253,
            0.2681565284729004
           ],
           "z": [
            1.1072044372558594,
            1.1678886413574219
           ]
          },
          {
           "line": {
            "color": "red",
            "width": 2
           },
           "mode": "lines",
           "type": "scatter3d",
           "x": [
            0.50799161195755,
            0.47325780987739563
           ],
           "y": [
            0.2681565284729004,
            0.047958798706531525
           ],
           "z": [
            1.1678886413574219,
            1.2073085308074951
           ]
          },
          {
           "line": {
            "color": "red",
            "width": 2
           },
           "mode": "lines",
           "type": "scatter3d",
           "x": [
            0.15684214234352112,
            -0.00102826242800802
           ],
           "y": [
            -0.05159343034029007,
            0.09248723089694977
           ],
           "z": [
            1.2648037672042847,
            1.1156190633773804
           ]
          },
          {
           "line": {
            "color": "red",
            "width": 2
           },
           "mode": "lines",
           "type": "scatter3d",
           "x": [
            -0.00102826242800802,
            -0.06667309254407883
           ],
           "y": [
            0.09248723089694977,
            -0.05712451785802841
           ],
           "z": [
            1.1156190633773804,
            0.8622772097587585
           ]
          },
          {
           "line": {
            "color": "red",
            "width": 2
           },
           "mode": "lines",
           "type": "scatter3d",
           "x": [
            0.47325780987739563,
            0.15684214234352112
           ],
           "y": [
            0.047958798706531525,
            -0.05159343034029007
           ],
           "z": [
            1.2073085308074951,
            1.2648037672042847
           ]
          },
          {
           "line": {
            "color": "lime",
            "width": 2
           },
           "mode": "lines",
           "type": "scatter3d",
           "x": [
            0.5260062103233532,
            0.563867140289326
           ],
           "y": [
            0.46894530210201335,
            0.263645436647578
           ],
           "z": [
            1.292771626386936,
            1.3271012270191267
           ]
          },
          {
           "line": {
            "color": "lime",
            "width": 2
           },
           "mode": "lines",
           "type": "scatter3d",
           "x": [
            0.563867140289326,
            0.5223301534614757
           ],
           "y": [
            0.263645436647578,
            0.048297148230715514
           ],
           "z": [
            1.3271012270191267,
            1.346347648773487
           ]
          },
          {
           "line": {
            "color": "lime",
            "width": 2
           },
           "mode": "lines",
           "type": "scatter3d",
           "x": [
            0.21797135817625085,
            0.09660880612947505
           ],
           "y": [
            -0.06051002812083173,
            0.059485953334017516
           ],
           "z": [
            1.372866425786312,
            1.1899551042655065
           ]
          },
          {
           "line": {
            "color": "lime",
            "width": 2
           },
           "mode": "lines",
           "type": "scatter3d",
           "x": [
            0.09660880612947505,
            0.05572228479005853
           ],
           "y": [
            0.059485953334017516,
            -0.08758072924311566
           ],
           "z": [
            1.1899551042655065,
            0.923229429993923
           ]
          },
          {
           "line": {
            "color": "lime",
            "width": 2
           },
           "mode": "lines",
           "type": "scatter3d",
           "x": [
            0.5223301534614757,
            0.21797135817625085
           ],
           "y": [
            0.048297148230715514,
            -0.06051002812083173
           ],
           "z": [
            1.346347648773487,
            1.372866425786312
           ]
          }
         ],
         "name": "9"
        },
        {
         "data": [
          {
           "marker": {
            "color": "blue",
            "size": 6
           },
           "mode": "markers",
           "type": "scatter3d",
           "x": [
            0.47381905,
            0.5072425,
            0.47355273,
            0.15877154,
            0.0044919574,
            -0.06167522
           ],
           "y": [
            0.509884,
            0.27017778,
            0.049538217,
            -0.05400583,
            0.07723541,
            -0.08125048
           ],
           "z": [
            1.119637,
            1.1816323,
            1.2246951,
            1.2779632,
            1.1191156,
            0.8710251
           ]
          },
          {
           "marker": {
            "color": "green",
            "size": 6
           },
           "mode": "markers",
           "type": "scatter3d",
           "x": [
            0.5238183152736535,
            0.5624175977767816,
            0.5250599694312921,
            0.2088261109651437,
            0.07724724829805997,
            0.047551871544252874
           ],
           "y": [
            0.4735401481063801,
            0.2626631030486662,
            0.0460776457236845,
            -0.05598630815281086,
            0.06290767282710857,
            -0.1009194046738961
           ],
           "z": [
            1.2280689114485055,
            1.2842095801387101,
            1.3185295173678666,
            1.354286325142172,
            1.1741732591543466,
            0.9212862336788445
           ]
          },
          {
           "line": {
            "color": "red",
            "width": 2
           },
           "mode": "lines",
           "type": "scatter3d",
           "x": [
            0.4738190472126007,
            0.5072425007820129
           ],
           "y": [
            0.5098839998245239,
            0.27017778158187866
           ],
           "z": [
            1.1196370124816895,
            1.1816322803497314
           ]
          },
          {
           "line": {
            "color": "red",
            "width": 2
           },
           "mode": "lines",
           "type": "scatter3d",
           "x": [
            0.5072425007820129,
            0.47355273365974426
           ],
           "y": [
            0.27017778158187866,
            0.04953821748495102
           ],
           "z": [
            1.1816322803497314,
            1.224695086479187
           ]
          },
          {
           "line": {
            "color": "red",
            "width": 2
           },
           "mode": "lines",
           "type": "scatter3d",
           "x": [
            0.1587715446949005,
            0.0044919573701918125
           ],
           "y": [
            -0.054005831480026245,
            0.07723540812730789
           ],
           "z": [
            1.2779631614685059,
            1.1191155910491943
           ]
          },
          {
           "line": {
            "color": "red",
            "width": 2
           },
           "mode": "lines",
           "type": "scatter3d",
           "x": [
            0.0044919573701918125,
            -0.06167522072792053
           ],
           "y": [
            0.07723540812730789,
            -0.08125048130750656
           ],
           "z": [
            1.1191155910491943,
            0.8710250854492188
           ]
          },
          {
           "line": {
            "color": "red",
            "width": 2
           },
           "mode": "lines",
           "type": "scatter3d",
           "x": [
            0.47355273365974426,
            0.1587715446949005
           ],
           "y": [
            0.04953821748495102,
            -0.054005831480026245
           ],
           "z": [
            1.224695086479187,
            1.2779631614685059
           ]
          },
          {
           "line": {
            "color": "lime",
            "width": 2
           },
           "mode": "lines",
           "type": "scatter3d",
           "x": [
            0.5238183152736535,
            0.5624175977767816
           ],
           "y": [
            0.4735401481063801,
            0.2626631030486662
           ],
           "z": [
            1.2280689114485055,
            1.2842095801387101
           ]
          },
          {
           "line": {
            "color": "lime",
            "width": 2
           },
           "mode": "lines",
           "type": "scatter3d",
           "x": [
            0.5624175977767816,
            0.5250599694312921
           ],
           "y": [
            0.2626631030486662,
            0.0460776457236845
           ],
           "z": [
            1.2842095801387101,
            1.3185295173678666
           ]
          },
          {
           "line": {
            "color": "lime",
            "width": 2
           },
           "mode": "lines",
           "type": "scatter3d",
           "x": [
            0.2088261109651437,
            0.07724724829805997
           ],
           "y": [
            -0.05598630815281086,
            0.06290767282710857
           ],
           "z": [
            1.354286325142172,
            1.1741732591543466
           ]
          },
          {
           "line": {
            "color": "lime",
            "width": 2
           },
           "mode": "lines",
           "type": "scatter3d",
           "x": [
            0.07724724829805997,
            0.047551871544252874
           ],
           "y": [
            0.06290767282710857,
            -0.1009194046738961
           ],
           "z": [
            1.1741732591543466,
            0.9212862336788445
           ]
          },
          {
           "line": {
            "color": "lime",
            "width": 2
           },
           "mode": "lines",
           "type": "scatter3d",
           "x": [
            0.5250599694312921,
            0.2088261109651437
           ],
           "y": [
            0.0460776457236845,
            -0.05598630815281086
           ],
           "z": [
            1.3185295173678666,
            1.354286325142172
           ]
          }
         ],
         "name": "10"
        },
        {
         "data": [
          {
           "marker": {
            "color": "blue",
            "size": 6
           },
           "mode": "markers",
           "type": "scatter3d",
           "x": [
            0.48069885,
            0.5249795,
            0.48690963,
            0.17036845,
            0.017605286,
            -0.04802253
           ],
           "y": [
            0.48790276,
            0.26423514,
            0.04688194,
            -0.05020637,
            0.099851,
            -0.036383033
           ],
           "z": [
            1.1314538,
            1.1950452,
            1.236865,
            1.2897131,
            1.1386586,
            0.8852745
           ]
          },
          {
           "marker": {
            "color": "green",
            "size": 6
           },
           "mode": "markers",
           "type": "scatter3d",
           "x": [
            0.5219641075881183,
            0.5671761379988849,
            0.5261924610884845,
            0.20771521045286062,
            0.08424345119315986,
            0.05432031019050482
           ],
           "y": [
            0.47794624668407304,
            0.27013343077945573,
            0.04853999120044572,
            -0.05564040440273421,
            0.05934994301835435,
            -0.1009194046738961
           ],
           "z": [
            1.1883191564889652,
            1.259885395488332,
            1.3037565821619732,
            1.3407393345447285,
            1.1525086859079106,
            0.890792126378606
           ]
          },
          {
           "line": {
            "color": "red",
            "width": 2
           },
           "mode": "lines",
           "type": "scatter3d",
           "x": [
            0.4806988537311554,
            0.5249794721603394
           ],
           "y": [
            0.48790276050567627,
            0.26423513889312744
           ],
           "z": [
            1.1314537525177002,
            1.1950452327728271
           ]
          },
          {
           "line": {
            "color": "red",
            "width": 2
           },
           "mode": "lines",
           "type": "scatter3d",
           "x": [
            0.5249794721603394,
            0.4869096279144287
           ],
           "y": [
            0.26423513889312744,
            0.046881940215826035
           ],
           "z": [
            1.1950452327728271,
            1.2368650436401367
           ]
          },
          {
           "line": {
            "color": "red",
            "width": 2
           },
           "mode": "lines",
           "type": "scatter3d",
           "x": [
            0.17036844789981842,
            0.017605286091566086
           ],
           "y": [
            -0.050206370651721954,
            0.09985099732875824
           ],
           "z": [
            1.2897131443023682,
            1.1386586427688599
           ]
          },
          {
           "line": {
            "color": "red",
            "width": 2
           },
           "mode": "lines",
           "type": "scatter3d",
           "x": [
            0.017605286091566086,
            -0.04802253097295761
           ],
           "y": [
            0.09985099732875824,
            -0.03638303279876709
           ],
           "z": [
            1.1386586427688599,
            0.8852745294570923
           ]
          },
          {
           "line": {
            "color": "red",
            "width": 2
           },
           "mode": "lines",
           "type": "scatter3d",
           "x": [
            0.4869096279144287,
            0.17036844789981842
           ],
           "y": [
            0.046881940215826035,
            -0.050206370651721954
           ],
           "z": [
            1.2368650436401367,
            1.2897131443023682
           ]
          },
          {
           "line": {
            "color": "lime",
            "width": 2
           },
           "mode": "lines",
           "type": "scatter3d",
           "x": [
            0.5219641075881183,
            0.5671761379988849
           ],
           "y": [
            0.47794624668407304,
            0.27013343077945573
           ],
           "z": [
            1.1883191564889652,
            1.259885395488332
           ]
          },
          {
           "line": {
            "color": "lime",
            "width": 2
           },
           "mode": "lines",
           "type": "scatter3d",
           "x": [
            0.5671761379988849,
            0.5261924610884845
           ],
           "y": [
            0.27013343077945573,
            0.04853999120044572
           ],
           "z": [
            1.259885395488332,
            1.3037565821619732
           ]
          },
          {
           "line": {
            "color": "lime",
            "width": 2
           },
           "mode": "lines",
           "type": "scatter3d",
           "x": [
            0.20771521045286062,
            0.08424345119315986
           ],
           "y": [
            -0.05564040440273421,
            0.05934994301835435
           ],
           "z": [
            1.3407393345447285,
            1.1525086859079106
           ]
          },
          {
           "line": {
            "color": "lime",
            "width": 2
           },
           "mode": "lines",
           "type": "scatter3d",
           "x": [
            0.08424345119315986,
            0.05432031019050482
           ],
           "y": [
            0.05934994301835435,
            -0.1009194046738961
           ],
           "z": [
            1.1525086859079106,
            0.890792126378606
           ]
          },
          {
           "line": {
            "color": "lime",
            "width": 2
           },
           "mode": "lines",
           "type": "scatter3d",
           "x": [
            0.5261924610884845,
            0.20771521045286062
           ],
           "y": [
            0.04853999120044572,
            -0.05564040440273421
           ],
           "z": [
            1.3037565821619732,
            1.3407393345447285
           ]
          }
         ],
         "name": "11"
        },
        {
         "data": [
          {
           "marker": {
            "color": "blue",
            "size": 6
           },
           "mode": "markers",
           "type": "scatter3d",
           "x": [
            0.47128123,
            0.51021135,
            0.47288963,
            0.15597941,
            0.001202232,
            -0.07442812
           ],
           "y": [
            0.49873978,
            0.2632426,
            0.045013595,
            -0.05141518,
            0.111457415,
            -0.022080395
           ],
           "z": [
            1.1070108,
            1.1654797,
            1.2003233,
            1.2646788,
            1.1280527,
            0.8735417
           ]
          },
          {
           "marker": {
            "color": "green",
            "size": 6
           },
           "mode": "markers",
           "type": "scatter3d",
           "x": [
            0.5207133719062942,
            0.5639331468677657,
            0.5230082848405975,
            0.2176756241655486,
            0.08038101879121236,
            0.054893923673643374
           ],
           "y": [
            0.4695870143618621,
            0.2592094646092691,
            0.040158252536896644,
            -0.06576399940287692,
            0.05934994301835435,
            -0.1009194046738961
           ],
           "z": [
            1.2666637139453234,
            1.3148535775079073,
            1.3452089564933123,
            1.380320193810636,
            1.203170521749431,
            0.9505729215277972
           ]
          },
          {
           "line": {
            "color": "red",
            "width": 2
           },
           "mode": "lines",
           "type": "scatter3d",
           "x": [
            0.4712812304496765,
            0.5102113485336304
           ],
           "y": [
            0.4987397789955139,
            0.26324260234832764
           ],
           "z": [
            1.107010841369629,
            1.1654796600341797
           ]
          },
          {
           "line": {
            "color": "red",
            "width": 2
           },
           "mode": "lines",
           "type": "scatter3d",
           "x": [
            0.5102113485336304,
            0.47288963198661804
           ],
           "y": [
            0.26324260234832764,
            0.04501359537243843
           ],
           "z": [
            1.1654796600341797,
            1.2003233432769775
           ]
          },
          {
           "line": {
            "color": "red",
            "width": 2
           },
           "mode": "lines",
           "type": "scatter3d",
           "x": [
            0.15597940981388092,
            0.0012022319715470076
           ],
           "y": [
            -0.051415178924798965,
            0.11145741492509842
           ],
           "z": [
            1.2646788358688354,
            1.1280527114868164
           ]
          },
          {
           "line": {
            "color": "red",
            "width": 2
           },
           "mode": "lines",
           "type": "scatter3d",
           "x": [
            0.0012022319715470076,
            -0.07442811876535416
           ],
           "y": [
            0.11145741492509842,
            -0.022080395370721817
           ],
           "z": [
            1.1280527114868164,
            0.8735417127609253
           ]
          },
          {
           "line": {
            "color": "red",
            "width": 2
           },
           "mode": "lines",
           "type": "scatter3d",
           "x": [
            0.47288963198661804,
            0.15597940981388092
           ],
           "y": [
            0.04501359537243843,
            -0.051415178924798965
           ],
           "z": [
            1.2003233432769775,
            1.2646788358688354
           ]
          },
          {
           "line": {
            "color": "lime",
            "width": 2
           },
           "mode": "lines",
           "type": "scatter3d",
           "x": [
            0.5207133719062942,
            0.5639331468677657
           ],
           "y": [
            0.4695870143618621,
            0.2592094646092691
           ],
           "z": [
            1.2666637139453234,
            1.3148535775079073
           ]
          },
          {
           "line": {
            "color": "lime",
            "width": 2
           },
           "mode": "lines",
           "type": "scatter3d",
           "x": [
            0.5639331468677657,
            0.5230082848405975
           ],
           "y": [
            0.2592094646092691,
            0.040158252536896644
           ],
           "z": [
            1.3148535775079073,
            1.3452089564933123
           ]
          },
          {
           "line": {
            "color": "lime",
            "width": 2
           },
           "mode": "lines",
           "type": "scatter3d",
           "x": [
            0.2176756241655486,
            0.08038101879121236
           ],
           "y": [
            -0.06576399940287692,
            0.05934994301835435
           ],
           "z": [
            1.380320193810636,
            1.203170521749431
           ]
          },
          {
           "line": {
            "color": "lime",
            "width": 2
           },
           "mode": "lines",
           "type": "scatter3d",
           "x": [
            0.08038101879121236,
            0.054893923673643374
           ],
           "y": [
            0.05934994301835435,
            -0.1009194046738961
           ],
           "z": [
            1.203170521749431,
            0.9505729215277972
           ]
          },
          {
           "line": {
            "color": "lime",
            "width": 2
           },
           "mode": "lines",
           "type": "scatter3d",
           "x": [
            0.5230082848405975,
            0.2176756241655486
           ],
           "y": [
            0.040158252536896644,
            -0.06576399940287692
           ],
           "z": [
            1.3452089564933123,
            1.380320193810636
           ]
          }
         ],
         "name": "12"
        },
        {
         "data": [
          {
           "marker": {
            "color": "blue",
            "size": 6
           },
           "mode": "markers",
           "type": "scatter3d",
           "x": [
            0.47490007,
            0.5155235,
            0.47825,
            0.16058707,
            0.00645518,
            -0.08078006
           ],
           "y": [
            0.4993529,
            0.2633608,
            0.04533221,
            -0.050771024,
            0.113758,
            -0.01042575
           ],
           "z": [
            1.1104106,
            1.1688577,
            1.2030444,
            1.2676886,
            1.1320517,
            0.87789583
           ]
          },
          {
           "marker": {
            "color": "green",
            "size": 6
           },
           "mode": "markers",
           "type": "scatter3d",
           "x": [
            0.534176060592461,
            0.5650721580141072,
            0.5296115965002064,
            0.22002669576339762,
            0.095043250953484,
            0.06633857790164988
           ],
           "y": [
            0.4765591625947049,
            0.26666079041394497,
            0.048868741363613855,
            -0.06293914142218326,
            0.05934994301835435,
            -0.1009194046738961
           ],
           "z": [
            1.2562414818184302,
            1.3083413802759574,
            1.3416087218301223,
            1.3695923612193988,
            1.1816925965921805,
            0.9247581177132056
           ]
          },
          {
           "line": {
            "color": "red",
            "width": 2
           },
           "mode": "lines",
           "type": "scatter3d",
           "x": [
            0.4749000668525696,
            0.5155234932899475
           ],
           "y": [
            0.49935290217399597,
            0.26336079835891724
           ],
           "z": [
            1.1104105710983276,
            1.1688576936721802
           ]
          },
          {
           "line": {
            "color": "red",
            "width": 2
           },
           "mode": "lines",
           "type": "scatter3d",
           "x": [
            0.5155234932899475,
            0.47824999690055847
           ],
           "y": [
            0.26336079835891724,
            0.04533220827579498
           ],
           "z": [
            1.1688576936721802,
            1.2030444145202637
           ]
          },
          {
           "line": {
            "color": "red",
            "width": 2
           },
           "mode": "lines",
           "type": "scatter3d",
           "x": [
            0.16058707237243652,
            0.0064551797695457935
           ],
           "y": [
            -0.05077102407813072,
            0.11375799775123596
           ],
           "z": [
            1.2676886320114136,
            1.132051706314087
           ]
          },
          {
           "line": {
            "color": "red",
            "width": 2
           },
           "mode": "lines",
           "type": "scatter3d",
           "x": [
            0.0064551797695457935,
            -0.08078005909919739
           ],
           "y": [
            0.11375799775123596,
            -0.01042575016617775
           ],
           "z": [
            1.132051706314087,
            0.8778958320617676
           ]
          },
          {
           "line": {
            "color": "red",
            "width": 2
           },
           "mode": "lines",
           "type": "scatter3d",
           "x": [
            0.47824999690055847,
            0.16058707237243652
           ],
           "y": [
            0.04533220827579498,
            -0.05077102407813072
           ],
           "z": [
            1.2030444145202637,
            1.2676886320114136
           ]
          },
          {
           "line": {
            "color": "lime",
            "width": 2
           },
           "mode": "lines",
           "type": "scatter3d",
           "x": [
            0.534176060592461,
            0.5650721580141072
           ],
           "y": [
            0.4765591625947049,
            0.26666079041394497
           ],
           "z": [
            1.2562414818184302,
            1.3083413802759574
           ]
          },
          {
           "line": {
            "color": "lime",
            "width": 2
           },
           "mode": "lines",
           "type": "scatter3d",
           "x": [
            0.5650721580141072,
            0.5296115965002064
           ],
           "y": [
            0.26666079041394497,
            0.048868741363613855
           ],
           "z": [
            1.3083413802759574,
            1.3416087218301223
           ]
          },
          {
           "line": {
            "color": "lime",
            "width": 2
           },
           "mode": "lines",
           "type": "scatter3d",
           "x": [
            0.22002669576339762,
            0.095043250953484
           ],
           "y": [
            -0.06293914142218326,
            0.05934994301835435
           ],
           "z": [
            1.3695923612193988,
            1.1816925965921805
           ]
          },
          {
           "line": {
            "color": "lime",
            "width": 2
           },
           "mode": "lines",
           "type": "scatter3d",
           "x": [
            0.095043250953484,
            0.06633857790164988
           ],
           "y": [
            0.05934994301835435,
            -0.1009194046738961
           ],
           "z": [
            1.1816925965921805,
            0.9247581177132056
           ]
          },
          {
           "line": {
            "color": "lime",
            "width": 2
           },
           "mode": "lines",
           "type": "scatter3d",
           "x": [
            0.5296115965002064,
            0.22002669576339762
           ],
           "y": [
            0.048868741363613855,
            -0.06293914142218326
           ],
           "z": [
            1.3416087218301223,
            1.3695923612193988
           ]
          }
         ],
         "name": "13"
        },
        {
         "data": [
          {
           "marker": {
            "color": "blue",
            "size": 6
           },
           "mode": "markers",
           "type": "scatter3d",
           "x": [
            0.4708508,
            0.5141461,
            0.47557127,
            0.15914345,
            0.003691569,
            -0.07777083
           ],
           "y": [
            0.497249,
            0.263568,
            0.04552361,
            -0.051079992,
            0.1113184,
            -0.011536133
           ],
           "z": [
            1.1118792,
            1.1704888,
            1.2067429,
            1.272062,
            1.1382357,
            0.88701147
           ]
          },
          {
           "marker": {
            "color": "green",
            "size": 6
           },
           "mode": "markers",
           "type": "scatter3d",
           "x": [
            0.521595357486475,
            0.559705047437418,
            0.5260024057118778,
            0.21822662515329172,
            0.08318410677598766,
            0.053713230916727084
           ],
           "y": [
            0.47038056709517606,
            0.26431382455577024,
            0.04510249950636991,
            -0.06656525275956027,
            0.05934994301835435,
            -0.1009194046738961
           ],
           "z": [
            1.2702561247567457,
            1.3193268406609815,
            1.348894760332517,
            1.3798874061028283,
            1.20021016182702,
            0.9389541375855726
           ]
          },
          {
           "line": {
            "color": "red",
            "width": 2
           },
           "mode": "lines",
           "type": "scatter3d",
           "x": [
            0.47085079550743103,
            0.514146089553833
           ],
           "y": [
            0.4972490072250366,
            0.2635680139064789
           ],
           "z": [
            1.1118792295455933,
            1.1704888343811035
           ]
          },
          {
           "line": {
            "color": "red",
            "width": 2
           },
           "mode": "lines",
           "type": "scatter3d",
           "x": [
            0.514146089553833,
            0.47557127475738525
           ],
           "y": [
            0.2635680139064789,
            0.04552360996603966
           ],
           "z": [
            1.1704888343811035,
            1.2067428827285767
           ]
          },
          {
           "line": {
            "color": "red",
            "width": 2
           },
           "mode": "lines",
           "type": "scatter3d",
           "x": [
            0.15914344787597656,
            0.003691568970680237
           ],
           "y": [
            -0.051079992204904556,
            0.11131840199232101
           ],
           "z": [
            1.2720619440078735,
            1.1382356882095337
           ]
          },
          {
           "line": {
            "color": "red",
            "width": 2
           },
           "mode": "lines",
           "type": "scatter3d",
           "x": [
            0.003691568970680237,
            -0.07777082920074463
           ],
           "y": [
            0.11131840199232101,
            -0.011536132544279099
           ],
           "z": [
            1.1382356882095337,
            0.8870114684104919
           ]
          },
          {
           "line": {
            "color": "red",
            "width": 2
           },
           "mode": "lines",
           "type": "scatter3d",
           "x": [
            0.47557127475738525,
            0.15914344787597656
           ],
           "y": [
            0.04552360996603966,
            -0.051079992204904556
           ],
           "z": [
            1.2067428827285767,
            1.2720619440078735
           ]
          },
          {
           "line": {
            "color": "lime",
            "width": 2
           },
           "mode": "lines",
           "type": "scatter3d",
           "x": [
            0.521595357486475,
            0.559705047437418
           ],
           "y": [
            0.47038056709517606,
            0.26431382455577024
           ],
           "z": [
            1.2702561247567457,
            1.3193268406609815
           ]
          },
          {
           "line": {
            "color": "lime",
            "width": 2
           },
           "mode": "lines",
           "type": "scatter3d",
           "x": [
            0.559705047437418,
            0.5260024057118778
           ],
           "y": [
            0.26431382455577024,
            0.04510249950636991
           ],
           "z": [
            1.3193268406609815,
            1.348894760332517
           ]
          },
          {
           "line": {
            "color": "lime",
            "width": 2
           },
           "mode": "lines",
           "type": "scatter3d",
           "x": [
            0.21822662515329172,
            0.08318410677598766
           ],
           "y": [
            -0.06656525275956027,
            0.05934994301835435
           ],
           "z": [
            1.3798874061028283,
            1.20021016182702
           ]
          },
          {
           "line": {
            "color": "lime",
            "width": 2
           },
           "mode": "lines",
           "type": "scatter3d",
           "x": [
            0.08318410677598766,
            0.053713230916727084
           ],
           "y": [
            0.05934994301835435,
            -0.1009194046738961
           ],
           "z": [
            1.20021016182702,
            0.9389541375855726
           ]
          },
          {
           "line": {
            "color": "lime",
            "width": 2
           },
           "mode": "lines",
           "type": "scatter3d",
           "x": [
            0.5260024057118778,
            0.21822662515329172
           ],
           "y": [
            0.04510249950636991,
            -0.06656525275956027
           ],
           "z": [
            1.348894760332517,
            1.3798874061028283
           ]
          }
         ],
         "name": "14"
        },
        {
         "data": [
          {
           "marker": {
            "color": "blue",
            "size": 6
           },
           "mode": "markers",
           "type": "scatter3d",
           "x": [
            0.48306793,
            0.5227479,
            0.48445165,
            0.16598225,
            0.014654319,
            -0.07341332
           ],
           "y": [
            0.49759856,
            0.26087,
            0.044482782,
            -0.050583184,
            0.11826339,
            0.0029729
           ],
           "z": [
            1.1136234,
            1.1719581,
            1.2060632,
            1.2704523,
            1.1344799,
            0.8794472
           ]
          },
          {
           "marker": {
            "color": "green",
            "size": 6
           },
           "mode": "markers",
           "type": "scatter3d",
           "x": [
            0.5034872093120315,
            0.5439335652509429,
            0.5053884484687545,
            0.19420290224940567,
            0.06656883143574983,
            0.03637372934014588
           ],
           "y": [
            0.4702854558216356,
            0.2628227743642353,
            0.04500707717108954,
            -0.06152984766793024,
            0.05934994301835435,
            -0.1009194046738961
           ],
           "z": [
            1.1285461902906238,
            1.2056069493581592,
            1.2508415922810374,
            1.2889429338564216,
            1.1028676897575198,
            0.8367457658340274
           ]
          },
          {
           "line": {
            "color": "red",
            "width": 2
           },
           "mode": "lines",
           "type": "scatter3d",
           "x": [
            0.48306792974472046,
            0.5227478742599487
           ],
           "y": [
            0.4975985586643219,
            0.2608700096607208
           ],
           "z": [
            1.1136233806610107,
            1.171958088874817
           ]
          },
          {
           "line": {
            "color": "red",
            "width": 2
           },
           "mode": "lines",
           "type": "scatter3d",
           "x": [
            0.5227478742599487,
            0.48445165157318115
           ],
           "y": [
            0.2608700096607208,
            0.04448278248310089
           ],
           "z": [
            1.171958088874817,
            1.206063151359558
           ]
          },
          {
           "line": {
            "color": "red",
            "width": 2
           },
           "mode": "lines",
           "type": "scatter3d",
           "x": [
            0.16598224639892578,
            0.014654318802058697
           ],
           "y": [
            -0.05058318376541138,
            0.11826339364051819
           ],
           "z": [
            1.2704522609710693,
            1.1344798803329468
           ]
          },
          {
           "line": {
            "color": "red",
            "width": 2
           },
           "mode": "lines",
           "type": "scatter3d",
           "x": [
            0.014654318802058697,
            -0.07341331988573074
           ],
           "y": [
            0.11826339364051819,
            0.0029728999361395836
           ],
           "z": [
            1.1344798803329468,
            0.8794472217559814
           ]
          },
          {
           "line": {
            "color": "red",
            "width": 2
           },
           "mode": "lines",
           "type": "scatter3d",
           "x": [
            0.48445165157318115,
            0.16598224639892578
           ],
           "y": [
            0.04448278248310089,
            -0.05058318376541138
           ],
           "z": [
            1.206063151359558,
            1.2704522609710693
           ]
          },
          {
           "line": {
            "color": "lime",
            "width": 2
           },
           "mode": "lines",
           "type": "scatter3d",
           "x": [
            0.5034872093120315,
            0.5439335652509429
           ],
           "y": [
            0.4702854558216356,
            0.2628227743642353
           ],
           "z": [
            1.1285461902906238,
            1.2056069493581592
           ]
          },
          {
           "line": {
            "color": "lime",
            "width": 2
           },
           "mode": "lines",
           "type": "scatter3d",
           "x": [
            0.5439335652509429,
            0.5053884484687545
           ],
           "y": [
            0.2628227743642353,
            0.04500707717108954
           ],
           "z": [
            1.2056069493581592,
            1.2508415922810374
           ]
          },
          {
           "line": {
            "color": "lime",
            "width": 2
           },
           "mode": "lines",
           "type": "scatter3d",
           "x": [
            0.19420290224940567,
            0.06656883143574983
           ],
           "y": [
            -0.06152984766793024,
            0.05934994301835435
           ],
           "z": [
            1.2889429338564216,
            1.1028676897575198
           ]
          },
          {
           "line": {
            "color": "lime",
            "width": 2
           },
           "mode": "lines",
           "type": "scatter3d",
           "x": [
            0.06656883143574983,
            0.03637372934014588
           ],
           "y": [
            0.05934994301835435,
            -0.1009194046738961
           ],
           "z": [
            1.1028676897575198,
            0.8367457658340274
           ]
          },
          {
           "line": {
            "color": "lime",
            "width": 2
           },
           "mode": "lines",
           "type": "scatter3d",
           "x": [
            0.5053884484687545,
            0.19420290224940567
           ],
           "y": [
            0.04500707717108954,
            -0.06152984766793024
           ],
           "z": [
            1.2508415922810374,
            1.2889429338564216
           ]
          }
         ],
         "name": "15"
        },
        {
         "data": [
          {
           "marker": {
            "color": "blue",
            "size": 6
           },
           "mode": "markers",
           "type": "scatter3d",
           "x": [
            0.471211,
            0.51412755,
            0.47368425,
            0.1566058,
            0.0055292384,
            -0.089360476
           ],
           "y": [
            0.49581966,
            0.26035535,
            0.0430129,
            -0.05128957,
            0.12456195,
            0.017204978
           ],
           "z": [
            1.1017804,
            1.15773,
            1.1902817,
            1.2608584,
            1.1377505,
            0.8863856
           ]
          },
          {
           "marker": {
            "color": "green",
            "size": 6
           },
           "mode": "markers",
           "type": "scatter3d",
           "x": [
            0.511866614215643,
            0.5550399422576733,
            0.5156493186881848,
            0.20524798332956506,
            0.08584916590955928,
            0.04025483130720331
           ],
           "y": [
            0.45729199168343904,
            0.26036956650276544,
            0.045469728532031795,
            -0.06550774234275458,
            0.05934994301835435,
            -0.09789714473228095
           ],
           "z": [
            1.2004699202612925,
            1.2700914385155726,
            1.3118276762203265,
            1.337673364056735,
            1.150713706238656,
            0.8745457919673014
           ]
          },
          {
           "line": {
            "color": "red",
            "width": 2
           },
           "mode": "lines",
           "type": "scatter3d",
           "x": [
            0.4712109863758087,
            0.5141275525093079
           ],
           "y": [
            0.49581965804100037,
            0.2603553533554077
           ],
           "z": [
            1.1017804145812988,
            1.157729983329773
           ]
          },
          {
           "line": {
            "color": "red",
            "width": 2
           },
           "mode": "lines",
           "type": "scatter3d",
           "x": [
            0.5141275525093079,
            0.47368425130844116
           ],
           "y": [
            0.2603553533554077,
            0.04301289841532707
           ],
           "z": [
            1.157729983329773,
            1.1902817487716675
           ]
          },
          {
           "line": {
            "color": "red",
            "width": 2
           },
           "mode": "lines",
           "type": "scatter3d",
           "x": [
            0.1566057950258255,
            0.005529238376766443
           ],
           "y": [
            -0.05128956958651543,
            0.12456195056438446
           ],
           "z": [
            1.260858416557312,
            1.137750506401062
           ]
          },
          {
           "line": {
            "color": "red",
            "width": 2
           },
           "mode": "lines",
           "type": "scatter3d",
           "x": [
            0.005529238376766443,
            -0.08936047554016113
           ],
           "y": [
            0.12456195056438446,
            0.017204977571964264
           ],
           "z": [
            1.137750506401062,
            0.8863856196403503
           ]
          },
          {
           "line": {
            "color": "red",
            "width": 2
           },
           "mode": "lines",
           "type": "scatter3d",
           "x": [
            0.47368425130844116,
            0.1566057950258255
           ],
           "y": [
            0.04301289841532707,
            -0.05128956958651543
           ],
           "z": [
            1.1902817487716675,
            1.260858416557312
           ]
          },
          {
           "line": {
            "color": "lime",
            "width": 2
           },
           "mode": "lines",
           "type": "scatter3d",
           "x": [
            0.511866614215643,
            0.5550399422576733
           ],
           "y": [
            0.45729199168343904,
            0.26036956650276544
           ],
           "z": [
            1.2004699202612925,
            1.2700914385155726
           ]
          },
          {
           "line": {
            "color": "lime",
            "width": 2
           },
           "mode": "lines",
           "type": "scatter3d",
           "x": [
            0.5550399422576733,
            0.5156493186881848
           ],
           "y": [
            0.26036956650276544,
            0.045469728532031795
           ],
           "z": [
            1.2700914385155726,
            1.3118276762203265
           ]
          },
          {
           "line": {
            "color": "lime",
            "width": 2
           },
           "mode": "lines",
           "type": "scatter3d",
           "x": [
            0.20524798332956506,
            0.08584916590955928
           ],
           "y": [
            -0.06550774234275458,
            0.05934994301835435
           ],
           "z": [
            1.337673364056735,
            1.150713706238656
           ]
          },
          {
           "line": {
            "color": "lime",
            "width": 2
           },
           "mode": "lines",
           "type": "scatter3d",
           "x": [
            0.08584916590955928,
            0.04025483130720331
           ],
           "y": [
            0.05934994301835435,
            -0.09789714473228095
           ],
           "z": [
            1.150713706238656,
            0.8745457919673014
           ]
          },
          {
           "line": {
            "color": "lime",
            "width": 2
           },
           "mode": "lines",
           "type": "scatter3d",
           "x": [
            0.5156493186881848,
            0.20524798332956506
           ],
           "y": [
            0.045469728532031795,
            -0.06550774234275458
           ],
           "z": [
            1.3118276762203265,
            1.337673364056735
           ]
          }
         ],
         "name": "16"
        },
        {
         "data": [
          {
           "marker": {
            "color": "blue",
            "size": 6
           },
           "mode": "markers",
           "type": "scatter3d",
           "x": [
            0.4612715,
            0.49754384,
            0.45798752,
            0.14294526,
            -0.007406704,
            -0.108922206
           ],
           "y": [
            0.49936816,
            0.25885254,
            0.041096576,
            -0.053245034,
            0.12256152,
            0.0076417793
           ],
           "z": [
            1.0709227,
            1.1278801,
            1.1624662,
            1.2368194,
            1.1164634,
            0.8631209
           ]
          },
          {
           "marker": {
            "color": "green",
            "size": 6
           },
           "mode": "markers",
           "type": "scatter3d",
           "x": [
            0.5076494879056723,
            0.5405564374257834,
            0.5100404090215476,
            0.19496954893367602,
            0.08173499172227695,
            0.04027140801446749
           ],
           "y": [
            0.4656354878678487,
            0.26822765549864036,
            0.051508132426397624,
            -0.053507532866342244,
            0.08131748816217643,
            -0.08072700718198556
           ],
           "z": [
            1.0698756658705586,
            1.1587204271229619,
            1.2137490966590756,
            1.2652457839591356,
            1.098428197830938,
            0.8311931340031045
           ]
          },
          {
           "line": {
            "color": "red",
            "width": 2
           },
           "mode": "lines",
           "type": "scatter3d",
           "x": [
            0.4612714946269989,
            0.4975438416004181
           ],
           "y": [
            0.49936816096305847,
            0.2588525414466858
           ],
           "z": [
            1.0709227323532104,
            1.1278800964355469
           ]
          },
          {
           "line": {
            "color": "red",
            "width": 2
           },
           "mode": "lines",
           "type": "scatter3d",
           "x": [
            0.4975438416004181,
            0.457987517118454
           ],
           "y": [
            0.2588525414466858,
            0.04109657555818558
           ],
           "z": [
            1.1278800964355469,
            1.1624661684036255
           ]
          },
          {
           "line": {
            "color": "red",
            "width": 2
           },
           "mode": "lines",
           "type": "scatter3d",
           "x": [
            0.14294525980949402,
            -0.007406704127788544
           ],
           "y": [
            -0.05324503406882286,
            0.12256152182817459
           ],
           "z": [
            1.2368193864822388,
            1.1164634227752686
           ]
          },
          {
           "line": {
            "color": "red",
            "width": 2
           },
           "mode": "lines",
           "type": "scatter3d",
           "x": [
            -0.007406704127788544,
            -0.10892220586538315
           ],
           "y": [
            0.12256152182817459,
            0.007641779258847237
           ],
           "z": [
            1.1164634227752686,
            0.8631209135055542
           ]
          },
          {
           "line": {
            "color": "red",
            "width": 2
           },
           "mode": "lines",
           "type": "scatter3d",
           "x": [
            0.457987517118454,
            0.14294525980949402
           ],
           "y": [
            0.04109657555818558,
            -0.05324503406882286
           ],
           "z": [
            1.1624661684036255,
            1.2368193864822388
           ]
          },
          {
           "line": {
            "color": "lime",
            "width": 2
           },
           "mode": "lines",
           "type": "scatter3d",
           "x": [
            0.5076494879056723,
            0.5405564374257834
           ],
           "y": [
            0.4656354878678487,
            0.26822765549864036
           ],
           "z": [
            1.0698756658705586,
            1.1587204271229619
           ]
          },
          {
           "line": {
            "color": "lime",
            "width": 2
           },
           "mode": "lines",
           "type": "scatter3d",
           "x": [
            0.5405564374257834,
            0.5100404090215476
           ],
           "y": [
            0.26822765549864036,
            0.051508132426397624
           ],
           "z": [
            1.1587204271229619,
            1.2137490966590756
           ]
          },
          {
           "line": {
            "color": "lime",
            "width": 2
           },
           "mode": "lines",
           "type": "scatter3d",
           "x": [
            0.19496954893367602,
            0.08173499172227695
           ],
           "y": [
            -0.053507532866342244,
            0.08131748816217643
           ],
           "z": [
            1.2652457839591356,
            1.098428197830938
           ]
          },
          {
           "line": {
            "color": "lime",
            "width": 2
           },
           "mode": "lines",
           "type": "scatter3d",
           "x": [
            0.08173499172227695,
            0.04027140801446749
           ],
           "y": [
            0.08131748816217643,
            -0.08072700718198556
           ],
           "z": [
            1.098428197830938,
            0.8311931340031045
           ]
          },
          {
           "line": {
            "color": "lime",
            "width": 2
           },
           "mode": "lines",
           "type": "scatter3d",
           "x": [
            0.5100404090215476,
            0.19496954893367602
           ],
           "y": [
            0.051508132426397624,
            -0.053507532866342244
           ],
           "z": [
            1.2137490966590756,
            1.2652457839591356
           ]
          }
         ],
         "name": "17"
        },
        {
         "data": [
          {
           "marker": {
            "color": "blue",
            "size": 6
           },
           "mode": "markers",
           "type": "scatter3d",
           "x": [
            0.47944635,
            0.5238467,
            0.4813075,
            0.1637948,
            0.01436649,
            -0.08753004
           ],
           "y": [
            0.49142957,
            0.25924063,
            0.043666907,
            -0.049973447,
            0.1243345,
            0.021899156
           ],
           "z": [
            1.1075017,
            1.165625,
            1.2010051,
            1.2681358,
            1.141378,
            0.88986826
           ]
          },
          {
           "marker": {
            "color": "green",
            "size": 6
           },
           "mode": "markers",
           "type": "scatter3d",
           "x": [
            0.5211215539068967,
            0.5632890535683424,
            0.5243492348284513,
            0.2087317181916028,
            0.08485224080989658,
            0.05139889551112947
           ],
           "y": [
            0.47893251463395786,
            0.2706345605210868,
            0.0507378539405508,
            -0.050347123447831155,
            0.08085026949269009,
            -0.06829557210582066
           ],
           "z": [
            1.1741656623091916,
            1.2350445351805905,
            1.2694063074197988,
            1.3060561082568387,
            1.1242797336783628,
            0.8590541444030027
           ]
          },
          {
           "line": {
            "color": "red",
            "width": 2
           },
           "mode": "lines",
           "type": "scatter3d",
           "x": [
            0.4794463515281677,
            0.5238466858863831
           ],
           "y": [
            0.49142956733703613,
            0.25924062728881836
           ],
           "z": [
            1.107501745223999,
            1.165624976158142
           ]
          },
          {
           "line": {
            "color": "red",
            "width": 2
           },
           "mode": "lines",
           "type": "scatter3d",
           "x": [
            0.5238466858863831,
            0.4813075065612793
           ],
           "y": [
            0.25924062728881836,
            0.04366690665483475
           ],
           "z": [
            1.165624976158142,
            1.2010051012039185
           ]
          },
          {
           "line": {
            "color": "red",
            "width": 2
           },
           "mode": "lines",
           "type": "scatter3d",
           "x": [
            0.16379480063915253,
            0.014366489835083485
           ],
           "y": [
            -0.04997344687581062,
            0.12433449923992157
           ],
           "z": [
            1.2681357860565186,
            1.1413780450820923
           ]
          },
          {
           "line": {
            "color": "red",
            "width": 2
           },
           "mode": "lines",
           "type": "scatter3d",
           "x": [
            0.014366489835083485,
            -0.08753003925085068
           ],
           "y": [
            0.12433449923992157,
            0.021899156272411346
           ],
           "z": [
            1.1413780450820923,
            0.8898682594299316
           ]
          },
          {
           "line": {
            "color": "red",
            "width": 2
           },
           "mode": "lines",
           "type": "scatter3d",
           "x": [
            0.4813075065612793,
            0.16379480063915253
           ],
           "y": [
            0.04366690665483475,
            -0.04997344687581062
           ],
           "z": [
            1.2010051012039185,
            1.2681357860565186
           ]
          },
          {
           "line": {
            "color": "lime",
            "width": 2
           },
           "mode": "lines",
           "type": "scatter3d",
           "x": [
            0.5211215539068967,
            0.5632890535683424
           ],
           "y": [
            0.47893251463395786,
            0.2706345605210868
           ],
           "z": [
            1.1741656623091916,
            1.2350445351805905
           ]
          },
          {
           "line": {
            "color": "lime",
            "width": 2
           },
           "mode": "lines",
           "type": "scatter3d",
           "x": [
            0.5632890535683424,
            0.5243492348284513
           ],
           "y": [
            0.2706345605210868,
            0.0507378539405508
           ],
           "z": [
            1.2350445351805905,
            1.2694063074197988
           ]
          },
          {
           "line": {
            "color": "lime",
            "width": 2
           },
           "mode": "lines",
           "type": "scatter3d",
           "x": [
            0.2087317181916028,
            0.08485224080989658
           ],
           "y": [
            -0.050347123447831155,
            0.08085026949269009
           ],
           "z": [
            1.3060561082568387,
            1.1242797336783628
           ]
          },
          {
           "line": {
            "color": "lime",
            "width": 2
           },
           "mode": "lines",
           "type": "scatter3d",
           "x": [
            0.08485224080989658,
            0.05139889551112947
           ],
           "y": [
            0.08085026949269009,
            -0.06829557210582066
           ],
           "z": [
            1.1242797336783628,
            0.8590541444030027
           ]
          },
          {
           "line": {
            "color": "lime",
            "width": 2
           },
           "mode": "lines",
           "type": "scatter3d",
           "x": [
            0.5243492348284513,
            0.2087317181916028
           ],
           "y": [
            0.0507378539405508,
            -0.050347123447831155
           ],
           "z": [
            1.2694063074197988,
            1.3060561082568387
           ]
          }
         ],
         "name": "18"
        },
        {
         "data": [
          {
           "marker": {
            "color": "blue",
            "size": 6
           },
           "mode": "markers",
           "type": "scatter3d",
           "x": [
            0.47366992,
            0.51191425,
            0.46891317,
            0.15189616,
            0.010509306,
            -0.0958351
           ],
           "y": [
            0.49073395,
            0.25385863,
            0.038589984,
            -0.052322112,
            0.13889071,
            0.044957586
           ],
           "z": [
            1.078152,
            1.1358768,
            1.168416,
            1.2446647,
            1.1327343,
            0.8833734
           ]
          },
          {
           "marker": {
            "color": "green",
            "size": 6
           },
           "mode": "markers",
           "type": "scatter3d",
           "x": [
            0.5242338746179092,
            0.5632368891824233,
            0.5240342437613952,
            0.20483516597638002,
            0.08966655725130908,
            0.055654597221707014
           ],
           "y": [
            0.4739646776914001,
            0.2593045984729529,
            0.03783300568902498,
            -0.05069810102140898,
            0.11692073991143709,
            -0.019761263825058883
           ],
           "z": [
            1.1776205236445934,
            1.258058839512971,
            1.2970986152421504,
            1.3342458242904216,
            1.1544518405925304,
            0.8780713910590678
           ]
          },
          {
           "line": {
            "color": "red",
            "width": 2
           },
           "mode": "lines",
           "type": "scatter3d",
           "x": [
            0.4736699163913727,
            0.5119142532348633
           ],
           "y": [
            0.49073395133018494,
            0.25385862588882446
           ],
           "z": [
            1.0781519412994385,
            1.1358767747879028
           ]
          },
          {
           "line": {
            "color": "red",
            "width": 2
           },
           "mode": "lines",
           "type": "scatter3d",
           "x": [
            0.5119142532348633,
            0.46891316771507263
           ],
           "y": [
            0.25385862588882446,
            0.03858998417854309
           ],
           "z": [
            1.1358767747879028,
            1.1684160232543945
           ]
          },
          {
           "line": {
            "color": "red",
            "width": 2
           },
           "mode": "lines",
           "type": "scatter3d",
           "x": [
            0.1518961638212204,
            0.010509305633604527
           ],
           "y": [
            -0.052322112023830414,
            0.13889071345329285
           ],
           "z": [
            1.2446646690368652,
            1.1327342987060547
           ]
          },
          {
           "line": {
            "color": "red",
            "width": 2
           },
           "mode": "lines",
           "type": "scatter3d",
           "x": [
            0.010509305633604527,
            -0.09583509713411331
           ],
           "y": [
            0.13889071345329285,
            0.044957585632801056
           ],
           "z": [
            1.1327342987060547,
            0.8833733797073364
           ]
          },
          {
           "line": {
            "color": "red",
            "width": 2
           },
           "mode": "lines",
           "type": "scatter3d",
           "x": [
            0.46891316771507263,
            0.1518961638212204
           ],
           "y": [
            0.03858998417854309,
            -0.052322112023830414
           ],
           "z": [
            1.1684160232543945,
            1.2446646690368652
           ]
          },
          {
           "line": {
            "color": "lime",
            "width": 2
           },
           "mode": "lines",
           "type": "scatter3d",
           "x": [
            0.5242338746179092,
            0.5632368891824233
           ],
           "y": [
            0.4739646776914001,
            0.2593045984729529
           ],
           "z": [
            1.1776205236445934,
            1.258058839512971
           ]
          },
          {
           "line": {
            "color": "lime",
            "width": 2
           },
           "mode": "lines",
           "type": "scatter3d",
           "x": [
            0.5632368891824233,
            0.5240342437613952
           ],
           "y": [
            0.2593045984729529,
            0.03783300568902498
           ],
           "z": [
            1.258058839512971,
            1.2970986152421504
           ]
          },
          {
           "line": {
            "color": "lime",
            "width": 2
           },
           "mode": "lines",
           "type": "scatter3d",
           "x": [
            0.20483516597638002,
            0.08966655725130908
           ],
           "y": [
            -0.05069810102140898,
            0.11692073991143709
           ],
           "z": [
            1.3342458242904216,
            1.1544518405925304
           ]
          },
          {
           "line": {
            "color": "lime",
            "width": 2
           },
           "mode": "lines",
           "type": "scatter3d",
           "x": [
            0.08966655725130908,
            0.055654597221707014
           ],
           "y": [
            0.11692073991143709,
            -0.019761263825058883
           ],
           "z": [
            1.1544518405925304,
            0.8780713910590678
           ]
          },
          {
           "line": {
            "color": "lime",
            "width": 2
           },
           "mode": "lines",
           "type": "scatter3d",
           "x": [
            0.5240342437613952,
            0.20483516597638002
           ],
           "y": [
            0.03783300568902498,
            -0.05069810102140898
           ],
           "z": [
            1.2970986152421504,
            1.3342458242904216
           ]
          }
         ],
         "name": "19"
        }
       ],
       "layout": {
        "height": 700,
        "scene": {
         "aspectmode": "cube",
         "camera": {
          "eye": {
           "x": 1,
           "y": -0.2,
           "z": -2
          },
          "up": {
           "x": 0,
           "y": 0,
           "z": 0
          }
         },
         "xaxis": {
          "autorange": false,
          "range": [
           -0.18032432150397895,
           0.6765010661591706
          ],
          "title": {
           "text": "X"
          }
         },
         "yaxis": {
          "autorange": false,
          "range": [
           -0.1621069023541153,
           0.5721430698085151
          ],
          "title": {
           "text": "Y"
          }
         },
         "zaxis": {
          "autorange": false,
          "range": [
           0.7741277803631443,
           1.4589120240426663
          ],
          "title": {
           "text": "Z"
          }
         }
        },
        "sliders": [
         {
          "currentvalue": {
           "font": {
            "size": 12
           },
           "prefix": "Frame: ",
           "visible": true,
           "xanchor": "center"
          },
          "len": 1,
          "steps": [
           {
            "args": [
             [
              "0"
             ],
             {
              "frame": {
               "duration": 500,
               "redraw": true
              },
              "mode": "immediate",
              "transition": {
               "duration": 0
              }
             }
            ],
            "label": "0",
            "method": "animate"
           },
           {
            "args": [
             [
              "1"
             ],
             {
              "frame": {
               "duration": 500,
               "redraw": true
              },
              "mode": "immediate",
              "transition": {
               "duration": 0
              }
             }
            ],
            "label": "1",
            "method": "animate"
           },
           {
            "args": [
             [
              "2"
             ],
             {
              "frame": {
               "duration": 500,
               "redraw": true
              },
              "mode": "immediate",
              "transition": {
               "duration": 0
              }
             }
            ],
            "label": "2",
            "method": "animate"
           },
           {
            "args": [
             [
              "3"
             ],
             {
              "frame": {
               "duration": 500,
               "redraw": true
              },
              "mode": "immediate",
              "transition": {
               "duration": 0
              }
             }
            ],
            "label": "3",
            "method": "animate"
           },
           {
            "args": [
             [
              "4"
             ],
             {
              "frame": {
               "duration": 500,
               "redraw": true
              },
              "mode": "immediate",
              "transition": {
               "duration": 0
              }
             }
            ],
            "label": "4",
            "method": "animate"
           },
           {
            "args": [
             [
              "5"
             ],
             {
              "frame": {
               "duration": 500,
               "redraw": true
              },
              "mode": "immediate",
              "transition": {
               "duration": 0
              }
             }
            ],
            "label": "5",
            "method": "animate"
           },
           {
            "args": [
             [
              "6"
             ],
             {
              "frame": {
               "duration": 500,
               "redraw": true
              },
              "mode": "immediate",
              "transition": {
               "duration": 0
              }
             }
            ],
            "label": "6",
            "method": "animate"
           },
           {
            "args": [
             [
              "7"
             ],
             {
              "frame": {
               "duration": 500,
               "redraw": true
              },
              "mode": "immediate",
              "transition": {
               "duration": 0
              }
             }
            ],
            "label": "7",
            "method": "animate"
           },
           {
            "args": [
             [
              "8"
             ],
             {
              "frame": {
               "duration": 500,
               "redraw": true
              },
              "mode": "immediate",
              "transition": {
               "duration": 0
              }
             }
            ],
            "label": "8",
            "method": "animate"
           },
           {
            "args": [
             [
              "9"
             ],
             {
              "frame": {
               "duration": 500,
               "redraw": true
              },
              "mode": "immediate",
              "transition": {
               "duration": 0
              }
             }
            ],
            "label": "9",
            "method": "animate"
           },
           {
            "args": [
             [
              "10"
             ],
             {
              "frame": {
               "duration": 500,
               "redraw": true
              },
              "mode": "immediate",
              "transition": {
               "duration": 0
              }
             }
            ],
            "label": "10",
            "method": "animate"
           },
           {
            "args": [
             [
              "11"
             ],
             {
              "frame": {
               "duration": 500,
               "redraw": true
              },
              "mode": "immediate",
              "transition": {
               "duration": 0
              }
             }
            ],
            "label": "11",
            "method": "animate"
           },
           {
            "args": [
             [
              "12"
             ],
             {
              "frame": {
               "duration": 500,
               "redraw": true
              },
              "mode": "immediate",
              "transition": {
               "duration": 0
              }
             }
            ],
            "label": "12",
            "method": "animate"
           },
           {
            "args": [
             [
              "13"
             ],
             {
              "frame": {
               "duration": 500,
               "redraw": true
              },
              "mode": "immediate",
              "transition": {
               "duration": 0
              }
             }
            ],
            "label": "13",
            "method": "animate"
           },
           {
            "args": [
             [
              "14"
             ],
             {
              "frame": {
               "duration": 500,
               "redraw": true
              },
              "mode": "immediate",
              "transition": {
               "duration": 0
              }
             }
            ],
            "label": "14",
            "method": "animate"
           },
           {
            "args": [
             [
              "15"
             ],
             {
              "frame": {
               "duration": 500,
               "redraw": true
              },
              "mode": "immediate",
              "transition": {
               "duration": 0
              }
             }
            ],
            "label": "15",
            "method": "animate"
           },
           {
            "args": [
             [
              "16"
             ],
             {
              "frame": {
               "duration": 500,
               "redraw": true
              },
              "mode": "immediate",
              "transition": {
               "duration": 0
              }
             }
            ],
            "label": "16",
            "method": "animate"
           },
           {
            "args": [
             [
              "17"
             ],
             {
              "frame": {
               "duration": 500,
               "redraw": true
              },
              "mode": "immediate",
              "transition": {
               "duration": 0
              }
             }
            ],
            "label": "17",
            "method": "animate"
           },
           {
            "args": [
             [
              "18"
             ],
             {
              "frame": {
               "duration": 500,
               "redraw": true
              },
              "mode": "immediate",
              "transition": {
               "duration": 0
              }
             }
            ],
            "label": "18",
            "method": "animate"
           },
           {
            "args": [
             [
              "19"
             ],
             {
              "frame": {
               "duration": 500,
               "redraw": true
              },
              "mode": "immediate",
              "transition": {
               "duration": 0
              }
             }
            ],
            "label": "19",
            "method": "animate"
           }
          ],
          "transition": {
           "duration": 0
          },
          "x": 0,
          "y": 0
         }
        ],
        "template": {
         "data": {
          "bar": [
           {
            "error_x": {
             "color": "#2a3f5f"
            },
            "error_y": {
             "color": "#2a3f5f"
            },
            "marker": {
             "line": {
              "color": "#E5ECF6",
              "width": 0.5
             },
             "pattern": {
              "fillmode": "overlay",
              "size": 10,
              "solidity": 0.2
             }
            },
            "type": "bar"
           }
          ],
          "barpolar": [
           {
            "marker": {
             "line": {
              "color": "#E5ECF6",
              "width": 0.5
             },
             "pattern": {
              "fillmode": "overlay",
              "size": 10,
              "solidity": 0.2
             }
            },
            "type": "barpolar"
           }
          ],
          "carpet": [
           {
            "aaxis": {
             "endlinecolor": "#2a3f5f",
             "gridcolor": "white",
             "linecolor": "white",
             "minorgridcolor": "white",
             "startlinecolor": "#2a3f5f"
            },
            "baxis": {
             "endlinecolor": "#2a3f5f",
             "gridcolor": "white",
             "linecolor": "white",
             "minorgridcolor": "white",
             "startlinecolor": "#2a3f5f"
            },
            "type": "carpet"
           }
          ],
          "choropleth": [
           {
            "colorbar": {
             "outlinewidth": 0,
             "ticks": ""
            },
            "type": "choropleth"
           }
          ],
          "contour": [
           {
            "colorbar": {
             "outlinewidth": 0,
             "ticks": ""
            },
            "colorscale": [
             [
              0,
              "#0d0887"
             ],
             [
              0.1111111111111111,
              "#46039f"
             ],
             [
              0.2222222222222222,
              "#7201a8"
             ],
             [
              0.3333333333333333,
              "#9c179e"
             ],
             [
              0.4444444444444444,
              "#bd3786"
             ],
             [
              0.5555555555555556,
              "#d8576b"
             ],
             [
              0.6666666666666666,
              "#ed7953"
             ],
             [
              0.7777777777777778,
              "#fb9f3a"
             ],
             [
              0.8888888888888888,
              "#fdca26"
             ],
             [
              1,
              "#f0f921"
             ]
            ],
            "type": "contour"
           }
          ],
          "contourcarpet": [
           {
            "colorbar": {
             "outlinewidth": 0,
             "ticks": ""
            },
            "type": "contourcarpet"
           }
          ],
          "heatmap": [
           {
            "colorbar": {
             "outlinewidth": 0,
             "ticks": ""
            },
            "colorscale": [
             [
              0,
              "#0d0887"
             ],
             [
              0.1111111111111111,
              "#46039f"
             ],
             [
              0.2222222222222222,
              "#7201a8"
             ],
             [
              0.3333333333333333,
              "#9c179e"
             ],
             [
              0.4444444444444444,
              "#bd3786"
             ],
             [
              0.5555555555555556,
              "#d8576b"
             ],
             [
              0.6666666666666666,
              "#ed7953"
             ],
             [
              0.7777777777777778,
              "#fb9f3a"
             ],
             [
              0.8888888888888888,
              "#fdca26"
             ],
             [
              1,
              "#f0f921"
             ]
            ],
            "type": "heatmap"
           }
          ],
          "heatmapgl": [
           {
            "colorbar": {
             "outlinewidth": 0,
             "ticks": ""
            },
            "colorscale": [
             [
              0,
              "#0d0887"
             ],
             [
              0.1111111111111111,
              "#46039f"
             ],
             [
              0.2222222222222222,
              "#7201a8"
             ],
             [
              0.3333333333333333,
              "#9c179e"
             ],
             [
              0.4444444444444444,
              "#bd3786"
             ],
             [
              0.5555555555555556,
              "#d8576b"
             ],
             [
              0.6666666666666666,
              "#ed7953"
             ],
             [
              0.7777777777777778,
              "#fb9f3a"
             ],
             [
              0.8888888888888888,
              "#fdca26"
             ],
             [
              1,
              "#f0f921"
             ]
            ],
            "type": "heatmapgl"
           }
          ],
          "histogram": [
           {
            "marker": {
             "pattern": {
              "fillmode": "overlay",
              "size": 10,
              "solidity": 0.2
             }
            },
            "type": "histogram"
           }
          ],
          "histogram2d": [
           {
            "colorbar": {
             "outlinewidth": 0,
             "ticks": ""
            },
            "colorscale": [
             [
              0,
              "#0d0887"
             ],
             [
              0.1111111111111111,
              "#46039f"
             ],
             [
              0.2222222222222222,
              "#7201a8"
             ],
             [
              0.3333333333333333,
              "#9c179e"
             ],
             [
              0.4444444444444444,
              "#bd3786"
             ],
             [
              0.5555555555555556,
              "#d8576b"
             ],
             [
              0.6666666666666666,
              "#ed7953"
             ],
             [
              0.7777777777777778,
              "#fb9f3a"
             ],
             [
              0.8888888888888888,
              "#fdca26"
             ],
             [
              1,
              "#f0f921"
             ]
            ],
            "type": "histogram2d"
           }
          ],
          "histogram2dcontour": [
           {
            "colorbar": {
             "outlinewidth": 0,
             "ticks": ""
            },
            "colorscale": [
             [
              0,
              "#0d0887"
             ],
             [
              0.1111111111111111,
              "#46039f"
             ],
             [
              0.2222222222222222,
              "#7201a8"
             ],
             [
              0.3333333333333333,
              "#9c179e"
             ],
             [
              0.4444444444444444,
              "#bd3786"
             ],
             [
              0.5555555555555556,
              "#d8576b"
             ],
             [
              0.6666666666666666,
              "#ed7953"
             ],
             [
              0.7777777777777778,
              "#fb9f3a"
             ],
             [
              0.8888888888888888,
              "#fdca26"
             ],
             [
              1,
              "#f0f921"
             ]
            ],
            "type": "histogram2dcontour"
           }
          ],
          "mesh3d": [
           {
            "colorbar": {
             "outlinewidth": 0,
             "ticks": ""
            },
            "type": "mesh3d"
           }
          ],
          "parcoords": [
           {
            "line": {
             "colorbar": {
              "outlinewidth": 0,
              "ticks": ""
             }
            },
            "type": "parcoords"
           }
          ],
          "pie": [
           {
            "automargin": true,
            "type": "pie"
           }
          ],
          "scatter": [
           {
            "fillpattern": {
             "fillmode": "overlay",
             "size": 10,
             "solidity": 0.2
            },
            "type": "scatter"
           }
          ],
          "scatter3d": [
           {
            "line": {
             "colorbar": {
              "outlinewidth": 0,
              "ticks": ""
             }
            },
            "marker": {
             "colorbar": {
              "outlinewidth": 0,
              "ticks": ""
             }
            },
            "type": "scatter3d"
           }
          ],
          "scattercarpet": [
           {
            "marker": {
             "colorbar": {
              "outlinewidth": 0,
              "ticks": ""
             }
            },
            "type": "scattercarpet"
           }
          ],
          "scattergeo": [
           {
            "marker": {
             "colorbar": {
              "outlinewidth": 0,
              "ticks": ""
             }
            },
            "type": "scattergeo"
           }
          ],
          "scattergl": [
           {
            "marker": {
             "colorbar": {
              "outlinewidth": 0,
              "ticks": ""
             }
            },
            "type": "scattergl"
           }
          ],
          "scattermapbox": [
           {
            "marker": {
             "colorbar": {
              "outlinewidth": 0,
              "ticks": ""
             }
            },
            "type": "scattermapbox"
           }
          ],
          "scatterpolar": [
           {
            "marker": {
             "colorbar": {
              "outlinewidth": 0,
              "ticks": ""
             }
            },
            "type": "scatterpolar"
           }
          ],
          "scatterpolargl": [
           {
            "marker": {
             "colorbar": {
              "outlinewidth": 0,
              "ticks": ""
             }
            },
            "type": "scatterpolargl"
           }
          ],
          "scatterternary": [
           {
            "marker": {
             "colorbar": {
              "outlinewidth": 0,
              "ticks": ""
             }
            },
            "type": "scatterternary"
           }
          ],
          "surface": [
           {
            "colorbar": {
             "outlinewidth": 0,
             "ticks": ""
            },
            "colorscale": [
             [
              0,
              "#0d0887"
             ],
             [
              0.1111111111111111,
              "#46039f"
             ],
             [
              0.2222222222222222,
              "#7201a8"
             ],
             [
              0.3333333333333333,
              "#9c179e"
             ],
             [
              0.4444444444444444,
              "#bd3786"
             ],
             [
              0.5555555555555556,
              "#d8576b"
             ],
             [
              0.6666666666666666,
              "#ed7953"
             ],
             [
              0.7777777777777778,
              "#fb9f3a"
             ],
             [
              0.8888888888888888,
              "#fdca26"
             ],
             [
              1,
              "#f0f921"
             ]
            ],
            "type": "surface"
           }
          ],
          "table": [
           {
            "cells": {
             "fill": {
              "color": "#EBF0F8"
             },
             "line": {
              "color": "white"
             }
            },
            "header": {
             "fill": {
              "color": "#C8D4E3"
             },
             "line": {
              "color": "white"
             }
            },
            "type": "table"
           }
          ]
         },
         "layout": {
          "annotationdefaults": {
           "arrowcolor": "#2a3f5f",
           "arrowhead": 0,
           "arrowwidth": 1
          },
          "autotypenumbers": "strict",
          "coloraxis": {
           "colorbar": {
            "outlinewidth": 0,
            "ticks": ""
           }
          },
          "colorscale": {
           "diverging": [
            [
             0,
             "#8e0152"
            ],
            [
             0.1,
             "#c51b7d"
            ],
            [
             0.2,
             "#de77ae"
            ],
            [
             0.3,
             "#f1b6da"
            ],
            [
             0.4,
             "#fde0ef"
            ],
            [
             0.5,
             "#f7f7f7"
            ],
            [
             0.6,
             "#e6f5d0"
            ],
            [
             0.7,
             "#b8e186"
            ],
            [
             0.8,
             "#7fbc41"
            ],
            [
             0.9,
             "#4d9221"
            ],
            [
             1,
             "#276419"
            ]
           ],
           "sequential": [
            [
             0,
             "#0d0887"
            ],
            [
             0.1111111111111111,
             "#46039f"
            ],
            [
             0.2222222222222222,
             "#7201a8"
            ],
            [
             0.3333333333333333,
             "#9c179e"
            ],
            [
             0.4444444444444444,
             "#bd3786"
            ],
            [
             0.5555555555555556,
             "#d8576b"
            ],
            [
             0.6666666666666666,
             "#ed7953"
            ],
            [
             0.7777777777777778,
             "#fb9f3a"
            ],
            [
             0.8888888888888888,
             "#fdca26"
            ],
            [
             1,
             "#f0f921"
            ]
           ],
           "sequentialminus": [
            [
             0,
             "#0d0887"
            ],
            [
             0.1111111111111111,
             "#46039f"
            ],
            [
             0.2222222222222222,
             "#7201a8"
            ],
            [
             0.3333333333333333,
             "#9c179e"
            ],
            [
             0.4444444444444444,
             "#bd3786"
            ],
            [
             0.5555555555555556,
             "#d8576b"
            ],
            [
             0.6666666666666666,
             "#ed7953"
            ],
            [
             0.7777777777777778,
             "#fb9f3a"
            ],
            [
             0.8888888888888888,
             "#fdca26"
            ],
            [
             1,
             "#f0f921"
            ]
           ]
          },
          "colorway": [
           "#636efa",
           "#EF553B",
           "#00cc96",
           "#ab63fa",
           "#FFA15A",
           "#19d3f3",
           "#FF6692",
           "#B6E880",
           "#FF97FF",
           "#FECB52"
          ],
          "font": {
           "color": "#2a3f5f"
          },
          "geo": {
           "bgcolor": "white",
           "lakecolor": "white",
           "landcolor": "#E5ECF6",
           "showlakes": true,
           "showland": true,
           "subunitcolor": "white"
          },
          "hoverlabel": {
           "align": "left"
          },
          "hovermode": "closest",
          "mapbox": {
           "style": "light"
          },
          "paper_bgcolor": "white",
          "plot_bgcolor": "#E5ECF6",
          "polar": {
           "angularaxis": {
            "gridcolor": "white",
            "linecolor": "white",
            "ticks": ""
           },
           "bgcolor": "#E5ECF6",
           "radialaxis": {
            "gridcolor": "white",
            "linecolor": "white",
            "ticks": ""
           }
          },
          "scene": {
           "xaxis": {
            "backgroundcolor": "#E5ECF6",
            "gridcolor": "white",
            "gridwidth": 2,
            "linecolor": "white",
            "showbackground": true,
            "ticks": "",
            "zerolinecolor": "white"
           },
           "yaxis": {
            "backgroundcolor": "#E5ECF6",
            "gridcolor": "white",
            "gridwidth": 2,
            "linecolor": "white",
            "showbackground": true,
            "ticks": "",
            "zerolinecolor": "white"
           },
           "zaxis": {
            "backgroundcolor": "#E5ECF6",
            "gridcolor": "white",
            "gridwidth": 2,
            "linecolor": "white",
            "showbackground": true,
            "ticks": "",
            "zerolinecolor": "white"
           }
          },
          "shapedefaults": {
           "line": {
            "color": "#2a3f5f"
           }
          },
          "ternary": {
           "aaxis": {
            "gridcolor": "white",
            "linecolor": "white",
            "ticks": ""
           },
           "baxis": {
            "gridcolor": "white",
            "linecolor": "white",
            "ticks": ""
           },
           "bgcolor": "#E5ECF6",
           "caxis": {
            "gridcolor": "white",
            "linecolor": "white",
            "ticks": ""
           }
          },
          "title": {
           "x": 0.05
          },
          "xaxis": {
           "automargin": true,
           "gridcolor": "white",
           "linecolor": "white",
           "ticks": "",
           "title": {
            "standoff": 15
           },
           "zerolinecolor": "white",
           "zerolinewidth": 2
          },
          "yaxis": {
           "automargin": true,
           "gridcolor": "white",
           "linecolor": "white",
           "ticks": "",
           "title": {
            "standoff": 15
           },
           "zerolinecolor": "white",
           "zerolinewidth": 2
          }
         }
        },
        "updatemenus": [
         {
          "buttons": [
           {
            "args": [
             null,
             {
              "frame": {
               "duration": 500,
               "redraw": true
              },
              "fromcurrent": true,
              "mode": "immediate"
             }
            ],
            "label": "Play",
            "method": "animate"
           }
          ],
          "showactive": false,
          "type": "buttons"
         }
        ],
        "width": 700
       }
      }
     },
     "metadata": {},
     "output_type": "display_data"
    }
   ],
   "source": [
    "import numpy as np\n",
    "import plotly.graph_objects as go\n",
    "from ipywidgets import interactive, IntSlider\n",
    "from IPython.display import display\n",
    "\n",
    "updated_connections = [\n",
    "    (0, 1), (1, 2),  # Right arm\n",
    "    (3, 4), (4, 5),  # Left arm\n",
    "    (2, 3),  # Connection between arms\n",
    "]\n",
    "\n",
    "def update_plot(pred):\n",
    "    # First dataset processing\n",
    "    data = hf.reverse_normalization(predicted_positions[pred], medians_pos, iqrs_pos)\n",
    "\n",
    "    if len(data.shape) == 1:\n",
    "        print(\"Data is a scalar or has unexpected shape.\")\n",
    "        return np.zeros((1, 3)), [], np.zeros((1, 3)), []\n",
    "    else:\n",
    "        valid_keypoints = ~np.isnan(data[:, :3]).any(axis=1)\n",
    "        filtered_data = data[valid_keypoints]\n",
    "\n",
    "        # Create mapping from old indices to new indices after NaN removal\n",
    "        index_mapping = {old_index: new_index for new_index, old_index in enumerate(np.where(valid_keypoints)[0])}\n",
    "        # Create new connections for the first dataset\n",
    "        new_connections = [(index_mapping[start], index_mapping[end])\n",
    "                           for start, end in updated_connections\n",
    "                           if start in index_mapping and end in index_mapping]\n",
    "\n",
    "    # Second dataset processing\n",
    "    data_y = hf.reverse_normalization(combined_Y_pos[batchnum][pred], medians_pos, iqrs_pos)\n",
    "\n",
    "    if len(data_y.shape) == 1:\n",
    "        print(\"Data_y is a scalar or has unexpected shape.\")\n",
    "        return np.zeros((1, 3)), [], np.zeros((1, 3)), []\n",
    "    else:\n",
    "        valid_keypoints_y = ~np.isnan(data_y[:, :3]).any(axis=1)\n",
    "        filtered_data_y = data_y[valid_keypoints_y]\n",
    "\n",
    "        # Create mapping from old indices to new indices for the second dataset\n",
    "        index_mapping_y = {old_index: new_index for new_index, old_index in enumerate(np.where(valid_keypoints_y)[0])}\n",
    "        # Create new connections for the second dataset\n",
    "        new_connections_y = [(index_mapping_y[start], index_mapping_y[end])\n",
    "                             for start, end in updated_connections\n",
    "                             if start in index_mapping_y and end in index_mapping_y]\n",
    "\n",
    "    return filtered_data, new_connections, filtered_data_y, new_connections_y\n",
    "\n",
    "# Calculate overall axis limits\n",
    "all_data = np.vstack([hf.reverse_normalization(pos, medians_pos, iqrs_pos) for pos in predicted_positions] +\n",
    "                     [hf.reverse_normalization(combined_Y_pos[batchnum][i], medians_pos, iqrs_pos) for i in range(len(predicted_positions))])\n",
    "\n",
    "# Ensure all_data is 3D\n",
    "if all_data.ndim < 3:\n",
    "    print(f\"Warning: all_data has unexpected shape: {all_data.shape}\")\n",
    "    all_data = all_data.reshape(-1, 1, 3)  # Reshape to 3D\n",
    "\n",
    "# Calculate min and max values for each axis\n",
    "x_min, y_min, z_min = np.nanmin(all_data, axis=(0, 1))\n",
    "x_max, y_max, z_max = np.nanmax(all_data, axis=(0, 1))\n",
    "\n",
    "# Check if any of the values are NaN and replace with default values if necessary\n",
    "if np.isnan(x_min) or np.isnan(x_max):\n",
    "    print(\"Warning: X-axis limits contain NaN. Using default values.\")\n",
    "    x_min, x_max = -1, 1\n",
    "if np.isnan(y_min) or np.isnan(y_max):\n",
    "    print(\"Warning: Y-axis limits contain NaN. Using default values.\")\n",
    "    y_min, y_max = -1, 1\n",
    "if np.isnan(z_min) or np.isnan(z_max):\n",
    "    print(\"Warning: Z-axis limits contain NaN. Using default values.\")\n",
    "    z_min, z_max = -1, 1\n",
    "\n",
    "# Add padding\n",
    "padding = 0.1\n",
    "x_range = x_max - x_min\n",
    "y_range = y_max - y_min\n",
    "z_range = z_max - z_min\n",
    "x_min -= x_range * padding\n",
    "x_max += x_range * padding\n",
    "y_min -= y_range * padding\n",
    "y_max += y_range * padding\n",
    "z_min -= z_range * padding\n",
    "z_max += z_range * padding\n",
    "\n",
    "# Initialize the plot\n",
    "fig = go.Figure()\n",
    "\n",
    "# Add initial traces (these will be updated later)\n",
    "scatter = fig.add_trace(go.Scatter3d(x=[0], y=[0], z=[0], mode='markers', marker=dict(size=6, color='blue'), name='Prediction'))\n",
    "scatter_y = fig.add_trace(go.Scatter3d(x=[0], y=[0], z=[0], mode='markers', marker=dict(size=6, color='green'), name='Ground Truth'))\n",
    "\n",
    "for _ in range(len(updated_connections)):\n",
    "    fig.add_trace(go.Scatter3d(x=[0, 0], y=[0, 0], z=[0, 0], mode='lines', line=dict(color='red', width=2), name='Prediction'))\n",
    "    fig.add_trace(go.Scatter3d(x=[0, 0], y=[0, 0], z=[0, 0], mode='lines', line=dict(color='lime', width=2), name='Ground Truth'))\n",
    "\n",
    "# Set layout\n",
    "fig.update_layout(\n",
    "    scene=dict(\n",
    "        xaxis=dict(title='X', range=[x_min, x_max], autorange=False),\n",
    "        yaxis=dict(title='Y', range=[y_min, y_max], autorange=False),\n",
    "        zaxis=dict(title='Z', range=[z_min, z_max], autorange=False),\n",
    "        aspectmode='cube',\n",
    "        camera=dict(\n",
    "            eye=dict(x=1, y=-0.2, z=-2),  # Camera position: looking along z-axis\n",
    "            up=dict(x=0, y=0, z=0)     # Up direction\n",
    "        )\n",
    "    ),\n",
    "    updatemenus=[dict(\n",
    "        type='buttons',\n",
    "        showactive=False,\n",
    "        buttons=[dict(label='Play',\n",
    "                      method='animate',\n",
    "                      args=[None, dict(frame=dict(duration=500, redraw=True), fromcurrent=True, mode='immediate')])]\n",
    "    )],\n",
    "    height=700,\n",
    "    width=700\n",
    ")\n",
    "\n",
    "# Create frames for animation\n",
    "frames = []\n",
    "for pred in range(len(predicted_positions)):\n",
    "    filtered_data, new_connections, filtered_data_y, new_connections_y = update_plot(pred)\n",
    "    \n",
    "    frame = go.Frame(\n",
    "        data=[\n",
    "            go.Scatter3d(x=filtered_data[:, 0], y=filtered_data[:, 1], z=filtered_data[:, 2], mode='markers', marker=dict(size=6, color='blue')),\n",
    "            go.Scatter3d(x=filtered_data_y[:, 0], y=filtered_data_y[:, 1], z=filtered_data_y[:, 2], mode='markers', marker=dict(size=6, color='green'))\n",
    "        ] +\n",
    "        [go.Scatter3d(x=[filtered_data[start, 0], filtered_data[end, 0]], \n",
    "                      y=[filtered_data[start, 1], filtered_data[end, 1]], \n",
    "                      z=[filtered_data[start, 2], filtered_data[end, 2]], \n",
    "                      mode='lines', line=dict(color='red', width=2))\n",
    "         for start, end in new_connections] +\n",
    "        [go.Scatter3d(x=[filtered_data_y[start, 0], filtered_data_y[end, 0]], \n",
    "                      y=[filtered_data_y[start, 1], filtered_data_y[end, 1]], \n",
    "                      z=[filtered_data_y[start, 2], filtered_data_y[end, 2]], \n",
    "                      mode='lines', line=dict(color='lime', width=2))\n",
    "         for start, end in new_connections_y],\n",
    "        name=str(pred)\n",
    "    )\n",
    "    frames.append(frame)\n",
    "\n",
    "fig.frames = frames\n",
    "\n",
    "# Add slider\n",
    "sliders = [dict(\n",
    "    steps=[dict(method='animate',\n",
    "                args=[[str(i)], dict(mode='immediate', frame=dict(duration=500, redraw=True), transition=dict(duration=0))],\n",
    "                label=str(i)) for i in range(len(predicted_positions))],\n",
    "    transition=dict(duration=0),\n",
    "    x=0,\n",
    "    y=0, \n",
    "    currentvalue=dict(font=dict(size=12), prefix='Frame: ', visible=True, xanchor='center'),\n",
    "    len=1.0\n",
    ")]\n",
    "\n",
    "fig.update_layout(sliders=sliders)\n",
    "\n",
    "# Show the figure\n",
    "fig.show()"
   ]
  },
  {
   "cell_type": "code",
   "execution_count": 6,
   "id": "9b372154",
   "metadata": {},
   "outputs": [
    {
     "data": {
      "image/png": "[encoded data removed]",
      "text/plain": [
       "<Figure size 1000x600 with 1 Axes>"
      ]
     },
     "metadata": {},
     "output_type": "display_data"
    }
   ],
   "source": [
    "import matplotlib.pyplot as plt\n",
    "\n",
    "# First set of error values\n",
    "errors_first_set = [\n",
    "    0.3571, 0.3716, 0.4279, 0.5543, 0.5699, 0.7271,\n",
    "    0.8781, 0.9333, 1.1531, 1.6589\n",
    "]\n",
    "\n",
    "# Second set of error values\n",
    "errors_second_set = [\n",
    "    0.0135, 0.0668, 0.0971, 0.1059, 0.1099, 0.1166,\n",
    "    0.1282, 0.1546, 0.1960, 0.1988\n",
    "]\n",
    "\n",
    "errors_third_set = [\n",
    "    0.0090, 0.0329, 0.0358, 0.0358, 0.0330, 0.0299,\n",
    "    0.0287, 0.0387, 0.0435, 0.0504\n",
    "]\n",
    "\n",
    "errors_new_Set = [0.0339,0.0396,0.0135,0.0280,0.0144,0.0545,0.0617,0.0530,0.0487,0.0139]\n",
    "\n",
    "\n",
    "# Generate x values for plotting\n",
    "x_values_first = list(range(len(errors_first_set)))\n",
    "x_values_second = list(range(len(errors_second_set)))\n",
    "x_values_third = list(range(len(errors_third_set)))\n",
    "x_values_fourth= list(range(len(errors_new_Set)))\n",
    "\n",
    "# Create the scatter plot\n",
    "plt.figure(figsize=(10, 6))\n",
    "\n",
    "plt.scatter(x_values_first, errors_first_set, color='blue', label='First Set of Errors')\n",
    "plt.scatter(x_values_second, errors_second_set, color='red', label='Second Set of Errors')\n",
    "plt.scatter(x_values_third, errors_third_set, color='green', label='third Set of Errors')\n",
    "plt.scatter(x_values_fourth, errors_new_Set, color='purple', label='third Set of Errors')\n",
    "\n",
    "plt.xlabel('Index')\n",
    "plt.ylabel('Error Value')\n",
    "plt.title('Comparison of Three Sets of Error Values')\n",
    "plt.legend()\n",
    "plt.grid(True)\n",
    "plt.show()\n"
   ]
  },
  {
   "cell_type": "code",
   "execution_count": null,
   "id": "14aafb27",
   "metadata": {},
   "outputs": [],
   "source": []
  }
 ],
 "metadata": {
  "kernelspec": {
   "display_name": "Python 3 (ipykernel)",
   "language": "python",
   "name": "python3"
  },
  "language_info": {
   "codemirror_mode": {
    "name": "ipython",
    "version": 3
   },
   "file_extension": ".py",
   "mimetype": "text/x-python",
   "name": "python",
   "nbconvert_exporter": "python",
   "pygments_lexer": "ipython3",
   "version": "3.8.10"
  }
 },
 "nbformat": 4,
 "nbformat_minor": 5
}
